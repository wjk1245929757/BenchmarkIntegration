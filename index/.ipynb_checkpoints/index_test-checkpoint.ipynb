{
 "cells": [
  {
   "cell_type": "code",
   "execution_count": null,
   "id": "4a1de931-569d-428a-becc-0f094943c6fb",
   "metadata": {},
   "outputs": [],
   "source": [
    "import os\n",
    "print(os.getcwd())#显示当前路径\n",
    " \n",
    "os.chdir('D:/bio/metirc/scib-main')#更改路径，''里面为更改的路径\n",
    "\n",
    "print(os.getcwd())#显示当前路径\n",
    "\n",
    "os.environ['R_HOME'] = \"E:/R/R-4.2.1/\"\n",
    "os.environ['R_USER'] = \"D:/anaconda/envs/index/Lib/site-packages/rpy2\""
   ]
  },
  {
   "cell_type": "code",
   "execution_count": null,
   "id": "b8c68b44-1c89-48d3-9e6e-7f056f035587",
   "metadata": {},
   "outputs": [],
   "source": [
    "import index\n",
    "\n",
    "# import importlib\n",
    "# importlib.reload(index)"
   ]
  },
  {
   "cell_type": "code",
   "execution_count": 2,
   "id": "8c1c53da-b679-484f-968f-85d8795845ac",
   "metadata": {},
   "outputs": [],
   "source": [
    "import scib\n",
    "import scanpy as sc\n",
    "import pandas as pd\n",
    "import numpy as np\n",
    "import anndata as ad \n",
    "\n",
    "import esda\n",
    "from esda.moran import Moran, Moran_Local\n",
    "from esda.geary import Geary\n",
    "from esda.geary_local import Geary_Local\n",
    "from esda.getisord import G, G_Local"
   ]
  },
  {
   "cell_type": "markdown",
   "id": "31e0c05c-5704-4774-9b49-c3b5440594c7",
   "metadata": {},
   "source": [
    "# load dataset"
   ]
  },
  {
   "cell_type": "code",
   "execution_count": 12,
   "id": "e247858d-6e61-4fc9-a059-d6b9c45785fa",
   "metadata": {},
   "outputs": [
    {
     "name": "stderr",
     "output_type": "stream",
     "text": [
      "D:\\anaconda\\envs\\index\\lib\\site-packages\\anndata\\_io\\specs\\registry.py:235: OldFormatWarning: Element '/X' was written without encoding metadata.\n",
      "  return self.callback(read_func, elem.name, elem, iospec=get_spec(elem))\n"
     ]
    },
    {
     "name": "stdout",
     "output_type": "stream",
     "text": [
      "AnnData object with n_obs × n_vars = 14364 × 33538\n",
      "    obs: 'in_tissue', 'array_row', 'array_col', 'batch', 'ground.truth'\n",
      "    var: 'gene_ids', 'feature_types', 'genome'\n",
      "    uns: 'batch_colors', 'spatial_affine_sequential'\n",
      "    obsm: 'spatial', 'spatial_affine_sequential', 'spatial_warp_sequential'\n",
      "<class 'numpy.ndarray'>\n"
     ]
    },
    {
     "data": {
      "text/plain": [
       "148"
      ]
     },
     "execution_count": 12,
     "metadata": {},
     "output_type": "execute_result"
    }
   ],
   "source": [
    "adatas = sc.read_h5ad('G:/dataset/1_DLPFC/output/moscot/moscot_Donor3.h5ad')\n",
    "print(adatas)\n",
    "\n",
    "\n",
    "print(type(adatas.obsm['spatial_affine_sequential']))\n",
    "np.savetxt('G:/dataset/1_DLPFC/output/moscot/moscot_affine_donor3.txt',adatas.obsm['spatial_affine_sequential'],delimiter=',')\n",
    "np.savetxt('G:/dataset/1_DLPFC/output/moscot/moscot_warp_donor3.txt',adatas.obsm['spatial_warp_sequential'],delimiter=',')\n",
    "import gc\n",
    "del adatas\n",
    "gc.collect()"
   ]
  },
  {
   "cell_type": "markdown",
   "id": "5ee689b0-a7d0-46f6-b0fc-9630ae3bcfcc",
   "metadata": {},
   "source": [
    "#### load origin dataset  &  seurat_embedding"
   ]
  },
  {
   "cell_type": "code",
   "execution_count": null,
   "id": "83ff4be0-0094-42b0-8e23-3bc0fc6accd5",
   "metadata": {
    "scrolled": true
   },
   "outputs": [],
   "source": [
    "adata_list = []\n",
    "for i in range(151507,151511):\n",
    "    print(i)\n",
    "\n",
    "    input_dir = 'G:/dataset/1_DLPFC/input/'+str(i)+'/'  # Replace it with your file path\n",
    "\n",
    "    adata_temp = sc.read_visium(input_dir)\n",
    "    adata_temp.var_names_make_unique()\n",
    "    adata_temp.obs_names_make_unique()\n",
    "    adata_label = pd.read_csv(input_dir + 'truth.csv', index_col=0)\n",
    "    adata_temp.obs['batch'] = adata_label['batch'].astype(\"category\")\n",
    "    adata_temp.obs['ground.truth'] = adata_label['ground.truth'].astype(\"category\")\n",
    "    print(adata_temp)\n",
    "    adata_list.append(adata_temp)\n",
    "\n",
    "adata_pre = ad.concat(adata_list, index_unique=\"-\", keys = [i for i in range(151507,151511)])\n",
    "print(adata_pre)\n",
    "\n",
    "del adata_temp\n",
    "del adata_list"
   ]
  },
  {
   "cell_type": "code",
   "execution_count": null,
   "id": "12cbbd6e-dfcb-4ec7-91ab-8d2b41fd0fa0",
   "metadata": {
    "scrolled": true
   },
   "outputs": [],
   "source": [
    "seurat_embedding_pd = pd.read_csv(\"G:/dataset/1_DLPFC/output/Seurat/Donor1/seurat.PCs.tsv\")\n",
    "print(seurat_embedding_pd)\n",
    "print(seurat_embedding_pd.size)\n",
    "print(seurat_embedding_pd.shape)\n",
    "\n",
    "adata_pre.obsm['seurat_embedding'] = seurat_embedding_pd.values\n",
    "print(adata_pre)\n",
    "print(adata_pre.obs)"
   ]
  },
  {
   "cell_type": "markdown",
   "id": "d2f661e1-c8fa-44c2-9963-875a9256499d",
   "metadata": {},
   "source": [
    "#### load integrated dataset"
   ]
  },
  {
   "cell_type": "code",
   "execution_count": null,
   "id": "54513e34-dae7-4004-b840-18cac8508ef6",
   "metadata": {},
   "outputs": [],
   "source": [
    "adata_int = sc.read_h5ad('G:/dataset/1_DLPFC/output/Seurat/Donor1/Donor1.h5ad')\n",
    "print(adata_int)"
   ]
  },
  {
   "cell_type": "code",
   "execution_count": null,
   "id": "b7259b1f-1104-44d7-ad9f-cb44a264d315",
   "metadata": {},
   "outputs": [],
   "source": [
    "adata_int.obs.drop(['integrated_snn_res.'+str(round(i,2)) for i in np.arange(0.15, 0.51, 0.01)], axis=1, inplace=True)"
   ]
  },
  {
   "cell_type": "code",
   "execution_count": null,
   "id": "a182af16-3515-4b91-8764-8c8b5ff3a84c",
   "metadata": {},
   "outputs": [],
   "source": [
    "print(adata_int)"
   ]
  },
  {
   "cell_type": "markdown",
   "id": "139d73c2-6f1c-4add-93fc-0483feba43a5",
   "metadata": {},
   "source": [
    "#### calculate cluster"
   ]
  },
  {
   "cell_type": "code",
   "execution_count": null,
   "id": "3af11a19-ca7b-4dbc-8a16-8b63a8c4cdba",
   "metadata": {},
   "outputs": [],
   "source": [
    "print(index.get_cluster_data.__doc__)"
   ]
  },
  {
   "cell_type": "code",
   "execution_count": null,
   "id": "a40803fc-6c64-4435-865e-1ce64ef6abb4",
   "metadata": {},
   "outputs": [],
   "source": [
    "# cal neighbors\n",
    "sc.pp.neighbors(adatas, use_rep='seurat_embedding')\n",
    "print(adatas)"
   ]
  },
  {
   "cell_type": "code",
   "execution_count": null,
   "id": "bb964f53-d929-487d-bcef-f19f771c1469",
   "metadata": {
    "scrolled": true
   },
   "outputs": [],
   "source": [
    "# leiden\n",
    "adatas = index.get_cluster_data(adatas, 7, True, 'leiden', 'leiden_seurat', resolution = sorted(list(np.arange(0.1, 0.5, 0.01)), reverse=True))\n",
    "# louvain\n",
    "adatas = index.get_cluster_data(adatas, 7, True, 'louvain', 'louvain_seurat', resolution = sorted(list(np.arange(0.1, 0.5, 0.01)), reverse=True))\n",
    "# mclust\n",
    "adatas = index.get_cluster_data(adatas, 7, False, 'mclust', 'mclust_seurat', None, 'seurat_embedding')\n",
    "print(adatas)\n",
    "adatas.obs['leiden_seurat'] = adatas.obs['leiden_seurat'].cat.rename_categories([i for i in range(7)])\n",
    "adatas.obs['louvain_seurat'] = adatas.obs['louvain_seurat'].cat.rename_categories([i for i in range(7)])\n",
    "adatas.obs['mclust_seurat'] = adatas.obs['mclust_seurat'].cat.rename_categories([i for i in range(7)])\n",
    "print(adatas.obs['leiden_seurat'].unique())\n",
    "print(adatas.obs['louvain_seurat'].unique())\n",
    "print(adatas.obs['mclust_seurat'].unique())"
   ]
  },
  {
   "cell_type": "code",
   "execution_count": null,
   "id": "5ebe3fb1-4f93-40a3-994c-0e29cf5c76c4",
   "metadata": {},
   "outputs": [],
   "source": [
    "# adatas.obs.drop(['integrated_snn_res.0.5'], axis=1, inplace=True)\n",
    "# print(adatas)"
   ]
  },
  {
   "cell_type": "code",
   "execution_count": null,
   "id": "32e9b795-33ec-41d0-8d7a-525a0c8e6362",
   "metadata": {},
   "outputs": [],
   "source": [
    "# adata_int.obs.drop(['integrated_snn_res.'+str(round(i,2)) for i in np.arange(0.11, 0.5, 0.01)], axis=1, inplace=True)\n",
    "# print(adata_int.uns['leiden'])\n",
    "# print(adata_int.uns['leiden_seurat_resolution'])"
   ]
  },
  {
   "cell_type": "code",
   "execution_count": null,
   "id": "e8614b05-c0fd-4be4-b3b2-362759bf8eac",
   "metadata": {},
   "outputs": [],
   "source": [
    "print(adatas.isbacked)\n",
    "adatas.filename = 'G:/dataset/1_DLPFC/output/Donor1.h5ad'\n",
    "print(adatas.isbacked)"
   ]
  },
  {
   "cell_type": "markdown",
   "id": "d20625aa-c304-49e4-b8f8-e25cbfa572ec",
   "metadata": {},
   "source": [
    "# Spatial index"
   ]
  },
  {
   "cell_type": "markdown",
   "id": "f21cd3a7-d818-437d-83b0-cd6166972bf7",
   "metadata": {},
   "source": [
    "#### spatial_coherence_score"
   ]
  },
  {
   "cell_type": "code",
   "execution_count": null,
   "id": "5b14b93a-1a2f-4f6a-9e4d-388710f1948d",
   "metadata": {
    "scrolled": true
   },
   "outputs": [],
   "source": [
    "# code from SPIRAL \n",
    "# https://github.com/guott15/SPIRAL/blob/main/Downstream/metrics_spatial_coherence.ipynb\n",
    "# adatas.obs['leiden_seurat']=np.array(clust.loc[adata.obs_names,:].values,dtype=str)\n",
    "methods = ['ground.truth', 'leiden_seurat', 'louvain_seurat', 'mclust_seurat']\n",
    "for method in methods:\n",
    "    print(method)\n",
    "    knn = 6\n",
    "    g, node_dict = index.generate_graph_from_labels(adatas, adatas.obs[method] ,knn)\n",
    "    scs = index.spatial_coherence_score(g, node_dict, 100)\n",
    "    adatas.uns['scs_' + method] = scs\n"
   ]
  },
  {
   "cell_type": "code",
   "execution_count": null,
   "id": "8f636d0b-1aab-42e5-8612-b269cb20965c",
   "metadata": {},
   "outputs": [],
   "source": [
    "for method in methods:\n",
    "    print(adatas.uns['scs_' + method])"
   ]
  },
  {
   "cell_type": "markdown",
   "id": "6affba5b-f37d-4ec5-95f6-8d3fda5851f8",
   "metadata": {},
   "source": [
    "#### Moran's I"
   ]
  },
  {
   "cell_type": "code",
   "execution_count": null,
   "id": "9098d94f-8867-49dc-a91f-5064eb8f5efd",
   "metadata": {},
   "outputs": [],
   "source": [
    "print(adatas)\n",
    "print(adatas.obsp[\"connectivities\"])\n",
    "print(type(adatas.obsp[\"connectivities\"]))\n",
    "print(adatas.uns[\"neighbors\"])"
   ]
  },
  {
   "cell_type": "code",
   "execution_count": null,
   "id": "9117466e-01d2-432d-b78a-2d9d0f86170f",
   "metadata": {},
   "outputs": [],
   "source": [
    "from libpysal.weights import W\n",
    "from esda.moran import Moran, Moran_Local\n",
    "matrix = adatas.obsp['connectivities'].toarray()\n",
    "print(np.array_equal(matrix, matrix.T))\n",
    "neighbors = dict()\n",
    "val = dict()\n",
    "for i in range(0, adatas.n_obs):\n",
    "    c = list()\n",
    "    d = list()\n",
    "    for j in range(0, adatas.n_obs):\n",
    "        if matrix[i][j] != 0:\n",
    "            c.append(j)\n",
    "            d.append(matrix[i][j])\n",
    "    neighbors[i] = c\n",
    "    val[i] = d\n",
    "del matrix\n",
    "del val\n",
    "\n",
    "y = adatas.obsm['seurat_embedding'].T[0]\n",
    "# neighbors = W(neighbors)\n",
    "mi = Moran(y, neighbors)    # y:ndarray  value to analysis        neighbors:dict     weights:dict  Key is region ID, value is a list of edge weights.\n",
    "mil = Moran_Local(y, neighbors)    # scipy.sparse matrix object\n",
    "# mi = index.Moran_I(adatas.obsm['seurat_embedding'].T[1], neighbors)\n",
    "\n",
    "print(type[mi])\n",
    "print(\"Moran's I 值为：\", mi.I)\n",
    "print(\"随机分布假设下Z检验值为：\", mi.z_rand)\n",
    "print(\"随机分布假设下Z检验的P值为：\", mi.p_rand)\n",
    "print(\"正态分布假设下Z检验值为：\", mi.z_norm)\n",
    "print(\"正态分布假设下Z检验的P值为：\", mi.p_norm)\n",
    "print(type[mil])\n",
    "# print(\"(if permutations>0) values indicate quandrant location 1 HH, 2 LH, 3 LL, 4 HL:\", mil.q)\n",
    "# print(\"(if permutations>0) p-values based on standard normal approximation from permutations (one-sided) for two-sided tests, these values should be multiplied by 2:\", mil.p_z_sim)"
   ]
  },
  {
   "cell_type": "code",
   "execution_count": null,
   "id": "87f5158e-21ee-42cb-94e5-d7eba0008e63",
   "metadata": {},
   "outputs": [],
   "source": [
    "print(sc.metrics.morans_i(adatas, obsm=\"seurat_embedding\"))\n",
    "print(sc.metrics.morans_i(adatas.obsp[\"connectivities\"], adatas.obsm[\"seurat_embedding\"].T))"
   ]
  },
  {
   "cell_type": "markdown",
   "id": "a1ca6f33-e8bb-4c59-88fd-fefd28d92ffd",
   "metadata": {},
   "source": [
    "#### Geary's C"
   ]
  },
  {
   "cell_type": "code",
   "execution_count": null,
   "id": "6d90f9c6-8f5c-4cc4-a7ab-7cf0db309a37",
   "metadata": {},
   "outputs": [],
   "source": [
    "from libpysal.weights import W\n",
    "from esda.geary import Geary\n",
    "from esda.geary_local import Geary_Local\n",
    "\n",
    "\n",
    "w = W(neighbors)\n",
    "gc = Geary(y, w)\n",
    "gcl = Geary_Local(connectivity)    # scipy.sparse matrix object\n",
    "\n",
    "print(gc)"
   ]
  },
  {
   "cell_type": "code",
   "execution_count": null,
   "id": "7a6cd9b7-9821-42eb-a579-a152cd1a66b1",
   "metadata": {},
   "outputs": [],
   "source": [
    "print(sc.metrics.gearys_c(adatas, obsm=\"seurat_embedding\"))\n",
    "print(sc.metrics.gearys_c(adatas.obsp[\"connectivities\"], adatas.obsm[\"seurat_embedding\"].T))"
   ]
  },
  {
   "cell_type": "markdown",
   "id": "af0b91a4-1268-42aa-a530-77921ac7a82e",
   "metadata": {},
   "source": [
    "#### SSIM"
   ]
  },
  {
   "cell_type": "code",
   "execution_count": null,
   "id": "b22e4314-c161-4c00-95a1-a2fad5c7beed",
   "metadata": {},
   "outputs": [],
   "source": [
    "groups = adatas.obs.groupby(\"batch\").indices\n",
    "adata_list = [adatas[i] for i in groups.values()]\n",
    "\n",
    "for i in range(len(adata_list)):\n",
    "    adata_list[i].obsm['spatial'] = pd.DataFrame(adata_list[i].obsm['spatial'], index=adata_list[i].obs_names)\n",
    "    adata_list[i].obsm['spatial'].columns = ['X', 'Y']\n",
    "\n",
    "# each slice is rasterized on the overlap of the previous slice\n",
    "for i in range(1, len(adata_list)):\n",
    "    x_max = np.ceil(np.min([adata_list[i].obsm['spatial_aligned'].max().X, adata_list[i - 1].obsm['spatial_aligned'].max().X]))\n",
    "    y_max = np.ceil(np.min([adata_list[i].obsm['spatial_aligned'].max().Y, adata_list[i - 1].obsm['spatial_aligned'].max().Y]))\n",
    "    x_min = np.floor(np.max([adata_list[i].obsm['spatial_aligned'].min().X, adata_list[i - 1].obsm['spatial_aligned'].min().X]))\n",
    "    y_min = np.floor(np.max([adata_list[i].obsm['spatial_aligned'].min().Y, adata_list[i - 1].obsm['spatial_aligned'].min().Y]))\n",
    "    adata_list[i].uns['grid_prop_withbefore'] = index.cal_grid_prop(adata_list[i], spatial_key='spatial_aligned', celltype_key='label',\n",
    "                                                         grid_max=[x_max, y_max], grid_min=[x_min, y_min])\n",
    "\n",
    "# each slice is rasterized on the overlap of the next slice\n",
    "for i in range(0, len(adata_list)-1):\n",
    "    x_max = np.ceil(np.min([adata_list[i].obsm['spatial_aligned'].max().X, adata_list[i + 1].obsm['spatial_aligned'].max().X]))\n",
    "    y_max = np.ceil(np.min([adata_list[i].obsm['spatial_aligned'].max().Y, adata_list[i + 1].obsm['spatial_aligned'].max().Y]))\n",
    "    x_min = np.floor(np.max([adata_list[i].obsm['spatial_aligned'].min().X, adata_list[i + 1].obsm['spatial_aligned'].min().X]))\n",
    "    y_min = np.floor(np.max([adata_list[i].obsm['spatial_aligned'].min().Y, adata_list[i + 1].obsm['spatial_aligned'].min().Y]))\n",
    "    adata_list[i].uns['grid_prop_withnext'] = cal_grid_prop(adata_list[i], spatial_key='spatial_aligned', celltype_key='label',\n",
    "                                                       grid_max=[x_max, y_max], grid_min=[x_min, y_min])\n",
    "\n",
    "# calculate SSIM on the overlap of each two adjacent slices\n",
    "for i in range(1, len(adata_list)):\n",
    "    grid_a = adata_list[i].uns['grid_prop_withbefore'].copy()\n",
    "    grid_b = adata_list[i - 1].uns['grid_prop_withnext'].copy()\n",
    "    col = set(grid_a.columns) & set(grid_b.columns)\n",
    "    grid_a = grid_a.loc[:, col]\n",
    "    grid_b = grid_b.loc[:, col]\n",
    "    ssim_list = []\n",
    "    for n in range(grid_a.shape[0]):\n",
    "        ssim_list.append(ssim(grid_a.iloc[n, :].values, grid_b.iloc[n, :].values))\n",
    "    ssim_list = np.array(ssim_list)\n",
    "    ssim_list[grid_b.sum(1) == 0] = np.inf\n",
    "    ssim_list[pd.isna(pd.Series(ssim_list))] = 0\n",
    "    adata_list[i].uns['ssim'] = ssim_list\n",
    "\n",
    "ssim_compare = []\n",
    "for i in range(1, len(adata_list)):\n",
    "    ssim_compare.append([scube[i].uns['ssim'][scube[i].uns['ssim'] != np.inf].mean(), i, '?'])\n",
    "    # ssim_compare.append([paste[i].uns['ssim'][paste[i].uns['ssim'] != np.inf].mean(), i, 'paste'])\n",
    "\n",
    "ssim_compare = pd.DataFrame(ssim_compare).fillna(0)\n",
    "ssim_compare.columns = ['ssim', 'slice', 'method']\n",
    "ssim_compare.to_csv('G:/dataset/1_DLPFC/output/ssim_compare_donor1.csv')"
   ]
  },
  {
   "cell_type": "markdown",
   "id": "5699fa2a-9359-406f-92c9-0b1c7d1d7d46",
   "metadata": {},
   "source": [
    "#### PCC"
   ]
  },
  {
   "cell_type": "code",
   "execution_count": null,
   "id": "ab66e702-0008-4daa-861b-8fd976f34cbc",
   "metadata": {},
   "outputs": [],
   "source": [
    "groups = adatas.obs.groupby(\"batch\").indices\n",
    "adata_list = [adatas[i] for i in groups.values()]\n",
    "\n",
    "# calculate PCC on the overlap of each two adjacent slices\n",
    "for i in range(1, len(adata_list)):\n",
    "    grid_a = adata_list[i].uns['grid_prop_withbefore'].copy()\n",
    "    grid_b = adata_list[i - 1].uns['grid_prop_withnext'].copy()\n",
    "    col = set(grid_a.columns) & set(grid_b.columns)\n",
    "    grid_a = grid_a.loc[:, col]\n",
    "    grid_b = grid_b.loc[:, col]\n",
    "    pcc_list = []\n",
    "    for n in range(grid_a.shape[0]):\n",
    "        pcc_list.append(scipy.stats.pearsonr(grid_a.iloc[n, :].values, grid_b.iloc[n, :].values)[0])\n",
    "    pcc_list = np.array(pcc_list)\n",
    "    pcc_list[grid_b.sum(1) == 0] = np.inf\n",
    "    pcc_list[pd.isna(pd.Series(pcc_list))] = 0\n",
    "    paste[i].uns['pcc'] = pcc_list\n",
    "\n",
    "pcc_compare = []\n",
    "for i in range(1, len(adata_list)):\n",
    "    pcc_compare.append([1, len(adata_list)[i].uns['pcc'][scube[i].uns['pcc'] != np.inf].mean(), i, '?'])\n",
    "\n",
    "pcc_compare = pd.DataFrame(pcc_compare).fillna(0)\n",
    "pcc_compare.columns = ['pcc', 'slice', 'method']\n",
    "pcc_compare.to_csv('G:/dataset/1_DLPFC/output/pcc_compare_donor1.csv')"
   ]
  },
  {
   "cell_type": "markdown",
   "id": "8f283e9e-8ceb-4a02-82a7-991c46bc3491",
   "metadata": {},
   "source": [
    "# Bio conservation"
   ]
  },
  {
   "cell_type": "markdown",
   "id": "4c302250-8840-4318-a090-455bae218aef",
   "metadata": {},
   "source": [
    "#### ARI"
   ]
  },
  {
   "cell_type": "code",
   "execution_count": null,
   "id": "9476d5c6-66eb-4a2d-8967-4962a986cb5b",
   "metadata": {},
   "outputs": [],
   "source": [
    "adata_int.obs['batch'].unique()"
   ]
  },
  {
   "cell_type": "code",
   "execution_count": null,
   "id": "a7ba805a-e326-446c-922a-0feb4928ef5a",
   "metadata": {},
   "outputs": [],
   "source": [
    "print(scib.metrics.ari(adata_int, 'leiden_seurat', 'ground.truth'))\n",
    "print(scib.metrics.ari(adata_int, 'louvain_seurat', 'ground.truth'))\n",
    "print(scib.metrics.ari(adata_int, 'mclust_seurat', 'ground.truth'))"
   ]
  },
  {
   "cell_type": "code",
   "execution_count": null,
   "id": "ede82fc5-029a-40ed-9b80-0acc97de2417",
   "metadata": {},
   "outputs": [],
   "source": [
    "from sklearn import metrics\n",
    "# labels_true = [0, 0, 0, 1, 1, 1]\n",
    "# labels_pred = [0, 0, 1, 1, 2, 2]\n",
    "# score = metrics.adjusted_rand_score(labels_true, labels_pred)\n",
    "\n",
    "# print(\"leiden ARI:\", metrics.adjusted_rand_score(adatas.obs['ground.truth'], adatas.obs['leiden_seurat']))\n",
    "# print(\"louvain ARI:\", metrics.adjusted_rand_score(adatas.obs['ground.truth'], adatas.obs['louvain_seurat']))\n",
    "# print(\"mclust ARI:\", metrics.adjusted_rand_score(adatas.obs['ground.truth'], adatas.obs['mclust_seurat']))\n",
    "\n",
    "temp = index.match_cluster_labels(adatas.obs['ground.truth'], adatas.obs['leiden_seurat'])\n",
    "print(\"leiden ARI:\", metrics.adjusted_rand_score(adatas.obs['ground.truth'], temp))\n",
    "temp = index.match_cluster_labels(adatas.obs['ground.truth'], adatas.obs['louvain_seurat'])\n",
    "print(\"louvain ARI:\", metrics.adjusted_rand_score(adatas.obs['ground.truth'], temp))\n",
    "temp = index.match_cluster_labels(adatas.obs['ground.truth'], adatas.obs['mclust_seurat'])\n",
    "print(\"mclust ARI:\", metrics.adjusted_rand_score(adatas.obs['ground.truth'], temp))\n",
    "\n",
    "print(index.ARI(adatas, 'leiden_seurat', 'ground.truth'))\n",
    "print(index.ARI(adatas, 'louvain_seurat', 'ground.truth'))\n",
    "print(index.ARI(adatas, 'mclust_seurat', 'ground.truth'))"
   ]
  },
  {
   "cell_type": "code",
   "execution_count": null,
   "id": "87a43b9d-71b6-4438-939a-03b80859eae6",
   "metadata": {
    "scrolled": true
   },
   "outputs": [],
   "source": [
    "SPACEL_DLPFC_res = pd.read_csv(\"G:/dataset/method/SPACEL/7197556/scripts/Splane_Visium_human_DLPFC_benchmark/data/seurat_single_cluster.csv\", index_col=0)\n",
    "\n",
    "for i in range(151507,151511):\n",
    "    print(i)\n",
    "    res = SPACEL_DLPFC_res[SPACEL_DLPFC_res['sample_name'] == i]\n",
    "    truth_res = adatas.obs[adatas.obs['batch'].str.contains(str(i))]\n",
    "    # print(res)\n",
    "    # print(truth_res)\n",
    "    # print(res['seurat_clusters'].tolist())\n",
    "    # print(adata_int.obs['ground.truth'])\n",
    "    print(\"SPACEL ARI:\", metrics.adjusted_rand_score(truth_res['ground.truth'], res['seurat_clusters'].tolist()))\n",
    "    print(\"leiden ARI:\", metrics.adjusted_rand_score(truth_res['ground.truth'], truth_res['leiden_seurat']))\n",
    "    print(\"louvain ARI:\", metrics.adjusted_rand_score(truth_res['ground.truth'], truth_res['louvain_seurat']))\n",
    "    print(\"mclust ARI:\", metrics.adjusted_rand_score(truth_res['ground.truth'], truth_res['mclust_seurat']))\n",
    "    # print(\"R ARI:\", metrics.adjusted_rand_score(truth_res['ground.truth'], truth_res['seurat_clusters']))\n",
    "\n"
   ]
  },
  {
   "cell_type": "markdown",
   "id": "bb9bbb2a-faae-4336-9128-511f63da48bc",
   "metadata": {},
   "source": [
    "#### NMI"
   ]
  },
  {
   "cell_type": "code",
   "execution_count": null,
   "id": "3eac12b0-1ed7-414e-9a4b-cbcf76069b4b",
   "metadata": {},
   "outputs": [],
   "source": [
    "print(index.NMI(adatas, 'leiden_seurat', 'ground.truth'))\n",
    "print(index.NMI(adatas, 'louvain_seurat', 'ground.truth'))\n",
    "print(index.NMI(adatas, 'mclust_seurat', 'ground.truth'))"
   ]
  },
  {
   "cell_type": "markdown",
   "id": "6e61dd33-bf5f-4457-a60b-22ae4f84a610",
   "metadata": {},
   "source": [
    "#### cASW"
   ]
  },
  {
   "cell_type": "code",
   "execution_count": null,
   "id": "cdedf82e-dc57-43f3-867a-80e406e040f2",
   "metadata": {},
   "outputs": [],
   "source": [
    "print(index.cASW(adatas, 'ground.truth', 'seurat_embedding'))\n",
    "print(index.cASW(adatas, 'leiden_seurat', 'seurat_embedding'))\n",
    "print(index.cASW(adatas, 'louvain_seurat', 'seurat_embedding'))\n",
    "print(index.cASW(adatas, 'mclust_seurat', 'seurat_embedding'))"
   ]
  },
  {
   "cell_type": "markdown",
   "id": "dd8d0bea-f902-465b-84f2-15cf02fecffd",
   "metadata": {},
   "source": [
    "#### cLISI"
   ]
  },
  {
   "cell_type": "code",
   "execution_count": null,
   "id": "2a70bf6a-b560-424f-a06e-480a06111502",
   "metadata": {},
   "outputs": [],
   "source": [
    "# print(index.cLISI(adatas, 'ground.truth', type_=\"embed\", use_rep='seurat_embedding'))\n",
    "\n",
    "print(index.cLISI(adatas, 'ground.truth', type_=\"knn\"))\n",
    "print(index.cLISI(adatas, 'leiden_seurat', type_=\"knn\"))\n",
    "print(index.cLISI(adatas, 'louvain_seurat', type_=\"knn\"))\n",
    "print(index.cLISI(adatas, 'mclust_seurat', type_=\"knn\"))\n",
    "\n",
    "print(index.cLISI(adatas, 'ground.truth', type_=\"embed\",  use_rep='seurat_embedding'))\n",
    "print(index.cLISI(adatas, 'leiden_seurat', type_=\"embed\",  use_rep='seurat_embedding'))\n",
    "print(index.cLISI(adatas, 'louvain_seurat', type_=\"embed\",  use_rep='seurat_embedding'))\n",
    "print(index.cLISI(adatas, 'mclust_seurat', type_=\"embed\", use_rep='seurat_embedding'))"
   ]
  },
  {
   "cell_type": "markdown",
   "id": "aa5a41e2-8306-4d22-bd60-0e63c178becb",
   "metadata": {},
   "source": [
    "#### IsolatedLabelsAsw"
   ]
  },
  {
   "cell_type": "code",
   "execution_count": null,
   "id": "646f35dc-c409-4811-a945-19933fed748f",
   "metadata": {
    "scrolled": true
   },
   "outputs": [],
   "source": [
    "import gc\n",
    "print(index.IsolatedLabelsAsw(adatas, batch_key=\"batch\", label_key=\"ground.truth\", embed=\"seurat_embedding\"))\n",
    "gc.collect()\n",
    "print(index.IsolatedLabelsAsw(adatas, batch_key=\"batch\", label_key=\"leiden_seurat\", embed=\"seurat_embedding\"))\n",
    "gc.collect()\n",
    "print(index.IsolatedLabelsAsw(adatas, batch_key=\"batch\", label_key=\"louvain_seurat\", embed=\"seurat_embedding\"))\n",
    "gc.collect()\n",
    "print(index.IsolatedLabelsAsw(adatas, batch_key=\"batch\", label_key=\"mclust_seurat\", embed=\"seurat_embedding\"))\n",
    "gc.collect()"
   ]
  },
  {
   "cell_type": "markdown",
   "id": "a9471ba6-5719-4974-8d74-3bf41efbd512",
   "metadata": {},
   "source": [
    "#### IsolatedLabelsF1"
   ]
  },
  {
   "cell_type": "code",
   "execution_count": null,
   "id": "303575c7-c16a-4c60-8b8f-49ed3e6a169b",
   "metadata": {
    "scrolled": true
   },
   "outputs": [],
   "source": [
    "import gc\n",
    "print(index.IsolatedLabelsF1(adatas, batch_key=\"batch\", label_key=\"ground.truth\", embed=None))\n",
    "gc.collect()\n",
    "print(index.IsolatedLabelsF1(adatas, batch_key=\"batch\", label_key=\"leiden_seurat\", embed=None))\n",
    "gc.collect()\n",
    "print(index.IsolatedLabelsF1(adatas, batch_key=\"batch\", label_key=\"louvain_seurat\", embed=None))\n",
    "gc.collect()\n",
    "print(index.IsolatedLabelsF1(adatas, batch_key=\"batch\", label_key=\"mclust_seurat\", embed=None))\n",
    "gc.collect()"
   ]
  },
  {
   "cell_type": "markdown",
   "id": "bc4a1fa1-c3b9-49fa-b497-a9dab84e9bff",
   "metadata": {},
   "source": [
    "# Batch correction"
   ]
  },
  {
   "cell_type": "markdown",
   "id": "bce4edab-80ac-4b84-9fd9-8d1564e0f7f4",
   "metadata": {},
   "source": [
    "#### iASW"
   ]
  },
  {
   "cell_type": "code",
   "execution_count": null,
   "id": "8f9594e1-846e-432f-92a1-f5646ae026bf",
   "metadata": {
    "scrolled": true
   },
   "outputs": [],
   "source": [
    "print(index.iASW(adatas, batch_key=\"batch\", label_key=\"ground.truth\", embed=\"seurat_embedding\", type_=\"embed\"))\n",
    "print(index.iASW(adatas, batch_key=\"batch\", label_key=\"leiden_seurat\", embed=\"seurat_embedding\", type_=\"embed\"))\n",
    "print(index.iASW(adatas, batch_key=\"batch\", label_key=\"louvain_seurat\", embed=\"seurat_embedding\", type_=\"embed\"))\n",
    "print(index.iASW(adatas, batch_key=\"batch\", label_key=\"mclust_seurat\", embed=\"seurat_embedding\", type_=\"embed\"))"
   ]
  },
  {
   "cell_type": "markdown",
   "id": "9f554c38-0b80-4d7e-a55e-c338582c94b7",
   "metadata": {},
   "source": [
    "#### iLISI"
   ]
  },
  {
   "cell_type": "code",
   "execution_count": null,
   "id": "bd5d779d-d719-462c-bd87-8189811a3eff",
   "metadata": {},
   "outputs": [],
   "source": [
    "print(index.iLISI(adatas, 'ground.truth', type=\"embed\", use_rep='seurat_embedding'))\n",
    "print(index.iLISI(adatas, 'leiden_seurat', type=\"embed\", use_rep='seurat_embedding'))\n",
    "print(index.iLISI(adatas, 'louvain_seurat', type=\"embed\", use_rep='seurat_embedding'))\n",
    "print(index.iLISI(adatas, 'mclust_seurat', type=\"embed\", use_rep='seurat_embedding'))"
   ]
  },
  {
   "cell_type": "markdown",
   "id": "d528a2b4-3d3d-4abd-8e56-0bd8b5dc899a",
   "metadata": {},
   "source": [
    "#### graph_connectivity"
   ]
  },
  {
   "cell_type": "code",
   "execution_count": null,
   "id": "4f126c35-c71e-489b-b35e-fda772a46d13",
   "metadata": {},
   "outputs": [],
   "source": [
    "print(index.graph_connectivity(adatas, type_=\"embed\" ,label_key='ground.truth'))\n",
    "print(index.graph_connectivity(adatas, type_=\"embed\" ,label_key='leiden_seurat'))\n",
    "print(index.graph_connectivity(adatas, type_=\"embed\" ,label_key='louvain_seurat'))\n",
    "print(index.graph_connectivity(adatas, type_=\"embed\" ,label_key='mclust_seurat'))"
   ]
  },
  {
   "cell_type": "markdown",
   "id": "b7dc23c3-2cd6-4c23-a387-4bd884e9f6dc",
   "metadata": {},
   "source": [
    "#### kBET"
   ]
  },
  {
   "cell_type": "code",
   "execution_count": null,
   "id": "5ae1e305-2d44-431a-ba92-20a1bec693c4",
   "metadata": {
    "scrolled": true
   },
   "outputs": [],
   "source": [
    "print(index.kBET(adatas, batch_key=\"batch\", label_key=\"ground.truth\", type_=\"embed\", embed=\"seurat_embedding\"))\n",
    "print(index.kBET(adatas, batch_key=\"batch\", label_key=\"leiden_seurat\", type_=\"embed\", embed=\"seurat_embedding\"))\n",
    "print(index.kBET(adatas, batch_key=\"batch\", label_key=\"louvain_seurat\", type_=\"embed\", embed=\"seurat_embedding\"))\n",
    "print(index.kBET(adatas, batch_key=\"batch\", label_key=\"mclust_seurat\", type_=\"embed\", embed=\"seurat_embedding\"))"
   ]
  },
  {
   "cell_type": "markdown",
   "id": "9569a3a3-91a6-415c-96a8-0446ae75e632",
   "metadata": {},
   "source": [
    "#### PCR"
   ]
  },
  {
   "cell_type": "code",
   "execution_count": null,
   "id": "c15bb446-10b6-40ef-85a9-b1ed13aa312c",
   "metadata": {
    "scrolled": true
   },
   "outputs": [],
   "source": [
    "print(index.PCR(adata_pre, adatas, covariate=\"batch\", embed=\"seurat_embedding\", n_comps=adatas.obsm['seurat_embedding'].shape[1]))\n",
    "\n",
    "groups = adata_pre.obs.groupby(\"batch\").indices\n",
    "adata_pre_list=[adata_pre[inds] for inds in groups.values()]\n",
    "print(adata_pre_list)\n",
    "\n",
    "groups = adatas.obs.groupby(\"batch\").indices\n",
    "adatas_list=[adatas[inds] for inds in groups.values()]\n",
    "print(adatas_list)\n",
    "\n",
    "for i in range(4):\n",
    "    print(index.PCR(adata_pre_list[i], adatas_list[i], covariate=\"batch\", embed=\"seurat_embedding\", n_comps=adatas.obsm['seurat_embedding'].shape[1]))"
   ]
  }
 ],
 "metadata": {
  "kernelspec": {
   "display_name": "Python 3 (ipykernel)",
   "language": "python",
   "name": "python3"
  },
  "language_info": {
   "codemirror_mode": {
    "name": "ipython",
    "version": 3
   },
   "file_extension": ".py",
   "mimetype": "text/x-python",
   "name": "python",
   "nbconvert_exporter": "python",
   "pygments_lexer": "ipython3",
   "version": "3.10.12"
  }
 },
 "nbformat": 4,
 "nbformat_minor": 5
}
