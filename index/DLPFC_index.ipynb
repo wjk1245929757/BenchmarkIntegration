{
 "cells": [
  {
   "cell_type": "code",
   "execution_count": 1,
   "id": "4a1de931-569d-428a-becc-0f094943c6fb",
   "metadata": {},
   "outputs": [
    {
     "name": "stdout",
     "output_type": "stream",
     "text": [
      "D:\\bio\\jupyter_code\\index\n",
      "D:\\bio\\metirc\\scib-main\n"
     ]
    }
   ],
   "source": [
    "import os\n",
    "print(os.getcwd())#显示当前路径\n",
    " \n",
    "os.chdir('D:/bio/metirc/scib-main')#更改路径，''里面为更改的路径\n",
    "\n",
    "print(os.getcwd())#显示当前路径\n",
    "\n",
    "os.environ['R_HOME'] = \"E:/R/R-4.2.1/\"\n",
    "os.environ['R_USER'] = \"D:/anaconda/envs/index/Lib/site-packages/rpy2\""
   ]
  },
  {
   "cell_type": "code",
   "execution_count": 2,
   "id": "b8c68b44-1c89-48d3-9e6e-7f056f035587",
   "metadata": {},
   "outputs": [],
   "source": [
    "import index\n",
    "\n",
    "# import importlib\n",
    "# importlib.reload(index)"
   ]
  },
  {
   "cell_type": "code",
   "execution_count": 3,
   "id": "8c1c53da-b679-484f-968f-85d8795845ac",
   "metadata": {},
   "outputs": [],
   "source": [
    "import scib\n",
    "import scanpy as sc\n",
    "import pandas as pd\n",
    "import numpy as np\n",
    "import anndata as ad \n",
    "\n",
    "import esda\n",
    "from esda.moran import Moran, Moran_Local\n",
    "from esda.geary import Geary\n",
    "from esda.geary_local import Geary_Local\n",
    "from esda.getisord import G, G_Local"
   ]
  },
  {
   "cell_type": "markdown",
   "id": "31e0c05c-5704-4774-9b49-c3b5440594c7",
   "metadata": {},
   "source": [
    "# load dataset"
   ]
  },
  {
   "cell_type": "code",
   "execution_count": 4,
   "id": "cd3480a6-c330-4209-bd58-01e3e92f8c3f",
   "metadata": {},
   "outputs": [],
   "source": [
    "# adatas = sc.read_h5ad('G:/dataset/1_DLPFC/output/Donor1.h5ad')\n",
    "# print(adatas)"
   ]
  },
  {
   "cell_type": "code",
   "execution_count": 5,
   "id": "669c8ea0-2ec6-41c0-9ddb-da7a6f745c5b",
   "metadata": {},
   "outputs": [],
   "source": [
    "# adatas.obs.to_csv('G:/dataset/1_DLPFC/output/Donor1_meta.csv')"
   ]
  },
  {
   "cell_type": "code",
   "execution_count": 4,
   "id": "11a4baac",
   "metadata": {
    "scrolled": true
   },
   "outputs": [],
   "source": [
    "import warnings\n",
    "warnings.filterwarnings(\"ignore\")\n",
    "\n",
    "def load_data(method):\n",
    "    adata_list = []\n",
    "    for i in range(151673,151677):\n",
    "        print(i)\n",
    "\n",
    "        input_dir = 'G:/dataset/1_DLPFC/input/'+str(i)+'/'  # Replace it with your file path\n",
    "\n",
    "        adata_temp = sc.read_visium(input_dir)\n",
    "        adata_temp.var_names_make_unique()\n",
    "        adata_temp.obs_names_make_unique()\n",
    "        adata_label = pd.read_csv(input_dir + 'truth.csv', index_col=0)\n",
    "        adata_temp.obs['batch'] = adata_label['batch'].astype(\"category\")\n",
    "        adata_temp.obs['ground.truth'] = adata_label['ground.truth'].astype(\"category\")\n",
    "        print(adata_temp)\n",
    "        adata_list.append(adata_temp)\n",
    "\n",
    "    adata_pre = ad.concat(adata_list, index_unique=\"-\", keys = [i for i in range(151673,151677)])\n",
    "    print(adata_pre)\n",
    "    \n",
    "    if method == 'harmony':\n",
    "        harmony_embedding_pd = pd.read_csv(\"G:/dataset/1_DLPFC/output/Harmony/Donor1/embedding.csv\")\n",
    "        print(harmony_embedding_pd.shape)\n",
    "        print(harmony_embedding_pd.head())\n",
    "        adata_pre.obsm['harmony_embedding'] = harmony_embedding_pd.values\n",
    "    if method == 'LIGER':\n",
    "        LIGER_embedding_pd = pd.read_csv(\"G:/dataset/1_DLPFC/output/LIGER/Donor1/embedding.csv\")\n",
    "        print(LIGER_embedding_pd.shape)\n",
    "        print(LIGER_embedding_pd.head())\n",
    "        adata_pre.obsm['LIGER_embedding'] = LIGER_embedding_pd.values\n",
    "    if method == 'DeepST': \n",
    "        DeepST_embedding_pd = pd.read_csv(\"G:/dataset/1_DLPFC/output/DeepST/Donor1/embedding.csv\", index_col=0)\n",
    "        print(DeepST_embedding_pd.shape)\n",
    "        print(DeepST_embedding_pd.head())\n",
    "        adata_pre.obsm['DeepST_embedding'] = DeepST_embedding_pd.values\n",
    "        print(adata_pre)\n",
    "    if method == 'STAGATE': \n",
    "        STAGATE_embedding_pd = pd.read_csv(\"G:/dataset/1_DLPFC/output/STAGATE/Donor3/embedding.csv\")\n",
    "        print(STAGATE_embedding_pd.shape)\n",
    "        print(STAGATE_embedding_pd.head())\n",
    "        adata_pre.obsm['STAGATE_embedding'] = STAGATE_embedding_pd.values\n",
    "    return adata_pre\n",
    "\n",
    "def cal_neighbor(adata_pre, my_methods):\n",
    "    print(adata_pre)\n",
    "    adatas = adata_pre\n",
    "    # cal neighbors\n",
    "    for method in my_methods:\n",
    "        print(method)\n",
    "        if 'GraphST' in method:\n",
    "            sc.pp.neighbors(adatas, n_neighbors=50, use_rep= method+'_embedding', key_added = method+'_neighbors')\n",
    "        else:\n",
    "            sc.pp.neighbors(adatas, use_rep= method+'_embedding', key_added = method+'_neighbors')\n",
    "\n",
    "    print(adatas)\n",
    "    return adatas\n",
    "\n",
    "def cal_cluster(adatas, my_methods):\n",
    "    for method in my_methods:\n",
    "        print(method)\n",
    "        adatas.uns['neighbors'] = adatas.uns[method+'_neighbors'].copy()\n",
    "        adatas.obsp['distances'] = adatas.obsp[method+'_neighbors_distances'].copy()\n",
    "        adatas.obsp['connectivities'] = adatas.obsp[method+'_neighbors_connectivities'].copy()\n",
    "        # leiden\n",
    "        adatas = index.get_cluster_data(adatas, 7, True, 'leiden', 'leiden_'+method, resolution = sorted(list(np.arange(0.1, 1, 0.01)), reverse=False))\n",
    "        # louvain\n",
    "        adatas = index.get_cluster_data(adatas, 7, True, 'louvain', 'louvain_'+method, resolution = sorted(list(np.arange(0.1, 1, 0.01)), reverse=False))\n",
    "        # mclust\n",
    "        if method != 'GraphST3000':\n",
    "            adatas = index.get_cluster_data(adatas, 7, True, 'mclust', 'mclust_'+method, None, method+'_embedding')\n",
    "    \n",
    "    return adatas\n",
    "\n",
    "def cal_IsolatedLabelsF1(adatas, my_methods):\n",
    "    import gc\n",
    "    for method in my_methods:\n",
    "        print(method)\n",
    "        print(index.IsolatedLabelsF1(adatas, batch_key=\"batch\", label_key=\"ground.truth\", embed=method+\"_embedding\"))\n",
    "        gc.collect()\n",
    "        print(index.IsolatedLabelsF1(adatas, batch_key=\"batch\", label_key=\"leiden_\"+method, embed=method+\"_embedding\"))\n",
    "        gc.collect()\n",
    "        print(index.IsolatedLabelsF1(adatas, batch_key=\"batch\", label_key=\"louvain_\"+method, embed=method+\"_embedding\"))\n",
    "        gc.collect()\n",
    "        print(index.IsolatedLabelsF1(adatas, batch_key=\"batch\", label_key=\"mclust_\"+method, embed=method+\"_embedding\"))\n",
    "        gc.collect()\n",
    "\n",
    "def cal_PCR(adatas, my_methods):\n",
    "    for method in my_methods:\n",
    "        print(method)\n",
    "        print(index.kBET(adatas, batch_key=\"batch\", label_key='ground.truth', type_=\"embed\", embed=method+\"_embedding\"))\n",
    "        print(index.kBET(adatas, batch_key=\"batch\", label_key='leiden_'+method, type_=\"embed\", embed=method+\"_embedding\"))\n",
    "        print(index.kBET(adatas, batch_key=\"batch\", label_key='louvain_'+method, type_=\"embed\", embed=method+\"_embedding\"))\n",
    "        print(index.kBET(adatas, batch_key=\"batch\", label_key='mclust_'+method, type_=\"embed\", embed=method+\"_embedding\"))\n",
    "        \n",
    "\n",
    "# for method in ['harmony', 'LIGER', 'STAGATE', 'DeepST']:\n",
    "#     adata_pre = load_data(method)\n",
    "#     adatas = cal_neighbor(adata_pre, [method])\n",
    "#     adatas = cal_cluster(adatas, [method])\n",
    "#     cal_IsolatedLabelsF1(adatas, [method])\n",
    "#     cal_PCR(adatas, [method])"
   ]
  },
  {
   "cell_type": "code",
   "execution_count": 5,
   "id": "c94cb393",
   "metadata": {
    "scrolled": true
   },
   "outputs": [
    {
     "name": "stdout",
     "output_type": "stream",
     "text": [
      "151673\n",
      "AnnData object with n_obs × n_vars = 3639 × 33538\n",
      "    obs: 'in_tissue', 'array_row', 'array_col', 'batch', 'ground.truth'\n",
      "    var: 'gene_ids', 'feature_types', 'genome'\n",
      "    uns: 'spatial'\n",
      "    obsm: 'spatial'\n",
      "151674\n",
      "AnnData object with n_obs × n_vars = 3673 × 33538\n",
      "    obs: 'in_tissue', 'array_row', 'array_col', 'batch', 'ground.truth'\n",
      "    var: 'gene_ids', 'feature_types', 'genome'\n",
      "    uns: 'spatial'\n",
      "    obsm: 'spatial'\n",
      "151675\n",
      "AnnData object with n_obs × n_vars = 3592 × 33538\n",
      "    obs: 'in_tissue', 'array_row', 'array_col', 'batch', 'ground.truth'\n",
      "    var: 'gene_ids', 'feature_types', 'genome'\n",
      "    uns: 'spatial'\n",
      "    obsm: 'spatial'\n",
      "151676\n",
      "AnnData object with n_obs × n_vars = 3460 × 33538\n",
      "    obs: 'in_tissue', 'array_row', 'array_col', 'batch', 'ground.truth'\n",
      "    var: 'gene_ids', 'feature_types', 'genome'\n",
      "    uns: 'spatial'\n",
      "    obsm: 'spatial'\n",
      "AnnData object with n_obs × n_vars = 14364 × 33538\n",
      "    obs: 'in_tissue', 'array_row', 'array_col', 'batch', 'ground.truth'\n",
      "    obsm: 'spatial'\n",
      "(14364, 30)\n",
      "                           STAGATE_1  STAGATE_2  STAGATE_3  STAGATE_4  \\\n",
      "AAACAAGTATCTCCCA-1_151673  -3.242090  -2.670628  -4.191851  -0.699856   \n",
      "AAACAATCTACTAGCA-1_151673  -0.113990  -2.286065  -0.651294  -1.111191   \n",
      "AAACACCAATAACTGC-1_151673  -3.568045  -3.513605  -1.410611  -1.188140   \n",
      "AAACAGAGCGACTCCT-1_151673  -3.272425  -2.080820  -4.392675  -0.317536   \n",
      "AAACAGCTTTCAGAAG-1_151673  -3.656368  -2.944219  -5.316499  -0.888545   \n",
      "\n",
      "                           STAGATE_5  STAGATE_6  STAGATE_7  STAGATE_8  \\\n",
      "AAACAAGTATCTCCCA-1_151673 -10.148878  -2.261676   1.995794  -1.389054   \n",
      "AAACAATCTACTAGCA-1_151673  -6.278340  -1.713723   2.007726  -0.151903   \n",
      "AAACACCAATAACTGC-1_151673 -10.369180  -0.561260   4.521253  -4.364719   \n",
      "AAACAGAGCGACTCCT-1_151673  -9.944561  -1.808287   1.674875  -0.573880   \n",
      "AAACAGCTTTCAGAAG-1_151673 -12.396194  -2.076316   3.873123  -1.297957   \n",
      "\n",
      "                           STAGATE_9  STAGATE_10  ...  STAGATE_21  STAGATE_22  \\\n",
      "AAACAAGTATCTCCCA-1_151673   5.032830   -6.361410  ...    1.639048   -3.074846   \n",
      "AAACAATCTACTAGCA-1_151673   3.847868   -3.180012  ...   -0.596625   -1.683196   \n",
      "AAACACCAATAACTGC-1_151673   6.412487   -2.498065  ...   -6.000629   -0.959851   \n",
      "AAACAGAGCGACTCCT-1_151673   5.168818   -5.555983  ...    0.680410   -3.128711   \n",
      "AAACAGCTTTCAGAAG-1_151673   5.009900   -6.456800  ...    0.902267   -0.803363   \n",
      "\n",
      "                           STAGATE_23  STAGATE_24  STAGATE_25  STAGATE_26  \\\n",
      "AAACAAGTATCTCCCA-1_151673   -0.733573   -3.129697   -5.451849   -6.428190   \n",
      "AAACAATCTACTAGCA-1_151673   -2.704974   -1.246827   -5.086920   -2.334728   \n",
      "AAACACCAATAACTGC-1_151673   -7.226851    0.008325   -4.759172   -4.065595   \n",
      "AAACAGAGCGACTCCT-1_151673   -0.756359   -2.815517   -5.692082   -6.234023   \n",
      "AAACAGCTTTCAGAAG-1_151673   -3.520334   -2.651979   -5.591415   -7.265424   \n",
      "\n",
      "                           STAGATE_27  STAGATE_28  STAGATE_29  STAGATE_30  \n",
      "AAACAAGTATCTCCCA-1_151673   -3.762863   -1.448027   -9.226164  -11.030689  \n",
      "AAACAATCTACTAGCA-1_151673   -3.978861    0.203027   -6.137793   -7.638033  \n",
      "AAACACCAATAACTGC-1_151673   -1.204366   -0.473949   -2.930408   -3.498302  \n",
      "AAACAGAGCGACTCCT-1_151673   -3.846275   -0.979787   -8.730959  -10.401260  \n",
      "AAACAGCTTTCAGAAG-1_151673   -2.459936   -1.198630   -7.146673  -11.365997  \n",
      "\n",
      "[5 rows x 30 columns]\n"
     ]
    }
   ],
   "source": [
    "adata_pre = load_data('STAGATE')"
   ]
  },
  {
   "cell_type": "code",
   "execution_count": 7,
   "id": "818dc625",
   "metadata": {},
   "outputs": [
    {
     "name": "stdout",
     "output_type": "stream",
     "text": [
      "0.5499411341845908\n",
      "0.9601123100495658\n",
      "isolated labels: no more than 4 batches per label\n",
      "Layer 1: 0.5990493594042564\n",
      "Layer 2: 0.51711831164603\n",
      "Layer 3: 0.5080254035230254\n",
      "Layer 4: 0.5275695248104225\n",
      "Layer 5: 0.5342755208062423\n",
      "Layer 6: 0.45851789557207817\n",
      "WM: 0.7301397493629744\n",
      "na: 0.4522655028859638\n",
      "0.5408701585013742\n",
      "isolated labels: no more than 4 batches per label\n",
      "Compute neighbors on rep STAGATE_embedding\n",
      "Layer 1: 0.9144587433762301\n",
      "Compute neighbors on rep STAGATE_embedding\n",
      "Layer 2: 0.3937099592312172\n",
      "Compute neighbors on rep STAGATE_embedding\n",
      "Layer 3: 0.7018097898700352\n",
      "Compute neighbors on rep STAGATE_embedding\n",
      "Layer 4: 0.3242467718794835\n",
      "Compute neighbors on rep STAGATE_embedding\n",
      "Layer 5: 0.6444246737841043\n",
      "Compute neighbors on rep STAGATE_embedding\n",
      "Layer 6: 0.6020777965692196\n",
      "Compute neighbors on rep STAGATE_embedding\n",
      "WM: 0.9182973572725439\n",
      "Compute neighbors on rep STAGATE_embedding\n",
      "na: 0.23052959501557632\n",
      "0.5911943358748012\n",
      "mean silhouette per group:          silhouette_score\n",
      "group                    \n",
      "Layer 1          0.912983\n",
      "Layer 2          0.929128\n",
      "Layer 3          0.916748\n",
      "Layer 4          0.888788\n",
      "Layer 5          0.927132\n",
      "Layer 6          0.927533\n",
      "WM               0.881717\n",
      "na               0.732305\n",
      "0.8895417323142882\n"
     ]
    }
   ],
   "source": [
    "adatas = adata_pre\n",
    "method = 'STAGATE'\n",
    "print(index.cASW(adatas, 'ground.truth', method+'_embedding'))\n",
    "print(index.cLISI(adatas, 'ground.truth', type_=\"embed\", use_rep=method+'_embedding'))\n",
    "print(index.IsolatedLabelsAsw(adatas, batch_key=\"batch\", label_key=\"ground.truth\", embed=method+\"_embedding\"))\n",
    "print(index.IsolatedLabelsF1(adatas, batch_key=\"batch\", label_key=\"ground.truth\", embed=method+\"_embedding\"))\n",
    "print(index.iASW(adatas, batch_key=\"batch\", label_key=\"ground.truth\", embed=method+\"_embedding\", type_=\"embed\"))\n"
   ]
  },
  {
   "cell_type": "markdown",
   "id": "5ee689b0-a7d0-46f6-b0fc-9630ae3bcfcc",
   "metadata": {},
   "source": [
    "#### load origin dataset  &  embedding  &  coordinates"
   ]
  },
  {
   "cell_type": "code",
   "execution_count": 4,
   "id": "83ff4be0-0094-42b0-8e23-3bc0fc6accd5",
   "metadata": {
    "scrolled": true
   },
   "outputs": [
    {
     "name": "stdout",
     "output_type": "stream",
     "text": [
      "151507\n"
     ]
    },
    {
     "name": "stderr",
     "output_type": "stream",
     "text": [
      "D:\\anaconda\\envs\\index\\lib\\site-packages\\anndata\\_core\\anndata.py:1840: UserWarning: Variable names are not unique. To make them unique, call `.var_names_make_unique`.\n",
      "  utils.warn_names_duplicates(\"var\")\n",
      "D:\\anaconda\\envs\\index\\lib\\site-packages\\anndata\\_core\\anndata.py:1840: UserWarning: Variable names are not unique. To make them unique, call `.var_names_make_unique`.\n",
      "  utils.warn_names_duplicates(\"var\")\n"
     ]
    },
    {
     "name": "stdout",
     "output_type": "stream",
     "text": [
      "AnnData object with n_obs × n_vars = 4226 × 33538\n",
      "    obs: 'in_tissue', 'array_row', 'array_col', 'batch', 'ground.truth'\n",
      "    var: 'gene_ids', 'feature_types', 'genome'\n",
      "    uns: 'spatial'\n",
      "    obsm: 'spatial'\n",
      "151508\n"
     ]
    },
    {
     "name": "stderr",
     "output_type": "stream",
     "text": [
      "D:\\anaconda\\envs\\index\\lib\\site-packages\\anndata\\_core\\anndata.py:1840: UserWarning: Variable names are not unique. To make them unique, call `.var_names_make_unique`.\n",
      "  utils.warn_names_duplicates(\"var\")\n",
      "D:\\anaconda\\envs\\index\\lib\\site-packages\\anndata\\_core\\anndata.py:1840: UserWarning: Variable names are not unique. To make them unique, call `.var_names_make_unique`.\n",
      "  utils.warn_names_duplicates(\"var\")\n"
     ]
    },
    {
     "name": "stdout",
     "output_type": "stream",
     "text": [
      "AnnData object with n_obs × n_vars = 4384 × 33538\n",
      "    obs: 'in_tissue', 'array_row', 'array_col', 'batch', 'ground.truth'\n",
      "    var: 'gene_ids', 'feature_types', 'genome'\n",
      "    uns: 'spatial'\n",
      "    obsm: 'spatial'\n",
      "151509\n"
     ]
    },
    {
     "name": "stderr",
     "output_type": "stream",
     "text": [
      "D:\\anaconda\\envs\\index\\lib\\site-packages\\anndata\\_core\\anndata.py:1840: UserWarning: Variable names are not unique. To make them unique, call `.var_names_make_unique`.\n",
      "  utils.warn_names_duplicates(\"var\")\n",
      "D:\\anaconda\\envs\\index\\lib\\site-packages\\anndata\\_core\\anndata.py:1840: UserWarning: Variable names are not unique. To make them unique, call `.var_names_make_unique`.\n",
      "  utils.warn_names_duplicates(\"var\")\n"
     ]
    },
    {
     "name": "stdout",
     "output_type": "stream",
     "text": [
      "AnnData object with n_obs × n_vars = 4789 × 33538\n",
      "    obs: 'in_tissue', 'array_row', 'array_col', 'batch', 'ground.truth'\n",
      "    var: 'gene_ids', 'feature_types', 'genome'\n",
      "    uns: 'spatial'\n",
      "    obsm: 'spatial'\n",
      "151510\n"
     ]
    },
    {
     "name": "stderr",
     "output_type": "stream",
     "text": [
      "D:\\anaconda\\envs\\index\\lib\\site-packages\\anndata\\_core\\anndata.py:1840: UserWarning: Variable names are not unique. To make them unique, call `.var_names_make_unique`.\n",
      "  utils.warn_names_duplicates(\"var\")\n",
      "D:\\anaconda\\envs\\index\\lib\\site-packages\\anndata\\_core\\anndata.py:1840: UserWarning: Variable names are not unique. To make them unique, call `.var_names_make_unique`.\n",
      "  utils.warn_names_duplicates(\"var\")\n"
     ]
    },
    {
     "name": "stdout",
     "output_type": "stream",
     "text": [
      "AnnData object with n_obs × n_vars = 4634 × 33538\n",
      "    obs: 'in_tissue', 'array_row', 'array_col', 'batch', 'ground.truth'\n",
      "    var: 'gene_ids', 'feature_types', 'genome'\n",
      "    uns: 'spatial'\n",
      "    obsm: 'spatial'\n",
      "AnnData object with n_obs × n_vars = 18033 × 33538\n",
      "    obs: 'in_tissue', 'array_row', 'array_col', 'batch', 'ground.truth'\n",
      "    obsm: 'spatial'\n"
     ]
    }
   ],
   "source": [
    "adata_list = []\n",
    "for i in range(151507,151511):\n",
    "    print(i)\n",
    "\n",
    "    input_dir = 'G:/dataset/1_DLPFC/input/'+str(i)+'/'  # Replace it with your file path\n",
    "\n",
    "    adata_temp = sc.read_visium(input_dir)\n",
    "    adata_temp.var_names_make_unique()\n",
    "    adata_temp.obs_names_make_unique()\n",
    "    adata_label = pd.read_csv(input_dir + 'truth.csv', index_col=0)\n",
    "    adata_temp.obs['batch'] = adata_label['batch'].astype(\"category\")\n",
    "    adata_temp.obs['ground.truth'] = adata_label['ground.truth'].astype(\"category\")\n",
    "    print(adata_temp)\n",
    "    adata_list.append(adata_temp)\n",
    "\n",
    "adata_pre = ad.concat(adata_list, index_unique=\"-\", keys = [i for i in range(151507,151511)])\n",
    "print(adata_pre)\n",
    "\n",
    "del adata_temp\n",
    "del adata_list"
   ]
  },
  {
   "cell_type": "code",
   "execution_count": 5,
   "id": "7abfbbcd-4ee3-4030-b6cc-84041c4ddfbe",
   "metadata": {},
   "outputs": [],
   "source": [
    "my_methods = ['seurat']"
   ]
  },
  {
   "cell_type": "code",
   "execution_count": 6,
   "id": "12cbbd6e-dfcb-4ec7-91ab-8d2b41fd0fa0",
   "metadata": {
    "scrolled": true
   },
   "outputs": [
    {
     "name": "stdout",
     "output_type": "stream",
     "text": [
      "(18033, 50)\n",
      "                           PC_1       PC_2      PC_3      PC_4      PC_5  \\\n",
      "AAACAACGAATAGTTC-1_1   2.430077   4.386316 -3.432069  4.971501 -5.658500   \n",
      "AAACAAGTATCTCCCA-1_1  -5.961436  -7.011905  0.824565 -1.364521  0.645884   \n",
      "AAACAATCTACTAGCA-1_1   6.975747  11.326056  4.891646  3.530083  4.149356   \n",
      "AAACACCAATAACTGC-1_1  56.483353 -21.536790  5.328702 -6.632643  3.528389   \n",
      "AAACAGCTTTCAGAAG-1_1   0.701552   4.008525 -4.675477  2.337909 -8.831374   \n",
      "\n",
      "                           PC_6      PC_7      PC_8      PC_9     PC_10  ...  \\\n",
      "AAACAACGAATAGTTC-1_1  -0.294802 -2.123840 -1.945736  1.967007 -0.577177  ...   \n",
      "AAACAAGTATCTCCCA-1_1  -1.043958 -2.973289  1.532887  0.836794  0.207672  ...   \n",
      "AAACAATCTACTAGCA-1_1  -1.065639 -3.455331  1.959479  5.690728 -1.415511  ...   \n",
      "AAACACCAATAACTGC-1_1  -4.920774  0.738674  0.358782 -0.493815  4.256827  ...   \n",
      "AAACAGCTTTCAGAAG-1_1 -10.896230 -1.991882  0.943105  2.246593  1.469252  ...   \n",
      "\n",
      "                         PC_41     PC_42     PC_43     PC_44     PC_45  \\\n",
      "AAACAACGAATAGTTC-1_1 -1.184717  0.491986  1.466858 -1.971749 -0.432279   \n",
      "AAACAAGTATCTCCCA-1_1  0.429223  1.494080 -0.087398  1.129865  2.991069   \n",
      "AAACAATCTACTAGCA-1_1  2.079526 -2.433878 -1.243944 -2.106972 -1.203557   \n",
      "AAACACCAATAACTGC-1_1  3.161232  4.864732 -1.499141  2.706765 -3.043846   \n",
      "AAACAGCTTTCAGAAG-1_1 -0.588009  0.652130  1.224399 -0.300802  1.257533   \n",
      "\n",
      "                         PC_46     PC_47     PC_48     PC_49     PC_50  \n",
      "AAACAACGAATAGTTC-1_1  1.299030 -1.490141 -0.408024 -0.463405  1.808204  \n",
      "AAACAAGTATCTCCCA-1_1 -1.806411 -0.003467 -1.582129 -0.714205 -1.462604  \n",
      "AAACAATCTACTAGCA-1_1  0.112082 -0.274530 -0.643752 -0.193104  0.353063  \n",
      "AAACACCAATAACTGC-1_1 -1.730586 -3.303843  2.260679  3.410439 -1.414235  \n",
      "AAACAGCTTTCAGAAG-1_1  0.306598  1.192950  1.026039  0.868501  0.759208  \n",
      "\n",
      "[5 rows x 50 columns]\n"
     ]
    }
   ],
   "source": [
    "# seurat embedding (18033, 50)  (15284, 50)  (14364, 50)\n",
    "seurat_embedding_pd = pd.read_csv(\"G:/dataset/1_DLPFC/output/Seurat/Donor1/seurat.PCs.tsv\")\n",
    "print(seurat_embedding_pd.shape)\n",
    "print(seurat_embedding_pd.head())\n",
    "adata_pre.obsm['seurat_embedding'] = seurat_embedding_pd.values"
   ]
  },
  {
   "cell_type": "code",
   "execution_count": 9,
   "id": "7648775e-9de5-4f1f-99e3-8a87b0f572cf",
   "metadata": {
    "scrolled": true
   },
   "outputs": [],
   "source": [
    "# # harmony embedding (18033, 50)  (15284, 50)  (14364, 50)\n",
    "# harmony_embedding_pd = pd.read_csv(\"G:/dataset/1_DLPFC/output/Harmony/Donor2/embedding.csv\")\n",
    "# print(harmony_embedding_pd.shape)\n",
    "# print(harmony_embedding_pd.head())\n",
    "# adata_pre.obsm['harmony_embedding'] = harmony_embedding_pd.values"
   ]
  },
  {
   "cell_type": "code",
   "execution_count": 10,
   "id": "f6d2da12-7c7d-4bda-9d0c-3146e9c5b331",
   "metadata": {
    "scrolled": true
   },
   "outputs": [],
   "source": [
    "# # LIGER　embedding  (18033, 20) (15284, 20) (14364, 20)\n",
    "# LIGER_embedding_pd = pd.read_csv(\"G:/dataset/1_DLPFC/output/LIGER/Donor2/embedding.csv\")\n",
    "# print(LIGER_embedding_pd.shape)\n",
    "# print(LIGER_embedding_pd.head())\n",
    "# adata_pre.obsm['LIGER_embedding'] = LIGER_embedding_pd.values"
   ]
  },
  {
   "cell_type": "code",
   "execution_count": 11,
   "id": "11a5dd39-956f-4df3-a79c-1362728b18ca",
   "metadata": {
    "scrolled": true
   },
   "outputs": [],
   "source": [
    "# # PRECAST　embedding  (18026, 15)  (15282, 15)  (14364, 15)\n",
    "# PRECAST_embedding_pd = pd.read_csv(\"G:/dataset/1_DLPFC/output/PRECAST/Donor2/embedding.csv\")\n",
    "# print(PRECAST_embedding_pd.shape)\n",
    "# print(PRECAST_embedding_pd.head())\n",
    "# print(adata_pre.obs_names[:5])\n",
    "# PRECAST_embedding_pd.rename(index=lambda s: s[:len(s)-1]+'-'+str(int(s[-1])+151668), inplace=True)\n",
    "# print(PRECAST_embedding_pd.head())\n",
    "\n",
    "# ######### 过滤细胞  取子集anndata\n",
    "# adata_pre = adata_pre[PRECAST_embedding_pd.index.to_list(), :]\n",
    "# adata_pre.obsm['PRECAST_embedding'] = PRECAST_embedding_pd.values\n",
    "\n",
    "# ######### 填充embedding  fillna -- 0 \n",
    "# # df_temp = pd.merge(adata_pre.obs['batch'],PRECAST_embedding_pd,how='left', left_index=True, right_index=True)\n",
    "# # df_temp.drop(columns=['batch'], inplace=True)\n",
    "# # df_temp.fillna(0, inplace=True)\n",
    "# # print(df_temp.head())\n",
    "# # adata_pre.obsm['PRECAST_embedding'] = df_temp.values\n",
    "# # del df_temp\n",
    "\n",
    "# print(adata_pre)"
   ]
  },
  {
   "cell_type": "code",
   "execution_count": 12,
   "id": "fe87d788-7715-4ed0-ace6-2ca32fa4a99e",
   "metadata": {
    "scrolled": true
   },
   "outputs": [],
   "source": [
    "# # STAligner embedding (17985, 30)   (15101, 30)  (14243, 30)\n",
    "# STAligner_embedding_pd = pd.read_csv(\"G:/dataset/1_DLPFC/output/STAligner/Donor2/embedding.csv\")\n",
    "# print(STAligner_embedding_pd.shape)\n",
    "# print(STAligner_embedding_pd.head())\n",
    "# print(adata_pre.obs_names[:5])\n",
    "# STAligner_embedding_pd.rename(index=lambda s: s.replace(\"_\", \"-\"), inplace=True)\n",
    "\n",
    "# ######### 过滤细胞  取子集anndata\n",
    "# adata_pre = adata_pre[STAligner_embedding_pd.index.to_list(), :]\n",
    "# adata_pre.obsm['STAligner_embedding'] = STAligner_embedding_pd.values\n",
    "\n",
    "# ######### 填充embedding  fillna -- 0 \n",
    "# # df_temp = pd.merge(adata_pre.obs['batch'],STAligner_embedding_pd,how='left', left_index=True, right_index=True)\n",
    "# # df_temp.drop(columns=['batch'], inplace=True)\n",
    "# # df_temp.fillna(0, inplace=True)\n",
    "# # print(df_temp.shape)\n",
    "# # print(df_temp.head())\n",
    "# # adata_pre.obsm['STAligner_embedding'] = df_temp.values\n",
    "# # del df_temp\n",
    "\n",
    "# print(adata_pre)"
   ]
  },
  {
   "cell_type": "code",
   "execution_count": 13,
   "id": "286be8a5-b740-441e-9010-bc340166229d",
   "metadata": {
    "scrolled": true
   },
   "outputs": [],
   "source": [
    "# # DeepST embedding  (18033, 28)  (15284, 28)  (14364, 28)\n",
    "# DeepST_embedding_pd = pd.read_csv(\"G:/dataset/1_DLPFC/output/DeepST/Donor1/embedding.csv\", index_col=0)\n",
    "# print(DeepST_embedding_pd.shape)\n",
    "# print(DeepST_embedding_pd.head())\n",
    "# adata_pre.obsm['DeepST_embedding'] = DeepST_embedding_pd.values\n",
    "# print(adata_pre)"
   ]
  },
  {
   "cell_type": "code",
   "execution_count": 7,
   "id": "a8090743-bf6e-46b2-97ba-ac3c68b381a9",
   "metadata": {
    "scrolled": true
   },
   "outputs": [
    {
     "name": "stdout",
     "output_type": "stream",
     "text": [
      "(15101, 3000)\n",
      "                           GraphST-0  GraphST-1  GraphST-2  GraphST-3  \\\n",
      "151669-AAACAAGTATCTCCCA-1   0.886127   0.182383   0.238874   0.327230   \n",
      "151669-AAACACCAATAACTGC-1   0.378642   0.091632   0.171001   0.031319   \n",
      "151669-AAACAGAGCGACTCCT-1   0.637213   0.048262   0.159262   0.119652   \n",
      "151669-AAACAGGGTCTATATT-1   0.761914   0.341203   0.338071  -0.041657   \n",
      "151669-AAACATTTCCCGGATT-1   0.625582   0.099525   0.267691   0.393116   \n",
      "\n",
      "                           GraphST-4  GraphST-5  GraphST-6  GraphST-7  \\\n",
      "151669-AAACAAGTATCTCCCA-1   0.380450   0.124853   0.160642   0.095046   \n",
      "151669-AAACACCAATAACTGC-1   0.044300   0.068142  -0.037427   0.624840   \n",
      "151669-AAACAGAGCGACTCCT-1   0.158152  -0.037258   0.294591   0.007088   \n",
      "151669-AAACAGGGTCTATATT-1   0.105920   0.115709   0.064444   0.321755   \n",
      "151669-AAACATTTCCCGGATT-1   0.356661   0.160610   0.366360   0.332868   \n",
      "\n",
      "                           GraphST-8  GraphST-9  ...  GraphST-2990  \\\n",
      "151669-AAACAAGTATCTCCCA-1   0.040188  -0.066449  ...      0.069522   \n",
      "151669-AAACACCAATAACTGC-1   0.347723   0.539344  ...      0.035623   \n",
      "151669-AAACAGAGCGACTCCT-1   0.079350   0.197303  ...      0.009254   \n",
      "151669-AAACAGGGTCTATATT-1   0.148350  -0.050050  ...      0.087500   \n",
      "151669-AAACATTTCCCGGATT-1   0.309822   0.204663  ...      0.069553   \n",
      "\n",
      "                           GraphST-2991  GraphST-2992  GraphST-2993  \\\n",
      "151669-AAACAAGTATCTCCCA-1      0.084254      0.058925      0.023099   \n",
      "151669-AAACACCAATAACTGC-1      0.079797      0.032612     -0.028203   \n",
      "151669-AAACAGAGCGACTCCT-1      0.036342      0.039045      0.042831   \n",
      "151669-AAACAGGGTCTATATT-1      0.057945      0.071628     -0.039531   \n",
      "151669-AAACATTTCCCGGATT-1      0.012675      0.018442      0.102965   \n",
      "\n",
      "                           GraphST-2994  GraphST-2995  GraphST-2996  \\\n",
      "151669-AAACAAGTATCTCCCA-1      0.461225      0.155668      0.286017   \n",
      "151669-AAACACCAATAACTGC-1      0.407331      0.516404      0.259184   \n",
      "151669-AAACAGAGCGACTCCT-1      0.543625      0.106244      0.103183   \n",
      "151669-AAACAGGGTCTATATT-1      0.395548      0.345819      0.106251   \n",
      "151669-AAACATTTCCCGGATT-1      0.257634      0.072565      0.099636   \n",
      "\n",
      "                           GraphST-2997  GraphST-2998  GraphST-2999  \n",
      "151669-AAACAAGTATCTCCCA-1      0.162478      0.396309      0.011559  \n",
      "151669-AAACACCAATAACTGC-1      0.116445      0.240146     -0.005789  \n",
      "151669-AAACAGAGCGACTCCT-1      0.169342      0.241365     -0.045208  \n",
      "151669-AAACAGGGTCTATATT-1      0.330376      0.234635      0.044405  \n",
      "151669-AAACATTTCCCGGATT-1      0.386755      0.265722     -0.015250  \n",
      "\n",
      "[5 rows x 3000 columns]\n",
      "AnnData object with n_obs × n_vars = 15101 × 33538\n",
      "    obs: 'in_tissue', 'array_row', 'array_col', 'batch', 'ground.truth'\n",
      "    obsm: 'spatial', 'GraphST3000_embedding', 'GraphST20_embedding'\n"
     ]
    }
   ],
   "source": [
    "# # GraphST embedding    (14243, 3000)\n",
    "# GraphST_embedding_pd = pd.read_csv(\"G:/dataset/1_DLPFC/output/GraphST/GraphST_mat_151669_151670_151671_151672.txt\", index_col=0)\n",
    "# print(GraphST_embedding_pd.shape)\n",
    "# print(GraphST_embedding_pd.head())\n",
    "\n",
    "# GraphST_embedding_pd.rename(index=lambda s: s.split('-',1)[1] + '-' + s.split('-',1)[0], inplace=True)\n",
    "# # ######### 过滤细胞  取子集anndata\n",
    "# adata_pre = adata_pre[GraphST_embedding_pd.index.to_list(), :]\n",
    "# adata_pre.obsm['GraphST3000_embedding'] = GraphST_embedding_pd.values\n",
    "\n",
    "# # ######### 填充embedding  fillna -- 0 \n",
    "# # df_temp = pd.merge(adata_pre.obs['batch'], GraphST_embedding_pd, how='left', left_index=True, right_index=True)\n",
    "# # df_temp.drop(columns=['batch'], inplace=True)\n",
    "# # df_temp.fillna(0, inplace=True)\n",
    "# # print(df_temp.shape)\n",
    "# # adata_pre.obsm['GraphST_embedding'] = df_temp.values\n",
    "# # del df_temp\n",
    "\n",
    "# from sklearn.decomposition import PCA\n",
    "# pca = PCA(n_components=20, random_state=42)  # code from GraphST  https://github.com/JinmiaoChenLab/GraphST/blob/main/GraphST/utils.py\n",
    "# embedding = pca.fit_transform(adata_pre.obsm['GraphST3000_embedding'].copy())\n",
    "# adata_pre.obsm['GraphST20_embedding'] = embedding\n",
    "\n",
    "# del GraphST_embedding_pd\n",
    "# del embedding\n",
    "\n",
    "# print(adata_pre)"
   ]
  },
  {
   "cell_type": "code",
   "execution_count": 6,
   "id": "8148e937-6868-4c60-9678-2dc58a5ebe16",
   "metadata": {
    "scrolled": true
   },
   "outputs": [
    {
     "name": "stdout",
     "output_type": "stream",
     "text": [
      "(18033, 30)\n",
      "                           STAGATE_1  STAGATE_2  STAGATE_3  STAGATE_4  \\\n",
      "AAACAACGAATAGTTC-1_151507  -4.345402   1.667365   1.845119   5.311783   \n",
      "AAACAAGTATCTCCCA-1_151507  -5.505312   2.322926   0.794274   9.065916   \n",
      "AAACAATCTACTAGCA-1_151507  -5.409313  -0.734618   0.204319   3.340324   \n",
      "AAACACCAATAACTGC-1_151507  -2.703301   0.738970   2.781152   2.334350   \n",
      "AAACAGCTTTCAGAAG-1_151507  -6.101233   2.152689   3.326889   8.605307   \n",
      "\n",
      "                           STAGATE_5  STAGATE_6  STAGATE_7  STAGATE_8  \\\n",
      "AAACAACGAATAGTTC-1_151507  -2.591382  -0.538832   5.007315   1.513464   \n",
      "AAACAAGTATCTCCCA-1_151507  -2.857811  -0.160081   4.021773   1.688442   \n",
      "AAACAATCTACTAGCA-1_151507  -1.626888  -0.530949   3.794722   0.325293   \n",
      "AAACACCAATAACTGC-1_151507  -1.128294   1.648088  -1.296323   0.788101   \n",
      "AAACAGCTTTCAGAAG-1_151507  -3.238205  -0.217724   4.519947   1.033965   \n",
      "\n",
      "                           STAGATE_9  STAGATE_10  ...  STAGATE_21  STAGATE_22  \\\n",
      "AAACAACGAATAGTTC-1_151507   0.291302   -1.452313  ...    4.036440   -4.413215   \n",
      "AAACAAGTATCTCCCA-1_151507   0.007924   -1.983374  ...    3.977201   -4.787208   \n",
      "AAACAATCTACTAGCA-1_151507  -1.050499   -2.715493  ...    3.142639   -4.288835   \n",
      "AAACACCAATAACTGC-1_151507  -3.486281   -0.508822  ...    4.757678   -1.281572   \n",
      "AAACAGCTTTCAGAAG-1_151507  -0.708683   -2.344194  ...    3.664386   -5.538623   \n",
      "\n",
      "                           STAGATE_23  STAGATE_24  STAGATE_25  STAGATE_26  \\\n",
      "AAACAACGAATAGTTC-1_151507    4.331021    4.900465    6.010370    1.990305   \n",
      "AAACAAGTATCTCCCA-1_151507    5.211848    3.639834    5.972466    3.568391   \n",
      "AAACAATCTACTAGCA-1_151507    3.781520    3.267342    7.150006    1.790076   \n",
      "AAACACCAATAACTGC-1_151507    5.291935    5.954344    8.380346    1.067212   \n",
      "AAACAGCTTTCAGAAG-1_151507    6.533575    3.854535    4.365731    1.562083   \n",
      "\n",
      "                           STAGATE_27  STAGATE_28  STAGATE_29  STAGATE_30  \n",
      "AAACAACGAATAGTTC-1_151507   -2.649138   -6.874500    3.912549   -4.167746  \n",
      "AAACAAGTATCTCCCA-1_151507   -3.182972   -9.491170    5.246434   -9.002718  \n",
      "AAACAATCTACTAGCA-1_151507   -2.826405   -8.258608    1.868869   -1.590722  \n",
      "AAACACCAATAACTGC-1_151507   -2.779065  -10.514962    5.174999   -1.627875  \n",
      "AAACAGCTTTCAGAAG-1_151507   -3.844599   -9.210589    5.022879  -10.055255  \n",
      "\n",
      "[5 rows x 30 columns]\n"
     ]
    }
   ],
   "source": [
    "# # STAGATE embedding (18033, 30)  (15284, 30)  (14364, 30)\n",
    "# STAGATE_embedding_pd = pd.read_csv(\"G:/dataset/1_DLPFC/output/STAGATE/Donor1/embedding.csv\")\n",
    "# print(STAGATE_embedding_pd.shape)\n",
    "# print(STAGATE_embedding_pd.head())\n",
    "# adata_pre.obsm['STAGATE_embedding'] = STAGATE_embedding_pd.values"
   ]
  },
  {
   "cell_type": "code",
   "execution_count": 16,
   "id": "66af996e",
   "metadata": {},
   "outputs": [
    {
     "name": "stdout",
     "output_type": "stream",
     "text": [
      "(14243, 32)\n",
      "                           SPIRAL_0  SPIRAL_1  SPIRAL_2  SPIRAL_3  SPIRAL_4\n",
      "151673-AAACAAGTATCTCCCA-1  0.017159  0.506587  0.233944  0.173340  0.109793\n",
      "151673-AAACAATCTACTAGCA-1 -0.071980  0.415265 -0.235092  0.021972  0.080909\n",
      "151673-AAACACCAATAACTGC-1 -0.422182 -0.058848  0.012611  0.045996 -0.064233\n",
      "151673-AAACAGAGCGACTCCT-1  0.395679  0.555186  0.188891 -0.065386 -0.136478\n",
      "151673-AAACAGCTTTCAGAAG-1  0.049217 -0.510062  0.167246  0.193913  0.410749\n",
      "Index(['AAACAAGTATCTCCCA-1-151673', 'AAACAATCTACTAGCA-1-151673',\n",
      "       'AAACACCAATAACTGC-1-151673', 'AAACAGAGCGACTCCT-1-151673',\n",
      "       'AAACAGCTTTCAGAAG-1-151673'],\n",
      "      dtype='object')\n",
      "AnnData object with n_obs × n_vars = 14243 × 33538\n",
      "    obs: 'in_tissue', 'array_row', 'array_col', 'batch', 'ground.truth'\n",
      "    obsm: 'spatial', 'SPIRAL_pyg_embedding'\n"
     ]
    }
   ],
   "source": [
    "# SPIRAL embedding  (17985, 32)  (15101, 32)\n",
    "# SPIRAL_embedding_pd = pd.read_csv(\"G:/dataset/1_DLPFC/output/SPIRAL/output/spiral/SPIRAL_151673_151674_151675_151676_embed_512.csv\", index_col=0)\n",
    "# print(SPIRAL_embedding_pd.shape)\n",
    "# print(SPIRAL_embedding_pd.iloc[:,:5].head())\n",
    "# print(adata_pre.obs_names[:5])\n",
    "# SPIRAL_embedding_pd.rename(index=lambda s: s.split('-',1)[1] + '-' + s.split('-',1)[0], inplace=True)\n",
    "# adata_pre = adata_pre[SPIRAL_embedding_pd.index.to_list(), :]\n",
    "# adata_pre.obsm['SPIRAL_embedding'] = SPIRAL_embedding_pd.values\n",
    "# print(adata_pre)\n",
    "\n",
    "\n",
    "# SPIRAL_pyg_embedding_pd = pd.read_csv(\"G:/dataset/1_DLPFC/output/SPIRAL/output/SPIRAL_pyg_151673_151674_151675_151676_embed.csv\", index_col=0)\n",
    "# print(SPIRAL_pyg_embedding_pd.shape)\n",
    "# print(SPIRAL_pyg_embedding_pd.iloc[:,:5].head())\n",
    "# print(adata_pre.obs_names[:5])\n",
    "# SPIRAL_pyg_embedding_pd.rename(index=lambda s: s.split('-',1)[1] + '-' + s.split('-',1)[0], inplace=True)\n",
    "# adata_pre = adata_pre[SPIRAL_pyg_embedding_pd.index.to_list(), :]\n",
    "# adata_pre.obsm['SPIRAL_pyg_embedding'] = SPIRAL_pyg_embedding_pd.values\n",
    "# print(adata_pre)"
   ]
  },
  {
   "cell_type": "code",
   "execution_count": 17,
   "id": "fed48321-1af3-49b5-9d46-4234b85a8996",
   "metadata": {
    "scrolled": true
   },
   "outputs": [],
   "source": [
    "# # SPIRAL embedding  (18033, 32)  (15284, 32)  (14364, 32)  (47329, 32)\n",
    "# SPIRAL_embedding1024_pd = pd.read_csv(\"G:/dataset/1_DLPFC/output/SPIRAL/SPIRAL_151507_151508_151509_151510_151669_151670_151671_151672_151673_151674_151675_151676_embed_1024.csv\", index_col=0)\n",
    "# print(SPIRAL_embedding1024_pd.shape)\n",
    "# print(SPIRAL_embedding1024_pd.head())\n",
    "\n",
    "# df = pd.DataFrame(data=None)\n",
    "# for i in range(151507,151511):\n",
    "#     print(i)\n",
    "#     df_temp = SPIRAL_embedding1024_pd[SPIRAL_embedding1024_pd.index.str.contains(str(i))]\n",
    "#     df = pd.concat([df, df_temp])\n",
    "# print(df.head())\n",
    "# SPIRAL_embedding1024_pd.rename(index=lambda s: s.split('-',1)[1] + '-' + s.split('-',1)[0], inplace=True)\n",
    "# df_temp = pd.merge(adata_pre.obs['batch'], SPIRAL_embedding1024_pd, how='left', left_index=True, right_index=True)\n",
    "# df_temp.drop(columns=['batch'], inplace=True)\n",
    "# df_temp.fillna(0, inplace=True)\n",
    "# print(df_temp.shape)\n",
    "# adata_pre.obsm['SPIRAL1024_embedding'] = df_temp.values\n",
    "\n",
    "# # (15284, 32)\n",
    "# SPIRAL_embedding2048_pd = pd.read_csv(\"G:/dataset/1_DLPFC/output/SPIRAL/SPIRAL_pyg_151507_151508_151509_151510_151669_151670_151671_151672_151673_151674_151675_151676_embed_2048.csv\", index_col=0)\n",
    "# print(SPIRAL_embedding2048_pd.shape)\n",
    "# print(SPIRAL_embedding2048_pd.head())\n",
    "\n",
    "# df = pd.DataFrame(data=None)\n",
    "# for i in range(151507,151511):\n",
    "#     print(i)\n",
    "#     df_temp = SPIRAL_embedding2048_pd[SPIRAL_embedding2048_pd.index.str.contains(str(i))]\n",
    "#     df = pd.concat([df, df_temp])\n",
    "# print(df.head())\n",
    "# SPIRAL_embedding2048_pd.rename(index=lambda s: s.split('-',1)[1] + '-' + s.split('-',1)[0], inplace=True)\n",
    "# df_temp = pd.merge(adata_pre.obs['batch'], SPIRAL_embedding2048_pd, how='left', left_index=True, right_index=True)\n",
    "# df_temp.drop(columns=['batch'], inplace=True)\n",
    "# df_temp.fillna(0, inplace=True)\n",
    "# print(df_temp.shape)\n",
    "# adata_pre.obsm['SPIRAL2048_embedding'] = df_temp.values\n",
    "# del df_temp\n",
    "# del df"
   ]
  },
  {
   "cell_type": "code",
   "execution_count": 18,
   "id": "07a76c44-beb6-492f-99f5-f26fe1120003",
   "metadata": {
    "scrolled": true
   },
   "outputs": [],
   "source": [
    "# # STUtility coor  (17889, 8)\n",
    "# STUtility_coor_pd = pd.read_csv(\"G:/dataset/1_DLPFC/output/STUtility/Donor1-STutil-coords.csv\", sep=\" \")\n",
    "# print(STUtility_coor_pd.shape)\n",
    "# print(STUtility_coor_pd.head())\n",
    "# STUtility_coor_pd.rename(index=lambda s: s.split('_',1)[0] + '-' + str(int(s.split('_',1)[1]) + 151506), inplace=True)\n",
    "# print(STUtility_coor_pd.head())\n",
    "# print(STUtility_coor_pd.tail())\n",
    "# adatas = adata_pre[STUtility_coor_pd.index.tolist(), :]\n",
    "# adatas.obsm['spatial_aligned'] = STUtility_coor_pd[['align_x', 'align_y']].values\n",
    "# adatas.obsm['spatial_origin'] = STUtility_coor_pd[['x', 'y']].values\n",
    "# print(adatas)"
   ]
  },
  {
   "cell_type": "code",
   "execution_count": 19,
   "id": "36a56047-7841-4147-8b70-3f7e69ee7012",
   "metadata": {},
   "outputs": [],
   "source": [
    "# # moscot  (18033, 2)\n",
    "# # moscot_coor_pd = pd.read_csv(\"G:/dataset/1_DLPFC/output/moscot/moscot_affine_donor1.txt\", header = None)\n",
    "# moscot_coor_pd = pd.read_csv(\"G:/dataset/1_DLPFC/output/moscot/moscot_warp_donor1.txt\", header = None)\n",
    "# print(moscot_coor_pd.shape)\n",
    "# print(moscot_coor_pd.head())\n",
    "\n",
    "# adatas = adata_pre\n",
    "\n",
    "# adatas.obsm['spatial_aligned'] = moscot_coor_pd.values\n",
    "# adatas.obsm['spatial_origin'] = adatas.obsm['spatial'].copy()\n",
    "\n",
    "# print(adatas)"
   ]
  },
  {
   "cell_type": "code",
   "execution_count": 20,
   "id": "d26576e3-ff7e-453c-bcf7-125f113a57d8",
   "metadata": {
    "scrolled": true
   },
   "outputs": [],
   "source": [
    "# # STalign \n",
    "# adata_list = []\n",
    "# for i in range(151507,151511):\n",
    "#     print(i)\n",
    "\n",
    "#     input_dir = 'G:/dataset/1_DLPFC/input/'+str(i)+'/'  # Replace it with your file path\n",
    "\n",
    "#     adata_temp = sc.read_visium(input_dir)\n",
    "#     adata_temp.var_names_make_unique()\n",
    "#     adata_temp.obs_names_make_unique()\n",
    "#     adata_label = pd.read_csv(input_dir + 'truth.csv', index_col=0)\n",
    "#     adata_temp.obs['batch'] = adata_label['batch'].astype(\"category\")\n",
    "#     adata_temp.obs['ground.truth'] = adata_label['ground.truth'].astype(\"category\")\n",
    "#     if i != 151510:\n",
    "#         STalign_coor_pd = pd.read_csv('G:/dataset/1_DLPFC/output/STalign/'+str(i)+'_aligned_to_'+str(i+1)+'.csv')\n",
    "#         STalign_coor_pd.index = STalign_coor_pd['0']\n",
    "#         adata_temp.obsm['spatial_origin'] = adata_temp.obsm['spatial'].copy()\n",
    "#         adata_temp.obsm['spatial_aligned'] = STalign_coor_pd[['aligned_x', 'aligned_y']].values\n",
    "#     else:\n",
    "#         adata_temp.obsm['spatial_origin'] = adata_temp.obsm['spatial'].copy()\n",
    "#         adata_temp.obsm['spatial_aligned'] = adata_temp.obsm['spatial'].copy()\n",
    "    \n",
    "#     print(adata_temp)\n",
    "#     adata_list.append(adata_temp)\n",
    "\n",
    "# adata_pre = ad.concat(adata_list, index_unique=\"-\", keys = [i for i in range(151507,151511)])\n",
    "# print(adata_pre)\n",
    "\n",
    "# del adata_temp\n",
    "# del adata_list"
   ]
  },
  {
   "cell_type": "code",
   "execution_count": 21,
   "id": "06b218f3-43d9-4144-9fc5-e1a9a852f8cd",
   "metadata": {
    "scrolled": true
   },
   "outputs": [],
   "source": [
    "# # paste  17978 × 33538\n",
    "# adata_list = []\n",
    "# for i in range(151507,151511):\n",
    "#     print(i)\n",
    "\n",
    "#     input_dir = 'G:/dataset/1_DLPFC/input/'+str(i)+'/'  # Replace it with your file path\n",
    "\n",
    "#     adata_temp = sc.read_visium(input_dir)\n",
    "#     adata_temp.var_names_make_unique()\n",
    "#     adata_temp.obs_names_make_unique()\n",
    "#     adata_label = pd.read_csv(input_dir + 'truth.csv', index_col=0)\n",
    "#     adata_temp.obs['batch'] = adata_label['batch'].astype(\"category\")\n",
    "#     adata_temp.obs['ground.truth'] = adata_label['ground.truth'].astype(\"category\")\n",
    "    \n",
    "#     paste_coor_pd = pd.read_csv('G:/dataset/1_DLPFC/output/PASTE/'+str(i)+'.csv')\n",
    "#     paste_coor_pd.index = paste_coor_pd['spot']\n",
    "#     paste_coor_pd.rename(index=lambda s: s.split('.',1)[0], inplace=True)\n",
    "#     adata_temp = adata_temp[paste_coor_pd.index.tolist(), :]\n",
    "#     adata_temp.obsm['spatial_origin'] = adata_temp.obsm['spatial'].copy()\n",
    "#     adata_temp.obsm['spatial_aligned'] = paste_coor_pd[['aligned_x', 'aligned_y']].values\n",
    "    \n",
    "#     print(adata_temp)\n",
    "#     adata_list.append(adata_temp)\n",
    "\n",
    "# adata_pre = ad.concat(adata_list, index_unique=\"-\", keys = [i for i in range(151507,151511)])\n",
    "# print(adata_pre)\n",
    "\n",
    "# del adata_temp\n",
    "# del adata_list"
   ]
  },
  {
   "cell_type": "code",
   "execution_count": 22,
   "id": "6378fdde-c590-4adc-aa88-81ad215cf9a1",
   "metadata": {},
   "outputs": [],
   "source": [
    "# # SPACEL  (18033, 3)\n",
    "# SPACEL_coor_pd = pd.read_csv(\"G:/dataset/1_DLPFC/output/SPACEL/donor1_aligned_coordinates.csv\")\n",
    "# print(SPACEL_coor_pd.shape)\n",
    "# print(SPACEL_coor_pd.head())\n",
    "\n",
    "# adatas = adata_pre\n",
    "\n",
    "# adatas.obsm['spatial_aligned'] = SPACEL_coor_pd[['X','Y']].values\n",
    "# adatas.obsm['spatial_origin'] = adatas.obsm['spatial'].copy()\n",
    "\n",
    "# print(adatas)"
   ]
  },
  {
   "cell_type": "code",
   "execution_count": 23,
   "id": "05604ff3-0c78-4576-824f-0e2246d8a840",
   "metadata": {},
   "outputs": [],
   "source": [
    "# # SLAT\n",
    "# adata = sc.read_h5ad('G:/dataset/1_DLPFC/output/SLAT/SLAT_aligned_151507.h5ad')\n",
    "# print(adata)"
   ]
  },
  {
   "cell_type": "code",
   "execution_count": 24,
   "id": "e21ad0d3-1191-49b3-b627-88d05fa97dbe",
   "metadata": {},
   "outputs": [],
   "source": [
    "# #SPIRAL  (47329, 6)  (17985, 6)\n",
    "# SPIRAL_coor_pd = pd.read_csv(\"G:/dataset/1_DLPFC/output/SPIRAL/new_coord_151507_151508_151509_151510_151669_151670_151671_151672_151673_151674_151675_151676_modify.csv\")\n",
    "# print(SPIRAL_coor_pd.shape)\n",
    "# print(SPIRAL_coor_pd.head())\n",
    "# SPIRAL_coor_pd = SPIRAL_coor_pd[SPIRAL_coor_pd['batch']<=151510]\n",
    "# print(SPIRAL_coor_pd.shape)\n",
    "# SPIRAL_coor_pd.index = SPIRAL_coor_pd['Unnamed: 0']\n",
    "# SPIRAL_coor_pd.rename(index=lambda s: s.split('-',1)[1] + '-' + s.split('-',1)[0], inplace=True)\n",
    "# print(SPIRAL_coor_pd.head())\n",
    "# adatas = adata_pre[SPIRAL_coor_pd.index.tolist(), :]\n",
    "# adatas.obsm['spatial_aligned'] = SPIRAL_coor_pd[['x', 'y']].values\n",
    "# adatas.obsm['spatial_origin'] = adatas.obsm['spatial'].copy()\n",
    "# print(adatas)"
   ]
  },
  {
   "cell_type": "markdown",
   "id": "d2f661e1-c8fa-44c2-9963-875a9256499d",
   "metadata": {},
   "source": [
    "#### load integrated dataset"
   ]
  },
  {
   "cell_type": "code",
   "execution_count": 25,
   "id": "97ae246b-5fc3-4081-a62d-e210c808b34b",
   "metadata": {},
   "outputs": [],
   "source": [
    "# adata_int = sc.read_h5ad('G:/dataset/1_DLPFC/output/Seurat/Donor1/Donor1.h5ad')\n",
    "# print(adata_int)\n",
    "\n",
    "# adata_int.obs.drop(['integrated_snn_res.'+str(round(i,2)) for i in np.arange(0.15, 0.51, 0.01)], axis=1, inplace=True)\n",
    "\n",
    "# print(adata_int)"
   ]
  },
  {
   "cell_type": "markdown",
   "id": "139d73c2-6f1c-4add-93fc-0483feba43a5",
   "metadata": {},
   "source": [
    "#### calculate cluster"
   ]
  },
  {
   "cell_type": "code",
   "execution_count": 7,
   "id": "a40803fc-6c64-4435-865e-1ce64ef6abb4",
   "metadata": {},
   "outputs": [
    {
     "name": "stdout",
     "output_type": "stream",
     "text": [
      "AnnData object with n_obs × n_vars = 18033 × 33538\n",
      "    obs: 'in_tissue', 'array_row', 'array_col', 'batch', 'ground.truth'\n",
      "    obsm: 'spatial', 'seurat_embedding'\n",
      "seurat\n",
      "AnnData object with n_obs × n_vars = 18033 × 33538\n",
      "    obs: 'in_tissue', 'array_row', 'array_col', 'batch', 'ground.truth'\n",
      "    uns: 'seurat_neighbors'\n",
      "    obsm: 'spatial', 'seurat_embedding'\n",
      "    obsp: 'seurat_neighbors_distances', 'seurat_neighbors_connectivities'\n"
     ]
    }
   ],
   "source": [
    "print(adata_pre)\n",
    "adatas = adata_pre\n",
    "# methods = ['seurat', 'harmony', 'LIGER', 'PRECAST', 'STAligner', 'DeepST', 'STAGATE', 'GraphST20', 'GraphST3000', 'SPIRAL1024', 'SPIRAL2048']\n",
    "# cal neighbors\n",
    "for method in my_methods:\n",
    "    print(method)\n",
    "    if 'GraphST' in method:\n",
    "        sc.pp.neighbors(adatas, n_neighbors=50, use_rep= method+'_embedding', key_added = method+'_neighbors')\n",
    "    else:\n",
    "        sc.pp.neighbors(adatas, use_rep= method+'_embedding', key_added = method+'_neighbors')\n",
    "    \n",
    "print(adatas)"
   ]
  },
  {
   "cell_type": "code",
   "execution_count": 14,
   "id": "57949b32",
   "metadata": {},
   "outputs": [
    {
     "data": {
      "text/plain": [
       "Layer 3    6258\n",
       "Layer 1    4052\n",
       "Layer 5    2085\n",
       "Layer 2    1852\n",
       "Layer 4    1429\n",
       "Layer 6    1405\n",
       "WM          904\n",
       "na           48\n",
       "Name: ground.truth, dtype: int64"
      ]
     },
     "execution_count": 14,
     "metadata": {},
     "output_type": "execute_result"
    }
   ],
   "source": [
    "adatas.obs['ground.truth'].value_counts()"
   ]
  },
  {
   "cell_type": "code",
   "execution_count": 8,
   "id": "bb964f53-d929-487d-bcef-f19f771c1469",
   "metadata": {
    "scrolled": true
   },
   "outputs": [
    {
     "name": "stdout",
     "output_type": "stream",
     "text": [
      "seurat\n",
      "resolution:  0.1    count_unique_leiden:  5\n",
      "resolution:  0.11    count_unique_leiden:  4\n",
      "resolution:  0.12    count_unique_leiden:  5\n",
      "resolution:  0.13    count_unique_leiden:  5\n",
      "resolution:  0.13999999999999999    count_unique_leiden:  5\n",
      "resolution:  0.14999999999999997    count_unique_leiden:  5\n",
      "resolution:  0.15999999999999998    count_unique_leiden:  5\n",
      "resolution:  0.16999999999999998    count_unique_leiden:  5\n",
      "resolution:  0.17999999999999997    count_unique_leiden:  6\n",
      "resolution:  0.18999999999999995    count_unique_leiden:  6\n",
      "resolution:  0.19999999999999996    count_unique_leiden:  6\n",
      "resolution:  0.20999999999999996    count_unique_leiden:  6\n",
      "resolution:  0.21999999999999995    count_unique_leiden:  7\n",
      "Best resolution:  0.21999999999999995\n",
      "resolution:  0.1    count_unique_leiden:  3\n",
      "resolution:  0.11    count_unique_leiden:  4\n",
      "resolution:  0.12    count_unique_leiden:  5\n",
      "resolution:  0.13    count_unique_leiden:  5\n",
      "resolution:  0.13999999999999999    count_unique_leiden:  5\n",
      "resolution:  0.14999999999999997    count_unique_leiden:  5\n",
      "resolution:  0.15999999999999998    count_unique_leiden:  5\n",
      "resolution:  0.16999999999999998    count_unique_leiden:  6\n",
      "resolution:  0.17999999999999997    count_unique_leiden:  6\n",
      "resolution:  0.18999999999999995    count_unique_leiden:  6\n",
      "resolution:  0.19999999999999996    count_unique_leiden:  6\n",
      "resolution:  0.20999999999999996    count_unique_leiden:  6\n",
      "resolution:  0.21999999999999995    count_unique_leiden:  6\n",
      "resolution:  0.22999999999999995    count_unique_leiden:  6\n",
      "resolution:  0.23999999999999994    count_unique_leiden:  6\n",
      "resolution:  0.24999999999999992    count_unique_leiden:  7\n",
      "Best resolution:  0.24999999999999992\n"
     ]
    },
    {
     "name": "stderr",
     "output_type": "stream",
     "text": [
      "R[write to console]:                    __           __ \n",
      "   ____ ___  _____/ /_  _______/ /_\n",
      "  / __ `__ \\/ ___/ / / / / ___/ __/\n",
      " / / / / / / /__/ / /_/ (__  ) /_  \n",
      "/_/ /_/ /_/\\___/_/\\__,_/____/\\__/   version 6.0.0\n",
      "Type 'citation(\"mclust\")' for citing this R package in publications.\n",
      "\n"
     ]
    },
    {
     "name": "stdout",
     "output_type": "stream",
     "text": [
      "fitting ...\n",
      "  |                                                                      |   0%"
     ]
    },
    {
     "name": "stderr",
     "output_type": "stream",
     "text": [
      "D:\\anaconda\\envs\\index\\lib\\site-packages\\rpy2\\robjects\\numpy2ri.py:252: DeprecationWarning: The global conversion available with activate() is deprecated and will be removed in the next major release. Use a local converter.\n",
      "  warnings.warn('The global conversion available with activate() '\n"
     ]
    },
    {
     "name": "stdout",
     "output_type": "stream",
     "text": [
      "  |======================================================================| 100%\n"
     ]
    }
   ],
   "source": [
    "for method in my_methods:\n",
    "    print(method)\n",
    "    adatas.uns['neighbors'] = adatas.uns[method+'_neighbors'].copy()\n",
    "    adatas.obsp['distances'] = adatas.obsp[method+'_neighbors_distances'].copy()\n",
    "    adatas.obsp['connectivities'] = adatas.obsp[method+'_neighbors_connectivities'].copy()\n",
    "    # leiden\n",
    "    adatas = index.get_cluster_data(adatas, 7, True, 'leiden', 'leiden_'+method, resolution = sorted(list(np.arange(0.1, 1, 0.01)), reverse=False))\n",
    "    # louvain\n",
    "    adatas = index.get_cluster_data(adatas, 7, True, 'louvain', 'louvain_'+method, resolution = sorted(list(np.arange(0.1, 1, 0.01)), reverse=False))\n",
    "    # mclust\n",
    "    if method != 'GraphST3000':\n",
    "        adatas = index.get_cluster_data(adatas, 7, True, 'mclust', 'mclust_'+method, None, method+'_embedding')\n"
   ]
  },
  {
   "cell_type": "code",
   "execution_count": 9,
   "id": "577d145b-f744-4bfc-a561-0c9a0808747d",
   "metadata": {},
   "outputs": [
    {
     "name": "stdout",
     "output_type": "stream",
     "text": [
      "AnnData object with n_obs × n_vars = 18033 × 33538\n",
      "    obs: 'in_tissue', 'array_row', 'array_col', 'batch', 'ground.truth', 'leiden', 'leiden_seurat', 'louvain', 'louvain_seurat', 'mclust_seurat'\n",
      "    uns: 'seurat_neighbors', 'neighbors', 'leiden', 'leiden_seurat_resolution', 'louvain', 'louvain_seurat_resolution'\n",
      "    obsm: 'spatial', 'seurat_embedding'\n",
      "    obsp: 'seurat_neighbors_distances', 'seurat_neighbors_connectivities', 'distances', 'connectivities'\n"
     ]
    }
   ],
   "source": [
    "print(adatas)"
   ]
  },
  {
   "cell_type": "code",
   "execution_count": 29,
   "id": "5ebe3fb1-4f93-40a3-994c-0e29cf5c76c4",
   "metadata": {},
   "outputs": [],
   "source": [
    "# adatas.obs.drop(['integrated_snn_res.0.5'], axis=1, inplace=True)\n",
    "# print(adatas)"
   ]
  },
  {
   "cell_type": "code",
   "execution_count": 30,
   "id": "32e9b795-33ec-41d0-8d7a-525a0c8e6362",
   "metadata": {},
   "outputs": [],
   "source": [
    "# adata_int.obs.drop(['integrated_snn_res.'+str(round(i,2)) for i in np.arange(0.11, 0.5, 0.01)], axis=1, inplace=True)\n",
    "# print(adata_int.uns['leiden'])\n",
    "# print(adata_int.uns['leiden_seurat_resolution'])"
   ]
  },
  {
   "cell_type": "code",
   "execution_count": 31,
   "id": "e8614b05-c0fd-4be4-b3b2-362759bf8eac",
   "metadata": {},
   "outputs": [],
   "source": [
    "# print(adatas.isbacked)\n",
    "# adatas.filename = 'G:/dataset/1_DLPFC/output/Donor1.h5ad'\n",
    "# print(adatas.isbacked)"
   ]
  },
  {
   "cell_type": "markdown",
   "id": "d20625aa-c304-49e4-b8f8-e25cbfa572ec",
   "metadata": {},
   "source": [
    "# Spatial index"
   ]
  },
  {
   "cell_type": "code",
   "execution_count": 32,
   "id": "3a7751e2-1232-40f4-9941-1dcdc6249bd0",
   "metadata": {},
   "outputs": [],
   "source": [
    "# 指标：  batch混合程度 + 空间信息\n",
    "\n",
    "# 两个细胞  局部空间\n",
    "\n",
    "# print(index.cLISI(adatas, 'ground.truth', type_=\"knn\", use_rep='spatial'))\n",
    "\n",
    "# 去完批次   低维空间相近  ->  空间距离是否相近\n",
    "\n",
    "# embedding knn:  1  ->    2 3 4\n",
    "# spatial knn:    1  ->      3 4 5\n"
   ]
  },
  {
   "cell_type": "markdown",
   "id": "f21cd3a7-d818-437d-83b0-cd6166972bf7",
   "metadata": {},
   "source": [
    "#### spatial_coherence_score"
   ]
  },
  {
   "cell_type": "code",
   "execution_count": 14,
   "id": "5b14b93a-1a2f-4f6a-9e4d-388710f1948d",
   "metadata": {
    "scrolled": true
   },
   "outputs": [
    {
     "name": "stdout",
     "output_type": "stream",
     "text": [
      "['leiden_GraphST20', 'louvain_GraphST20', 'mclust_GraphST20']\n",
      "leiden_GraphST20\n",
      "2.0455699624631842\n",
      "0\n",
      "1\n",
      "2\n",
      "3\n",
      "4\n",
      "5\n",
      "6\n",
      "7\n",
      "8\n",
      "9\n",
      "10\n",
      "11\n",
      "12\n",
      "13\n",
      "14\n",
      "15\n",
      "16\n",
      "17\n",
      "18\n",
      "19\n",
      "20\n",
      "21\n",
      "22\n",
      "23\n",
      "24\n",
      "25\n",
      "26\n",
      "27\n",
      "28\n",
      "29\n",
      "30\n",
      "31\n",
      "32\n",
      "33\n",
      "34\n",
      "35\n",
      "36\n",
      "37\n",
      "38\n",
      "39\n",
      "40\n",
      "41\n",
      "42\n",
      "43\n",
      "44\n",
      "45\n",
      "46\n",
      "47\n",
      "48\n",
      "49\n",
      "50\n",
      "51\n",
      "52\n",
      "53\n",
      "54\n",
      "55\n",
      "56\n",
      "57\n",
      "58\n",
      "59\n",
      "60\n",
      "61\n",
      "62\n",
      "63\n",
      "64\n",
      "65\n",
      "66\n",
      "67\n",
      "68\n",
      "69\n",
      "70\n",
      "71\n",
      "72\n",
      "73\n",
      "74\n",
      "75\n",
      "76\n",
      "77\n",
      "78\n",
      "79\n",
      "80\n",
      "81\n",
      "82\n",
      "83\n",
      "84\n",
      "85\n",
      "86\n",
      "87\n",
      "88\n",
      "89\n",
      "90\n",
      "91\n",
      "92\n",
      "93\n",
      "94\n",
      "95\n",
      "96\n",
      "97\n",
      "98\n",
      "99\n",
      "-277.84348574372\n",
      "louvain_GraphST20\n",
      "2.086382721774155\n",
      "0\n",
      "1\n",
      "2\n",
      "3\n",
      "4\n",
      "5\n",
      "6\n",
      "7\n",
      "8\n",
      "9\n",
      "10\n",
      "11\n",
      "12\n",
      "13\n",
      "14\n",
      "15\n",
      "16\n",
      "17\n",
      "18\n",
      "19\n",
      "20\n",
      "21\n",
      "22\n",
      "23\n",
      "24\n",
      "25\n",
      "26\n",
      "27\n",
      "28\n",
      "29\n",
      "30\n",
      "31\n",
      "32\n",
      "33\n",
      "34\n",
      "35\n",
      "36\n",
      "37\n",
      "38\n",
      "39\n",
      "40\n",
      "41\n",
      "42\n",
      "43\n",
      "44\n",
      "45\n",
      "46\n",
      "47\n",
      "48\n",
      "49\n",
      "50\n",
      "51\n",
      "52\n",
      "53\n",
      "54\n",
      "55\n",
      "56\n",
      "57\n",
      "58\n",
      "59\n",
      "60\n",
      "61\n",
      "62\n",
      "63\n",
      "64\n",
      "65\n",
      "66\n",
      "67\n",
      "68\n",
      "69\n",
      "70\n",
      "71\n",
      "72\n",
      "73\n",
      "74\n",
      "75\n",
      "76\n",
      "77\n",
      "78\n",
      "79\n",
      "80\n",
      "81\n",
      "82\n",
      "83\n",
      "84\n",
      "85\n",
      "86\n",
      "87\n",
      "88\n",
      "89\n",
      "90\n",
      "91\n",
      "92\n",
      "93\n",
      "94\n",
      "95\n",
      "96\n",
      "97\n",
      "98\n",
      "99\n",
      "-271.67625420137267\n",
      "mclust_GraphST20\n",
      "2.1866940273856734\n",
      "0\n",
      "1\n",
      "2\n",
      "3\n",
      "4\n",
      "5\n",
      "6\n",
      "7\n",
      "8\n",
      "9\n",
      "10\n",
      "11\n",
      "12\n",
      "13\n",
      "14\n",
      "15\n",
      "16\n",
      "17\n",
      "18\n",
      "19\n",
      "20\n",
      "21\n",
      "22\n",
      "23\n",
      "24\n",
      "25\n",
      "26\n",
      "27\n",
      "28\n",
      "29\n",
      "30\n",
      "31\n",
      "32\n",
      "33\n",
      "34\n",
      "35\n",
      "36\n",
      "37\n",
      "38\n",
      "39\n",
      "40\n",
      "41\n",
      "42\n",
      "43\n",
      "44\n",
      "45\n",
      "46\n",
      "47\n",
      "48\n",
      "49\n",
      "50\n",
      "51\n",
      "52\n",
      "53\n",
      "54\n",
      "55\n",
      "56\n",
      "57\n",
      "58\n",
      "59\n",
      "60\n",
      "61\n",
      "62\n",
      "63\n",
      "64\n",
      "65\n",
      "66\n",
      "67\n",
      "68\n",
      "69\n",
      "70\n",
      "71\n",
      "72\n",
      "73\n",
      "74\n",
      "75\n",
      "76\n",
      "77\n",
      "78\n",
      "79\n",
      "80\n",
      "81\n",
      "82\n",
      "83\n",
      "84\n",
      "85\n",
      "86\n",
      "87\n",
      "88\n",
      "89\n",
      "90\n",
      "91\n",
      "92\n",
      "93\n",
      "94\n",
      "95\n",
      "96\n",
      "97\n",
      "98\n",
      "99\n",
      "-282.95259909700457\n"
     ]
    }
   ],
   "source": [
    "# code from SPIRAL \n",
    "# https://github.com/guott15/SPIRAL/blob/main/Downstream/metrics_spatial_coherence.ipynb\n",
    "# adatas.obs['leiden_seurat']=np.array(clust.loc[adata.obs_names,:].values,dtype=str)\n",
    "# my_methods = ['seurat', 'harmony', 'LIGER', 'PRECAST', 'STAligner', 'DeepST', 'STAGATE', 'SPIRAL1024', 'SPIRAL2048']\n",
    "methods = []\n",
    "my_methods = ['GraphST20']\n",
    "for method in my_methods:\n",
    "    methods.append('leiden_'+method)\n",
    "    methods.append('louvain_'+method)\n",
    "    methods.append('mclust_'+method)\n",
    "print(methods)\n",
    "\n",
    "for method in methods:\n",
    "    print(method)\n",
    "    knn = 6\n",
    "    g, node_dict = index.generate_graph_from_labels(adatas, adatas.obs[method] ,knn)\n",
    "    # scs = index.spatial_entropy(g, node_dict)\n",
    "    scs = index.spatial_coherence_score(g, node_dict, 100)\n",
    "    print(scs)\n",
    "    adatas.uns['scs_' + method] = scs\n"
   ]
  },
  {
   "cell_type": "code",
   "execution_count": 15,
   "id": "8f636d0b-1aab-42e5-8612-b269cb20965c",
   "metadata": {
    "scrolled": true
   },
   "outputs": [
    {
     "name": "stdout",
     "output_type": "stream",
     "text": [
      "-277.84348574372\n",
      "-271.67625420137267\n",
      "-282.95259909700457\n"
     ]
    }
   ],
   "source": [
    "for method in methods:\n",
    "    print(adatas.uns['scs_' + method])"
   ]
  },
  {
   "cell_type": "code",
   "execution_count": 35,
   "id": "d7ed6c26-0915-4748-a798-4c65945a8dce",
   "metadata": {},
   "outputs": [],
   "source": [
    "# # for aligned coor\n",
    "\n",
    "# # source\n",
    "# adatas.obsm['spatial'] = adatas.obsm['spatial_origin'].copy()\n",
    "# knn = 6\n",
    "# g, node_dict = index.generate_graph_from_labels(adatas, adatas.obs['ground.truth'] ,knn)\n",
    "# scs = index.spatial_entropy(g, node_dict)\n",
    "# print(scs)\n",
    "\n",
    "\n",
    "# # align\n",
    "# adatas.obsm['spatial'] = adatas.obsm['spatial_aligned'].copy()\n",
    "# knn = 6\n",
    "# g, node_dict = index.generate_graph_from_labels(adatas, adatas.obs['ground.truth'] ,knn)\n",
    "# scs = index.spatial_entropy(g, node_dict)\n",
    "# print(scs)\n"
   ]
  },
  {
   "cell_type": "markdown",
   "id": "6affba5b-f37d-4ec5-95f6-8d3fda5851f8",
   "metadata": {},
   "source": [
    "#### Moran's I"
   ]
  },
  {
   "cell_type": "code",
   "execution_count": 36,
   "id": "bb6fc019-a64f-47bf-a5a1-63d154478027",
   "metadata": {},
   "outputs": [],
   "source": [
    "# from libpysal.weights import W\n",
    "# from esda.moran import Moran, Moran_Local\n",
    "# matrix = adatas.obsp['connectivities'].toarray()\n",
    "# print(np.array_equal(matrix, matrix.T))\n",
    "# neighbors = dict()\n",
    "# val = dict()\n",
    "# for i in range(0, adatas.n_obs):\n",
    "#     c = list()\n",
    "#     d = list()\n",
    "#     for j in range(0, adatas.n_obs):\n",
    "#         if matrix[i][j] != 0:\n",
    "#             c.append(j)\n",
    "#             d.append(matrix[i][j])\n",
    "#     neighbors[i] = c\n",
    "#     val[i] = d\n",
    "# del matrix\n",
    "# del val\n",
    "\n",
    "# y = adatas.obsm['seurat_embedding'].T[0]\n",
    "# # neighbors = W(neighbors)\n",
    "# mi = Moran(y, neighbors)    # y:ndarray  value to analysis        neighbors:dict     weights:dict  Key is region ID, value is a list of edge weights.\n",
    "# mil = Moran_Local(y, neighbors)    # scipy.sparse matrix object\n",
    "# # mi = index.Moran_I(adatas.obsm['seurat_embedding'].T[1], neighbors)\n",
    "\n",
    "\n",
    "# print(type[mi])\n",
    "# print(\"Moran's I 值为：\", mi.I)\n",
    "# print(\"随机分布假设下Z检验值为：\", mi.z_rand)\n",
    "# print(\"随机分布假设下Z检验的P值为：\", mi.p_rand)\n",
    "# print(\"正态分布假设下Z检验值为：\", mi.z_norm)\n",
    "# print(\"正态分布假设下Z检验的P值为：\", mi.p_norm)\n",
    "# print(type[mil])\n",
    "# # print(\"(if permutations>0) values indicate quandrant location 1 HH, 2 LH, 3 LL, 4 HL:\", mil.q)\n",
    "# # print(\"(if permutations>0) p-values based on standard normal approximation from permutations (one-sided) for two-sided tests, these values should be multiplied by 2:\", mil.p_z_sim)"
   ]
  },
  {
   "cell_type": "code",
   "execution_count": 37,
   "id": "87f5158e-21ee-42cb-94e5-d7eba0008e63",
   "metadata": {},
   "outputs": [],
   "source": [
    "\n",
    "# # 指定空间基因\n",
    "\n",
    "# # 找空间基因  SPARK  （500、1000、10%、20%）\n",
    "\n",
    "# # 按batch分开\n",
    "\n",
    "# # SPAGCN   找 SVG    12 --- 1000+        \n",
    "\n",
    "# pca50 --> moran' I\n",
    "\n",
    "# # source\n",
    "# adatas.obsm['spatial'] = adatas.obsm['spatial_origin'].copy()\n",
    "# sc.pp.neighbors(adatas)\n",
    "# mi_origin = sc.metrics.morans_i(adatas)\n",
    "# print(mi_origin)\n",
    "# print(np.nanmean(mi_origin))\n",
    "\n",
    "\n",
    "\n",
    "# adatas.obsm['spatial'] = adatas.obsm['spatial_aligned'].copy()\n",
    "# sc.pp.neighbors(adatas)\n",
    "# mi_align = sc.metrics.morans_i(adatas)\n",
    "# print(mi_align)\n",
    "# print(np.nanmean(mi_align))\n",
    "\n"
   ]
  },
  {
   "cell_type": "code",
   "execution_count": 38,
   "id": "a70b2101-c468-4734-a282-3d9348493a6a",
   "metadata": {},
   "outputs": [
    {
     "name": "stdout",
     "output_type": "stream",
     "text": [
      "SPIRAL_pyg:\n",
      "0.7048270055773314\n"
     ]
    }
   ],
   "source": [
    "for method in my_methods:\n",
    "    print(method + ':')\n",
    "    adatas.uns['neighbors'] = adatas.uns[method+'_neighbors'].copy()\n",
    "    adatas.obsp['distances'] = adatas.obsp[method+'_neighbors_distances'].copy()\n",
    "    adatas.obsp['connectivities'] = adatas.obsp[method+'_neighbors_connectivities'].copy()\n",
    "    print(np.mean(sc.metrics.morans_i(adatas, obsm = method+'_embedding')))\n",
    "\n",
    "# for method in my_methods:\n",
    "#     print(method + ':')\n",
    "#     print(np.mean(sc.metrics.morans_i(adatas, obsm = method+'_embedding')))"
   ]
  },
  {
   "cell_type": "markdown",
   "id": "a1ca6f33-e8bb-4c59-88fd-fefd28d92ffd",
   "metadata": {},
   "source": [
    "#### Geary's C"
   ]
  },
  {
   "cell_type": "code",
   "execution_count": 39,
   "id": "6d90f9c6-8f5c-4cc4-a7ab-7cf0db309a37",
   "metadata": {},
   "outputs": [],
   "source": [
    "# from libpysal.weights import W\n",
    "# from esda.geary import Geary\n",
    "# from esda.geary_local import Geary_Local\n",
    "\n",
    "\n",
    "# w = W(neighbors)\n",
    "# gc = Geary(y, w)\n",
    "# gcl = Geary_Local(connectivity)    # scipy.sparse matrix object\n",
    "\n",
    "# print(gc)"
   ]
  },
  {
   "cell_type": "code",
   "execution_count": 40,
   "id": "7a6cd9b7-9821-42eb-a579-a152cd1a66b1",
   "metadata": {},
   "outputs": [],
   "source": [
    "# # print(sc.metrics.gearys_c(adatas, obsm=\"seurat_embedding\"))\n",
    "# # print(sc.metrics.gearys_c(adatas.obsp[\"connectivities\"], adatas.obsm[\"seurat_embedding\"].T))\n",
    "\n",
    "\n",
    "# adatas.obsm['spatial'] = adatas.obsm['spatial_origin'].copy()\n",
    "# sc.pp.neighbors(adatas)\n",
    "# gc_origin = sc.metrics.gearys_c(adatas)\n",
    "# print(gc_origin)\n",
    "# print(np.nanmean(gc_origin))\n",
    "\n",
    "# adatas.obsm['spatial'] = adatas.obsm['spatial_aligned'].copy()\n",
    "# sc.pp.neighbors(adatas)\n",
    "# gc_align = sc.metrics.gearys_c(adatas)\n",
    "# print(gc_align)\n",
    "# print(np.nanmean(gc_align))\n",
    "\n"
   ]
  },
  {
   "cell_type": "code",
   "execution_count": 41,
   "id": "49c516bc-c787-47cc-a2b7-2d40abb37735",
   "metadata": {},
   "outputs": [
    {
     "name": "stdout",
     "output_type": "stream",
     "text": [
      "SPIRAL_pyg:\n",
      "0.25482821430783753\n"
     ]
    }
   ],
   "source": [
    "for method in my_methods:\n",
    "    print(method + ':')\n",
    "    adatas.uns['neighbors'] = adatas.uns[method+'_neighbors'].copy()\n",
    "    adatas.obsp['distances'] = adatas.obsp[method+'_neighbors_distances'].copy()\n",
    "    adatas.obsp['connectivities'] = adatas.obsp[method+'_neighbors_connectivities'].copy()\n",
    "    print(np.mean(sc.metrics.gearys_c(adatas, obsm = method+'_embedding')))"
   ]
  },
  {
   "cell_type": "markdown",
   "id": "3961e640-d4c7-49a2-858c-213dbd7f00dd",
   "metadata": {},
   "source": [
    "#### SSIM"
   ]
  },
  {
   "cell_type": "code",
   "execution_count": 42,
   "id": "c179e735-e8de-49f6-9930-abcd21db1bb9",
   "metadata": {},
   "outputs": [],
   "source": [
    "# groups = adatas.obs.groupby(\"batch\").indices\n",
    "# adata_list = [adatas[i] for i in groups.values()]\n",
    "\n",
    "# for i in range(len(adata_list)):\n",
    "#     adata_list[i].obsm['spatial_aligned'] = pd.DataFrame(adata_list[i].obsm['spatial_aligned'], index=adata_list[i].obs_names)\n",
    "#     adata_list[i].obsm['spatial_aligned'].columns = ['X', 'Y']\n",
    "\n",
    "# # each slice is rasterized on the overlap of the previous slice\n",
    "# for i in range(1, len(adata_list)):\n",
    "#     x_max = np.ceil(np.min([adata_list[i].obsm['spatial_aligned'].max().X, adata_list[i - 1].obsm['spatial_aligned'].max().X]))\n",
    "#     y_max = np.ceil(np.min([adata_list[i].obsm['spatial_aligned'].max().Y, adata_list[i - 1].obsm['spatial_aligned'].max().Y]))\n",
    "#     x_min = np.floor(np.max([adata_list[i].obsm['spatial_aligned'].min().X, adata_list[i - 1].obsm['spatial_aligned'].min().X]))\n",
    "#     y_min = np.floor(np.max([adata_list[i].obsm['spatial_aligned'].min().Y, adata_list[i - 1].obsm['spatial_aligned'].min().Y]))\n",
    "#     adata_list[i].uns['grid_prop_withbefore'] = index.cal_grid_prop(adata_list[i], spatial_key='spatial_aligned', celltype_key='ground.truth',\n",
    "#                                                          grid_max=[x_max, y_max], grid_min=[x_min, y_min])\n",
    "\n",
    "# # each slice is rasterized on the overlap of the next slice\n",
    "# for i in range(0, len(adata_list)-1):\n",
    "#     x_max = np.ceil(np.min([adata_list[i].obsm['spatial_aligned'].max().X, adata_list[i + 1].obsm['spatial_aligned'].max().X]))\n",
    "#     y_max = np.ceil(np.min([adata_list[i].obsm['spatial_aligned'].max().Y, adata_list[i + 1].obsm['spatial_aligned'].max().Y]))\n",
    "#     x_min = np.floor(np.max([adata_list[i].obsm['spatial_aligned'].min().X, adata_list[i + 1].obsm['spatial_aligned'].min().X]))\n",
    "#     y_min = np.floor(np.max([adata_list[i].obsm['spatial_aligned'].min().Y, adata_list[i + 1].obsm['spatial_aligned'].min().Y]))\n",
    "#     adata_list[i].uns['grid_prop_withnext'] = index.cal_grid_prop(adata_list[i], spatial_key='spatial_aligned', celltype_key='ground.truth',\n",
    "#                                                        grid_max=[x_max, y_max], grid_min=[x_min, y_min])\n",
    "\n",
    "# # calculate SSIM on the overlap of each two adjacent slices\n",
    "# for i in range(1, len(adata_list)):\n",
    "#     grid_a = adata_list[i].uns['grid_prop_withbefore'].copy()\n",
    "#     grid_b = adata_list[i - 1].uns['grid_prop_withnext'].copy()\n",
    "#     col = set(grid_a.columns) & set(grid_b.columns)\n",
    "#     grid_a = grid_a.loc[:, col]\n",
    "#     grid_b = grid_b.loc[:, col]\n",
    "#     ssim_list = []\n",
    "#     for n in range(grid_a.shape[0]):\n",
    "#         ssim_list.append(index.ssim(grid_a.iloc[n, :].values, grid_b.iloc[n, :].values))\n",
    "#     ssim_list = np.array(ssim_list)\n",
    "#     ssim_list[grid_b.sum(1) == 0] = np.inf\n",
    "#     ssim_list[pd.isna(pd.Series(ssim_list))] = 0\n",
    "#     adata_list[i].uns['ssim'] = ssim_list\n",
    "\n",
    "# ssim_compare = []\n",
    "# for i in range(1, len(adata_list)):\n",
    "#     ssim_compare.append([adata_list[i].uns['ssim'][adata_list[i].uns['ssim'] != np.inf].mean(), i, 'STUtility'])\n",
    "#     # ssim_compare.append([paste[i].uns['ssim'][paste[i].uns['ssim'] != np.inf].mean(), i, 'paste'])\n",
    "\n",
    "# ssim_compare = pd.DataFrame(ssim_compare).fillna(0)\n",
    "# ssim_compare.columns = ['ssim', 'slice', 'method']\n",
    "# # ssim_compare.to_csv('G:/dataset/1_DLPFC/output/ssim_compare_donor1.csv')\n",
    "# print(ssim_compare)"
   ]
  },
  {
   "cell_type": "markdown",
   "id": "6ccbfd00-c0a3-4e44-a038-dac54ac69da0",
   "metadata": {},
   "source": [
    "#### PCC"
   ]
  },
  {
   "cell_type": "code",
   "execution_count": 43,
   "id": "4045bad4-733d-4bf1-9d08-5e3e6055c11b",
   "metadata": {},
   "outputs": [],
   "source": [
    "# import scipy\n",
    "# groups = adatas.obs.groupby(\"batch\").indices\n",
    "# adata_list = [adatas[i] for i in groups.values()]\n",
    "\n",
    "# for i in range(len(adata_list)):\n",
    "#     adata_list[i].obsm['spatial_aligned'] = pd.DataFrame(adata_list[i].obsm['spatial_aligned'], index=adata_list[i].obs_names)\n",
    "#     adata_list[i].obsm['spatial_aligned'].columns = ['X', 'Y']\n",
    "\n",
    "# # each slice is rasterized on the overlap of the previous slice\n",
    "# for i in range(1, len(adata_list)):\n",
    "#     x_max = np.ceil(np.min([adata_list[i].obsm['spatial_aligned'].max().X, adata_list[i - 1].obsm['spatial_aligned'].max().X]))\n",
    "#     y_max = np.ceil(np.min([adata_list[i].obsm['spatial_aligned'].max().Y, adata_list[i - 1].obsm['spatial_aligned'].max().Y]))\n",
    "#     x_min = np.floor(np.max([adata_list[i].obsm['spatial_aligned'].min().X, adata_list[i - 1].obsm['spatial_aligned'].min().X]))\n",
    "#     y_min = np.floor(np.max([adata_list[i].obsm['spatial_aligned'].min().Y, adata_list[i - 1].obsm['spatial_aligned'].min().Y]))\n",
    "#     adata_list[i].uns['grid_prop_withbefore'] = index.cal_grid_prop(adata_list[i], spatial_key='spatial_aligned', celltype_key='ground.truth',\n",
    "#                                                          grid_max=[x_max, y_max], grid_min=[x_min, y_min])\n",
    "\n",
    "# # each slice is rasterized on the overlap of the next slice\n",
    "# for i in range(0, len(adata_list)-1):\n",
    "#     x_max = np.ceil(np.min([adata_list[i].obsm['spatial_aligned'].max().X, adata_list[i + 1].obsm['spatial_aligned'].max().X]))\n",
    "#     y_max = np.ceil(np.min([adata_list[i].obsm['spatial_aligned'].max().Y, adata_list[i + 1].obsm['spatial_aligned'].max().Y]))\n",
    "#     x_min = np.floor(np.max([adata_list[i].obsm['spatial_aligned'].min().X, adata_list[i + 1].obsm['spatial_aligned'].min().X]))\n",
    "#     y_min = np.floor(np.max([adata_list[i].obsm['spatial_aligned'].min().Y, adata_list[i + 1].obsm['spatial_aligned'].min().Y]))\n",
    "#     adata_list[i].uns['grid_prop_withnext'] = index.cal_grid_prop(adata_list[i], spatial_key='spatial_aligned', celltype_key='ground.truth',\n",
    "#                                                        grid_max=[x_max, y_max], grid_min=[x_min, y_min])\n",
    "    \n",
    "# # calculate PCC on the overlap of each two adjacent slices\n",
    "# for i in range(1, len(adata_list)):\n",
    "#     grid_a = adata_list[i].uns['grid_prop_withbefore'].copy()\n",
    "#     grid_b = adata_list[i - 1].uns['grid_prop_withnext'].copy()\n",
    "#     col = set(grid_a.columns) & set(grid_b.columns)\n",
    "#     grid_a = grid_a.loc[:, col]\n",
    "#     grid_b = grid_b.loc[:, col]\n",
    "#     pcc_list = []\n",
    "#     for n in range(grid_a.shape[0]):\n",
    "#         pcc_list.append(scipy.stats.pearsonr(grid_a.iloc[n, :].values, grid_b.iloc[n, :].values)[0])\n",
    "#     pcc_list = np.array(pcc_list)\n",
    "#     pcc_list[grid_b.sum(1) == 0] = np.inf\n",
    "#     pcc_list[pd.isna(pd.Series(pcc_list))] = 0\n",
    "#     adata_list[i].uns['pcc'] = pcc_list\n",
    "\n",
    "# pcc_compare = []\n",
    "# for i in range(1, len(adata_list)):\n",
    "#     pcc_compare.append([adata_list[i].uns['pcc'][adata_list[i].uns['pcc'] != np.inf].mean(), i, 'STUtility'])\n",
    "#     # ssim_compare.append([adata_list[i].uns['ssim'][adata_list[i].uns['ssim'] != np.inf].mean(), i, 'STUtility'])\n",
    "\n",
    "# pcc_compare = pd.DataFrame(pcc_compare).fillna(0)\n",
    "# pcc_compare.columns = ['pcc', 'slice', 'method']\n",
    "# print(pcc_compare)\n",
    "# # pcc_compare.to_csv('G:/dataset/1_DLPFC/output/pcc_compare_donor1.csv')"
   ]
  },
  {
   "cell_type": "markdown",
   "id": "8f283e9e-8ceb-4a02-82a7-991c46bc3491",
   "metadata": {},
   "source": [
    "# Bio conservation"
   ]
  },
  {
   "cell_type": "markdown",
   "id": "4c302250-8840-4318-a090-455bae218aef",
   "metadata": {},
   "source": [
    "#### ARI"
   ]
  },
  {
   "cell_type": "code",
   "execution_count": 44,
   "id": "d9c957e6-d4c9-4d84-b18e-f156891db545",
   "metadata": {
    "scrolled": true
   },
   "outputs": [
    {
     "name": "stdout",
     "output_type": "stream",
     "text": [
      "['ground.truth', 'leiden_SPIRAL_pyg', 'louvain_SPIRAL_pyg', 'mclust_SPIRAL_pyg']\n",
      "1.0\n",
      "1.0\n",
      "0.5145526101811705\n",
      "0.5145526101811705\n",
      "0.5313750470593398\n",
      "0.5313750470593398\n",
      "0.4859487434869776\n",
      "0.4859487434869776\n"
     ]
    }
   ],
   "source": [
    "# my_methods = ['seurat', 'harmony', 'LIGER', 'PRECAST', 'STAligner', 'DeepST', 'STAGATE', 'SPIRAL1024', 'SPIRAL2048']\n",
    "methods = ['ground.truth']\n",
    "\n",
    "for method in my_methods:\n",
    "    methods.append('leiden_'+method)\n",
    "    methods.append('louvain_'+method)\n",
    "    methods.append('mclust_'+method)\n",
    "print(methods)\n",
    "\n",
    "for method in methods:\n",
    "    print(scib.metrics.ari(adatas, method, 'ground.truth'))\n",
    "    print(index.ARI(adatas, method, 'ground.truth'))"
   ]
  },
  {
   "cell_type": "markdown",
   "id": "bb9bbb2a-faae-4336-9128-511f63da48bc",
   "metadata": {},
   "source": [
    "#### NMI"
   ]
  },
  {
   "cell_type": "code",
   "execution_count": 45,
   "id": "3eac12b0-1ed7-414e-9a4b-cbcf76069b4b",
   "metadata": {},
   "outputs": [
    {
     "name": "stdout",
     "output_type": "stream",
     "text": [
      "['ground.truth', 'leiden_SPIRAL_pyg', 'louvain_SPIRAL_pyg', 'mclust_SPIRAL_pyg']\n",
      "1.0\n",
      "0.6291757213952669\n",
      "0.6546406993087601\n",
      "0.6090790599013488\n"
     ]
    }
   ],
   "source": [
    "# my_methods = ['seurat', 'harmony', 'LIGER', 'PRECAST', 'STAligner', 'DeepST', 'STAGATE', 'SPIRAL1024', 'SPIRAL2048']\n",
    "methods = ['ground.truth']\n",
    "\n",
    "for method in my_methods:\n",
    "    methods.append('leiden_'+method)\n",
    "    methods.append('louvain_'+method)\n",
    "    methods.append('mclust_'+method)\n",
    "print(methods)\n",
    "\n",
    "for method in methods:\n",
    "    print(index.NMI(adatas, method, 'ground.truth'))"
   ]
  },
  {
   "cell_type": "markdown",
   "id": "6e61dd33-bf5f-4457-a60b-22ae4f84a610",
   "metadata": {},
   "source": [
    "#### cASW"
   ]
  },
  {
   "cell_type": "code",
   "execution_count": 46,
   "id": "cdedf82e-dc57-43f3-867a-80e406e040f2",
   "metadata": {},
   "outputs": [
    {
     "name": "stdout",
     "output_type": "stream",
     "text": [
      "0.5396784065729743\n",
      "0.5642388439993622\n",
      "0.5519077695842152\n",
      "0.5514091944803164\n"
     ]
    }
   ],
   "source": [
    "# my_methods = ['seurat', 'harmony', 'LIGER', 'PRECAST', 'STAligner', 'DeepST', 'STAGATE', 'SPIRAL1024', 'SPIRAL2048']\n",
    "\n",
    "for method in my_methods:\n",
    "    print(index.cASW(adatas, 'ground.truth', method+'_embedding'))\n",
    "    print(index.cASW(adatas, 'leiden_'+method, method+'_embedding'))\n",
    "    print(index.cASW(adatas, 'louvain_'+method, method+'_embedding'))\n",
    "    print(index.cASW(adatas, 'mclust_'+method, method+'_embedding'))  "
   ]
  },
  {
   "cell_type": "markdown",
   "id": "dd8d0bea-f902-465b-84f2-15cf02fecffd",
   "metadata": {},
   "source": [
    "#### cLISI"
   ]
  },
  {
   "cell_type": "code",
   "execution_count": 47,
   "id": "c005b71a-f4a8-446b-9e34-c43a2f461039",
   "metadata": {},
   "outputs": [],
   "source": [
    "# adatas = adatas.to_memory()"
   ]
  },
  {
   "cell_type": "code",
   "execution_count": 48,
   "id": "2a70bf6a-b560-424f-a06e-480a06111502",
   "metadata": {},
   "outputs": [
    {
     "name": "stdout",
     "output_type": "stream",
     "text": [
      "0.9171389573660216\n",
      "0.9655644953907349\n",
      "0.9541996851647495\n",
      "0.9263462841931959\n"
     ]
    }
   ],
   "source": [
    "# my_methods = ['seurat', 'harmony', 'LIGER', 'PRECAST', 'STAligner', 'DeepST', 'STAGATE', 'SPIRAL1024', 'SPIRAL2048']\n",
    "\n",
    "for method in my_methods:\n",
    "    print(index.cLISI(adatas, 'ground.truth', type_=\"embed\", use_rep=method+'_embedding'))\n",
    "    print(index.cLISI(adatas, 'leiden_'+method, type_=\"embed\", use_rep=method+'_embedding'))\n",
    "    print(index.cLISI(adatas, 'louvain_'+method, type_=\"embed\", use_rep=method+'_embedding'))\n",
    "    print(index.cLISI(adatas, 'mclust_'+method, type_=\"embed\", use_rep=method+'_embedding'))  "
   ]
  },
  {
   "cell_type": "markdown",
   "id": "aa5a41e2-8306-4d22-bd60-0e63c178becb",
   "metadata": {},
   "source": [
    "#### IsolatedLabelsAsw"
   ]
  },
  {
   "cell_type": "code",
   "execution_count": 49,
   "id": "646f35dc-c409-4811-a945-19933fed748f",
   "metadata": {},
   "outputs": [
    {
     "name": "stdout",
     "output_type": "stream",
     "text": [
      "isolated labels: no more than 4 batches per label\n",
      "Layer 1: 0.5138662086309655\n",
      "Layer 2: 0.5506191115374636\n",
      "Layer 3: 0.5005391295707124\n",
      "Layer 4: 0.5260167910481086\n",
      "Layer 5: 0.5301552121120908\n",
      "Layer 6: 0.5041727227538995\n",
      "WM: 0.6626943523458733\n",
      "0.541151932571302\n",
      "isolated labels: no more than 4 batches per label\n",
      "0: 0.6107057709379108\n",
      "1: 0.5863495801921368\n",
      "2: 0.5599956471145846\n",
      "3: 0.5214091145837589\n",
      "4: 0.501750045179403\n",
      "5: 0.5590315732854662\n",
      "6: 0.6006754927547908\n",
      "0.5628453177211501\n",
      "isolated labels: no more than 4 batches per label\n",
      "0: 0.5270109622781622\n",
      "1: 0.5544735568749999\n",
      "2: 0.5685115580493598\n",
      "3: 0.6423351917687005\n",
      "4: 0.506772567196484\n",
      "5: 0.5531118299520246\n",
      "6: 0.5191575898834797\n",
      "0.553053322286173\n",
      "isolated labels: no more than 4 batches per label\n",
      "1: 0.5847882548405227\n",
      "2: 0.6567941301283965\n",
      "3: 0.535459556272697\n",
      "4: 0.4953500139793494\n",
      "5: 0.5436174202070622\n",
      "6: 0.46422331946463885\n",
      "7: 0.5759978109512184\n",
      "0.5508900722634121\n"
     ]
    }
   ],
   "source": [
    "import gc\n",
    "# my_methods = ['seurat', 'harmony', 'LIGER', 'PRECAST', 'STAligner', 'DeepST', 'STAGATE', 'SPIRAL1024', 'SPIRAL2048']\n",
    "\n",
    "for method in my_methods:\n",
    "    print(index.IsolatedLabelsAsw(adatas, batch_key=\"batch\", label_key=\"ground.truth\", embed=method+\"_embedding\"))\n",
    "    gc.collect()\n",
    "    print(index.IsolatedLabelsAsw(adatas, batch_key=\"batch\", label_key=\"leiden_\"+method, embed=method+\"_embedding\"))\n",
    "    gc.collect()\n",
    "    print(index.IsolatedLabelsAsw(adatas, batch_key=\"batch\", label_key=\"louvain_\"+method, embed=method+\"_embedding\"))\n",
    "    gc.collect()\n",
    "    print(index.IsolatedLabelsAsw(adatas, batch_key=\"batch\", label_key=\"mclust_\"+method, embed=method+\"_embedding\"))\n",
    "    gc.collect()\n",
    "        \n",
    "    \n"
   ]
  },
  {
   "cell_type": "markdown",
   "id": "a9471ba6-5719-4974-8d74-3bf41efbd512",
   "metadata": {},
   "source": [
    "#### IsolatedLabelsF1"
   ]
  },
  {
   "cell_type": "code",
   "execution_count": 50,
   "id": "303575c7-c16a-4c60-8b8f-49ed3e6a169b",
   "metadata": {
    "scrolled": true
   },
   "outputs": [
    {
     "name": "stdout",
     "output_type": "stream",
     "text": [
      "SPIRAL_pyg\n",
      "isolated labels: no more than 4 batches per label\n",
      "Compute neighbors on rep SPIRAL_pyg_embedding\n",
      "Layer 1: 0.8846002363135093\n",
      "Compute neighbors on rep SPIRAL_pyg_embedding\n",
      "Layer 2: 0.6987951807228915\n",
      "Compute neighbors on rep SPIRAL_pyg_embedding\n",
      "Layer 3: 0.8350237514443446\n",
      "Compute neighbors on rep SPIRAL_pyg_embedding\n",
      "Layer 4: 0.4328478964401295\n",
      "Compute neighbors on rep SPIRAL_pyg_embedding\n",
      "Layer 5: 0.8157365050320219\n",
      "Compute neighbors on rep SPIRAL_pyg_embedding\n",
      "Layer 6: 0.8096081905886986\n",
      "Compute neighbors on rep SPIRAL_pyg_embedding\n",
      "WM: 0.9001248439450689\n",
      "0.7681052292123807\n",
      "isolated labels: no more than 4 batches per label\n",
      "Compute neighbors on rep SPIRAL_pyg_embedding\n",
      "0: 0.996730632551528\n",
      "Compute neighbors on rep SPIRAL_pyg_embedding\n",
      "1: 0.9961345187475841\n",
      "Compute neighbors on rep SPIRAL_pyg_embedding\n",
      "2: 0.9928197166699011\n",
      "Compute neighbors on rep SPIRAL_pyg_embedding\n",
      "3: 0.9979568671963678\n",
      "Compute neighbors on rep SPIRAL_pyg_embedding\n",
      "4: 0.994459025955089\n",
      "Compute neighbors on rep SPIRAL_pyg_embedding\n",
      "5: 0.9852760736196319\n",
      "Compute neighbors on rep SPIRAL_pyg_embedding\n",
      "6: 1.0\n",
      "0.994768119248586\n",
      "isolated labels: no more than 4 batches per label\n",
      "Compute neighbors on rep SPIRAL_pyg_embedding\n",
      "0: 0.8294894014131449\n",
      "Compute neighbors on rep SPIRAL_pyg_embedding\n",
      "1: 0.9427961993407019\n",
      "Compute neighbors on rep SPIRAL_pyg_embedding\n",
      "2: 0.6319518243003897\n",
      "Compute neighbors on rep SPIRAL_pyg_embedding\n",
      "3: 0.9418338836677673\n",
      "Compute neighbors on rep SPIRAL_pyg_embedding\n",
      "4: 0.9000878992089071\n",
      "Compute neighbors on rep SPIRAL_pyg_embedding\n",
      "5: 0.9331114808652248\n",
      "Compute neighbors on rep SPIRAL_pyg_embedding\n",
      "6: 0.9001148105625717\n",
      "0.8684836427655297\n",
      "isolated labels: no more than 4 batches per label\n",
      "Compute neighbors on rep SPIRAL_pyg_embedding\n",
      "1: 0.7112147975337443\n",
      "Compute neighbors on rep SPIRAL_pyg_embedding\n",
      "2: 0.9225901708500316\n",
      "Compute neighbors on rep SPIRAL_pyg_embedding\n",
      "3: 0.8676314860571833\n",
      "Compute neighbors on rep SPIRAL_pyg_embedding\n",
      "4: 0.7801642451042324\n",
      "Compute neighbors on rep SPIRAL_pyg_embedding\n",
      "5: 0.8621268030862126\n",
      "Compute neighbors on rep SPIRAL_pyg_embedding\n",
      "6: 0.6008320560543026\n",
      "Compute neighbors on rep SPIRAL_pyg_embedding\n",
      "7: 0.832\n",
      "0.7966513655265295\n"
     ]
    }
   ],
   "source": [
    "import gc\n",
    "\n",
    "# my_methods = ['seurat', 'harmony', 'LIGER', 'PRECAST', 'STAligner', 'DeepST', 'STAGATE', 'SPIRAL1024', 'SPIRAL2048']\n",
    "\n",
    "for method in my_methods:\n",
    "    print(method)\n",
    "    print(index.IsolatedLabelsF1(adatas, batch_key=\"batch\", label_key=\"ground.truth\", embed=method+\"_embedding\"))\n",
    "    gc.collect()\n",
    "    print(index.IsolatedLabelsF1(adatas, batch_key=\"batch\", label_key=\"leiden_\"+method, embed=method+\"_embedding\"))\n",
    "    gc.collect()\n",
    "    print(index.IsolatedLabelsF1(adatas, batch_key=\"batch\", label_key=\"louvain_\"+method, embed=method+\"_embedding\"))\n",
    "    gc.collect()\n",
    "    print(index.IsolatedLabelsF1(adatas, batch_key=\"batch\", label_key=\"mclust_\"+method, embed=method+\"_embedding\"))\n",
    "    gc.collect()\n",
    "        "
   ]
  },
  {
   "cell_type": "markdown",
   "id": "bc4a1fa1-c3b9-49fa-b497-a9dab84e9bff",
   "metadata": {},
   "source": [
    "# Batch correction"
   ]
  },
  {
   "cell_type": "markdown",
   "id": "bce4edab-80ac-4b84-9fd9-8d1564e0f7f4",
   "metadata": {},
   "source": [
    "#### iASW"
   ]
  },
  {
   "cell_type": "code",
   "execution_count": 51,
   "id": "8f9594e1-846e-432f-92a1-f5646ae026bf",
   "metadata": {
    "scrolled": true
   },
   "outputs": [
    {
     "name": "stdout",
     "output_type": "stream",
     "text": [
      "SPIRAL_pyg\n",
      "mean silhouette per group:          silhouette_score\n",
      "group                    \n",
      "Layer 1          0.965672\n",
      "Layer 2          0.943932\n",
      "Layer 3          0.942433\n",
      "Layer 4          0.933950\n",
      "Layer 5          0.944490\n",
      "Layer 6          0.958410\n",
      "WM               0.950067\n",
      "0.9484221384072257\n",
      "mean silhouette per group:        silhouette_score\n",
      "group                  \n",
      "0              0.965848\n",
      "1              0.957036\n",
      "2              0.949945\n",
      "3              0.970261\n",
      "4              0.951240\n",
      "5              0.955549\n",
      "6              0.907791\n",
      "0.9510957859237621\n",
      "mean silhouette per group:        silhouette_score\n",
      "group                  \n",
      "0              0.936565\n",
      "1              0.949520\n",
      "2              0.946415\n",
      "3              0.959055\n",
      "4              0.963511\n",
      "5              0.951675\n",
      "6              0.965480\n",
      "0.9531746142601055\n",
      "mean silhouette per group:        silhouette_score\n",
      "group                  \n",
      "1              0.974961\n",
      "2              0.965291\n",
      "3              0.966608\n",
      "4              0.961306\n",
      "5              0.953573\n",
      "6              0.966947\n",
      "7              0.956981\n",
      "0.9636668257377107\n"
     ]
    }
   ],
   "source": [
    "# my_methods = ['seurat', 'harmony', 'LIGER', 'PRECAST', 'STAligner', 'DeepST', 'GraphST', 'STAGATE', 'SPIRAL1024', 'SPIRAL2048']\n",
    "\n",
    "for method in my_methods:\n",
    "    print(method)\n",
    "    print(index.iASW(adatas, batch_key=\"batch\", label_key=\"ground.truth\", embed=method+\"_embedding\", type_=\"embed\"))\n",
    "    print(index.iASW(adatas, batch_key=\"batch\", label_key=\"leiden_\"+method, embed=method+\"_embedding\", type_=\"embed\"))\n",
    "    print(index.iASW(adatas, batch_key=\"batch\", label_key=\"louvain_\"+method, embed=method+\"_embedding\", type_=\"embed\"))\n",
    "    print(index.iASW(adatas, batch_key=\"batch\", label_key=\"mclust_\"+method, embed=method+\"_embedding\", type_=\"embed\"))\n",
    "    "
   ]
  },
  {
   "cell_type": "markdown",
   "id": "9f554c38-0b80-4d7e-a55e-c338582c94b7",
   "metadata": {},
   "source": [
    "#### iLISI"
   ]
  },
  {
   "cell_type": "code",
   "execution_count": 52,
   "id": "bd5d779d-d719-462c-bd87-8189811a3eff",
   "metadata": {},
   "outputs": [
    {
     "name": "stdout",
     "output_type": "stream",
     "text": [
      "SPIRAL_pyg\n",
      "0.6737916247589322\n"
     ]
    }
   ],
   "source": [
    "# my_methods = ['seurat', 'harmony', 'LIGER', 'PRECAST', 'STAligner', 'DeepST', 'GraphST', 'STAGATE', 'SPIRAL1024', 'SPIRAL2048']\n",
    "\n",
    "for method in my_methods:\n",
    "    print(method)\n",
    "    print(index.iLISI(adatas, \"batch\", type=\"embed\", use_rep=method+'_embedding'))"
   ]
  },
  {
   "cell_type": "markdown",
   "id": "d528a2b4-3d3d-4abd-8e56-0bd8b5dc899a",
   "metadata": {},
   "source": [
    "#### graph_connectivity"
   ]
  },
  {
   "cell_type": "code",
   "execution_count": 53,
   "id": "4f126c35-c71e-489b-b35e-fda772a46d13",
   "metadata": {},
   "outputs": [
    {
     "name": "stdout",
     "output_type": "stream",
     "text": [
      "SPIRAL_pyg\n",
      "0.9917550604108241\n",
      "1.0\n",
      "1.0\n",
      "0.9924687742921837\n"
     ]
    }
   ],
   "source": [
    "# my_methods = ['seurat', 'harmony', 'LIGER', 'PRECAST', 'STAligner', 'DeepST', 'GraphST', 'STAGATE', 'SPIRAL1024', 'SPIRAL2048']\n",
    "\n",
    "for method in my_methods:\n",
    "    print(method)\n",
    "    print(index.graph_connectivity(adatas, type_=\"embed\", label_key='ground.truth'))\n",
    "    print(index.graph_connectivity(adatas, type_=\"embed\", label_key='leiden_'+method))\n",
    "    print(index.graph_connectivity(adatas, type_=\"embed\", label_key='louvain_'+method))\n",
    "    print(index.graph_connectivity(adatas, type_=\"embed\", label_key='mclust_'+method))\n",
    "        \n",
    "\n",
    "\n",
    "# print(index.graph_connectivity(adatas, type_=\"embed\" ,label_key='ground.truth'))\n",
    "# print(index.graph_connectivity(adatas, type_=\"embed\" ,label_key='leiden_seurat'))\n",
    "# print(index.graph_connectivity(adatas, type_=\"embed\" ,label_key='louvain_seurat'))\n",
    "# print(index.graph_connectivity(adatas, type_=\"embed\" ,label_key='mclust_seurat'))"
   ]
  },
  {
   "cell_type": "markdown",
   "id": "b7dc23c3-2cd6-4c23-a387-4bd884e9f6dc",
   "metadata": {},
   "source": [
    "#### kBET"
   ]
  },
  {
   "cell_type": "code",
   "execution_count": 10,
   "id": "5ae1e305-2d44-431a-ba92-20a1bec693c4",
   "metadata": {
    "scrolled": true
   },
   "outputs": [
    {
     "name": "stdout",
     "output_type": "stream",
     "text": [
      "seurat\n",
      "Adding diffusion to step 4\n",
      "Adding diffusion to step 5\n"
     ]
    },
    {
     "name": "stderr",
     "output_type": "stream",
     "text": [
      "D:\\bio\\metirc\\scib-main\\scib\\metrics\\kbet.py:229: DeprecationWarning: The global conversion available with activate() is deprecated and will be removed in the next major release. Use a local converter.\n",
      "  anndata2ri.activate()\n",
      "D:\\bio\\metirc\\scib-main\\scib\\metrics\\kbet.py:229: DeprecationWarning: The global conversion available with activate() is deprecated and will be removed in the next major release. Use a local converter.\n",
      "  anndata2ri.activate()\n"
     ]
    },
    {
     "name": "stdout",
     "output_type": "stream",
     "text": [
      "Adding diffusion to step 4\n",
      "Adding diffusion to step 5\n",
      "Adding diffusion to step 6\n",
      "Adding diffusion to step 7\n"
     ]
    },
    {
     "name": "stderr",
     "output_type": "stream",
     "text": [
      "D:\\bio\\metirc\\scib-main\\scib\\metrics\\kbet.py:229: DeprecationWarning: The global conversion available with activate() is deprecated and will be removed in the next major release. Use a local converter.\n",
      "  anndata2ri.activate()\n"
     ]
    },
    {
     "name": "stdout",
     "output_type": "stream",
     "text": [
      "Adding diffusion to step 4\n",
      "Adding diffusion to step 5\n"
     ]
    },
    {
     "name": "stderr",
     "output_type": "stream",
     "text": [
      "D:\\bio\\metirc\\scib-main\\scib\\metrics\\kbet.py:229: DeprecationWarning: The global conversion available with activate() is deprecated and will be removed in the next major release. Use a local converter.\n",
      "  anndata2ri.activate()\n"
     ]
    },
    {
     "name": "stdout",
     "output_type": "stream",
     "text": [
      "Adding diffusion to step 4\n",
      "Adding diffusion to step 5\n"
     ]
    },
    {
     "name": "stderr",
     "output_type": "stream",
     "text": [
      "D:\\bio\\metirc\\scib-main\\scib\\metrics\\kbet.py:229: DeprecationWarning: The global conversion available with activate() is deprecated and will be removed in the next major release. Use a local converter.\n",
      "  anndata2ri.activate()\n"
     ]
    },
    {
     "name": "stdout",
     "output_type": "stream",
     "text": [
      "Adding diffusion to step 4\n",
      "Adding diffusion to step 5\n",
      "Adding diffusion to step 6\n",
      "Adding diffusion to step 7\n"
     ]
    },
    {
     "name": "stderr",
     "output_type": "stream",
     "text": [
      "D:\\bio\\metirc\\scib-main\\scib\\metrics\\kbet.py:229: DeprecationWarning: The global conversion available with activate() is deprecated and will be removed in the next major release. Use a local converter.\n",
      "  anndata2ri.activate()\n"
     ]
    },
    {
     "name": "stdout",
     "output_type": "stream",
     "text": [
      "Adding diffusion to step 4\n",
      "Adding diffusion to step 5\n"
     ]
    },
    {
     "name": "stderr",
     "output_type": "stream",
     "text": [
      "D:\\bio\\metirc\\scib-main\\scib\\metrics\\kbet.py:229: DeprecationWarning: The global conversion available with activate() is deprecated and will be removed in the next major release. Use a local converter.\n",
      "  anndata2ri.activate()\n"
     ]
    },
    {
     "name": "stdout",
     "output_type": "stream",
     "text": [
      "0.2616375831153216\n"
     ]
    },
    {
     "name": "stderr",
     "output_type": "stream",
     "text": [
      "D:\\bio\\metirc\\scib-main\\scib\\metrics\\kbet.py:229: DeprecationWarning: The global conversion available with activate() is deprecated and will be removed in the next major release. Use a local converter.\n",
      "  anndata2ri.activate()\n",
      "D:\\bio\\metirc\\scib-main\\scib\\metrics\\kbet.py:229: DeprecationWarning: The global conversion available with activate() is deprecated and will be removed in the next major release. Use a local converter.\n",
      "  anndata2ri.activate()\n",
      "D:\\bio\\metirc\\scib-main\\scib\\metrics\\kbet.py:229: DeprecationWarning: The global conversion available with activate() is deprecated and will be removed in the next major release. Use a local converter.\n",
      "  anndata2ri.activate()\n",
      "D:\\bio\\metirc\\scib-main\\scib\\metrics\\kbet.py:229: DeprecationWarning: The global conversion available with activate() is deprecated and will be removed in the next major release. Use a local converter.\n",
      "  anndata2ri.activate()\n",
      "D:\\bio\\metirc\\scib-main\\scib\\metrics\\kbet.py:229: DeprecationWarning: The global conversion available with activate() is deprecated and will be removed in the next major release. Use a local converter.\n",
      "  anndata2ri.activate()\n",
      "D:\\bio\\metirc\\scib-main\\scib\\metrics\\kbet.py:229: DeprecationWarning: The global conversion available with activate() is deprecated and will be removed in the next major release. Use a local converter.\n",
      "  anndata2ri.activate()\n",
      "D:\\bio\\metirc\\scib-main\\scib\\metrics\\kbet.py:229: DeprecationWarning: The global conversion available with activate() is deprecated and will be removed in the next major release. Use a local converter.\n",
      "  anndata2ri.activate()\n"
     ]
    },
    {
     "name": "stdout",
     "output_type": "stream",
     "text": [
      "0.4595789729127461\n"
     ]
    },
    {
     "name": "stderr",
     "output_type": "stream",
     "text": [
      "D:\\bio\\metirc\\scib-main\\scib\\metrics\\kbet.py:229: DeprecationWarning: The global conversion available with activate() is deprecated and will be removed in the next major release. Use a local converter.\n",
      "  anndata2ri.activate()\n",
      "D:\\bio\\metirc\\scib-main\\scib\\metrics\\kbet.py:229: DeprecationWarning: The global conversion available with activate() is deprecated and will be removed in the next major release. Use a local converter.\n",
      "  anndata2ri.activate()\n",
      "D:\\bio\\metirc\\scib-main\\scib\\metrics\\kbet.py:229: DeprecationWarning: The global conversion available with activate() is deprecated and will be removed in the next major release. Use a local converter.\n",
      "  anndata2ri.activate()\n",
      "D:\\bio\\metirc\\scib-main\\scib\\metrics\\kbet.py:229: DeprecationWarning: The global conversion available with activate() is deprecated and will be removed in the next major release. Use a local converter.\n",
      "  anndata2ri.activate()\n",
      "D:\\bio\\metirc\\scib-main\\scib\\metrics\\kbet.py:229: DeprecationWarning: The global conversion available with activate() is deprecated and will be removed in the next major release. Use a local converter.\n",
      "  anndata2ri.activate()\n",
      "D:\\bio\\metirc\\scib-main\\scib\\metrics\\kbet.py:229: DeprecationWarning: The global conversion available with activate() is deprecated and will be removed in the next major release. Use a local converter.\n",
      "  anndata2ri.activate()\n",
      "D:\\bio\\metirc\\scib-main\\scib\\metrics\\kbet.py:229: DeprecationWarning: The global conversion available with activate() is deprecated and will be removed in the next major release. Use a local converter.\n",
      "  anndata2ri.activate()\n"
     ]
    },
    {
     "name": "stdout",
     "output_type": "stream",
     "text": [
      "0.42544350359381955\n",
      "Adding diffusion to step 4\n",
      "Adding diffusion to step 5\n",
      "Adding diffusion to step 6\n"
     ]
    },
    {
     "name": "stderr",
     "output_type": "stream",
     "text": [
      "D:\\bio\\metirc\\scib-main\\scib\\metrics\\kbet.py:229: DeprecationWarning: The global conversion available with activate() is deprecated and will be removed in the next major release. Use a local converter.\n",
      "  anndata2ri.activate()\n"
     ]
    },
    {
     "name": "stdout",
     "output_type": "stream",
     "text": [
      "Adding diffusion to step 4\n"
     ]
    },
    {
     "name": "stderr",
     "output_type": "stream",
     "text": [
      "D:\\bio\\metirc\\scib-main\\scib\\metrics\\kbet.py:229: DeprecationWarning: The global conversion available with activate() is deprecated and will be removed in the next major release. Use a local converter.\n",
      "  anndata2ri.activate()\n"
     ]
    },
    {
     "name": "stdout",
     "output_type": "stream",
     "text": [
      "Adding diffusion to step 4\n"
     ]
    },
    {
     "name": "stderr",
     "output_type": "stream",
     "text": [
      "D:\\bio\\metirc\\scib-main\\scib\\metrics\\kbet.py:229: DeprecationWarning: The global conversion available with activate() is deprecated and will be removed in the next major release. Use a local converter.\n",
      "  anndata2ri.activate()\n",
      "D:\\bio\\metirc\\scib-main\\scib\\metrics\\kbet.py:229: DeprecationWarning: The global conversion available with activate() is deprecated and will be removed in the next major release. Use a local converter.\n",
      "  anndata2ri.activate()\n",
      "D:\\bio\\metirc\\scib-main\\scib\\metrics\\kbet.py:229: DeprecationWarning: The global conversion available with activate() is deprecated and will be removed in the next major release. Use a local converter.\n",
      "  anndata2ri.activate()\n"
     ]
    },
    {
     "name": "stdout",
     "output_type": "stream",
     "text": [
      "Adding diffusion to step 4\n"
     ]
    },
    {
     "name": "stderr",
     "output_type": "stream",
     "text": [
      "D:\\bio\\metirc\\scib-main\\scib\\metrics\\kbet.py:229: DeprecationWarning: The global conversion available with activate() is deprecated and will be removed in the next major release. Use a local converter.\n",
      "  anndata2ri.activate()\n"
     ]
    },
    {
     "name": "stdout",
     "output_type": "stream",
     "text": [
      "Adding diffusion to step 4\n"
     ]
    },
    {
     "name": "stderr",
     "output_type": "stream",
     "text": [
      "D:\\bio\\metirc\\scib-main\\scib\\metrics\\kbet.py:229: DeprecationWarning: The global conversion available with activate() is deprecated and will be removed in the next major release. Use a local converter.\n",
      "  anndata2ri.activate()\n"
     ]
    },
    {
     "name": "stdout",
     "output_type": "stream",
     "text": [
      "0.3747123865651695\n"
     ]
    }
   ],
   "source": [
    "# my_methods = ['seurat', 'harmony', 'LIGER', 'PRECAST', 'STAligner', 'DeepST', 'GraphST', 'STAGATE', 'SPIRAL1024', 'SPIRAL2048']\n",
    "\n",
    "for method in my_methods:\n",
    "    print(method)\n",
    "    print(index.kBET(adatas, batch_key=\"batch\", label_key='ground.truth', type_=\"embed\", embed=method+\"_embedding\"))\n",
    "    print(index.kBET(adatas, batch_key=\"batch\", label_key='leiden_'+method, type_=\"embed\", embed=method+\"_embedding\"))\n",
    "    print(index.kBET(adatas, batch_key=\"batch\", label_key='louvain_'+method, type_=\"embed\", embed=method+\"_embedding\"))\n",
    "    print(index.kBET(adatas, batch_key=\"batch\", label_key='mclust_'+method, type_=\"embed\", embed=method+\"_embedding\"))\n",
    "        \n",
    "        \n",
    "# print(index.kBET(adatas, batch_key=\"batch\", label_key=\"ground.truth\", type_=\"embed\", embed=\"seurat_embedding\"))\n",
    "# print(index.kBET(adatas, batch_key=\"batch\", label_key=\"leiden_seurat\", type_=\"embed\", embed=\"seurat_embedding\"))\n",
    "# print(index.kBET(adatas, batch_key=\"batch\", label_key=\"louvain_seurat\", type_=\"embed\", embed=\"seurat_embedding\"))\n",
    "# print(index.kBET(adatas, batch_key=\"batch\", label_key=\"mclust_seurat\", type_=\"embed\", embed=\"seurat_embedding\"))"
   ]
  },
  {
   "cell_type": "markdown",
   "id": "9569a3a3-91a6-415c-96a8-0446ae75e632",
   "metadata": {},
   "source": [
    "#### PCR"
   ]
  },
  {
   "cell_type": "code",
   "execution_count": 55,
   "id": "c15bb446-10b6-40ef-85a9-b1ed13aa312c",
   "metadata": {
    "scrolled": true
   },
   "outputs": [
    {
     "name": "stdout",
     "output_type": "stream",
     "text": [
      "SPIRAL_pyg\n"
     ]
    },
    {
     "name": "stderr",
     "output_type": "stream",
     "text": [
      "D:\\anaconda\\envs\\index\\lib\\site-packages\\anndata\\_core\\anndata.py:453: PendingDeprecationWarning: The dtype argument will be deprecated in anndata 0.10.0\n",
      "  warnings.warn(\n"
     ]
    },
    {
     "name": "stdout",
     "output_type": "stream",
     "text": [
      "0.7925501974124514\n"
     ]
    },
    {
     "name": "stderr",
     "output_type": "stream",
     "text": [
      "D:\\anaconda\\envs\\index\\lib\\site-packages\\anndata\\_core\\anndata.py:453: PendingDeprecationWarning: The dtype argument will be deprecated in anndata 0.10.0\n",
      "  warnings.warn(\n"
     ]
    }
   ],
   "source": [
    "# my_methods = ['GraphST', 'STAGATE', 'SPIRAL1024', 'SPIRAL2048']\n",
    "\n",
    "for method in my_methods:\n",
    "    print(method)\n",
    "    print(index.PCR(adata_pre, adatas, covariate=\"batch\", embed=method+\"_embedding\", n_comps=min(adatas.obsm[method+'_embedding'].shape[1], 100)))\n",
    "\n",
    "\n",
    "# print(index.PCR(adata_pre, adatas, covariate=\"batch\", embed=\"seurat_embedding\", n_comps=adatas.obsm['seurat_embedding'].shape[1]))\n",
    "\n",
    "# groups = adata_pre.obs.groupby(\"batch\").indices\n",
    "# adata_pre_list=[adata_pre[inds] for inds in groups.values()]\n",
    "# print(adata_pre_list)\n",
    "\n",
    "# groups = adatas.obs.groupby(\"batch\").indices\n",
    "# adatas_list=[adatas[inds] for inds in groups.values()]\n",
    "# print(adatas_list)\n",
    "\n",
    "# for i in range(4):\n",
    "#     print(index.PCR(adata_pre_list[i], adatas_list[i], covariate=\"batch\", embed=\"seurat_embedding\", n_comps=adatas.obsm['seurat_embedding'].shape[1]))"
   ]
  }
 ],
 "metadata": {
  "kernelspec": {
   "display_name": "index",
   "language": "python",
   "name": "index"
  },
  "language_info": {
   "codemirror_mode": {
    "name": "ipython",
    "version": 3
   },
   "file_extension": ".py",
   "mimetype": "text/x-python",
   "name": "python",
   "nbconvert_exporter": "python",
   "pygments_lexer": "ipython3",
   "version": "3.10.12"
  }
 },
 "nbformat": 4,
 "nbformat_minor": 5
}
