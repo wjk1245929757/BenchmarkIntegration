{
 "cells": [
  {
   "cell_type": "code",
   "execution_count": 1,
   "id": "1f843fdb",
   "metadata": {},
   "outputs": [],
   "source": [
    "import scanpy as sc\n",
    "import pandas as pd\n",
    "import numpy as np\n",
    "import anndata as ad "
   ]
  },
  {
   "cell_type": "code",
   "execution_count": 2,
   "id": "a1d7fb36",
   "metadata": {},
   "outputs": [
    {
     "name": "stderr",
     "output_type": "stream",
     "text": [
      "D:\\anaconda\\envs\\index\\lib\\site-packages\\anndata\\_core\\anndata.py:1840: UserWarning: Variable names are not unique. To make them unique, call `.var_names_make_unique`.\n",
      "  utils.warn_names_duplicates(\"var\")\n",
      "D:\\anaconda\\envs\\index\\lib\\site-packages\\anndata\\_core\\anndata.py:1840: UserWarning: Variable names are not unique. To make them unique, call `.var_names_make_unique`.\n",
      "  utils.warn_names_duplicates(\"var\")\n"
     ]
    },
    {
     "name": "stdout",
     "output_type": "stream",
     "text": [
      "AnnData object with n_obs × n_vars = 4226 × 33538\n",
      "    obs: 'in_tissue', 'array_row', 'array_col', 'batch', 'ground.truth'\n",
      "    var: 'gene_ids', 'feature_types', 'genome'\n",
      "    uns: 'spatial'\n",
      "    obsm: 'spatial'\n",
      "             combinedPval  adjustedPval\n",
      "MIR1302-2HG      0.481584           1.0\n",
      "AL627309.1       0.929944           1.0\n",
      "AL669831.5       0.558528           1.0\n",
      "FAM87B           0.305351           1.0\n",
      "LINC00115        0.098451           1.0\n"
     ]
    }
   ],
   "source": [
    "for i in range(151507,151511):\n",
    "    print(i)\n",
    "\n",
    "    input_dir = 'G:/dataset/1_DLPFC/input/'+str(i)+'/'  # Replace it with your file path\n",
    "\n",
    "    adata_temp = sc.read_visium(input_dir)\n",
    "    adata_temp.var_names_make_unique()\n",
    "    adata_temp.obs_names_make_unique()\n",
    "    adata_label = pd.read_csv(input_dir + 'truth.csv', index_col=0)\n",
    "    adata_temp.obs['batch'] = adata_label['batch'].astype(\"category\")\n",
    "    adata_temp.obs['ground.truth'] = adata_label['ground.truth'].astype(\"category\")\n",
    "    SVGs = pd.read_csv(input_dir + 'SPARKX.csv', index_col=0)\n",
    "    adata_temp.uns['SVGs_'+str(i)] = SVGs\n",
    "    print(adata_temp)\n",
    "    adata_list.append(adata_temp)"
   ]
  },
  {
   "cell_type": "code",
   "execution_count": 4,
   "id": "69c1b8fe",
   "metadata": {
    "scrolled": true
   },
   "outputs": [
    {
     "data": {
      "text/html": [
       "<div>\n",
       "<style scoped>\n",
       "    .dataframe tbody tr th:only-of-type {\n",
       "        vertical-align: middle;\n",
       "    }\n",
       "\n",
       "    .dataframe tbody tr th {\n",
       "        vertical-align: top;\n",
       "    }\n",
       "\n",
       "    .dataframe thead th {\n",
       "        text-align: right;\n",
       "    }\n",
       "</style>\n",
       "<table border=\"1\" class=\"dataframe\">\n",
       "  <thead>\n",
       "    <tr style=\"text-align: right;\">\n",
       "      <th></th>\n",
       "      <th>combinedPval</th>\n",
       "      <th>adjustedPval</th>\n",
       "    </tr>\n",
       "  </thead>\n",
       "  <tbody>\n",
       "    <tr>\n",
       "      <th>MBP</th>\n",
       "      <td>5.726466e-284</td>\n",
       "      <td>1.276208e-278</td>\n",
       "    </tr>\n",
       "    <tr>\n",
       "      <th>SCGB2A2</th>\n",
       "      <td>2.988574e-253</td>\n",
       "      <td>3.330188e-248</td>\n",
       "    </tr>\n",
       "    <tr>\n",
       "      <th>SCGB1D2</th>\n",
       "      <td>1.916310e-179</td>\n",
       "      <td>1.423571e-174</td>\n",
       "    </tr>\n",
       "    <tr>\n",
       "      <th>PLP1</th>\n",
       "      <td>5.727676e-167</td>\n",
       "      <td>3.191194e-162</td>\n",
       "    </tr>\n",
       "    <tr>\n",
       "      <th>MT3</th>\n",
       "      <td>2.474007e-129</td>\n",
       "      <td>1.102721e-124</td>\n",
       "    </tr>\n",
       "    <tr>\n",
       "      <th>...</th>\n",
       "      <td>...</td>\n",
       "      <td>...</td>\n",
       "    </tr>\n",
       "    <tr>\n",
       "      <th>C15orf59-AS1</th>\n",
       "      <td>8.331385e-02</td>\n",
       "      <td>1.000000e+00</td>\n",
       "    </tr>\n",
       "    <tr>\n",
       "      <th>LOXL1</th>\n",
       "      <td>6.320140e-01</td>\n",
       "      <td>1.000000e+00</td>\n",
       "    </tr>\n",
       "    <tr>\n",
       "      <th>PML</th>\n",
       "      <td>1.190956e-01</td>\n",
       "      <td>1.000000e+00</td>\n",
       "    </tr>\n",
       "    <tr>\n",
       "      <th>AC079322.1</th>\n",
       "      <td>4.106111e-01</td>\n",
       "      <td>1.000000e+00</td>\n",
       "    </tr>\n",
       "    <tr>\n",
       "      <th>AC240274.1</th>\n",
       "      <td>2.824476e-01</td>\n",
       "      <td>1.000000e+00</td>\n",
       "    </tr>\n",
       "  </tbody>\n",
       "</table>\n",
       "<p>21151 rows × 2 columns</p>\n",
       "</div>"
      ],
      "text/plain": [
       "               combinedPval   adjustedPval\n",
       "MBP           5.726466e-284  1.276208e-278\n",
       "SCGB2A2       2.988574e-253  3.330188e-248\n",
       "SCGB1D2       1.916310e-179  1.423571e-174\n",
       "PLP1          5.727676e-167  3.191194e-162\n",
       "MT3           2.474007e-129  1.102721e-124\n",
       "...                     ...            ...\n",
       "C15orf59-AS1   8.331385e-02   1.000000e+00\n",
       "LOXL1          6.320140e-01   1.000000e+00\n",
       "PML            1.190956e-01   1.000000e+00\n",
       "AC079322.1     4.106111e-01   1.000000e+00\n",
       "AC240274.1     2.824476e-01   1.000000e+00\n",
       "\n",
       "[21151 rows x 2 columns]"
      ]
     },
     "execution_count": 4,
     "metadata": {},
     "output_type": "execute_result"
    }
   ],
   "source": [
    "SVGs = SVGs.sort_values(by=\"adjustedPval\",ascending=True)\n",
    "SVGs"
   ]
  },
  {
   "cell_type": "code",
   "execution_count": 7,
   "id": "fada7723",
   "metadata": {},
   "outputs": [],
   "source": [
    "sc.pp.neighbors(adata_temp, use_rep='X')"
   ]
  },
  {
   "cell_type": "code",
   "execution_count": 12,
   "id": "b3c1a9dc",
   "metadata": {},
   "outputs": [
    {
     "name": "stdout",
     "output_type": "stream",
     "text": [
      "1\n",
      "0.6427118313661013\n",
      "0.23487762390365127\n",
      "2\n",
      "0.5608862933657133\n",
      "0.30218406381748597\n",
      "5\n",
      "0.5047758070938947\n",
      "0.34700083645417124\n",
      "10\n",
      "0.4527001537455592\n",
      "0.40704098552085854\n",
      "20\n",
      "0.4074597557541263\n",
      "0.45870133943743563\n",
      "50\n",
      "0.36060198238992436\n",
      "0.513665937451784\n",
      "100\n",
      "0.31383972838330976\n",
      "0.5689229244395393\n",
      "200\n",
      "0.2574012418708904\n",
      "0.6235568466108484\n",
      "500\n",
      "0.21073323691109516\n",
      "0.6695815389907682\n",
      "1000\n",
      "0.15564522017442625\n",
      "0.7230375881693742\n"
     ]
    }
   ],
   "source": [
    "num = [1,5,10,20,50,100,200,500,1000]\n",
    "for SVGnum in num:\n",
    "    print(SVGnum)\n",
    "    print( np.mean( \n",
    "        sc.metrics.morans_i(adata_temp, vals = adata_temp[:, SVGs.index.tolist()[:SVGnum]].X.toarray().T)\n",
    "        ) )\n",
    "    print( np.mean( \n",
    "        sc.metrics.gearys_c(adata_temp, vals = adata_temp[:, SVGs.index.tolist()[:SVGnum]].X.toarray().T)\n",
    "        ) )\n"
   ]
  },
  {
   "cell_type": "code",
   "execution_count": 26,
   "id": "25b2153e",
   "metadata": {},
   "outputs": [
    {
     "name": "stdout",
     "output_type": "stream",
     "text": [
      "AnnData object with n_obs × n_vars = 4226 × 33538\n",
      "    obs: 'in_tissue', 'array_row', 'array_col', 'batch', 'ground.truth'\n",
      "    var: 'gene_ids', 'feature_types', 'genome'\n",
      "    uns: 'spatial', 'neighbors'\n",
      "    obsm: 'spatial', 'X_pca'\n",
      "    obsp: 'distances', 'connectivities'\n",
      "0.2476710702106601\n"
     ]
    }
   ],
   "source": [
    "print( adata_temp )\n",
    "print( np.mean( sc.metrics.morans_i(adata_temp, obsm='X_pca') ) )"
   ]
  }
 ],
 "metadata": {
  "kernelspec": {
   "display_name": "index",
   "language": "python",
   "name": "index"
  },
  "language_info": {
   "codemirror_mode": {
    "name": "ipython",
    "version": 3
   },
   "file_extension": ".py",
   "mimetype": "text/x-python",
   "name": "python",
   "nbconvert_exporter": "python",
   "pygments_lexer": "ipython3",
   "version": "3.10.12"
  }
 },
 "nbformat": 4,
 "nbformat_minor": 5
}
