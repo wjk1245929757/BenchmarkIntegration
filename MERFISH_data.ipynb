{
 "cells": [
  {
   "cell_type": "code",
   "execution_count": 4,
   "id": "8ae0d4f9",
   "metadata": {
    "scrolled": true
   },
   "outputs": [
    {
     "name": "stdout",
     "output_type": "stream",
     "text": [
      "0\n",
      "1\n",
      "2\n",
      "3\n",
      "4\n",
      "5\n",
      "6\n",
      "7\n",
      "8\n",
      "9\n",
      "10\n",
      "11\n",
      "12\n",
      "13\n",
      "14\n",
      "15\n",
      "16\n",
      "17\n",
      "18\n",
      "19\n",
      "20\n",
      "21\n",
      "22\n",
      "23\n",
      "24\n",
      "25\n",
      "26\n",
      "27\n",
      "28\n",
      "29\n",
      "30\n",
      "31\n",
      "32\n"
     ]
    }
   ],
   "source": [
    "import scanpy as sc\n",
    "import pandas as pd\n",
    "import numpy as np\n",
    "import os, sys\n",
    "\n",
    "output_dir = 'G:/dataset/MERFISH/MouseMOp--SPACEL/merfish_mouse_brain/'\n",
    "\n",
    "for i in range(33):\n",
    "    print(i)\n",
    "    path = 'G:/dataset/MERFISH/MouseMOp--SPACEL/merfish_mouse_brain/' + str(i) + '/'\n",
    "#     os.mkdir(path)\n",
    "    adata = sc.read_h5ad('G:/dataset/MERFISH/MouseMOp--SPACEL/merfish_mouse_brain/merfish_mouse_brain_slice'+ str(i) +'.h5ad')\n",
    "#     exp_df = pd.DataFrame(data=adata.X[0:,0:].T,\n",
    "#                           columns =  adata.obs_names.to_list(),\n",
    "#                           index = adata.var_names.to_list()\n",
    "#                          )\n",
    "#     exp_df.to_csv(path + 'count.txt', index=True, header=True)\n",
    "#     adata.obsm['spatial'].to_csv(path + 'coord.txt', index=True, header=True)\n",
    "    adata.obs.to_csv(path + 'meta.txt', index=True, header=True)\n"
   ]
  },
  {
   "cell_type": "code",
   "execution_count": 3,
   "id": "3c36fd1a",
   "metadata": {},
   "outputs": [
    {
     "name": "stdout",
     "output_type": "stream",
     "text": [
      "AnnData object with n_obs × n_vars = 2378 × 254\n",
      "    obs: 'sample_id', 'slice_id', 'class_label', 'subclass', 'label', 'Astro_1', 'Endo', 'SMC', 'L23_IT_3', 'VLMC', 'L6_CT_5', 'L45_IT_2', 'L45_IT_SSp_2', 'Peri', 'L5_ET_1', 'L45_IT_1', 'L45_IT_5', 'L45_IT_3', 'L23_IT_4', 'L5_IT_1', 'Micro_1', 'L23_IT_2', 'L5_ET_5', 'Sst_3', 'L6_IT_3', 'Oligo_1', 'L5_ET_4', 'Sncg_1', 'L6_IT_Car3', 'Vip_7', 'PVM', 'L5_ET_3', 'L56_NP_1', 'Pvalb_6', 'L6_CT_3', 'L5_IT_2', 'L6_CT_1', 'L45_IT_SSp_1', 'Astro_2', 'Pvalb_5', 'L56_NP_2', 'Oligo_2', 'L6_IT_1', 'L6_CT_2', 'Pvalb_3', 'OPC', 'striatum_1', 'L5_IT_3', 'L23_IT_1', 'Oligo_3', 'Pvalb_4', 'Vip_1', 'L23_IT_5', 'L6_CT_6', 'Pvalb_1', 'Pvalb_7', 'L5_IT_4', 'L6b_2', 'L6_CT_4', 'Vip_3', 'Vip_10', 'striatum_2', 'Sst_2', 'L6_IT_2', 'L6b_1', 'L6_CT_8', 'Pvalb_10', 'L5_ET_2', 'L6_CT_7', 'Micro_2', 'L45_IT_4', 'Sst_1', 'Pvalb_2', 'Vip_6', 'Lamp5_1', 'L6b_3', 'ventricle_1', 'Lamp5_5', 'Sncg_2', 'Sst_6', 'Vip_8', 'Sst_5', 'Sst_4', 'Astro_3', 'Vip_2', 'Pvalb_8', 'Lamp5_9', 'Lamp5_3', 'Vip_4', 'Lamp5_8', 'Sst_7', 'Sst_8', 'L6_CT_9', 'Lamp5_4', 'Pvalb_9', 'Pvalb_11', 'Lamp5_6', 'Lamp5_2', 'Sst_Chodl', 'Vip_9', 'Lamp5_7', 'Vip_5', 'ventricle_2', 'Pvalb_12', 'spa_cluster'\n",
      "    uns: 'celltypes', 'spa_cluster_colors', 'spatial_neighbors'\n",
      "    obsm: 'spatial', 'spatial_aligned', 'spatial_pair'\n",
      "    obsp: 'spatial_connectivities', 'spatial_distances'\n",
      "<class 'pandas.core.frame.DataFrame'>\n"
     ]
    }
   ],
   "source": [
    "import scanpy as sc\n",
    "import pandas as pd\n",
    "import numpy as np\n",
    "import os, sys\n",
    "\n",
    "adata = sc.read_h5ad('G:/dataset/MERFISH/MouseMOp--SPACEL/merfish_mouse_brain/merfish_mouse_brain_slice0.h5ad')\n",
    "print(adata)\n",
    "print(type(adata.obs))"
   ]
  },
  {
   "cell_type": "code",
   "execution_count": 24,
   "id": "18604020",
   "metadata": {},
   "outputs": [
    {
     "name": "stdout",
     "output_type": "stream",
     "text": [
      "AnnData object with n_obs × n_vars = 280186 × 254\n"
     ]
    }
   ],
   "source": [
    "adata = sc.read_h5ad('G:/methods/SPACEL/counts.h5ad')\n",
    "print(adata)"
   ]
  },
  {
   "cell_type": "code",
   "execution_count": 28,
   "id": "0b25f6c8",
   "metadata": {},
   "outputs": [
    {
     "name": "stdout",
     "output_type": "stream",
     "text": [
      "                                     Unnamed: 0       sample_id  \\\n",
      "0        10000143038275111136124942858811168393  mouse2_sample4   \n",
      "1       100001798412490480358118871918100400402  mouse2_sample5   \n",
      "2       100006878605830627922364612565348097824  mouse2_sample6   \n",
      "3       100007228202835962319771548915451072492  mouse1_sample2   \n",
      "4       100009332472089331948140672873134747603  mouse2_sample5   \n",
      "...                                         ...             ...   \n",
      "280181   99987465505639073211021560543065098772  mouse1_sample5   \n",
      "280182   99989592830367590092304100078674096866  mouse2_sample3   \n",
      "280183   99991756591196613545069880666241120777  mouse1_sample3   \n",
      "280184   99997421766159526763299676887100858104  mouse2_sample3   \n",
      "280185   99997470167777465101376150817407669505  mouse2_sample2   \n",
      "\n",
      "               slice_id    class_label subclass     label  \n",
      "0        mouse2_slice31          Other    Astro   Astro_1  \n",
      "1       mouse2_slice160          Other     Endo      Endo  \n",
      "2       mouse2_slice109          Other      SMC       SMC  \n",
      "3        mouse1_slice71          Other     Endo      Endo  \n",
      "4       mouse2_slice219  Glutamatergic  L2/3 IT  L23_IT_3  \n",
      "...                 ...            ...      ...       ...  \n",
      "280181  mouse1_slice251      GABAergic    Pvalb   Pvalb_1  \n",
      "280182  mouse2_slice261  Glutamatergic    L5 ET   L5_ET_5  \n",
      "280183  mouse1_slice112  Glutamatergic  L4/5 IT  L45_IT_3  \n",
      "280184  mouse2_slice261  Glutamatergic    L5 ET   L5_ET_3  \n",
      "280185   mouse2_slice70  Glutamatergic  L2/3 IT  L23_IT_4  \n",
      "\n",
      "[280186 rows x 6 columns]\n",
      "0         mouse2_sample4\n",
      "1         mouse2_sample5\n",
      "2         mouse2_sample6\n",
      "3         mouse1_sample2\n",
      "4         mouse2_sample5\n",
      "               ...      \n",
      "280181    mouse1_sample5\n",
      "280182    mouse2_sample3\n",
      "280183    mouse1_sample3\n",
      "280184    mouse2_sample3\n",
      "280185    mouse2_sample2\n",
      "Name: sample_id, Length: 280186, dtype: category\n",
      "Categories (12, object): ['mouse1_sample1', 'mouse1_sample2', 'mouse1_sample3', 'mouse1_sample4', ..., 'mouse2_sample3', 'mouse2_sample4', 'mouse2_sample5', 'mouse2_sample6']\n",
      "0          mouse2_slice31\n",
      "1         mouse2_slice160\n",
      "2         mouse2_slice109\n",
      "3          mouse1_slice71\n",
      "4         mouse2_slice219\n",
      "               ...       \n",
      "280181    mouse1_slice251\n",
      "280182    mouse2_slice261\n",
      "280183    mouse1_slice112\n",
      "280184    mouse2_slice261\n",
      "280185     mouse2_slice70\n",
      "Name: slice_id, Length: 280186, dtype: category\n",
      "Categories (64, object): ['mouse1_slice1', 'mouse1_slice10', 'mouse1_slice102', 'mouse1_slice112', ..., 'mouse2_slice70', 'mouse2_slice79', 'mouse2_slice90', 'mouse2_slice99']\n",
      "0                 Other\n",
      "1                 Other\n",
      "2                 Other\n",
      "3                 Other\n",
      "4         Glutamatergic\n",
      "              ...      \n",
      "280181        GABAergic\n",
      "280182    Glutamatergic\n",
      "280183    Glutamatergic\n",
      "280184    Glutamatergic\n",
      "280185    Glutamatergic\n",
      "Name: class_label, Length: 280186, dtype: category\n",
      "Categories (3, object): ['GABAergic', 'Glutamatergic', 'Other']\n",
      "0           Astro\n",
      "1            Endo\n",
      "2             SMC\n",
      "3            Endo\n",
      "4         L2/3 IT\n",
      "           ...   \n",
      "280181      Pvalb\n",
      "280182      L5 ET\n",
      "280183    L4/5 IT\n",
      "280184      L5 ET\n",
      "280185    L2/3 IT\n",
      "Name: subclass, Length: 280186, dtype: category\n",
      "Categories (24, object): ['Astro', 'Endo', 'L2/3 IT', 'L4/5 IT', ..., 'Sst', 'VLMC', 'Vip', 'other']\n",
      "0          Astro_1\n",
      "1             Endo\n",
      "2              SMC\n",
      "3             Endo\n",
      "4         L23_IT_3\n",
      "            ...   \n",
      "280181     Pvalb_1\n",
      "280182     L5_ET_5\n",
      "280183    L45_IT_3\n",
      "280184     L5_ET_3\n",
      "280185    L23_IT_4\n",
      "Name: label, Length: 280186, dtype: category\n",
      "Categories (99, object): ['Astro_1', 'Astro_2', 'Astro_3', 'Endo', ..., 'striatum_1', 'striatum_2', 'ventricle_1', 'ventricle_2']\n"
     ]
    }
   ],
   "source": [
    "meta = pd.read_csv('G:/methods/SPACEL/cell_labels.csv')\n",
    "print(meta)\n",
    "print(meta['sample_id'].astype('category'))\n",
    "print(meta['slice_id'].astype('category'))\n",
    "print(meta['class_label'].astype('category'))\n",
    "print(meta['subclass'].astype('category'))\n",
    "print(meta['label'].astype('category'))"
   ]
  }
 ],
 "metadata": {
  "kernelspec": {
   "display_name": "SPACEL",
   "language": "python",
   "name": "spacel"
  },
  "language_info": {
   "codemirror_mode": {
    "name": "ipython",
    "version": 3
   },
   "file_extension": ".py",
   "mimetype": "text/x-python",
   "name": "python",
   "nbconvert_exporter": "python",
   "pygments_lexer": "ipython3",
   "version": "3.8.18"
  }
 },
 "nbformat": 4,
 "nbformat_minor": 5
}
