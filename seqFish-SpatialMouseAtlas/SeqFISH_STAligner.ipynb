{
 "cells": [
  {
   "cell_type": "markdown",
   "id": "01e35e1d-aabe-4490-bd2a-3d18d1d139fc",
   "metadata": {},
   "source": [
    "## Preparation"
   ]
  },
  {
   "cell_type": "code",
   "execution_count": 1,
   "id": "0a379114-00b4-4d81-9559-07b2e0f92242",
   "metadata": {},
   "outputs": [
    {
     "data": {
      "text/plain": [
       "['D:\\\\bio\\\\jupyter_code\\\\seqFish-SpatialMouseAtlas',\n",
       " 'D:\\\\anaconda\\\\envs\\\\STAligner\\\\python310.zip',\n",
       " 'D:\\\\anaconda\\\\envs\\\\STAligner\\\\DLLs',\n",
       " 'D:\\\\anaconda\\\\envs\\\\STAligner\\\\lib',\n",
       " 'D:\\\\anaconda\\\\envs\\\\STAligner',\n",
       " '',\n",
       " 'C:\\\\Users\\\\23147\\\\AppData\\\\Roaming\\\\Python\\\\Python310\\\\site-packages',\n",
       " 'D:\\\\anaconda\\\\envs\\\\STAligner\\\\lib\\\\site-packages',\n",
       " 'D:\\\\anaconda\\\\envs\\\\STAligner\\\\lib\\\\site-packages\\\\staligner-1.0.0-py3.10.egg',\n",
       " 'D:\\\\anaconda\\\\envs\\\\STAligner\\\\lib\\\\site-packages\\\\win32',\n",
       " 'D:\\\\anaconda\\\\envs\\\\STAligner\\\\lib\\\\site-packages\\\\win32\\\\lib',\n",
       " 'D:\\\\anaconda\\\\envs\\\\STAligner\\\\lib\\\\site-packages\\\\Pythonwin']"
      ]
     },
     "execution_count": 1,
     "metadata": {},
     "output_type": "execute_result"
    }
   ],
   "source": [
    "import sys\n",
    "sys.path"
   ]
  },
  {
   "cell_type": "code",
   "execution_count": 2,
   "id": "3d7d45b8-ab8b-4540-8bd8-2caccd81bc75",
   "metadata": {},
   "outputs": [],
   "source": [
    "#-*- coding : utf-8-*-\n",
    "# coding:unicode_escape\n",
    "import warnings\n",
    "warnings.filterwarnings(\"ignore\")\n",
    "\n",
    "# import ST_utils\n",
    "# import train_STAligner\n",
    "import STAligner\n",
    "\n",
    "# the location of R (used for the mclust clustering)\n",
    "import os\n",
    "os.environ['R_HOME'] = \"D:\\\\anaconda\\envs\\STAligner\\Lib\\R\"\n",
    "os.environ['R_USER'] = \"D:\\\\anaconda\\envs\\STAligner\\Lib\\site-packages\\rpy2\""
   ]
  },
  {
   "cell_type": "code",
   "execution_count": 3,
   "id": "168f4ff3-ea93-4fcf-8fdc-8b43b919b743",
   "metadata": {},
   "outputs": [],
   "source": [
    "import rpy2.robjects as robjects\n",
    "import rpy2.robjects.numpy2ri"
   ]
  },
  {
   "cell_type": "code",
   "execution_count": 4,
   "id": "6219fbd0-d280-48ba-a3f2-fb0a2989a79c",
   "metadata": {},
   "outputs": [
    {
     "name": "stdout",
     "output_type": "stream",
     "text": [
      "cuda:0\n"
     ]
    }
   ],
   "source": [
    "import anndata as ad\n",
    "import scanpy as sc\n",
    "import pandas as pd\n",
    "import numpy as np\n",
    "import scipy.sparse as sp\n",
    "import scipy.linalg\n",
    "\n",
    "import torch\n",
    "used_device = torch.device('cuda:0' if torch.cuda.is_available() else 'cpu')\n",
    "print(used_device)\n",
    "\n",
    "datasets = [\"embryo1-2\",\"embryo1-5\",\"embryo2-2\",\"embryo2-5\",\"embryo3-2\",\"embryo3-5\"]\n",
    "experiment_name = 'allEmbryo'\n",
    "input_dir = 'G:/dataset/seqFish-SpatialMouseAtlas/output/python/'  # Replace it with your file path\n",
    "output_dir = 'G:/dataset/seqFish-SpatialMouseAtlas/output/SPACEL/'  # Replace it with your file path\n",
    "\n",
    "# num_cluster = 24"
   ]
  },
  {
   "cell_type": "code",
   "execution_count": 5,
   "id": "71aaa8fd-afad-4e4e-a8e1-493c612a9fff",
   "metadata": {},
   "outputs": [],
   "source": [
    "# import pandas as pd\n",
    "# section_ids = ['Anterior1','Anterior2','Posterior1','Posterior2']\n",
    "# for dataset in section_ids:\n",
    "#     adata_label = pd.read_csv(input_dir + dataset + '/truth.csv', index_col=0)\n",
    "#     types = adata_label['celltype'].unique().tolist()\n",
    "#     print(len(types))"
   ]
  },
  {
   "cell_type": "markdown",
   "id": "d7776d42-84f8-421a-8362-add3c176af6c",
   "metadata": {},
   "source": [
    "## Load Data"
   ]
  },
  {
   "cell_type": "code",
   "execution_count": 6,
   "id": "345b6077-7ddf-46ad-b10d-cb3cb7f60f34",
   "metadata": {},
   "outputs": [
    {
     "name": "stdout",
     "output_type": "stream",
     "text": [
      "['embryo1-2', 'embryo1-5', 'embryo2-2', 'embryo2-5', 'embryo3-2', 'embryo3-5']\n",
      "embryo1-2\n",
      "------Calculating spatial graph...\n",
      "The graph contains 70134 edges, 11026 cells.\n",
      "6.3608 neighbors per cell on average.\n",
      "embryo1-5\n",
      "------Calculating spatial graph...\n",
      "The graph contains 55332 edges, 8425 cells.\n",
      "6.5676 neighbors per cell on average.\n",
      "embryo2-2\n",
      "------Calculating spatial graph...\n",
      "The graph contains 48042 edges, 8011 cells.\n",
      "5.9970 neighbors per cell on average.\n",
      "embryo2-5\n",
      "------Calculating spatial graph...\n",
      "The graph contains 43700 edges, 6880 cells.\n",
      "6.3517 neighbors per cell on average.\n",
      "embryo3-2\n",
      "------Calculating spatial graph...\n",
      "The graph contains 64558 edges, 12541 cells.\n",
      "5.1478 neighbors per cell on average.\n",
      "embryo3-5\n",
      "------Calculating spatial graph...\n",
      "The graph contains 58284 edges, 10653 cells.\n",
      "5.4711 neighbors per cell on average.\n"
     ]
    }
   ],
   "source": [
    "from scipy import sparse\n",
    "\n",
    "Batch_list = []\n",
    "adj_list = []\n",
    "print(datasets)\n",
    "\n",
    "for section_id in datasets:\n",
    "    print(section_id)\n",
    "    # input_path = input_dir + section_id\n",
    "    # adata = sc.read_visium(path=input_path, count_file='filtered_feature_bc_matrix.h5', load_images=True)\n",
    "    # adata.var_names_make_unique(join=\"++\")\n",
    "\n",
    "    matrix = pd.read_csv(input_dir + section_id + \"/matrix.csv\", index_col=False)\n",
    "    feature = pd.read_csv(input_dir + section_id + \"/features.csv\", index_col=0)\n",
    "    feature.index.name = 'gene'\n",
    "    barcode = pd.read_csv(input_dir + section_id + \"/barcodes.csv\", index_col=0)\n",
    "    barcode.index.name = 'spot'\n",
    "    adata = ad.AnnData(X=matrix.to_numpy(dtype='float64').T, obs=barcode, var=feature)\n",
    "    adata = ad.AnnData(X=sparse.csr_matrix(matrix.to_numpy(dtype='float32').T), obs=barcode, var=feature)\n",
    "    \n",
    "    positions = pd.read_csv(input_dir + section_id + \"/tissue_positions_list.csv\", index_col=0, header=None)\n",
    "    positions.drop(positions.columns[[0, 3, 4]], axis=1, inplace=True)\n",
    "    positions.columns = ['x', 'y']\n",
    "    adata.obsm['spatial'] = positions.values\n",
    "    \n",
    "    adata_label = pd.read_csv(input_dir + section_id + '/truth.csv', index_col=0)\n",
    "    # adata_label.index = [str.replace(str.replace(x, '.', '-'), adata_label['batch'][0] + '-', '') for x in adata_label.index]\n",
    "    adata.obs['batch'] = adata_label['batch']\n",
    "    # adata.obs['annotation'] = adata_label['celltype_mapped_refined']\n",
    "    adata.obs['Ground Truth'] = adata_label.loc[adata.obs_names, 'celltype_mapped_refined'].astype('category')\n",
    "\n",
    "    # # read the annotation\n",
    "    # Ann_df = pd.read_csv(os.path.join(input_path, 'truth.csv'), index_col=0)\n",
    "    # Ann_df.index = [str.replace(str.replace(x, '.', '-'), Ann_df['batch'][0] + '-', '') for x in Ann_df.index]\n",
    "    # # Ann_df['ground.truth'] = Ann_df['celltype'].replace('na', 'unknown')\n",
    "    # adata.obs['Ground Truth'] = Ann_df.loc[adata.obs_names, 'celltype'].astype('category')\n",
    "\n",
    "    # make spot name unique\n",
    "    adata.obs_names = [x + '_' + section_id for x in adata.obs_names]\n",
    "\n",
    "    # Constructing the spatial network\n",
    "    if(section_id == \"embryo3-2\" or section_id == \"embryo3-5\"):\n",
    "        STAligner.Cal_Spatial_Net(adata, rad_cutoff=4)\n",
    "    else:\n",
    "        STAligner.Cal_Spatial_Net(adata, rad_cutoff=2)\n",
    "    # the spatial network are saved in adata.uns[‘adj’]\n",
    "    # STAligner.Stats_Spatial_Net(adata) # plot the number of spatial neighbors\n",
    "\n",
    "    # Normalization\n",
    "    sc.pp.highly_variable_genes(adata, flavor=\"seurat_v3\", n_top_genes=5000)\n",
    "    sc.pp.normalize_total(adata, target_sum=1e4)\n",
    "    sc.pp.log1p(adata)\n",
    "    adata = adata[:, adata.var['highly_variable']]\n",
    "\n",
    "    adj_list.append(adata.uns['adj'])\n",
    "    Batch_list.append(adata)"
   ]
  },
  {
   "cell_type": "markdown",
   "id": "d04b39a8-85fc-4528-a9f5-7daad0a3da67",
   "metadata": {},
   "source": [
    "## Concat the scanpy objects for multiple slices"
   ]
  },
  {
   "cell_type": "code",
   "execution_count": 7,
   "id": "329ff1ec-04a7-4bd9-bad6-e8319e8ec54d",
   "metadata": {},
   "outputs": [
    {
     "name": "stdout",
     "output_type": "stream",
     "text": [
      "adata_concat.shape:  (57536, 351)\n"
     ]
    }
   ],
   "source": [
    "adata_concat = ad.concat(Batch_list, label=\"slice_name\", keys=datasets)\n",
    "adata_concat.obs['Ground Truth'] = adata_concat.obs['Ground Truth'].astype('category')\n",
    "adata_concat.obs[\"batch_name\"] = adata_concat.obs[\"slice_name\"].astype('category')\n",
    "print('adata_concat.shape: ', adata_concat.shape)"
   ]
  },
  {
   "cell_type": "markdown",
   "id": "4f8f963d-3e88-4134-84ca-39d412cb063c",
   "metadata": {},
   "source": [
    "## Concat the spatial network for multiple slices"
   ]
  },
  {
   "cell_type": "code",
   "execution_count": 8,
   "id": "eaf0db1e-c471-4030-aea0-927df7675ce9",
   "metadata": {},
   "outputs": [
    {
     "ename": "MemoryError",
     "evalue": "Unable to allocate 16.4 GiB for an array with shape (46883, 46883) and data type float64",
     "output_type": "error",
     "traceback": [
      "\u001b[1;31m---------------------------------------------------------------------------\u001b[0m",
      "\u001b[1;31mMemoryError\u001b[0m                               Traceback (most recent call last)",
      "Cell \u001b[1;32mIn[8], line 3\u001b[0m\n\u001b[0;32m      1\u001b[0m adj_concat \u001b[38;5;241m=\u001b[39m np\u001b[38;5;241m.\u001b[39masarray(adj_list[\u001b[38;5;241m0\u001b[39m]\u001b[38;5;241m.\u001b[39mtodense())\n\u001b[0;32m      2\u001b[0m \u001b[38;5;28;01mfor\u001b[39;00m batch_id \u001b[38;5;129;01min\u001b[39;00m \u001b[38;5;28mrange\u001b[39m(\u001b[38;5;241m1\u001b[39m,\u001b[38;5;28mlen\u001b[39m(datasets)):\n\u001b[1;32m----> 3\u001b[0m     adj_concat \u001b[38;5;241m=\u001b[39m \u001b[43mscipy\u001b[49m\u001b[38;5;241;43m.\u001b[39;49m\u001b[43mlinalg\u001b[49m\u001b[38;5;241;43m.\u001b[39;49m\u001b[43mblock_diag\u001b[49m\u001b[43m(\u001b[49m\u001b[43madj_concat\u001b[49m\u001b[43m,\u001b[49m\u001b[43m \u001b[49m\u001b[43mnp\u001b[49m\u001b[38;5;241;43m.\u001b[39;49m\u001b[43masarray\u001b[49m\u001b[43m(\u001b[49m\u001b[43madj_list\u001b[49m\u001b[43m[\u001b[49m\u001b[43mbatch_id\u001b[49m\u001b[43m]\u001b[49m\u001b[38;5;241;43m.\u001b[39;49m\u001b[43mtodense\u001b[49m\u001b[43m(\u001b[49m\u001b[43m)\u001b[49m\u001b[43m)\u001b[49m\u001b[43m)\u001b[49m\n\u001b[0;32m      4\u001b[0m adata_concat\u001b[38;5;241m.\u001b[39muns[\u001b[38;5;124m'\u001b[39m\u001b[38;5;124medgeList\u001b[39m\u001b[38;5;124m'\u001b[39m] \u001b[38;5;241m=\u001b[39m np\u001b[38;5;241m.\u001b[39mnonzero(adj_concat)\n",
      "File \u001b[1;32mD:\\anaconda\\envs\\STAligner\\lib\\site-packages\\scipy\\linalg\\_special_matrices.py:562\u001b[0m, in \u001b[0;36mblock_diag\u001b[1;34m(*arrs)\u001b[0m\n\u001b[0;32m    560\u001b[0m shapes \u001b[38;5;241m=\u001b[39m np\u001b[38;5;241m.\u001b[39marray([a\u001b[38;5;241m.\u001b[39mshape \u001b[38;5;28;01mfor\u001b[39;00m a \u001b[38;5;129;01min\u001b[39;00m arrs])\n\u001b[0;32m    561\u001b[0m out_dtype \u001b[38;5;241m=\u001b[39m np\u001b[38;5;241m.\u001b[39mresult_type(\u001b[38;5;241m*\u001b[39m[arr\u001b[38;5;241m.\u001b[39mdtype \u001b[38;5;28;01mfor\u001b[39;00m arr \u001b[38;5;129;01min\u001b[39;00m arrs])\n\u001b[1;32m--> 562\u001b[0m out \u001b[38;5;241m=\u001b[39m \u001b[43mnp\u001b[49m\u001b[38;5;241;43m.\u001b[39;49m\u001b[43mzeros\u001b[49m\u001b[43m(\u001b[49m\u001b[43mnp\u001b[49m\u001b[38;5;241;43m.\u001b[39;49m\u001b[43msum\u001b[49m\u001b[43m(\u001b[49m\u001b[43mshapes\u001b[49m\u001b[43m,\u001b[49m\u001b[43m \u001b[49m\u001b[43maxis\u001b[49m\u001b[38;5;241;43m=\u001b[39;49m\u001b[38;5;241;43m0\u001b[39;49m\u001b[43m)\u001b[49m\u001b[43m,\u001b[49m\u001b[43m \u001b[49m\u001b[43mdtype\u001b[49m\u001b[38;5;241;43m=\u001b[39;49m\u001b[43mout_dtype\u001b[49m\u001b[43m)\u001b[49m\n\u001b[0;32m    564\u001b[0m r, c \u001b[38;5;241m=\u001b[39m \u001b[38;5;241m0\u001b[39m, \u001b[38;5;241m0\u001b[39m\n\u001b[0;32m    565\u001b[0m \u001b[38;5;28;01mfor\u001b[39;00m i, (rr, cc) \u001b[38;5;129;01min\u001b[39;00m \u001b[38;5;28menumerate\u001b[39m(shapes):\n",
      "\u001b[1;31mMemoryError\u001b[0m: Unable to allocate 16.4 GiB for an array with shape (46883, 46883) and data type float64"
     ]
    }
   ],
   "source": [
    "adj_concat = np.asarray(adj_list[0].todense())\n",
    "for batch_id in range(1,len(datasets)):\n",
    "    adj_concat = scipy.linalg.block_diag(adj_concat, np.asarray(adj_list[batch_id].todense()))\n",
    "adata_concat.uns['edgeList'] = np.nonzero(adj_concat)"
   ]
  },
  {
   "cell_type": "markdown",
   "id": "2c22fd86-903f-4310-881e-1ce7a68ffcd5",
   "metadata": {},
   "source": [
    "## Running STAligner"
   ]
  },
  {
   "cell_type": "code",
   "execution_count": null,
   "id": "67cc94dc-3c56-48a9-93b5-6ab523665b03",
   "metadata": {},
   "outputs": [],
   "source": [
    "%%time\n",
    "adata_concat = STAligner.train_STAligner(adata_concat, verbose=True, knn_neigh = 50, device=used_device)"
   ]
  },
  {
   "cell_type": "markdown",
   "id": "a93585f3-bd7d-406f-a5b1-d417913fcecc",
   "metadata": {},
   "source": [
    "# save embedding"
   ]
  },
  {
   "cell_type": "code",
   "execution_count": null,
   "id": "9ad7e6f8-e475-4f1a-a7c9-7a71f00d7a6e",
   "metadata": {},
   "outputs": [],
   "source": [
    "# save embedding\n",
    "np.savetxt(out_dir + expriment_name + '_cluster_' + str(num_cluster) + '_STAligner.csv', adata_concat.obsm['STAligner'], delimiter=\",\")\n",
    "np.savetxt(out_dir + expriment_name + '_cluster_' + str(num_cluster) + '_STAGATE.csv', adata_concat.obsm['STAGATE'], delimiter=\",\")"
   ]
  },
  {
   "cell_type": "markdown",
   "id": "28869149-b5c6-485e-94c9-23eca54a5d29",
   "metadata": {},
   "source": [
    "## Clustering"
   ]
  },
  {
   "cell_type": "code",
   "execution_count": null,
   "id": "bfd125f5-75a9-425b-b51d-c82c67545ac3",
   "metadata": {},
   "outputs": [],
   "source": [
    "adata_concat"
   ]
  },
  {
   "cell_type": "code",
   "execution_count": null,
   "id": "4adcaf64-a67c-49c6-b137-6c1bffddc346",
   "metadata": {},
   "outputs": [],
   "source": [
    "# import seaborn as sns\n",
    "# slice_colors = sns.color_palette(n_colors = 6).as_hex()\n",
    "df = pd.DataFrame()\n",
    "for i in range(len(adata_list)):\n",
    "    df = pd.concat([df,adata_list[i].obs],axis=0)\n",
    "\n",
    "series = df.iloc[:, 1]\n",
    "series = series.astype(\"category\")\n",
    "\n",
    "celltype_num = len(series.value_counts().index)\n",
    "celltypes = series.value_counts().index.tolist()\n",
    "\n",
    "import seaborn as sns\n",
    "colors = sns.color_palette(n_colors = celltype_num).as_hex()"
   ]
  },
  {
   "cell_type": "code",
   "execution_count": null,
   "id": "38ea6726-c9b0-4dab-a292-a287fa5a571a",
   "metadata": {},
   "outputs": [],
   "source": [
    "num_cluster = celltype_num"
   ]
  },
  {
   "cell_type": "code",
   "execution_count": null,
   "id": "b23f9ca5-b292-4bcc-93fc-b60ef49d2716",
   "metadata": {},
   "outputs": [],
   "source": [
    "from STAligner import ST_utils\n",
    "ST_utils.mclust_R(adata_concat, num_cluster=num_cluster, used_obsm='STAligner')\n",
    "adata_concat = adata_concat[adata_concat.obs['Ground Truth']!='unknown']"
   ]
  },
  {
   "cell_type": "code",
   "execution_count": null,
   "id": "50ce70e8-6801-4e51-8b39-86468fc51d69",
   "metadata": {},
   "outputs": [],
   "source": [
    "from sklearn.metrics import adjusted_rand_score as ari_score\n",
    "print('mclust, ARI = %01.3f' % ari_score(adata_concat.obs['Ground Truth'], adata_concat.obs['mclust']))"
   ]
  },
  {
   "cell_type": "markdown",
   "id": "50abe968-b843-47b0-a8c1-5edcedbffb0f",
   "metadata": {},
   "source": [
    "## Visualization"
   ]
  },
  {
   "cell_type": "code",
   "execution_count": null,
   "id": "e7f1985e-dfbd-4515-858b-261d6f1e01b5",
   "metadata": {},
   "outputs": [],
   "source": [
    "sc.pp.neighbors(adata_concat, use_rep='STAligner', random_state=666)\n",
    "sc.tl.umap(adata_concat, random_state=666)\n",
    "\n",
    "# section_color = ['#f8766d', '#7cae00', '#00bfc4', '#c77cff']\n",
    "section_color = sns.color_palette(n_colors = len(datasets)).as_hex()\n",
    "section_color_dict = dict(zip(section_ids, section_color))\n",
    "adata_concat.uns['batch_name_colors'] = [section_color_dict[x] for x in adata_concat.obs.batch_name.cat.categories]\n",
    "adata_concat.obs['mclust'] = pd.Series(ST_utils.match_cluster_labels(adata_concat.obs['Ground Truth'], adata_concat.obs['mclust'].values),\n",
    "                                         index=adata_concat.obs.index, dtype='category')\n",
    "\n",
    "import matplotlib.pyplot as plt\n",
    "plt.rcParams['font.sans-serif'] = \"Arial\"\n",
    "plt.rcParams[\"figure.figsize\"] = (3, 3)\n",
    "plt.rcParams['font.size'] = 12\n",
    "\n",
    "sc.pl.umap(adata_concat, color=['batch_name', 'Ground Truth', 'mclust'], ncols=3,\n",
    "           wspace=0.5, show=False)\n",
    "plt.savefig(out_dir + expriment_name + '_umap.png', dpi=300)"
   ]
  },
  {
   "cell_type": "code",
   "execution_count": null,
   "id": "0f80e3c9-50dd-424b-82a7-8339e03f9f02",
   "metadata": {},
   "outputs": [],
   "source": [
    "Batch_list = []\n",
    "for section_id in section_ids:\n",
    "    Batch_list.append(adata_concat[adata_concat.obs['batch_name'] == section_id])\n",
    "\n",
    "import matplotlib.pyplot as plt\n",
    "spot_size = 200\n",
    "title_size = 12\n",
    "ARI_list = []\n",
    "for bb in range(len(Batch_list)):\n",
    "    ARI_list.append(round(ari_score(Batch_list[bb].obs['Ground Truth'], Batch_list[bb].obs['mclust']), 2))\n",
    "\n",
    "fig, ax = plt.subplots(1, len(Batch_list), figsize=(10, 5), gridspec_kw={'wspace': 0.05, 'hspace': 0.1})\n",
    "_sc_0 = sc.pl.spatial(Batch_list[0], img_key=None, color=['mclust'], title=[''],\n",
    "                      legend_loc=None, legend_fontsize=12, show=False, ax=ax[0], frameon=False,\n",
    "                      spot_size=spot_size)\n",
    "_sc_0[0].set_title(\"ARI=\" + str(ARI_list[0]), size=title_size)\n",
    "_sc_1 = sc.pl.spatial(Batch_list[1], img_key=None, color=['mclust'], title=[''],\n",
    "                      legend_loc=None, legend_fontsize=12, show=False, ax=ax[1], frameon=False,\n",
    "                      spot_size=spot_size)\n",
    "_sc_1[0].set_title(\"ARI=\" + str(ARI_list[1]), size=title_size)\n",
    "# _sc_2 = sc.pl.spatial(Batch_list[2], img_key=None, color=['mclust'], title=[''],\n",
    "#                       legend_loc=None, legend_fontsize=12, show=False, ax=ax[2], frameon=False,\n",
    "#                       spot_size=spot_size)\n",
    "# _sc_2[0].set_title(\"ARI=\" + str(ARI_list[2]), size=title_size)\n",
    "# _sc_3 = sc.pl.spatial(Batch_list[3], img_key=None, color=['mclust'], title=[''],\n",
    "#                       legend_fontsize=12, show=False, ax=ax[3], frameon=False,\n",
    "#                       spot_size=spot_size)\n",
    "# _sc_3[0].set_title(\"ARI=\" + str(ARI_list[3]), size=title_size)\n",
    "\n",
    "plt.savefig(out_dir + expriment_name + '_ARI.png', dpi=300)\n",
    "plt.show()"
   ]
  },
  {
   "cell_type": "markdown",
   "id": "c7179c75-c1fc-4850-8d43-26c38e7b30f2",
   "metadata": {},
   "source": [
    "# save h5ad"
   ]
  },
  {
   "cell_type": "code",
   "execution_count": null,
   "id": "71dce194-bd86-44ef-82cc-cea0cca1165a",
   "metadata": {},
   "outputs": [],
   "source": [
    "print(type(adata_concat))\n",
    "print(adata_concat.obsm)\n",
    "print(adata_concat)\n",
    "\n",
    "#  tuple 不能保存为h5ad\n",
    "adata_concat.uns['edgeList'] = list(adata_concat.uns['edgeList'])\n",
    "\n",
    "print(adata_concat.isbacked)\n",
    "adata_concat.filename = out_dir + expriment_name + '.h5ad'\n",
    "print(adata_concat.isbacked)"
   ]
  }
 ],
 "metadata": {
  "kernelspec": {
   "display_name": "Python 3 (ipykernel)",
   "language": "python",
   "name": "python3"
  },
  "language_info": {
   "codemirror_mode": {
    "name": "ipython",
    "version": 3
   },
   "file_extension": ".py",
   "mimetype": "text/x-python",
   "name": "python",
   "nbconvert_exporter": "python",
   "pygments_lexer": "ipython3",
   "version": "3.9.13"
  }
 },
 "nbformat": 4,
 "nbformat_minor": 5
}
