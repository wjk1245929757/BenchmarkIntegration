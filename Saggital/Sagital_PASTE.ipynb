{
 "cells": [
  {
   "cell_type": "code",
   "execution_count": 1,
   "id": "f745c02c-ce2a-4d4d-b686-8ea28bd67eea",
   "metadata": {},
   "outputs": [],
   "source": [
    "import matplotlib.pyplot as plt\n",
    "import matplotlib.patches as mpatches\n",
    "import numpy as np\n",
    "import pandas as pd\n",
    "import scanpy as sc\n",
    "import paste as pst\n",
    "import ot"
   ]
  },
  {
   "cell_type": "code",
   "execution_count": 2,
   "id": "7cc2e448-c975-4d7d-9b26-c9832424b0d5",
   "metadata": {},
   "outputs": [],
   "source": [
    "# sample_names = [\"anterior1\",\"anterior2\"]\n",
    "sample_names = [\"posterior1\",\"posterior2\"]\n",
    "# sample_names = [\"Anterior1\",\"Posterior1\"]\n",
    "# sample_names = [\"Anterior2\",\"Posterior2\"]\n",
    "input_dir = 'G:/dataset/2_saggital/input/'\n",
    "output_dir = 'G:/dataset/2_saggital/output/PASTE/'"
   ]
  },
  {
   "cell_type": "markdown",
   "id": "88af2db9-a999-42b7-a873-a92986d54f59",
   "metadata": {},
   "source": [
    "# Load Slices"
   ]
  },
  {
   "cell_type": "code",
   "execution_count": 3,
   "id": "a4e0f71e-84df-4370-ba0a-cb23c3c9efaf",
   "metadata": {},
   "outputs": [
    {
     "name": "stdout",
     "output_type": "stream",
     "text": [
      "posterior1\n"
     ]
    },
    {
     "name": "stderr",
     "output_type": "stream",
     "text": [
      "D:\\anaconda\\envs\\paste\\lib\\site-packages\\anndata\\_core\\anndata.py:1840: UserWarning: Variable names are not unique. To make them unique, call `.var_names_make_unique`.\n",
      "  utils.warn_names_duplicates(\"var\")\n",
      "D:\\anaconda\\envs\\paste\\lib\\site-packages\\anndata\\_core\\anndata.py:1840: UserWarning: Variable names are not unique. To make them unique, call `.var_names_make_unique`.\n",
      "  utils.warn_names_duplicates(\"var\")\n"
     ]
    },
    {
     "name": "stdout",
     "output_type": "stream",
     "text": [
      "posterior2\n"
     ]
    },
    {
     "name": "stderr",
     "output_type": "stream",
     "text": [
      "D:\\anaconda\\envs\\paste\\lib\\site-packages\\anndata\\_core\\anndata.py:1840: UserWarning: Variable names are not unique. To make them unique, call `.var_names_make_unique`.\n",
      "  utils.warn_names_duplicates(\"var\")\n",
      "D:\\anaconda\\envs\\paste\\lib\\site-packages\\anndata\\_core\\anndata.py:1840: UserWarning: Variable names are not unique. To make them unique, call `.var_names_make_unique`.\n",
      "  utils.warn_names_duplicates(\"var\")\n"
     ]
    }
   ],
   "source": [
    "data_dir = input_dir    # change this path to the data you wish to analyze\n",
    "\n",
    "# Assume that the coordinates of slices are named slice_name + \"_coor.csv\"\n",
    "def load_slices(data_dir, slice_names = sample_names):\n",
    "    slices = []  \n",
    "    for slice_name in slice_names:\n",
    "        print(slice_name)\n",
    "        ### get anndata\n",
    "        slice_i = sc.read_visium(input_dir + slice_name)\n",
    "        slice_i.var_names_make_unique()\n",
    "        # load by meta + coor\n",
    "        # slice_i = sc.read_csv(data_dir + slice_name + \".csv\")\n",
    "        # slice_i_coor = np.genfromtxt(data_dir + slice_name + \"_coor.csv\", delimiter = ',')\n",
    "        # slice_i.obsm['spatial'] = slice_i_coor\n",
    "        \n",
    "        ### Preprocess slices\n",
    "        sc.pp.filter_genes(slice_i, min_counts = 15)\n",
    "        sc.pp.filter_cells(slice_i, min_counts = 100)\n",
    "        slices.append(slice_i)\n",
    "    return slices\n",
    "\n",
    "slices = load_slices(data_dir)\n",
    "slice1, slice2 = slices"
   ]
  },
  {
   "cell_type": "code",
   "execution_count": 4,
   "id": "a2d08490-7915-4422-91ec-ce9c204fbc6d",
   "metadata": {},
   "outputs": [
    {
     "name": "stdout",
     "output_type": "stream",
     "text": [
      "AnnData object with n_obs × n_vars = 3345 × 16013\n",
      "    obs: 'in_tissue', 'array_row', 'array_col', 'n_counts'\n",
      "    var: 'gene_ids', 'feature_types', 'genome', 'n_counts'\n",
      "    uns: 'spatial'\n",
      "    obsm: 'spatial'\n",
      "AnnData object with n_obs × n_vars = 3293 × 15843\n",
      "    obs: 'in_tissue', 'array_row', 'array_col', 'n_counts'\n",
      "    var: 'gene_ids', 'feature_types', 'genome', 'n_counts'\n",
      "    uns: 'spatial'\n",
      "    obsm: 'spatial'\n"
     ]
    }
   ],
   "source": [
    "print(slice1)\n",
    "print(slice2)"
   ]
  },
  {
   "cell_type": "markdown",
   "id": "d70ecaef-49ba-4671-8767-d8b11a0af09f",
   "metadata": {},
   "source": [
    "# run PASTE"
   ]
  },
  {
   "cell_type": "code",
   "execution_count": 5,
   "id": "9a27f850-140b-416d-a7a8-eaf44a1d94cd",
   "metadata": {},
   "outputs": [
    {
     "name": "stdout",
     "output_type": "stream",
     "text": [
      "gpu is available, using gpu.\n"
     ]
    },
    {
     "name": "stderr",
     "output_type": "stream",
     "text": [
      "D:\\anaconda\\envs\\paste\\lib\\site-packages\\ot\\lp\\__init__.py:354: UserWarning: numItermax reached before optimality. Try to increase numItermax.\n",
      "  result_code_string = check_result(result_code)\n"
     ]
    },
    {
     "data": {
      "image/png": "[encoded data removed]",
      "text/plain": [
       "<Figure size 700x700 with 1 Axes>"
      ]
     },
     "metadata": {},
     "output_type": "display_data"
    }
   ],
   "source": [
    "# Pairwise align the slices\n",
    "# pi12 = pst.pairwise_align(slice1, slice2)\n",
    "pi12 = pst.pairwise_align(slice1, slice2, backend = ot.backend.TorchBackend(), use_gpu = True)\n",
    "\n",
    "# To visualize the alignment you can stack the slices \n",
    "# according to the alignment pi\n",
    "slices, pis = [slice1, slice2], [pi12]\n",
    "new_slices = pst.stack_slices_pairwise(slices, pis)\n",
    "slice_colors = ['#e41a1c','#377eb8']\n",
    "plt.figure(figsize=(7,7))\n",
    "for i in range(len(new_slices)):\n",
    "    pst.plot_slice(new_slices[i],slice_colors[i],s=400)\n",
    "plt.legend(handles=[mpatches.Patch(color=slice_colors[0], label='1'),mpatches.Patch(color=slice_colors[1], label='2')])\n",
    "plt.gca().invert_yaxis()\n",
    "plt.axis('off')\n",
    "plt.show()"
   ]
  },
  {
   "cell_type": "code",
   "execution_count": 6,
   "id": "f2a30a6b",
   "metadata": {},
   "outputs": [
    {
     "name": "stdout",
     "output_type": "stream",
     "text": [
      "(6638, 2)\n",
      "(6638,)\n"
     ]
    }
   ],
   "source": [
    "new_coord=np.vstack((new_slices[0].obsm['spatial'],\n",
    "                    new_slices[1].obsm['spatial']))\n",
    "cells=np.hstack((new_slices[0].obs_names,new_slices[1].obs_names))\n",
    "print(new_coord.shape)\n",
    "print(cells.shape)"
   ]
  },
  {
   "cell_type": "code",
   "execution_count": 7,
   "id": "8a16dec8-946d-4d81-840a-b23248ffc5ef",
   "metadata": {},
   "outputs": [],
   "source": [
    "# save coor\n",
    "new_coord=np.vstack((new_slices[0].obsm['spatial'],\n",
    "                    new_slices[1].obsm['spatial']))\n",
    "cells=np.hstack((new_slices[0].obs_names,new_slices[1].obs_names))\n",
    "new_coord=pd.DataFrame(new_coord,index=cells,columns=['x','y'])\n",
    "new_coord.to_csv(output_dir + \"paste_coord_\"+sample_names[0]+\"_\"+sample_names[1]+\".csv\")"
   ]
  },
  {
   "cell_type": "code",
   "execution_count": 7,
   "id": "74f21c71-c292-4dc8-895e-aa8d51ddc9ee",
   "metadata": {},
   "outputs": [
    {
     "name": "stdout",
     "output_type": "stream",
     "text": [
      "Anterior2\n"
     ]
    },
    {
     "name": "stderr",
     "output_type": "stream",
     "text": [
      "D:\\anaconda\\envs\\PASTE\\lib\\site-packages\\anndata\\_core\\anndata.py:1840: UserWarning: Variable names are not unique. To make them unique, call `.var_names_make_unique`.\n",
      "  utils.warn_names_duplicates(\"var\")\n",
      "D:\\anaconda\\envs\\PASTE\\lib\\site-packages\\anndata\\_core\\anndata.py:1840: UserWarning: Variable names are not unique. To make them unique, call `.var_names_make_unique`.\n",
      "  utils.warn_names_duplicates(\"var\")\n"
     ]
    },
    {
     "name": "stdout",
     "output_type": "stream",
     "text": [
      "Posterior2\n"
     ]
    },
    {
     "name": "stderr",
     "output_type": "stream",
     "text": [
      "D:\\anaconda\\envs\\PASTE\\lib\\site-packages\\anndata\\_core\\anndata.py:1840: UserWarning: Variable names are not unique. To make them unique, call `.var_names_make_unique`.\n",
      "  utils.warn_names_duplicates(\"var\")\n",
      "D:\\anaconda\\envs\\PASTE\\lib\\site-packages\\anndata\\_core\\anndata.py:1840: UserWarning: Variable names are not unique. To make them unique, call `.var_names_make_unique`.\n",
      "  utils.warn_names_duplicates(\"var\")\n"
     ]
    },
    {
     "name": "stdout",
     "output_type": "stream",
     "text": [
      "gpu is available, using gpu.\n",
      "Filtered all slices for common genes. There are 15832 common genes.\n",
      "Iteration: 0\n",
      "Solving Pairwise Slice Alignment Problem.\n"
     ]
    },
    {
     "name": "stderr",
     "output_type": "stream",
     "text": [
      "D:\\anaconda\\envs\\PASTE\\lib\\site-packages\\ot\\lp\\__init__.py:354: UserWarning: numItermax reached before optimality. Try to increase numItermax.\n",
      "  result_code_string = check_result(result_code)\n",
      "D:\\anaconda\\envs\\PASTE\\lib\\site-packages\\ot\\lp\\__init__.py:354: UserWarning: numItermax reached before optimality. Try to increase numItermax.\n",
      "  result_code_string = check_result(result_code)\n"
     ]
    },
    {
     "name": "stdout",
     "output_type": "stream",
     "text": [
      "Solving Center Mapping NMF Problem.\n",
      "Objective  -6149785.0\n",
      "Difference: 6149785.0\n",
      "\n",
      "Iteration: 1\n",
      "Solving Pairwise Slice Alignment Problem.\n",
      "Solving Center Mapping NMF Problem.\n"
     ]
    },
    {
     "name": "stderr",
     "output_type": "stream",
     "text": [
      "D:\\anaconda\\envs\\PASTE\\lib\\site-packages\\sklearn\\decomposition\\_nmf.py:1710: ConvergenceWarning: Maximum number of iterations 200 reached. Increase it to improve convergence.\n",
      "  warnings.warn(\n"
     ]
    },
    {
     "name": "stdout",
     "output_type": "stream",
     "text": [
      "Objective  20935.49741959572\n",
      "Difference: 6170720.497419596\n",
      "\n",
      "Iteration: 2\n",
      "Solving Pairwise Slice Alignment Problem.\n",
      "Solving Center Mapping NMF Problem.\n"
     ]
    },
    {
     "name": "stderr",
     "output_type": "stream",
     "text": [
      "D:\\anaconda\\envs\\PASTE\\lib\\site-packages\\sklearn\\decomposition\\_nmf.py:1710: ConvergenceWarning: Maximum number of iterations 200 reached. Increase it to improve convergence.\n",
      "  warnings.warn(\n"
     ]
    },
    {
     "name": "stdout",
     "output_type": "stream",
     "text": [
      "Objective  20936.70372915268\n",
      "Difference: 1.2063095569610596\n",
      "\n",
      "Iteration: 3\n",
      "Solving Pairwise Slice Alignment Problem.\n",
      "Solving Center Mapping NMF Problem.\n",
      "Objective  20936.903388261795\n",
      "Difference: 0.19965910911560059\n",
      "\n",
      "Iteration: 4\n",
      "Solving Pairwise Slice Alignment Problem.\n",
      "Solving Center Mapping NMF Problem.\n",
      "Objective  20936.703632354736\n",
      "Difference: 0.19975590705871582\n",
      "\n",
      "Iteration: 5\n",
      "Solving Pairwise Slice Alignment Problem.\n",
      "Solving Center Mapping NMF Problem.\n",
      "Objective  20936.905263900757\n",
      "Difference: 0.2016315460205078\n",
      "\n",
      "Iteration: 6\n",
      "Solving Pairwise Slice Alignment Problem.\n",
      "Solving Center Mapping NMF Problem.\n"
     ]
    },
    {
     "name": "stderr",
     "output_type": "stream",
     "text": [
      "D:\\anaconda\\envs\\PASTE\\lib\\site-packages\\sklearn\\decomposition\\_nmf.py:1710: ConvergenceWarning: Maximum number of iterations 200 reached. Increase it to improve convergence.\n",
      "  warnings.warn(\n"
     ]
    },
    {
     "name": "stdout",
     "output_type": "stream",
     "text": [
      "Objective  20936.703628063202\n",
      "Difference: 0.20163583755493164\n",
      "\n",
      "Iteration: 7\n",
      "Solving Pairwise Slice Alignment Problem.\n",
      "Solving Center Mapping NMF Problem.\n"
     ]
    },
    {
     "name": "stderr",
     "output_type": "stream",
     "text": [
      "D:\\anaconda\\envs\\PASTE\\lib\\site-packages\\sklearn\\decomposition\\_nmf.py:1710: ConvergenceWarning: Maximum number of iterations 200 reached. Increase it to improve convergence.\n",
      "  warnings.warn(\n"
     ]
    },
    {
     "name": "stdout",
     "output_type": "stream",
     "text": [
      "Objective  20936.903287887573\n",
      "Difference: 0.1996598243713379\n",
      "\n",
      "Iteration: 8\n",
      "Solving Pairwise Slice Alignment Problem.\n",
      "Solving Center Mapping NMF Problem.\n",
      "Objective  20936.704057216644\n",
      "Difference: 0.19923067092895508\n",
      "\n",
      "Iteration: 9\n",
      "Solving Pairwise Slice Alignment Problem.\n",
      "Solving Center Mapping NMF Problem.\n",
      "Objective  20936.904829978943\n",
      "Difference: 0.20077276229858398\n",
      "\n"
     ]
    }
   ],
   "source": [
    "# Center align slices\n",
    "## We have to reload the slices as pairwise_alignment modifies the slices.\n",
    "slices = load_slices(data_dir)\n",
    "slice1, slice2 = slices\n",
    "\n",
    "# Construct a center slice\n",
    "## choose one of the slices as the coordinate reference for the center slice,\n",
    "## i.e. the center slice will have the same number of spots as this slice and\n",
    "## the same coordinates.\n",
    "initial_slice = slice1.copy()    \n",
    "slices = [slice1, slice2]\n",
    "lmbda = len(slices)*[1/len(slices)] # set hyperparameter to be uniform\n",
    "\n",
    "## Possible to pass in an initial pi (as keyword argument pis_init) \n",
    "## to improve performance, see Tutorial.ipynb notebook for more details.\n",
    "# center_slice, pis = pst.center_align(initial_slice, slices, lmbda) \n",
    "center_slice, pis = pst.center_align(initial_slice, slices, lmbda, backend = ot.backend.TorchBackend(), use_gpu = True) \n",
    "\n",
    "## The low dimensional representation of our center slice is held \n",
    "## in the matrices W and H, which can be used for downstream analyses\n",
    "W = center_slice.uns['paste_W']\n",
    "H = center_slice.uns['paste_H']"
   ]
  },
  {
   "cell_type": "code",
   "execution_count": 8,
   "id": "5f28220a-0fc6-4bcd-a842-7ebc986a0ffd",
   "metadata": {},
   "outputs": [
    {
     "name": "stdout",
     "output_type": "stream",
     "text": [
      "<class 'numpy.ndarray'>\n",
      "<class 'numpy.ndarray'>\n",
      "[[6.88458607e-02 9.83002558e-02 9.90510657e-02 ... 1.03723383e+00\n",
      "  2.65652061e-01 1.05621016e+00]\n",
      " [3.62577826e-01 3.39563712e-02 7.39923716e-02 ... 4.07164544e-02\n",
      "  9.69450846e-02 2.25352302e-01]\n",
      " [1.01862419e+00 1.22313172e-01 3.54814696e+00 ... 3.98619920e-01\n",
      "  8.94310698e-02 3.56705338e-01]\n",
      " ...\n",
      " [2.60593563e-01 9.62332249e-01 8.46265495e-01 ... 1.26591235e-01\n",
      "  9.55207288e-01 1.05800085e-01]\n",
      " [2.75659928e-04 1.56989507e-02 2.79270619e-01 ... 2.87035567e-04\n",
      "  1.97962075e-01 1.02494645e-03]\n",
      " [1.83711454e-01 9.21730250e-02 1.14780165e-01 ... 6.47140741e-01\n",
      "  2.40717351e-01 7.00030252e-02]]\n",
      "[[1.2216192e-02 8.0090696e-03 3.4655269e-02 ... 1.4592937e-02\n",
      "  1.3880017e-02 1.5070422e+00]\n",
      " [3.9928863e-03 6.4994718e-05 3.3852629e-02 ... 1.0586824e-02\n",
      "  7.1651801e-03 8.7887806e-01]\n",
      " [2.6046906e-05 5.4718308e-10 4.2002171e-02 ... 7.3107826e-03\n",
      "  2.3821673e-04 5.5868024e-01]\n",
      " ...\n",
      " [8.2181134e-07 1.6071709e-03 3.4458379e-03 ... 1.2006111e-03\n",
      "  1.6461973e-03 1.2364863e-01]\n",
      " [8.3241827e-04 8.3743973e-04 1.9529998e-02 ... 1.4195475e-02\n",
      "  4.2986255e-16 3.8018599e-02]\n",
      " [4.2422544e-03 2.5505968e-03 4.9990393e-02 ... 1.4902120e-07\n",
      "  3.4161520e-03 2.4034930e-02]]\n"
     ]
    }
   ],
   "source": [
    "print(type(W))\n",
    "print(type(H))\n",
    "print(W)\n",
    "print(H)"
   ]
  },
  {
   "cell_type": "code",
   "execution_count": 9,
   "id": "605fd805-5e93-4129-9bbb-f72082ca95c4",
   "metadata": {},
   "outputs": [
    {
     "name": "stdout",
     "output_type": "stream",
     "text": [
      "(2825, 15)\n",
      "(15, 15832)\n"
     ]
    }
   ],
   "source": [
    "print(W.shape)\n",
    "print(H.shape)"
   ]
  },
  {
   "cell_type": "code",
   "execution_count": 10,
   "id": "068b1b52-d23d-420d-ad49-dc45f0bb9263",
   "metadata": {},
   "outputs": [],
   "source": [
    "np.savetxt(output_dir + sample_names[0]+\"_\"+sample_names[1]+\"_W.csv\", W, delimiter=\",\")\n",
    "np.savetxt(output_dir + sample_names[0]+\"_\"+sample_names[1]+\"_H.csv\", H, delimiter=\",\")"
   ]
  }
 ],
 "metadata": {
  "kernelspec": {
   "display_name": "paste",
   "language": "python",
   "name": "paste"
  },
  "language_info": {
   "codemirror_mode": {
    "name": "ipython",
    "version": 3
   },
   "file_extension": ".py",
   "mimetype": "text/x-python",
   "name": "python",
   "nbconvert_exporter": "python",
   "pygments_lexer": "ipython3",
   "version": "3.10.12"
  }
 },
 "nbformat": 4,
 "nbformat_minor": 5
}
