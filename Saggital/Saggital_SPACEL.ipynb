{
 "cells": [
  {
   "cell_type": "code",
   "execution_count": 1,
   "id": "5308ec71-6255-4f66-827b-0817d0cace62",
   "metadata": {},
   "outputs": [
    {
     "name": "stdout",
     "output_type": "stream",
     "text": [
      "D:\\bio\\jupyter_code\\Saggital\n",
      "D:\\bio\\SPACEL\\SPACEL-main\n"
     ]
    }
   ],
   "source": [
    "import os\n",
    "import matplotlib.pyplot as plt \n",
    "\n",
    "print(os.getcwd())#显示当前路径\n",
    "os.chdir('D:/bio/SPACEL/SPACEL-main')#更改路径，''里面为更改的路径\n",
    "print(os.getcwd())#显示当前路径"
   ]
  },
  {
   "cell_type": "code",
   "execution_count": null,
   "id": "c7c57931-1ce9-4c60-8e32-e307a3f63a6d",
   "metadata": {},
   "outputs": [],
   "source": [
    "# datasets = ['Anterior1', 'Anterior2']\n",
    "# datasets = ['Posterior1', 'Posterior2']\n",
    "# datasets = ['Anterior1', 'Posterior1']\n",
    "datasets = ['Anterior2', 'Posterior2']\n",
    "sample_name = 'sample2'\n",
    "input_dir = 'G:/dataset/2_saggital/input/'\n",
    "output_dir = 'G:/dataset/2_saggital/output/SPACEL/'"
   ]
  },
  {
   "cell_type": "code",
   "execution_count": null,
   "id": "c9cc8e25-b47f-4682-bd1c-e33d069c5db6",
   "metadata": {},
   "outputs": [],
   "source": [
    "import SPACEL.Splane.utils\n",
    "import pandas as pd\n",
    "import scanpy as sc\n",
    "\n",
    "for dataset in datasets:\n",
    "    adata = sc.read_visium(input_dir + dataset)\n",
    "    adata.var_names_make_unique()\n",
    "    adata.obs_names_make_unique()\n",
    "    adata_label = pd.read_csv(input_dir + dataset + '/truth.csv', index_col=0)\n",
    "    adata_label.index = [str.replace(str.replace(x, '.', '-'), adata_label['batch'][0] + '-', '') for x in adata_label.index]\n",
    "    adata_label = adata_label[['batch', 'celltype']]\n",
    "    adata_label.rename(columns={'celltype': 'spatial_domain'}, inplace=True)\n",
    "    SPACEL.Splane.utils.add_cell_type_composition(adata, adata_label)\n",
    "    adata.uns['celltypes'] = adata.uns['celltypes'].tolist()\n",
    "    print(adata.isbacked)\n",
    "    adata.filename = output_dir + 'SPACEL_' + sample_name + '_' + dataset + '.h5ad'\n",
    "    print(adata.isbacked)\n",
    "\n",
    "\n",
    "# adata = sc.read_h5ad('D:/dataset/151508/SPACEL_151508.h5ad')\n",
    "# print(adata)\n",
    "# print(adata.obs)\n"
   ]
  },
  {
   "cell_type": "code",
   "execution_count": null,
   "id": "c72c3218-f8fd-4513-8c87-61377edcdcce",
   "metadata": {},
   "outputs": [],
   "source": [
    "import scanpy as sc\n",
    "import pandas as pd\n",
    "adata_list = []\n",
    "for dataset in datasets:\n",
    "    path = output_dir + 'SPACEL_' + sample_name + '_' + dataset + '.h5ad'\n",
    "    print(path)\n",
    "    adata_list.append(sc.read_h5ad(path))\n"
   ]
  },
  {
   "cell_type": "markdown",
   "id": "4fb0d3d7-4cab-492b-bc79-fd9435ca5b7b",
   "metadata": {},
   "source": [
    "## Pairwise alignment\n",
    "Here, we perform pairwise alignment of slices. The cluster_key is a column of .obs which contain spatial domain information used for alignment. The n_neighbors affect how much neighbors are considered when calculate similarity of two slices. The knn_exclude_cutoff affect max distance of neighbors. By default, knn_exclude_cutoff = n_neighbors, which means a spot/cell in source slices consider knn_exclude_cutoff neighbors in target slices, and neighbor will be exclude when the distance of neighbors larger than the median of neareast knn_exclude_cutoff + n_neighbors neighbors distance in all spot/cell in target slice. p affect the exponent of overlap penalty, and a larger p means stronger partial alignment capability."
   ]
  },
  {
   "cell_type": "code",
   "execution_count": null,
   "id": "968e1965-4473-4e3c-87ac-9a68844cbf94",
   "metadata": {},
   "outputs": [],
   "source": [
    "from SPACEL import Scube\n",
    "Scube.align(adata_list,\n",
    "  cluster_key='spatial_domain', \n",
    "  n_neighbors = 4, \n",
    "  p=1,\n",
    "  write_loc_path = output_dir + sample_name + '_aligned_coordinates.csv'\n",
    " )\n",
    "\n",
    "# sc.concat(adata_list).write('../data/ST_mouse_brain/mouse_brain_st.h5ad')"
   ]
  },
  {
   "cell_type": "code",
   "execution_count": null,
   "id": "b44f0390-77fa-4eef-84e4-a5e102ec782a",
   "metadata": {},
   "outputs": [],
   "source": [
    "print(adata_list[0])\n",
    "print(adata_list[1])"
   ]
  },
  {
   "cell_type": "code",
   "execution_count": null,
   "id": "570fefd5-154e-47b6-bdcb-ba741ecb9ba9",
   "metadata": {},
   "outputs": [],
   "source": [
    "Scube.plot_stacked_slices(adata_list,spatial_key='spatial',cluster_key='spatial_domain')\n",
    "plt.savefig(output_dir + sample_name + \"_spatial.png\", dpi=300)"
   ]
  },
  {
   "cell_type": "code",
   "execution_count": null,
   "id": "0a321d93-168d-4b2c-92f0-8cfb392e5233",
   "metadata": {},
   "outputs": [],
   "source": [
    "Scube.plot_stacked_slices(adata_list,spatial_key='spatial_pair',cluster_key='spatial_domain')\n",
    "plt.savefig(output_dir + sample_name + \"_spatial_pair.png\", dpi=300)"
   ]
  },
  {
   "cell_type": "code",
   "execution_count": null,
   "id": "4e81c7a5-9538-4258-8bfc-324f489c0efd",
   "metadata": {},
   "outputs": [],
   "source": [
    "Scube.plot_stacked_slices(adata_list,spatial_key='spatial_aligned',cluster_key='spatial_domain')\n",
    "plt.savefig(output_dir + sample_name + \"_spatial_aligned.png\", dpi=300)"
   ]
  },
  {
   "cell_type": "code",
   "execution_count": null,
   "id": "96697a3c-0bf2-48be-a377-991038599f1b",
   "metadata": {},
   "outputs": [],
   "source": [
    "import seaborn as sns\n",
    "import matplotlib\n",
    "types = adata_list[0].obs['spatial_domain'].unique().tolist()\n",
    "print(types)\n",
    "print(len(types))\n",
    "if len(types) > 10:\n",
    "    colors = [matplotlib.colors.to_hex(c) for c in sns.color_palette('tab20',n_colors=len(types))]\n",
    "else:\n",
    "    colors = [matplotlib.colors.to_hex(c) for c in sns.color_palette('tab10',n_colors=len(types))]\n",
    "print(types)\n",
    "print(colors)"
   ]
  },
  {
   "cell_type": "code",
   "execution_count": null,
   "id": "817990cf-55aa-498e-a448-6843626e5a31",
   "metadata": {},
   "outputs": [],
   "source": [
    "coo = pd.DataFrame()\n",
    "for i in range(len(adata_list)):\n",
    "    loc = adata_list[i].obsm['spatial_aligned'].copy()\n",
    "    loc['Z'] = i\n",
    "    loc['celltype_colors'] = adata_list[i].obs['spatial_domain'].replace(dict(zip(types,colors)))\n",
    "    coo = pd.concat([coo,loc],axis=0)\n",
    "path = output_dir + sample_name + \"_spatial_aligned_3d.png\"\n",
    "Scube.plot_3d(coo.values[:,:3],val=None,color=coo['celltype_colors'],show=True,elev=20,azim=180,s=1,save_path=path, save_dpi=300)"
   ]
  },
  {
   "cell_type": "code",
   "execution_count": null,
   "id": "3171926c-4fc2-4793-83bf-35dfafe3e09c",
   "metadata": {},
   "outputs": [],
   "source": [
    "for i in range(len(adata_list)):\n",
    "    adata = adata_list[i]\n",
    "    dataset = datasets[i]\n",
    "    print(adata.isbacked)\n",
    "    adata.filename = output_dir + 'SPACEL_aligned_' + sample_name + '_' + dataset + '.h5ad'\n",
    "    print(adata.isbacked)"
   ]
  }
 ],
 "metadata": {
  "kernelspec": {
   "display_name": "Python 3 (ipykernel)",
   "language": "python",
   "name": "python3"
  },
  "language_info": {
   "codemirror_mode": {
    "name": "ipython",
    "version": 3
   },
   "file_extension": ".py",
   "mimetype": "text/x-python",
   "name": "python",
   "nbconvert_exporter": "python",
   "pygments_lexer": "ipython3",
   "version": "3.9.13"
  }
 },
 "nbformat": 4,
 "nbformat_minor": 5
}
