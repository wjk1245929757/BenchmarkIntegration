{
 "cells": [
  {
   "cell_type": "code",
   "execution_count": null,
   "id": "fd34599c",
   "metadata": {},
   "outputs": [],
   "source": [
    "import warnings\n",
    "warnings.filterwarnings(\"ignore\")"
   ]
  },
  {
   "cell_type": "code",
   "execution_count": null,
   "id": "d262ce70",
   "metadata": {},
   "outputs": [],
   "source": [
    "import STAligner\n",
    "\n",
    "# the location of R (used for the mclust clustering)\n",
    "# import os\n",
    "# os.environ['R_HOME'] = \"/mnt/disk1/xzhou/anaconda3/envs/STAligner/lib/R\"\n",
    "# os.environ['R_USER'] = \"/mnt/disk1/xzhou/anaconda3/envs/STAligner/lib/python3.8/site-packages/rpy2\"\n",
    "# import rpy2.robjects as robjects\n",
    "# import rpy2.robjects.numpy2ri\n",
    "\n",
    "import anndata as ad\n",
    "import scanpy as sc\n",
    "import pandas as pd\n",
    "import numpy as np\n",
    "import scipy.sparse as sp\n",
    "import scipy.linalg\n",
    "\n",
    "import torch\n",
    "used_device = torch.device('cuda:3' if torch.cuda.is_available() else 'cpu')"
   ]
  },
  {
   "cell_type": "code",
   "execution_count": null,
   "id": "49fba14c",
   "metadata": {},
   "outputs": [],
   "source": [
    "sample_names = ['E9.5_E1S1', 'E10.5_E2S1', 'E11.5_E1S1', 'E12.5_E1S1']\n",
    "input_dir = '/home/lixiangyu/wjk/data/MOSTA/'\n",
    "output_dir = '/home/lixiangyu/wjk/data/MOSTA/STAligner/'\n",
    "experiment_name = 'MouseOlfactoryBulb25um'"
   ]
  },
  {
   "cell_type": "code",
   "execution_count": null,
   "id": "1be587e8",
   "metadata": {},
   "outputs": [],
   "source": [
    "Batch_list = []\n",
    "adj_list = []\n",
    "\n",
    "section_ids = ['E9.5_E1S1', 'E10.5_E2S1', 'E11.5_E1S1', 'E12.5_E1S1']\n",
    "for section_id in section_ids:\n",
    "    print(section_id)\n",
    "    adata = sc.read_h5ad(os.path.join(input_dir + section_id + \".MOSTA.h5ad\"))\n",
    "    adata.X = adata.layers['count']\n",
    "\n",
    "    # make spot name unique\n",
    "    adata.obs_names = [x + '_' + section_id for x in adata.obs_names]\n",
    "\n",
    "    STAligner.Cal_Spatial_Net(adata, rad_cutoff=1.3)\n",
    "\n",
    "    # Normalization\n",
    "    sc.pp.normalize_total(adata, target_sum=1e4)\n",
    "    sc.pp.log1p(adata)\n",
    "    sc.pp.highly_variable_genes(adata, flavor=\"seurat_v3\", n_top_genes=5000) #ensure enough common HVGs in the combined matrix\n",
    "    adata = adata[:, adata.var['highly_variable']]\n",
    "\n",
    "    adj_list.append(adata.uns['adj'])\n",
    "    Batch_list.append(adata)\n"
   ]
  },
  {
   "cell_type": "code",
   "execution_count": null,
   "id": "978d2c88",
   "metadata": {},
   "outputs": [],
   "source": [
    "adata_concat = ad.concat(Batch_list, label=\"slice_name\", keys=section_ids)\n",
    "adata_concat.obs[\"batch_name\"] = adata_concat.obs[\"slice_name\"].astype('category')\n",
    "print('adata_concat.shape: ', adata_concat.shape)"
   ]
  },
  {
   "cell_type": "code",
   "execution_count": null,
   "id": "39af1f36",
   "metadata": {},
   "outputs": [],
   "source": [
    "adj_concat = np.asarray(adj_list[0].todense())\n",
    "for batch_id in range(1,len(section_ids)):\n",
    "    adj_concat = scipy.linalg.block_diag(adj_concat, np.asarray(adj_list[batch_id].todense()))\n",
    "adata_concat.uns['edgeList'] = np.nonzero(adj_concat)"
   ]
  },
  {
   "cell_type": "code",
   "execution_count": null,
   "id": "e6404964",
   "metadata": {},
   "outputs": [],
   "source": [
    "# Important parameter:\n",
    "# \"iter_comb\" is used to specify the order of integration\n",
    "# \"margin\" is used to control the intensity/weight of batch correction\n",
    "iter_comb = [(0, 3), (1, 3), (2, 3)] ## Fix slice 3 as reference to align\n",
    "\n",
    "adata_concat = STAligner.train_STAligner(adata_concat, verbose=True, knn_neigh = 100, iter_comb = iter_comb,\n",
    "                                                        margin=2.5,  device=used_device)"
   ]
  },
  {
   "cell_type": "code",
   "execution_count": null,
   "id": "028da4dd",
   "metadata": {},
   "outputs": [],
   "source": [
    "# # save embedding\n",
    "np.savetxt(output_dir + experiment_name + '_STAligner.csv', adata_concat.obsm['STAligner'], delimiter=\",\")\n",
    "np.savetxt(output_dir + experiment_name + '_STAGATE.csv', adata_concat.obsm['STAGATE'], delimiter=\",\")\n",
    "\n",
    "adata_concat.obs = adata_concat.obs.astype('str')\n",
    "#  tuple 不能保存为h5ad\n",
    "adata_concat.uns['edgeList'] = list(adata_concat.uns['edgeList'])\n",
    "\n",
    "print(adata_concat.isbacked)\n",
    "adata_concat.filename = output_dir + experiment_name + '.h5ad'\n",
    "print(adata_concat.isbacked)"
   ]
  },
  {
   "cell_type": "code",
   "execution_count": 1,
   "id": "c9c9a3d9",
   "metadata": {},
   "outputs": [
    {
     "name": "stderr",
     "output_type": "stream",
     "text": [
      "[NbConvertApp] Converting notebook Untitled.ipynb to python\n",
      "[NbConvertApp] Writing 3074 bytes to Untitled.py\n"
     ]
    }
   ],
   "source": [
    "try:   \n",
    "    !jupyter nbconvert --to python Untitled.ipynb\n",
    "    # python即转化为.py，script即转化为.html\n",
    "    # file_name.ipynb即当前module的文件名\n",
    "except:\n",
    "    pass"
   ]
  }
 ],
 "metadata": {
  "kernelspec": {
   "display_name": "STAligner",
   "language": "python",
   "name": "staligner"
  },
  "language_info": {
   "codemirror_mode": {
    "name": "ipython",
    "version": 3
   },
   "file_extension": ".py",
   "mimetype": "text/x-python",
   "name": "python",
   "nbconvert_exporter": "python",
   "pygments_lexer": "ipython3",
   "version": "3.10.13"
  }
 },
 "nbformat": 4,
 "nbformat_minor": 5
}
