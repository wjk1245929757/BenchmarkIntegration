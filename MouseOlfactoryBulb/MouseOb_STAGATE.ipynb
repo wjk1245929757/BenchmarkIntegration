{
 "cells": [
  {
   "cell_type": "markdown",
   "id": "039ccadc",
   "metadata": {},
   "source": [
    "# Preparation"
   ]
  },
  {
   "cell_type": "code",
   "execution_count": null,
   "id": "3b0f338c",
   "metadata": {},
   "outputs": [],
   "source": [
    "import sys\n",
    "sys.path"
   ]
  },
  {
   "cell_type": "code",
   "execution_count": null,
   "id": "49a85782",
   "metadata": {},
   "outputs": [],
   "source": [
    "import tensorflow as tf"
   ]
  },
  {
   "cell_type": "code",
   "execution_count": null,
   "id": "cbbc9c1b",
   "metadata": {},
   "outputs": [],
   "source": [
    "import pandas as pd\n",
    "import numpy as np\n",
    "import scanpy as sc\n",
    "import os\n",
    "import sys\n",
    "import matplotlib.pyplot as plt\n",
    "import seaborn as sns\n",
    "import gc\n",
    "import tensorflow as tf\n",
    "tf.compat.v1.disable_eager_execution()\n",
    "import warnings\n",
    "warnings.filterwarnings(\"ignore\")"
   ]
  },
  {
   "cell_type": "code",
   "execution_count": null,
   "id": "d59628db",
   "metadata": {},
   "outputs": [],
   "source": [
    "import STAGATE"
   ]
  },
  {
   "cell_type": "code",
   "execution_count": null,
   "id": "e9af972d",
   "metadata": {},
   "outputs": [],
   "source": [
    "# the location of R (used for the mclust clustering)\n",
    "os.environ['R_HOME'] = 'D:\\\\anaconda\\envs\\STAligner\\Lib\\R'\n",
    "os.environ['R_USER'] = 'D:\\\\anaconda\\envs\\STAligner\\Lib\\site-packages\\rpy2'"
   ]
  },
  {
   "cell_type": "code",
   "execution_count": null,
   "id": "9f5e09b2",
   "metadata": {},
   "outputs": [],
   "source": [
    "sample_names = [\"10X\",\"slide\",\"stereo\"]\n",
    "input_dir = 'G:/dataset/06-Mouse olfactory bulb/input/25um/'\n",
    "output_dir = 'G:/dataset/06-Mouse olfactory bulb/output/25um/STAGATE/'\n",
    "experiment_name = 'MouseOlfactoryBulb25um'"
   ]
  },
  {
   "cell_type": "markdown",
   "id": "982ea92b",
   "metadata": {},
   "source": [
    "# load data"
   ]
  },
  {
   "cell_type": "code",
   "execution_count": null,
   "id": "e4007322",
   "metadata": {},
   "outputs": [],
   "source": [
    "import anndata as ad\n",
    "adata_list = {}\n",
    "\n",
    "for dataset in sample_names:\n",
    "    # adata = sc.read_visium(input_dir + dataset)\n",
    "    # adata.var_names_make_unique()\n",
    "    # adata.obs_names_make_unique()\n",
    "\n",
    "    adata = sc.read_h5ad(input_dir + dataset + '.h5ad')\n",
    "    df = adata.obs[['x','y']].astype('float32')\n",
    "    adata.obsm['spatial'] = df.values\n",
    "    \n",
    "    # adata.obs['Ground Truth'] = adata.obs.loc[adata.obs_names, 'Classification'].astype('category')\n",
    "    \n",
    "    # adata = adata[~pd.isna(adata.obs['x'])]\n",
    "    \n",
    "    # make spot name unique\n",
    "    adata.obs_names = [x + '_' + dataset for x in adata.obs_names]\n",
    "    \n",
    "    adata_list[dataset] = adata.copy()"
   ]
  },
  {
   "cell_type": "code",
   "execution_count": null,
   "id": "b95a59fc",
   "metadata": {},
   "outputs": [],
   "source": [
    "print(adata_list)"
   ]
  },
  {
   "cell_type": "code",
   "execution_count": null,
   "id": "0e82b28f",
   "metadata": {},
   "outputs": [],
   "source": [
    "fig, axs = plt.subplots(1, len(sample_names), figsize=(12, 3))\n",
    "it=0\n",
    "for section_id in sample_names:\n",
    "    if it == len(sample_names)-1:\n",
    "        sc.pl.spatial(adata_list[section_id], img_key=\"hires\", ax=axs[it],\n",
    "                      color=[\"x\"], title=section_id, show=False, spot_size = 1)\n",
    "    else:\n",
    "        sc.pl.spatial(adata_list[section_id], img_key=\"hires\", ax=axs[it], legend_loc=None,\n",
    "                      color=[\"x\"], title=section_id, show=False, spot_size = 100)\n",
    "    it+=1"
   ]
  },
  {
   "cell_type": "code",
   "execution_count": null,
   "id": "6c92ca3c",
   "metadata": {},
   "outputs": [],
   "source": [
    "for section_id in sample_names:\n",
    "    if(section_id == '10X'):\n",
    "        STAGATE.Cal_Spatial_Net(adata, rad_cutoff=200)\n",
    "    elif(section_id == 'slide'):\n",
    "        STAGATE.Cal_Spatial_Net(adata, rad_cutoff=50)\n",
    "    else:\n",
    "        STAGATE.Cal_Spatial_Net(adata, rad_cutoff=3)\n",
    "    STAGATE.Stats_Spatial_Net(adata_list[section_id])"
   ]
  },
  {
   "cell_type": "markdown",
   "id": "df02ec3d",
   "metadata": {},
   "source": [
    "# Conbat the scanpy objects and spatial networks"
   ]
  },
  {
   "cell_type": "code",
   "execution_count": null,
   "id": "728da37b",
   "metadata": {},
   "outputs": [],
   "source": [
    "del adata\n",
    "adata = sc.concat([adata_list[x] for x in datasets], keys=None)\n",
    "print(adata)\n",
    "adata.uns['Spatial_Net'] = pd.concat([adata_list[x].uns['Spatial_Net'] for x in datasets])\n",
    "STAGATE.Stats_Spatial_Net(adata)"
   ]
  },
  {
   "cell_type": "code",
   "execution_count": null,
   "id": "4a1cc572-60d1-4140-a372-4335b217f654",
   "metadata": {},
   "outputs": [],
   "source": [
    "print(adata.obsm['spatial'])"
   ]
  },
  {
   "cell_type": "markdown",
   "id": "63e3f1cb",
   "metadata": {},
   "source": [
    "# Normalization"
   ]
  },
  {
   "cell_type": "code",
   "execution_count": null,
   "id": "9eee4a3d",
   "metadata": {},
   "outputs": [],
   "source": [
    "#Normalization\n",
    "sc.pp.highly_variable_genes(adata, flavor=\"seurat_v3\", n_top_genes=3000)\n",
    "sc.pp.normalize_total(adata, target_sum=1e4)\n",
    "sc.pp.log1p(adata)"
   ]
  },
  {
   "cell_type": "markdown",
   "id": "49d4f116",
   "metadata": {},
   "source": [
    "# Running STAGATE"
   ]
  },
  {
   "cell_type": "code",
   "execution_count": null,
   "id": "c6d7298d",
   "metadata": {},
   "outputs": [],
   "source": [
    "adata"
   ]
  },
  {
   "cell_type": "code",
   "execution_count": null,
   "id": "56f6e812-a82f-4ca3-9b44-1231d1fe1642",
   "metadata": {},
   "outputs": [],
   "source": [
    "adata_Vars =  adata[:, adata.var['highly_variable']]\n",
    "X = pd.DataFrame(adata_Vars.X.toarray()[:, ], index=adata_Vars.obs.index, columns=adata_Vars.var.index)\n",
    "print(X)\n",
    "cells = np.array(X.index)\n",
    "print(cells)"
   ]
  },
  {
   "cell_type": "code",
   "execution_count": null,
   "id": "740e5b97",
   "metadata": {},
   "outputs": [],
   "source": [
    "%%time\n",
    "adata = STAGATE.train_STAGATE(adata, alpha=0)"
   ]
  },
  {
   "cell_type": "code",
   "execution_count": null,
   "id": "370d65cb",
   "metadata": {},
   "outputs": [],
   "source": [
    "print(adata)\n",
    "print(type(adata.obsm['STAGATE']))"
   ]
  },
  {
   "cell_type": "markdown",
   "id": "25d5786a",
   "metadata": {},
   "source": [
    "#### save embedding"
   ]
  },
  {
   "cell_type": "code",
   "execution_count": null,
   "id": "28ef7f8f",
   "metadata": {},
   "outputs": [],
   "source": [
    "# save embedding\n",
    "np.savetxt(output_dir + experiment_name + '_STAGATE.csv', adata.obsm['STAGATE'], delimiter=\",\")"
   ]
  },
  {
   "cell_type": "code",
   "execution_count": null,
   "id": "750ad4aa-fc86-40f5-a641-627c6a1554ea",
   "metadata": {},
   "outputs": [],
   "source": [
    "# import seaborn as sns\n",
    "# slice_colors = sns.color_palette(n_colors = 6).as_hex()\n",
    "series = adata.obs['Ground Truth']\n",
    "series = series.astype(\"category\")\n",
    "\n",
    "celltype_num = len(series.value_counts().index)\n",
    "celltypes = series.value_counts().index.tolist()\n",
    "\n",
    "import seaborn as sns\n",
    "colors = sns.color_palette(n_colors = celltype_num).as_hex()\n",
    "\n",
    "num_cluster = celltype_num\n",
    "print(num_cluster)"
   ]
  },
  {
   "cell_type": "code",
   "execution_count": null,
   "id": "3464458a",
   "metadata": {},
   "outputs": [],
   "source": [
    "sc.pp.neighbors(adata, use_rep='STAGATE')\n",
    "sc.tl.umap(adata)\n",
    "\n",
    "# louvein\n",
    "# sc.tl.leiden(adata_sedr, key_added=\"SEDR_leiden\", resolution=eval_resolution)\n",
    "\n",
    "adata = STAGATE.mclust_R(adata, used_obsm='STAGATE', num_cluster=num_cluster)"
   ]
  },
  {
   "cell_type": "code",
   "execution_count": null,
   "id": "c83aea6c",
   "metadata": {
    "scrolled": true
   },
   "outputs": [],
   "source": [
    "# adata.obs['batch_name'] = [x.split('_')[-1] for x in adata.obs_names]\n",
    "\n",
    "plt.rcParams[\"figure.figsize\"] = (3, 3)\n",
    "sc.pl.umap(adata, color='batch')\n",
    "plt.savefig(output_dir + experiment_name + '_batch.png', dpi=300)\n",
    "\n",
    "plt.rcParams[\"figure.figsize\"] = (3, 3)\n",
    "sc.pl.umap(adata, color='Ground Truth')\n",
    "plt.savefig(output_dir + experiment_name + '_truth.png', dpi=300)\n",
    "\n",
    "plt.rcParams[\"figure.figsize\"] = (3, 3)\n",
    "sc.pl.umap(adata, color='mclust')\n",
    "plt.savefig(output_dir + experiment_name + '_mclust.png', dpi=300)"
   ]
  },
  {
   "cell_type": "code",
   "execution_count": null,
   "id": "1d5e815a",
   "metadata": {},
   "outputs": [],
   "source": [
    "fig, axs = plt.subplots(1, len(datasets), figsize=(12, 3))\n",
    "it=0\n",
    "for section_id in datasets:\n",
    "    adata_list[section_id].obs['STAGATE'] = adata.obs.loc[adata_list[section_id].obs_names, 'mclust']\n",
    "    if it == len(datasets)-1:\n",
    "        sc.pl.spatial(adata_list[section_id], img_key=None, ax=axs[it],\n",
    "                      color=[\"STAGATE\"], title=section_id, show=False, spot_size =1)\n",
    "    else:\n",
    "        sc.pl.spatial(adata_list[section_id], img_key=None, ax=axs[it], legend_loc=None,\n",
    "                      color=[\"STAGATE\"], title=section_id, show=False, spot_size =1)\n",
    "    it+=1"
   ]
  },
  {
   "cell_type": "markdown",
   "id": "aa74325e",
   "metadata": {},
   "source": [
    "# Calculate ARI"
   ]
  },
  {
   "cell_type": "code",
   "execution_count": null,
   "id": "6edc45d0",
   "metadata": {},
   "outputs": [],
   "source": [
    "from sklearn.metrics.cluster import adjusted_rand_score\n",
    "\n",
    "for section_id in datasets:\n",
    "    temp_adata = adata[adata.obs['batch']==section_id]\n",
    "    temp_obs = temp_adata.obs.dropna()\n",
    "    temp_ARI = adjusted_rand_score(temp_obs['mclust'], temp_obs['Ground Truth'])\n",
    "    print('ARI of section ID %s: %.3f' %(section_id, temp_ARI))"
   ]
  },
  {
   "cell_type": "markdown",
   "id": "4e12a37c",
   "metadata": {},
   "source": [
    "# Visualization"
   ]
  },
  {
   "cell_type": "code",
   "execution_count": null,
   "id": "d0eb0fa0",
   "metadata": {},
   "outputs": [],
   "source": [
    "sc.pp.neighbors(adata, use_rep='STAGATE', random_state=666)\n",
    "sc.tl.umap(adata, random_state=666)\n",
    "\n",
    "section_color = sns.color_palette(n_colors = len(datasets)).as_hex()\n",
    "section_color_dict = dict(zip(datasets, section_color))\n",
    "adata.uns['batch_name_colors'] = [section_color_dict[x] for x in adata.obs.batch.cat.categories]\n",
    "# adata.obs['mclust'] = pd.Series(ST_utils.match_cluster_labels(adata.obs['Ground Truth'], adata.obs['mclust'].values),\n",
    "#                                          index=adata.obs.index, dtype='category')\n",
    "\n",
    "import matplotlib.pyplot as plt\n",
    "plt.rcParams['font.sans-serif'] = \"Arial\"\n",
    "plt.rcParams[\"figure.figsize\"] = (3, 3)\n",
    "plt.rcParams['font.size'] = 12\n",
    "\n",
    "sc.pl.umap(adata, color=['batch', 'Ground Truth', 'mclust'], ncols=3,\n",
    "           wspace=0.5, show=False)\n",
    "plt.savefig(output_dir + experiment_name + '_umap.png', dpi=300)"
   ]
  },
  {
   "cell_type": "code",
   "execution_count": null,
   "id": "2d49ca53",
   "metadata": {},
   "outputs": [],
   "source": [
    "Batch_list = []\n",
    "for section_id in datasets:\n",
    "    Batch_list.append(adata[adata.obs['batch'] == section_id])\n",
    "\n",
    "import matplotlib.pyplot as plt\n",
    "from sklearn.metrics import adjusted_rand_score as ari_score\n",
    "\n",
    "spot_size = 1\n",
    "title_size = 12\n",
    "ARI_list = []\n",
    "for bb in range(len(datasets)):\n",
    "    ARI_list.append(round(ari_score(Batch_list[bb].obs['Ground Truth'], Batch_list[bb].obs['mclust']), 2))\n",
    "\n",
    "fig, ax = plt.subplots(1, len(datasets), figsize=(10, 5), gridspec_kw={'wspace': 0.05, 'hspace': 0.1})\n",
    "_sc_0 = sc.pl.spatial(Batch_list[0], img_key=None, color=['mclust'], title=[''],\n",
    "                      legend_loc=None, legend_fontsize=12, show=False, ax=ax[0], frameon=False,\n",
    "                      spot_size=spot_size)\n",
    "_sc_0[0].set_title(\"ARI=\" + str(ARI_list[0]), size=title_size)\n",
    "_sc_1 = sc.pl.spatial(Batch_list[1], img_key=None, color=['mclust'], title=[''],\n",
    "                      legend_loc=None, legend_fontsize=12, show=False, ax=ax[1], frameon=False,\n",
    "                      spot_size=spot_size)\n",
    "_sc_1[0].set_title(\"ARI=\" + str(ARI_list[1]), size=title_size)\n",
    "\n",
    "plt.savefig(output_dir + experiment_name + '_ARI.png', dpi=300)\n",
    "plt.show()"
   ]
  },
  {
   "cell_type": "markdown",
   "id": "850e22ca",
   "metadata": {},
   "source": [
    "# save"
   ]
  },
  {
   "cell_type": "code",
   "execution_count": null,
   "id": "33ef23b0",
   "metadata": {},
   "outputs": [],
   "source": [
    "print(type(adata))\n",
    "print(adata.obsm)\n",
    "print(adata)\n",
    "\n",
    "adata.obs = adata.obs.astype('str')\n",
    "\n",
    "print(adata.isbacked)\n",
    "adata.filename = output_dir + experiment_name + '.h5ad'\n",
    "print(adata.isbacked)"
   ]
  },
  {
   "cell_type": "code",
   "execution_count": 1,
   "id": "95b7d20a-9418-40f6-8d18-2aae42b5c793",
   "metadata": {},
   "outputs": [
    {
     "name": "stderr",
     "output_type": "stream",
     "text": [
      "[NbConvertApp] Converting notebook MouseOb_STAGATE.ipynb to python\n",
      "[NbConvertApp] Writing 7773 bytes to MouseOb_STAGATE.py\n"
     ]
    }
   ],
   "source": [
    "try:   \n",
    "    !jupyter nbconvert --to python MouseOb_STAGATE.ipynb\n",
    "    # python即转化为.py，script即转化为.html\n",
    "    # file_name.ipynb即当前module的文件名\n",
    "except:\n",
    "    pass"
   ]
  }
 ],
 "metadata": {
  "kernelspec": {
   "display_name": "STAGATE",
   "language": "python",
   "name": "stagate"
  },
  "language_info": {
   "codemirror_mode": {
    "name": "ipython",
    "version": 3
   },
   "file_extension": ".py",
   "mimetype": "text/x-python",
   "name": "python",
   "nbconvert_exporter": "python",
   "pygments_lexer": "ipython3",
   "version": "3.8.18"
  }
 },
 "nbformat": 4,
 "nbformat_minor": 5
}
