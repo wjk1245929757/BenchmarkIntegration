{
 "cells": [
  {
   "cell_type": "markdown",
   "id": "01e35e1d-aabe-4490-bd2a-3d18d1d139fc",
   "metadata": {},
   "source": [
    "## Preparation"
   ]
  },
  {
   "cell_type": "code",
   "execution_count": null,
   "id": "0a379114-00b4-4d81-9559-07b2e0f92242",
   "metadata": {},
   "outputs": [],
   "source": [
    "import sys\n",
    "sys.path"
   ]
  },
  {
   "cell_type": "code",
   "execution_count": null,
   "id": "3d7d45b8-ab8b-4540-8bd8-2caccd81bc75",
   "metadata": {},
   "outputs": [],
   "source": [
    "#-*- coding : utf-8-*-\n",
    "# coding:unicode_escape\n",
    "import warnings\n",
    "warnings.filterwarnings(\"ignore\")\n",
    "\n",
    "# import ST_utils\n",
    "# import train_STAligner\n",
    "import STAligner\n",
    "\n",
    "# the location of R (used for the mclust clustering)\n",
    "import os\n",
    "os.environ['R_HOME'] = \"D:\\\\anaconda\\envs\\STAligner\\Lib\\R\"\n",
    "os.environ['R_USER'] = \"D:\\\\anaconda\\envs\\STAligner\\Lib\\site-packages\\rpy2\""
   ]
  },
  {
   "cell_type": "code",
   "execution_count": null,
   "id": "168f4ff3-ea93-4fcf-8fdc-8b43b919b743",
   "metadata": {},
   "outputs": [],
   "source": [
    "import rpy2.robjects as robjects\n",
    "import rpy2.robjects.numpy2ri"
   ]
  },
  {
   "cell_type": "code",
   "execution_count": null,
   "id": "50de355a-3b12-49a5-917b-3d52a73ae9ec",
   "metadata": {},
   "outputs": [],
   "source": [
    "import anndata as ad\n",
    "import scanpy as sc\n",
    "import pandas as pd\n",
    "import numpy as np\n",
    "import scipy.sparse as sp\n",
    "import scipy.linalg\n",
    "\n",
    "import torch\n",
    "used_device = torch.device('cuda:0' if torch.cuda.is_available() else 'cpu')\n",
    "print(used_device)"
   ]
  },
  {
   "cell_type": "code",
   "execution_count": null,
   "id": "7cbbd588-e8e4-4872-9590-3c67b1eaeac6",
   "metadata": {},
   "outputs": [],
   "source": [
    "sample_names = [\"10X\",\"slide\",\"stereo\"]\n",
    "input_dir = 'G:/dataset/06-Mouse olfactory bulb/input/25um/'\n",
    "output_dir = 'G:/dataset/06-Mouse olfactory bulb/output/25um/STAligner/'\n",
    "experiment_name = 'MouseOlfactoryBulb25um'"
   ]
  },
  {
   "cell_type": "markdown",
   "id": "d7776d42-84f8-421a-8362-add3c176af6c",
   "metadata": {},
   "source": [
    "## Load Data"
   ]
  },
  {
   "cell_type": "code",
   "execution_count": null,
   "id": "345b6077-7ddf-46ad-b10d-cb3cb7f60f34",
   "metadata": {},
   "outputs": [],
   "source": [
    "from scipy import sparse\n",
    "\n",
    "Batch_list = []\n",
    "adj_list = []\n",
    "\n",
    "for section_id in sample_names:\n",
    "    print(section_id)\n",
    "\n",
    "    adata = sc.read_h5ad(input_dir + section_id+'.h5ad')\n",
    "    print(adata)\n",
    "    df = adata.obs[['x','y']].astype('float32')\n",
    "    adata.obsm['spatial'] = df.values\n",
    "    print(adata.obs.head())\n",
    "    \n",
    "    # make spot name unique\n",
    "    adata.obs_names = [x + '_' + section_id for x in adata.obs_names]\n",
    "\n",
    "    # Constructing the spatial network\n",
    "    if(section_id == '10X'):\n",
    "        STAligner.Cal_Spatial_Net(adata, rad_cutoff=200)\n",
    "    elif(section_id == 'slide'):\n",
    "        STAligner.Cal_Spatial_Net(adata, rad_cutoff=50)\n",
    "    else:\n",
    "        STAligner.Cal_Spatial_Net(adata, rad_cutoff=3)\n",
    "    # the spatial network are saved in adata.uns[‘adj’]\n",
    "    # STAligner.Stats_Spatial_Net(adata) # plot the number of spatial neighbors\n",
    "\n",
    "    # Normalization\n",
    "    sc.pp.highly_variable_genes(adata, flavor=\"seurat_v3\", n_top_genes=5000)\n",
    "    sc.pp.normalize_total(adata, target_sum=1e4)\n",
    "    sc.pp.log1p(adata)\n",
    "    adata = adata[:, adata.var['highly_variable']]\n",
    "\n",
    "    adj_list.append(adata.uns['adj'])\n",
    "    Batch_list.append(adata)"
   ]
  },
  {
   "cell_type": "markdown",
   "id": "d04b39a8-85fc-4528-a9f5-7daad0a3da67",
   "metadata": {},
   "source": [
    "## Concat the scanpy objects for multiple slices"
   ]
  },
  {
   "cell_type": "code",
   "execution_count": null,
   "id": "329ff1ec-04a7-4bd9-bad6-e8319e8ec54d",
   "metadata": {},
   "outputs": [],
   "source": [
    "adata_concat = ad.concat(Batch_list, label=\"slice_name\", keys=sample_names)\n",
    "# adata_concat.obs['Ground Truth'] = adata_concat.obs['Ground Truth'].astype('category')\n",
    "adata_concat.obs[\"batch_name\"] = adata_concat.obs[\"slice_name\"].astype('category')\n",
    "print('adata_concat.shape: ', adata_concat.shape)"
   ]
  },
  {
   "cell_type": "markdown",
   "id": "4f8f963d-3e88-4134-84ca-39d412cb063c",
   "metadata": {},
   "source": [
    "## Concat the spatial network for multiple slices"
   ]
  },
  {
   "cell_type": "code",
   "execution_count": null,
   "id": "eaf0db1e-c471-4030-aea0-927df7675ce9",
   "metadata": {},
   "outputs": [],
   "source": [
    "adj_concat = np.asarray(adj_list[0].todense())\n",
    "for batch_id in range(1,len(sample_names)):\n",
    "    adj_concat = scipy.linalg.block_diag(adj_concat, np.asarray(adj_list[batch_id].todense()))\n",
    "adata_concat.uns['edgeList'] = np.nonzero(adj_concat)"
   ]
  },
  {
   "cell_type": "markdown",
   "id": "2c22fd86-903f-4310-881e-1ce7a68ffcd5",
   "metadata": {},
   "source": [
    "## Running STAligner"
   ]
  },
  {
   "cell_type": "code",
   "execution_count": null,
   "id": "67cc94dc-3c56-48a9-93b5-6ab523665b03",
   "metadata": {},
   "outputs": [],
   "source": [
    "%%time\n",
    "adata_concat = STAligner.train_STAligner(adata_concat, verbose=True, knn_neigh = 50, device=used_device)"
   ]
  },
  {
   "cell_type": "markdown",
   "id": "a93585f3-bd7d-406f-a5b1-d417913fcecc",
   "metadata": {},
   "source": [
    "# save embedding"
   ]
  },
  {
   "cell_type": "code",
   "execution_count": null,
   "id": "9ad7e6f8-e475-4f1a-a7c9-7a71f00d7a6e",
   "metadata": {},
   "outputs": [],
   "source": [
    "# save embedding\n",
    "np.savetxt(output_dir + experiment_name + '_STAligner.csv', adata_concat.obsm['STAligner'], delimiter=\",\")\n",
    "np.savetxt(output_dir + experiment_name + '_STAGATE.csv', adata_concat.obsm['STAGATE'], delimiter=\",\")"
   ]
  },
  {
   "cell_type": "markdown",
   "id": "28869149-b5c6-485e-94c9-23eca54a5d29",
   "metadata": {},
   "source": [
    "## Clustering"
   ]
  },
  {
   "cell_type": "code",
   "execution_count": null,
   "id": "bfd125f5-75a9-425b-b51d-c82c67545ac3",
   "metadata": {},
   "outputs": [],
   "source": [
    "adata_concat"
   ]
  },
  {
   "cell_type": "code",
   "execution_count": null,
   "id": "4adcaf64-a67c-49c6-b137-6c1bffddc346",
   "metadata": {},
   "outputs": [],
   "source": [
    "# import seaborn as sns\n",
    "# slice_colors = sns.color_palette(n_colors = 6).as_hex()\n",
    "series = adata_concat.obs['Ground Truth'].astype(\"category\")\n",
    "\n",
    "celltype_num = len(series.value_counts().index)\n",
    "celltypes = series.value_counts().index.tolist()\n",
    "print(celltype_num)\n",
    "\n",
    "import seaborn as sns\n",
    "colors = sns.color_palette(n_colors = celltype_num).as_hex()"
   ]
  },
  {
   "cell_type": "code",
   "execution_count": null,
   "id": "38ea6726-c9b0-4dab-a292-a287fa5a571a",
   "metadata": {},
   "outputs": [],
   "source": [
    "num_cluster = celltype_num"
   ]
  },
  {
   "cell_type": "code",
   "execution_count": null,
   "id": "b23f9ca5-b292-4bcc-93fc-b60ef49d2716",
   "metadata": {},
   "outputs": [],
   "source": [
    "from STAligner import ST_utils\n",
    "ST_utils.mclust_R(adata_concat, num_cluster=num_cluster, used_obsm='STAligner')\n",
    "# adata_concat = adata_concat[adata_concat.obs['Ground Truth']!='unknown']"
   ]
  },
  {
   "cell_type": "code",
   "execution_count": null,
   "id": "50ce70e8-6801-4e51-8b39-86468fc51d69",
   "metadata": {},
   "outputs": [],
   "source": [
    "from sklearn.metrics import adjusted_rand_score as ari_score\n",
    "print('mclust, ARI = %01.3f' % ari_score(adata_concat.obs['Ground Truth'], adata_concat.obs['mclust']))"
   ]
  },
  {
   "cell_type": "markdown",
   "id": "50abe968-b843-47b0-a8c1-5edcedbffb0f",
   "metadata": {},
   "source": [
    "## Visualization"
   ]
  },
  {
   "cell_type": "code",
   "execution_count": null,
   "id": "75886135-95b8-403c-a838-ea33f0dc40b5",
   "metadata": {},
   "outputs": [],
   "source": [
    "sc.pp.neighbors(adata_concat, use_rep='STAligner', random_state=666)\n",
    "sc.tl.umap(adata_concat, random_state=666)\n",
    "\n",
    "# section_color = ['#f8766d', '#7cae00', '#00bfc4', '#c77cff']\n",
    "section_color = sns.color_palette(n_colors = len(sample_names)).as_hex()\n",
    "section_color_dict = dict(zip(sample_names, section_color))\n",
    "adata_concat.uns['batch_name_colors'] = [section_color_dict[x] for x in adata_concat.obs.batch_name.cat.categories]\n",
    "adata_concat.obs['mclust'] = pd.Series(ST_utils.match_cluster_labels(adata_concat.obs['Ground Truth'], adata_concat.obs['mclust'].values),\n",
    "                                         index=adata_concat.obs.index, dtype='category')\n",
    "\n",
    "import matplotlib.pyplot as plt\n",
    "plt.rcParams['font.sans-serif'] = \"Arial\"\n",
    "plt.rcParams[\"figure.figsize\"] = (3, 3)\n",
    "plt.rcParams['font.size'] = 12\n",
    "\n",
    "sc.pl.umap(adata_concat, color=['batch_name', 'Ground Truth', 'mclust'], ncols=3,\n",
    "           wspace=0.5, show=False)\n",
    "\n",
    "plt.savefig(output_dir + experiment_name + '_umap.png', dpi=300)"
   ]
  },
  {
   "cell_type": "code",
   "execution_count": null,
   "id": "0f80e3c9-50dd-424b-82a7-8339e03f9f02",
   "metadata": {},
   "outputs": [],
   "source": [
    "Batch_list = []\n",
    "for section_id in sample_names:\n",
    "    Batch_list.append(adata_concat[adata_concat.obs['batch_name'] == section_id])\n",
    "\n",
    "import matplotlib.pyplot as plt\n",
    "spot_size = 1\n",
    "title_size = 12\n",
    "ARI_list = []\n",
    "for bb in range(len(Batch_list)):\n",
    "    ARI_list.append(round(ari_score(Batch_list[bb].obs['Ground Truth'], Batch_list[bb].obs['mclust']), 2))\n",
    "\n",
    "fig, ax = plt.subplots(1, len(Batch_list), figsize=(10, 5), gridspec_kw={'wspace': 0.05, 'hspace': 0.1})\n",
    "_sc_0 = sc.pl.spatial(Batch_list[0], img_key=None, color=['mclust'], title=[''],\n",
    "                      legend_loc=None, legend_fontsize=12, show=False, ax=ax[0], frameon=False,\n",
    "                      spot_size=spot_size)\n",
    "_sc_0[0].set_title(\"ARI=\" + str(ARI_list[0]), size=title_size)\n",
    "_sc_1 = sc.pl.spatial(Batch_list[1], img_key=None, color=['mclust'], title=[''],\n",
    "                      legend_loc=None, legend_fontsize=12, show=False, ax=ax[1], frameon=False,\n",
    "                      spot_size=spot_size)\n",
    "_sc_1[0].set_title(\"ARI=\" + str(ARI_list[1]), size=title_size)\n",
    "\n",
    "plt.savefig(output_dir + experiment_name + '_ARI.png', dpi=300)\n",
    "plt.show()"
   ]
  },
  {
   "cell_type": "markdown",
   "id": "c7179c75-c1fc-4850-8d43-26c38e7b30f2",
   "metadata": {},
   "source": [
    "# save h5ad"
   ]
  },
  {
   "cell_type": "code",
   "execution_count": null,
   "id": "71dce194-bd86-44ef-82cc-cea0cca1165a",
   "metadata": {},
   "outputs": [],
   "source": [
    "print(type(adata_concat))\n",
    "print(adata_concat.obsm)\n",
    "print(adata_concat)\n",
    "\n",
    "adata_concat.obs = adata_concat.obs.astype('str')\n",
    "#  tuple 不能保存为h5ad\n",
    "adata_concat.uns['edgeList'] = list(adata_concat.uns['edgeList'])\n",
    "\n",
    "print(adata_concat.isbacked)\n",
    "adata_concat.filename = output_dir + experiment_name + '.h5ad'\n",
    "print(adata_concat.isbacked)"
   ]
  }
 ],
 "metadata": {
  "kernelspec": {
   "display_name": "STAligner",
   "language": "python",
   "name": "staligner"
  },
  "language_info": {
   "codemirror_mode": {
    "name": "ipython",
    "version": 3
   },
   "file_extension": ".py",
   "mimetype": "text/x-python",
   "name": "python",
   "nbconvert_exporter": "python",
   "pygments_lexer": "ipython3",
   "version": "3.10.13"
  }
 },
 "nbformat": 4,
 "nbformat_minor": 5
}
