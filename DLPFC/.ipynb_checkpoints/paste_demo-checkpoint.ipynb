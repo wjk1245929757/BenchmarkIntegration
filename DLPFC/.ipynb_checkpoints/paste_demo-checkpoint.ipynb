{
 "cells": [
  {
   "cell_type": "code",
   "execution_count": null,
   "id": "a7da0b8c",
   "metadata": {},
   "outputs": [],
   "source": [
    "import matplotlib.pyplot as plt\n",
    "import matplotlib.patches as mpatches\n",
    "import numpy as np\n",
    "import scanpy as sc\n",
    "import paste as pst\n",
    "\n",
    "# Load Slices\n",
    "data_dir = './sample_data/' # change this path to the data you wish to analyze\n",
    "\n",
    "# Assume that the coordinates of slices are named slice_name + \"_coor.csv\"\n",
    "def load_slices(data_dir, slice_names=[\"slice1\", \"slice2\"]):\n",
    "    slices = []  \n",
    "    for slice_name in slice_names:\n",
    "        slice_i = sc.read_csv(data_dir + slice_name + \".csv\")\n",
    "        slice_i_coor = np.genfromtxt(data_dir + slice_name + \"_coor.csv\", delimiter = ',')\n",
    "        slice_i.obsm['spatial'] = slice_i_coor\n",
    "        # Preprocess slices\n",
    "        sc.pp.filter_genes(slice_i, min_counts = 15)\n",
    "        sc.pp.filter_cells(slice_i, min_counts = 100)\n",
    "        slices.append(slice_i)\n",
    "    return slices\n"
   ]
  },
  {
   "cell_type": "code",
   "execution_count": null,
   "id": "85cfc8f1",
   "metadata": {},
   "outputs": [],
   "source": [
    "# Pairwise align the slices\n",
    "slices = load_slices(data_dir)\n",
    "slice1, slice2 = slices\n",
    "\n",
    "pi12 = pst.pairwise_align(slice1, slice2)\n",
    "\n",
    "# To visualize the alignment you can stack the slices \n",
    "# according to the alignment pi\n",
    "slices, pis = [slice1, slice2], [pi12]\n",
    "new_slices = pst.stack_slices_pairwise(slices, pis)\n",
    "\n",
    "slice_colors = ['#e41a1c','#377eb8']\n",
    "plt.figure(figsize=(7,7))\n",
    "for i in range(len(new_slices)):\n",
    "    pst.plot_slice(new_slices[i],slice_colors[i],s=400)\n",
    "plt.legend(handles=[mpatches.Patch(color=slice_colors[0], label='1'),mpatches.Patch(color=slice_colors[1], label='2')])\n",
    "plt.gca().invert_yaxis()\n",
    "plt.axis('off')\n",
    "plt.show()"
   ]
  },
  {
   "cell_type": "code",
   "execution_count": null,
   "id": "1b11aeb6",
   "metadata": {},
   "outputs": [],
   "source": [
    "# Center align slices\n",
    "## We have to reload the slices as pairwise_alignment modifies the slices.\n",
    "slices = load_slices(data_dir)\n",
    "slice1, slice2 = slices\n",
    "\n",
    "# Construct a center slice\n",
    "## choose one of the slices as the coordinate reference for the center slice,\n",
    "## i.e. the center slice will have the same number of spots as this slice and\n",
    "## the same coordinates.\n",
    "initial_slice = slice1.copy()    \n",
    "slices = [slice1, slice2]\n",
    "lmbda = len(slices)*[1/len(slices)] # set hyperparameter to be uniform\n",
    "\n",
    "## Possible to pass in an initial pi (as keyword argument pis_init) \n",
    "## to improve performance, see Tutorial.ipynb notebook for more details.\n",
    "center_slice, pis = pst.center_align(initial_slice, slices, lmbda) \n",
    "\n",
    "## The low dimensional representation of our center slice is held \n",
    "## in the matrices W and H, which can be used for downstream analyses\n",
    "W = center_slice.uns['paste_W']\n",
    "H = center_slice.uns['paste_H']"
   ]
  },
  {
   "cell_type": "markdown",
   "id": "e5a148d8",
   "metadata": {},
   "source": [
    "## GPU implementation\n",
    "PASTE now is compatible with gpu via Pytorch. All we need to do is add the following two parameters to our main functions:"
   ]
  },
  {
   "cell_type": "code",
   "execution_count": null,
   "id": "b7720184",
   "metadata": {},
   "outputs": [],
   "source": [
    "pi12 = pst.pairwise_align(slice1, slice2, backend = ot.backend.TorchBackend(), use_gpu = True)\n",
    "\n",
    "center_slice, pis = pst.center_align(initial_slice, slices, lmbda, backend = ot.backend.TorchBackend(), use_gpu = True) "
   ]
  }
 ],
 "metadata": {
  "kernelspec": {
   "display_name": "Python [conda env:paste] *",
   "language": "python",
   "name": "conda-env-paste-py"
  },
  "language_info": {
   "codemirror_mode": {
    "name": "ipython",
    "version": 3
   },
   "file_extension": ".py",
   "mimetype": "text/x-python",
   "name": "python",
   "nbconvert_exporter": "python",
   "pygments_lexer": "ipython3",
   "version": "3.7.13"
  }
 },
 "nbformat": 4,
 "nbformat_minor": 5
}
