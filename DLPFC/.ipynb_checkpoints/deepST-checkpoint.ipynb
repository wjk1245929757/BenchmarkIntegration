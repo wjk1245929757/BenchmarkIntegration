{
 "cells": [
  {
   "cell_type": "code",
   "execution_count": 1,
   "id": "18c331c1",
   "metadata": {
    "scrolled": true
   },
   "outputs": [],
   "source": [
    "import os\n",
    "print(os.getcwd())#显示当前路径\n",
    "\n",
    "os.chdir('D:/bio/DeepST/DeepST-main/deepst')#更改路径，''里面为更改的路径\n",
    " \n",
    "print(os.getcwd())#显示当前路径"
   ]
  },
  {
   "cell_type": "code",
   "execution_count": 2,
   "id": "e96b32e1",
   "metadata": {},
   "outputs": [],
   "source": [
    "# import os \n",
    "# from DeepST import run\n",
    "# import matplotlib.pyplot as plt\n",
    "# from pathlib import Path\n",
    "\n",
    "# data_path = \"../data/DLPFC\" #### to your path\n",
    "# data_name = '151673' #### project name\n",
    "# save_path = \"../Results\" #### save path\n",
    "# n_domains = 7 ###### the number of spatial domains.\n",
    "# deepen = run(save_path = save_path, \n",
    "#     platform = \"Visium\",\n",
    "#     pca_n_comps = 200,\n",
    "#     pre_epochs = 800, #### According to your own hardware, choose the number of training\n",
    "#     epochs = 1000, #### According to your own hardware, choose the number of training\n",
    "#     Conv_type=\"GCNConv\", #### you can choose GNN types. \n",
    "#     )\n",
    "# adata = deepen._get_adata(data_path, data_name)\n",
    "# adata = deepen._get_augment(adata, adjacent_weight = 0.3, neighbour_k = 4,)\n",
    "# graph_dict = deepen._get_graph(adata.obsm[\"spatial\"], distType=\"BallTree\", k=12)\n",
    "# adata = deepen._fit(adata, graph_dict, pretrain = True)\n",
    "# adata = deepen._get_cluster_data(adata, n_domains = n_domains, priori=True) ###### without using prior knowledge, setting priori = False.\n",
    "# ######## spatial domains\n",
    "# deepen.plot_domains(adata, data_name)\n",
    "# ######## UMAP\n",
    "# deepen.plot_umap(adata, data_name)\n"
   ]
  },
  {
   "cell_type": "code",
   "execution_count": 3,
   "id": "ccbef2eb",
   "metadata": {},
   "outputs": [],
   "source": [
    "# import scanpy as sc\n",
    "# adata = sc.read_h5ad(\"../Results/151673/151673.h5ad\" )"
   ]
  },
  {
   "cell_type": "code",
   "execution_count": 4,
   "id": "dd02f39a",
   "metadata": {},
   "outputs": [],
   "source": [
    "# import os \n",
    "# from DeepST import run\n",
    "# import matplotlib.pyplot as plt\n",
    "# from pathlib import Path\n",
    "\n",
    "# data_path = \"../data/DLPFC\" \n",
    "# data_name_list = ['151673', '151674', '151675', '151676']\n",
    "# save_path = \"../Results\" \n",
    "# n_domains = 7 \n",
    "# deepen = run(save_path = save_path, \n",
    "#     pca_n_comps = 200,\n",
    "#     pre_epochs = 800, #### According to your own hardware, choose the number of training\n",
    "#     epochs = 1000, #### According to your own hardware, choose the number of training\n",
    "#     platform = \"Visium\",\n",
    "#     )\n",
    "# adata, graph_dict, domains = deepen._get_multiple_adata(data_path, data_name_list)\n",
    "# adata = deepen._fit(adata, graph_dict, domains, pretrain = True)\n",
    "# adata = deepen._get_cluster_data(adata, n_domains = n_domains, priori=True)\n",
    "# ########\n",
    "\n",
    "# ######## UMAP\n",
    "# # deepen.plot_umap(adata, color=[\"DeepST_domain\", \"batch_name\"], data_name_list)\n"
   ]
  },
  {
   "cell_type": "code",
   "execution_count": null,
   "id": "55cfdddd",
   "metadata": {},
   "outputs": [],
   "source": [
    "import os \n",
    "from DeepST import run\n",
    "import matplotlib.pyplot as plt\n",
    "from pathlib import Path\n",
    "\n",
    "data_path = \"../data/\" \n",
    "data_name = 'Stereoseq' \n",
    "save_path = \"../Results/\"\n",
    "n_domains = 8 \n",
    "deepen = run(save_path = save_path, \n",
    "    platform = \"stereoseq\", ##### varous platforms\n",
    "    pca_n_comps = 200,\n",
    "    pre_epochs = 800, \n",
    "    epochs = 1000, \n",
    "    )\n",
    "adata, graph_dict = deepen._get_single_adata(data_path, data_name, weights=\"weights_matrix_nomd\") #### Augmentation without using morphological information\n",
    "adata = deepen._fit(adata, graph_dict, pretrain = False)\n",
    "adata = deepen._get_cluster_data(adata, n_domains = n_domains, priori=True)\n",
    "######## spatial domains\n",
    "deepen.plot_domains(adata, data_name)\n",
    "######## UMAP\n",
    "deepen.plot_umap(adata, data_name)\n"
   ]
  },
  {
   "cell_type": "code",
   "execution_count": null,
   "id": "b197e69e",
   "metadata": {},
   "outputs": [],
   "source": [
    "import pandas as pd\n",
    "embed = adata.obsm['DeepST_embed']\n",
    "print(embed)\n",
    "print(len(embed[0]))\n",
    "print(len(embed))\n",
    "cells = np.array([i.split('-')[0] + '-' + i.split('-')[1] for i in adata.obs_names])\n",
    "print(cells)\n",
    "print(len(cells))\n",
    "embed_names = ['DeepST-' + str(i) for i in np.arange(embed.shape[1])]\n",
    "print(embed_names)\n",
    "print(len(embed_names))\n",
    "embed = pd.DataFrame(embed, index=cells, columns=embed_names)\n",
    "embed.to_csv(save_path + \"DeepST_mat_10X_BGI-bin50-cluster\" + str(n_domains) + \".txt\")"
   ]
  }
 ],
 "metadata": {
  "kernelspec": {
   "display_name": "Python 3 (ipykernel)",
   "language": "python",
   "name": "python3"
  },
  "language_info": {
   "codemirror_mode": {
    "name": "ipython",
    "version": 3
   },
   "file_extension": ".py",
   "mimetype": "text/x-python",
   "name": "python",
   "nbconvert_exporter": "python",
   "pygments_lexer": "ipython3",
   "version": "3.9.16"
  }
 },
 "nbformat": 4,
 "nbformat_minor": 5
}
