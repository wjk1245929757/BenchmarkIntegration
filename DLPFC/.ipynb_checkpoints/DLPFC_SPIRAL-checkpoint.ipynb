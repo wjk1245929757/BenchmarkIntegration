{
 "cells": [
  {
   "cell_type": "code",
   "execution_count": 1,
   "id": "c80598cb-6781-4bd7-ab6a-8bceff512aca",
   "metadata": {},
   "outputs": [
    {
     "name": "stdout",
     "output_type": "stream",
     "text": [
      "D:\\bio\\jupyter_code\\DLPFC\n",
      "D:\\bio\\SPIRAL\\SPIRAL-main\n"
     ]
    }
   ],
   "source": [
    "import os\n",
    "print(os.getcwd())#显示当前路径\n",
    "os.chdir('D:/bio/SPIRAL/SPIRAL-main')#更改路径，''里面为更改的路径\n",
    "print(os.getcwd())#显示当前路径"
   ]
  },
  {
   "cell_type": "code",
   "execution_count": 2,
   "id": "786c9afb-808f-4f3f-b368-1119923d6c3f",
   "metadata": {},
   "outputs": [],
   "source": [
    "import os\n",
    "import numpy as np\n",
    "import argparse\n",
    "\n",
    "import pandas as pd\n",
    "from sklearn.decomposition import PCA\n",
    "from operator import itemgetter\n",
    "import random\n",
    "import matplotlib.pyplot as plt\n",
    "import umap.umap_ as umap\n",
    "import time\n",
    "import torch\n",
    "\n",
    "from spiral.main import SPIRAL_integration\n",
    "from spiral.layers import *\n",
    "from spiral.utils import *\n",
    "from spiral.CoordAlignment import CoordAlignment\n",
    "\n",
    "os.environ['R_HOME'] = \"D:\\\\anaconda\\envs\\STAligner\\Lib\\R\"\n",
    "os.environ['R_USER'] = \"D:\\\\anaconda\\envs\\STAligner\\Lib\\site-packages\\rpy2\"\n",
    "R_dirs = \"D:\\\\anaconda\\envs\\STAligner\\Lib\\R\"\n",
    "os.environ['CUDA_VISIBLE_DEVICES'] = '0'"
   ]
  },
  {
   "cell_type": "code",
   "execution_count": 3,
   "id": "2b24e1d1-cfc9-4e77-b264-8adaf65a6c89",
   "metadata": {},
   "outputs": [],
   "source": [
    "# for generate edge\n",
    "import os\n",
    "import scanpy as sc\n",
    "import pandas as pd\n",
    "import numpy as np\n",
    "import sklearn.neighbors\n",
    "import scipy.sparse as sp\n",
    "from sklearn.decomposition import PCA"
   ]
  },
  {
   "cell_type": "markdown",
   "id": "99d42ae7-1b6a-41d0-9fbd-f2ec90ea9317",
   "metadata": {},
   "source": [
    "## Step0:Prepare data"
   ]
  },
  {
   "cell_type": "code",
   "execution_count": 4,
   "id": "167590ce-89ad-4ddf-91a2-97993337a8c4",
   "metadata": {},
   "outputs": [],
   "source": [
    "input_dir = \"D:/dataset/\"\n",
    "output_dir = \"G:/dataset/1_DLPFC/output/SPIRAL/\"\n",
    "sample_name = 'Donor1'\n",
    "datasets = ['151507', '151508', '151509', '151510', '151669', '151670', '151671', '151672', '151673', '151674', '151675', '151676']"
   ]
  },
  {
   "cell_type": "code",
   "execution_count": null,
   "id": "7676c38e-36e9-4a0d-91f9-41ac54552e11",
   "metadata": {},
   "outputs": [],
   "source": [
    "for dataset in datasets:\n",
    "    adata = sc.read_visium(input_dir + dataset)\n",
    "    adata.var_names_make_unique()\n",
    "    adata.obs_names_make_unique()\n",
    "    adata_label = pd.read_csv(input_dir + dataset + '/' + dataset + '_truth.csv', index_col=0)\n",
    "    adata_label = adata_label[['batch', 'ground.truth']]\n",
    "    # np.savetxt(output_dir+\"input_scanpy/\"+dataset+\"_features.txt\", sp.csr_matrix(adata.X).A, delimiter=',')\n",
    "    # np.savetxt(output_dir+\"input_scanpy/\"+dataset+\"_positions.txt\", adata.obsm['spatial'], delimiter=',')\n",
    "    pd.DataFrame(sp.csr_matrix(adata.X).A).to_csv(output_dir+\"input_scanpy/\"+dataset+\"_features.txt\", sep=',')\n",
    "    pd.DataFrame(adata.obsm['spatial']).to_csv(output_dir+\"input_scanpy/\"+dataset+\"_positions.txt\", sep=',')\n",
    "    adata_label.to_csv(output_dir+\"input_scanpy/\"+dataset+\"_label.txt\", sep=',')\n",
    "\n",
    "\n",
    "del adata\n",
    "del adata_label\n",
    "del dataset"
   ]
  },
  {
   "cell_type": "code",
   "execution_count": 5,
   "id": "f1df73b4-863f-464e-a1cb-4a8ace6b38b5",
   "metadata": {},
   "outputs": [],
   "source": [
    "def Cal_Spatial_Net(adata, rad_cutoff=None, k_cutoff=None, model='Radius', verbose=True):\n",
    "    \"\"\"\\\n",
    "    Construct the spatial neighbor networks.\n",
    "\n",
    "    Parameters\n",
    "    ----------\n",
    "    adata\n",
    "        AnnData object of scanpy package.\n",
    "    rad_cutoff\n",
    "        radius cutoff when model='Radius'\n",
    "    k_cutoff\n",
    "        The number of nearest neighbors when model='KNN'\n",
    "    model\n",
    "        The network construction model. When model=='Radius', the spot is connected to spots whose distance is less than rad_cutoff. When model=='KNN', the spot is connected to its first k_cutoff nearest neighbors.\n",
    "    \n",
    "    Returns\n",
    "    -------\n",
    "    The spatial networks are saved in adata.uns['Spatial_Net']\n",
    "    \"\"\"\n",
    "\n",
    "    assert(model in ['Radius', 'KNN'])\n",
    "    if verbose:\n",
    "        print('------Calculating spatial graph...')\n",
    "    coor = pd.DataFrame(adata.obsm['spatial'])\n",
    "    coor.index = adata.obs.index\n",
    "#     coor.columns = ['imagerow', 'imagecol']\n",
    "\n",
    "    if model == 'Radius':\n",
    "        nbrs = sklearn.neighbors.NearestNeighbors(radius=rad_cutoff).fit(coor)\n",
    "        distances, indices = nbrs.radius_neighbors(coor, return_distance=True)\n",
    "        KNN_list = []\n",
    "        for it in range(indices.shape[0]):\n",
    "            KNN_list.append(pd.DataFrame(zip([it]*indices[it].shape[0], indices[it], distances[it])))\n",
    "    \n",
    "    if model == 'KNN':\n",
    "        nbrs = sklearn.neighbors.NearestNeighbors(n_neighbors=k_cutoff+1).fit(coor)\n",
    "        distances, indices = nbrs.kneighbors(coor)\n",
    "        KNN_list = []\n",
    "        for it in range(indices.shape[0]):\n",
    "            KNN_list.append(pd.DataFrame(zip([it]*indices.shape[1],indices[it,:], distances[it,:])))\n",
    "\n",
    "    KNN_df = pd.concat(KNN_list)\n",
    "    KNN_df.columns = ['Cell1', 'Cell2', 'Distance']\n",
    "\n",
    "    Spatial_Net = KNN_df.copy()\n",
    "    Spatial_Net = Spatial_Net.loc[Spatial_Net['Distance']>0,]\n",
    "    id_cell_trans = dict(zip(range(coor.shape[0]), np.array(coor.index), ))\n",
    "    Spatial_Net['Cell1'] = Spatial_Net['Cell1'].map(id_cell_trans)\n",
    "    Spatial_Net['Cell2'] = Spatial_Net['Cell2'].map(id_cell_trans)\n",
    "    if verbose:\n",
    "        print('The graph contains %d edges, %d cells.' %(Spatial_Net.shape[0], adata.n_obs))\n",
    "        print('%.4f neighbors per cell on average.' %(Spatial_Net.shape[0]/adata.n_obs))\n",
    "\n",
    "    adata.uns['Spatial_Net'] = Spatial_Net"
   ]
  },
  {
   "cell_type": "code",
   "execution_count": 6,
   "id": "d75eb769-87c2-45e7-a32c-1c118d4cb35a",
   "metadata": {
    "scrolled": true
   },
   "outputs": [
    {
     "name": "stderr",
     "output_type": "stream",
     "text": [
      "D:\\anaconda\\envs\\spiral\\lib\\site-packages\\anndata\\_core\\anndata.py:1840: UserWarning: Variable names are not unique. To make them unique, call `.var_names_make_unique`.\n",
      "  utils.warn_names_duplicates(\"var\")\n",
      "D:\\anaconda\\envs\\spiral\\lib\\site-packages\\anndata\\_core\\anndata.py:1113: FutureWarning: is_categorical_dtype is deprecated and will be removed in a future version. Use isinstance(dtype, CategoricalDtype) instead\n",
      "  if not is_categorical_dtype(df_full[k]):\n",
      "D:\\anaconda\\envs\\spiral\\lib\\site-packages\\anndata\\_core\\anndata.py:1840: UserWarning: Variable names are not unique. To make them unique, call `.var_names_make_unique`.\n",
      "  utils.warn_names_duplicates(\"var\")\n"
     ]
    },
    {
     "name": "stdout",
     "output_type": "stream",
     "text": [
      "------Calculating spatial graph...\n",
      "The graph contains 25356 edges, 4226 cells.\n",
      "6.0000 neighbors per cell on average.\n"
     ]
    },
    {
     "name": "stderr",
     "output_type": "stream",
     "text": [
      "D:\\anaconda\\envs\\spiral\\lib\\site-packages\\anndata\\_core\\anndata.py:1840: UserWarning: Variable names are not unique. To make them unique, call `.var_names_make_unique`.\n",
      "  utils.warn_names_duplicates(\"var\")\n",
      "D:\\anaconda\\envs\\spiral\\lib\\site-packages\\anndata\\_core\\anndata.py:1113: FutureWarning: is_categorical_dtype is deprecated and will be removed in a future version. Use isinstance(dtype, CategoricalDtype) instead\n",
      "  if not is_categorical_dtype(df_full[k]):\n",
      "D:\\anaconda\\envs\\spiral\\lib\\site-packages\\anndata\\_core\\anndata.py:1840: UserWarning: Variable names are not unique. To make them unique, call `.var_names_make_unique`.\n",
      "  utils.warn_names_duplicates(\"var\")\n"
     ]
    },
    {
     "name": "stdout",
     "output_type": "stream",
     "text": [
      "------Calculating spatial graph...\n",
      "The graph contains 26304 edges, 4384 cells.\n",
      "6.0000 neighbors per cell on average.\n"
     ]
    },
    {
     "name": "stderr",
     "output_type": "stream",
     "text": [
      "D:\\anaconda\\envs\\spiral\\lib\\site-packages\\anndata\\_core\\anndata.py:1840: UserWarning: Variable names are not unique. To make them unique, call `.var_names_make_unique`.\n",
      "  utils.warn_names_duplicates(\"var\")\n",
      "D:\\anaconda\\envs\\spiral\\lib\\site-packages\\anndata\\_core\\anndata.py:1113: FutureWarning: is_categorical_dtype is deprecated and will be removed in a future version. Use isinstance(dtype, CategoricalDtype) instead\n",
      "  if not is_categorical_dtype(df_full[k]):\n",
      "D:\\anaconda\\envs\\spiral\\lib\\site-packages\\anndata\\_core\\anndata.py:1840: UserWarning: Variable names are not unique. To make them unique, call `.var_names_make_unique`.\n",
      "  utils.warn_names_duplicates(\"var\")\n"
     ]
    },
    {
     "name": "stdout",
     "output_type": "stream",
     "text": [
      "------Calculating spatial graph...\n",
      "The graph contains 28734 edges, 4789 cells.\n",
      "6.0000 neighbors per cell on average.\n"
     ]
    },
    {
     "name": "stderr",
     "output_type": "stream",
     "text": [
      "D:\\anaconda\\envs\\spiral\\lib\\site-packages\\anndata\\_core\\anndata.py:1840: UserWarning: Variable names are not unique. To make them unique, call `.var_names_make_unique`.\n",
      "  utils.warn_names_duplicates(\"var\")\n",
      "D:\\anaconda\\envs\\spiral\\lib\\site-packages\\anndata\\_core\\anndata.py:1113: FutureWarning: is_categorical_dtype is deprecated and will be removed in a future version. Use isinstance(dtype, CategoricalDtype) instead\n",
      "  if not is_categorical_dtype(df_full[k]):\n",
      "D:\\anaconda\\envs\\spiral\\lib\\site-packages\\anndata\\_core\\anndata.py:1840: UserWarning: Variable names are not unique. To make them unique, call `.var_names_make_unique`.\n",
      "  utils.warn_names_duplicates(\"var\")\n"
     ]
    },
    {
     "name": "stdout",
     "output_type": "stream",
     "text": [
      "------Calculating spatial graph...\n",
      "The graph contains 27804 edges, 4634 cells.\n",
      "6.0000 neighbors per cell on average.\n"
     ]
    },
    {
     "name": "stderr",
     "output_type": "stream",
     "text": [
      "D:\\anaconda\\envs\\spiral\\lib\\site-packages\\anndata\\_core\\anndata.py:1840: UserWarning: Variable names are not unique. To make them unique, call `.var_names_make_unique`.\n",
      "  utils.warn_names_duplicates(\"var\")\n",
      "D:\\anaconda\\envs\\spiral\\lib\\site-packages\\anndata\\_core\\anndata.py:1113: FutureWarning: is_categorical_dtype is deprecated and will be removed in a future version. Use isinstance(dtype, CategoricalDtype) instead\n",
      "  if not is_categorical_dtype(df_full[k]):\n",
      "D:\\anaconda\\envs\\spiral\\lib\\site-packages\\anndata\\_core\\anndata.py:1840: UserWarning: Variable names are not unique. To make them unique, call `.var_names_make_unique`.\n",
      "  utils.warn_names_duplicates(\"var\")\n"
     ]
    },
    {
     "name": "stdout",
     "output_type": "stream",
     "text": [
      "------Calculating spatial graph...\n",
      "The graph contains 21966 edges, 3661 cells.\n",
      "6.0000 neighbors per cell on average.\n"
     ]
    },
    {
     "name": "stderr",
     "output_type": "stream",
     "text": [
      "D:\\anaconda\\envs\\spiral\\lib\\site-packages\\anndata\\_core\\anndata.py:1840: UserWarning: Variable names are not unique. To make them unique, call `.var_names_make_unique`.\n",
      "  utils.warn_names_duplicates(\"var\")\n",
      "D:\\anaconda\\envs\\spiral\\lib\\site-packages\\anndata\\_core\\anndata.py:1113: FutureWarning: is_categorical_dtype is deprecated and will be removed in a future version. Use isinstance(dtype, CategoricalDtype) instead\n",
      "  if not is_categorical_dtype(df_full[k]):\n",
      "D:\\anaconda\\envs\\spiral\\lib\\site-packages\\anndata\\_core\\anndata.py:1840: UserWarning: Variable names are not unique. To make them unique, call `.var_names_make_unique`.\n",
      "  utils.warn_names_duplicates(\"var\")\n"
     ]
    },
    {
     "name": "stdout",
     "output_type": "stream",
     "text": [
      "------Calculating spatial graph...\n",
      "The graph contains 20988 edges, 3498 cells.\n",
      "6.0000 neighbors per cell on average.\n"
     ]
    },
    {
     "name": "stderr",
     "output_type": "stream",
     "text": [
      "D:\\anaconda\\envs\\spiral\\lib\\site-packages\\anndata\\_core\\anndata.py:1840: UserWarning: Variable names are not unique. To make them unique, call `.var_names_make_unique`.\n",
      "  utils.warn_names_duplicates(\"var\")\n",
      "D:\\anaconda\\envs\\spiral\\lib\\site-packages\\anndata\\_core\\anndata.py:1113: FutureWarning: is_categorical_dtype is deprecated and will be removed in a future version. Use isinstance(dtype, CategoricalDtype) instead\n",
      "  if not is_categorical_dtype(df_full[k]):\n",
      "D:\\anaconda\\envs\\spiral\\lib\\site-packages\\anndata\\_core\\anndata.py:1840: UserWarning: Variable names are not unique. To make them unique, call `.var_names_make_unique`.\n",
      "  utils.warn_names_duplicates(\"var\")\n"
     ]
    },
    {
     "name": "stdout",
     "output_type": "stream",
     "text": [
      "------Calculating spatial graph...\n",
      "The graph contains 24660 edges, 4110 cells.\n",
      "6.0000 neighbors per cell on average.\n"
     ]
    },
    {
     "name": "stderr",
     "output_type": "stream",
     "text": [
      "D:\\anaconda\\envs\\spiral\\lib\\site-packages\\anndata\\_core\\anndata.py:1840: UserWarning: Variable names are not unique. To make them unique, call `.var_names_make_unique`.\n",
      "  utils.warn_names_duplicates(\"var\")\n",
      "D:\\anaconda\\envs\\spiral\\lib\\site-packages\\anndata\\_core\\anndata.py:1113: FutureWarning: is_categorical_dtype is deprecated and will be removed in a future version. Use isinstance(dtype, CategoricalDtype) instead\n",
      "  if not is_categorical_dtype(df_full[k]):\n",
      "D:\\anaconda\\envs\\spiral\\lib\\site-packages\\anndata\\_core\\anndata.py:1840: UserWarning: Variable names are not unique. To make them unique, call `.var_names_make_unique`.\n",
      "  utils.warn_names_duplicates(\"var\")\n"
     ]
    },
    {
     "name": "stdout",
     "output_type": "stream",
     "text": [
      "------Calculating spatial graph...\n",
      "The graph contains 24090 edges, 4015 cells.\n",
      "6.0000 neighbors per cell on average.\n"
     ]
    },
    {
     "name": "stderr",
     "output_type": "stream",
     "text": [
      "D:\\anaconda\\envs\\spiral\\lib\\site-packages\\anndata\\_core\\anndata.py:1840: UserWarning: Variable names are not unique. To make them unique, call `.var_names_make_unique`.\n",
      "  utils.warn_names_duplicates(\"var\")\n",
      "D:\\anaconda\\envs\\spiral\\lib\\site-packages\\anndata\\_core\\anndata.py:1113: FutureWarning: is_categorical_dtype is deprecated and will be removed in a future version. Use isinstance(dtype, CategoricalDtype) instead\n",
      "  if not is_categorical_dtype(df_full[k]):\n",
      "D:\\anaconda\\envs\\spiral\\lib\\site-packages\\anndata\\_core\\anndata.py:1840: UserWarning: Variable names are not unique. To make them unique, call `.var_names_make_unique`.\n",
      "  utils.warn_names_duplicates(\"var\")\n"
     ]
    },
    {
     "name": "stdout",
     "output_type": "stream",
     "text": [
      "------Calculating spatial graph...\n",
      "The graph contains 21834 edges, 3639 cells.\n",
      "6.0000 neighbors per cell on average.\n"
     ]
    },
    {
     "name": "stderr",
     "output_type": "stream",
     "text": [
      "D:\\anaconda\\envs\\spiral\\lib\\site-packages\\anndata\\_core\\anndata.py:1840: UserWarning: Variable names are not unique. To make them unique, call `.var_names_make_unique`.\n",
      "  utils.warn_names_duplicates(\"var\")\n",
      "D:\\anaconda\\envs\\spiral\\lib\\site-packages\\anndata\\_core\\anndata.py:1113: FutureWarning: is_categorical_dtype is deprecated and will be removed in a future version. Use isinstance(dtype, CategoricalDtype) instead\n",
      "  if not is_categorical_dtype(df_full[k]):\n",
      "D:\\anaconda\\envs\\spiral\\lib\\site-packages\\anndata\\_core\\anndata.py:1840: UserWarning: Variable names are not unique. To make them unique, call `.var_names_make_unique`.\n",
      "  utils.warn_names_duplicates(\"var\")\n"
     ]
    },
    {
     "name": "stdout",
     "output_type": "stream",
     "text": [
      "------Calculating spatial graph...\n",
      "The graph contains 22038 edges, 3673 cells.\n",
      "6.0000 neighbors per cell on average.\n"
     ]
    },
    {
     "name": "stderr",
     "output_type": "stream",
     "text": [
      "D:\\anaconda\\envs\\spiral\\lib\\site-packages\\anndata\\_core\\anndata.py:1840: UserWarning: Variable names are not unique. To make them unique, call `.var_names_make_unique`.\n",
      "  utils.warn_names_duplicates(\"var\")\n",
      "D:\\anaconda\\envs\\spiral\\lib\\site-packages\\anndata\\_core\\anndata.py:1113: FutureWarning: is_categorical_dtype is deprecated and will be removed in a future version. Use isinstance(dtype, CategoricalDtype) instead\n",
      "  if not is_categorical_dtype(df_full[k]):\n",
      "D:\\anaconda\\envs\\spiral\\lib\\site-packages\\anndata\\_core\\anndata.py:1840: UserWarning: Variable names are not unique. To make them unique, call `.var_names_make_unique`.\n",
      "  utils.warn_names_duplicates(\"var\")\n"
     ]
    },
    {
     "name": "stdout",
     "output_type": "stream",
     "text": [
      "------Calculating spatial graph...\n",
      "The graph contains 21552 edges, 3592 cells.\n",
      "6.0000 neighbors per cell on average.\n"
     ]
    },
    {
     "name": "stderr",
     "output_type": "stream",
     "text": [
      "D:\\anaconda\\envs\\spiral\\lib\\site-packages\\anndata\\_core\\anndata.py:1840: UserWarning: Variable names are not unique. To make them unique, call `.var_names_make_unique`.\n",
      "  utils.warn_names_duplicates(\"var\")\n",
      "D:\\anaconda\\envs\\spiral\\lib\\site-packages\\anndata\\_core\\anndata.py:1113: FutureWarning: is_categorical_dtype is deprecated and will be removed in a future version. Use isinstance(dtype, CategoricalDtype) instead\n",
      "  if not is_categorical_dtype(df_full[k]):\n",
      "D:\\anaconda\\envs\\spiral\\lib\\site-packages\\anndata\\_core\\anndata.py:1840: UserWarning: Variable names are not unique. To make them unique, call `.var_names_make_unique`.\n",
      "  utils.warn_names_duplicates(\"var\")\n"
     ]
    },
    {
     "name": "stdout",
     "output_type": "stream",
     "text": [
      "------Calculating spatial graph...\n",
      "The graph contains 20760 edges, 3460 cells.\n",
      "6.0000 neighbors per cell on average.\n"
     ]
    }
   ],
   "source": [
    "# output_dir = \"G:/dataset/1_DLPFC/output/SPIRAL/\"\n",
    "# sample_name = np.array([151507, 151508, 151509, 151510, 151669, 151670, 151671, 151672, 151673, 151674, 151675, 151676])\n",
    "# samples = sample_name\n",
    "SEP = ','\n",
    "net_cate = '_KNN_'\n",
    "rad = 150\n",
    "knn = 6\n",
    "\n",
    "for dataset in datasets:\n",
    "    # # features= np.loadtxt(output_dir+\"input_scanpy/\" + dataset + \"_features.txt\",dtype=np.int32)\n",
    "    # # coord=np.loadtxt(output_dir+\"input_scanpy/\" + dataset + \"_positions.txt\",dtype=np.int32)\n",
    "    # features=pd.read_csv(output_dir+\"input_scanpy/\" + dataset + \"_features.txt\",header=0,index_col=0,sep=',')\n",
    "    # coord=pd.read_csv(output_dir+\"input_scanpy/\" + dataset + \"_positions.txt\",header=0,index_col=0,sep=',')\n",
    "    # meta=pd.read_csv(output_dir+\"input_scanpy/\" + dataset + \"_label.txt\",header=0,index_col=0,sep=',')\n",
    "    # # meta=meta.iloc[:meta.shape[0]-1,:]\n",
    "    # adata = sc.AnnData(features, dtype='int32')\n",
    "    # adata.var_names_make_unique()\n",
    "    # adata.X=sp.csr_matrix(adata.X)\n",
    "    # adata.obsm[\"spatial\"] = coord.loc[:,['0','1']].to_numpy()\n",
    "    \n",
    "    adata = sc.read_visium(input_dir + dataset)\n",
    "    adata.var_names_make_unique()\n",
    "    adata.obs_names_make_unique()\n",
    "    Cal_Spatial_Net(adata, rad_cutoff=rad, k_cutoff=6, model='KNN', verbose=True)\n",
    "    if 'highly_variable' in adata.var.columns:\n",
    "        adata_Vars =  adata[:, adata.var['highly_variable']]\n",
    "    else:\n",
    "        adata_Vars = adata\n",
    "    features = pd.DataFrame(adata_Vars.X.toarray()[:, ], index=adata_Vars.obs.index, columns=adata_Vars.var.index)\n",
    "    cells = np.array(features.index)\n",
    "    cells_id_tran = dict(zip(cells, range(cells.shape[0])))\n",
    "    if 'Spatial_Net' not in adata.uns.keys():\n",
    "        raise ValueError(\"Spatial_Net is not existed! Run Cal_Spatial_Net first!\")\n",
    "\n",
    "    Spatial_Net = adata.uns['Spatial_Net']\n",
    "    G_df = Spatial_Net.copy()\n",
    "    np.savetxt(output_dir+\"input_scanpy/\" + dataset + \"_edge_KNN_\"+str(knn)+\".csv\",G_df.values[:,:2],fmt='%s')\n",
    "\n",
    "    # G_df['Cell1'] = G_df['Cell1'].map(cells_id_tran)\n",
    "    # G_df['Cell2'] = G_df['Cell2'].map(cells_id_tran)\n",
    "    # adj = sp.coo_matrix((np.ones(G_df.shape[0]), (G_df['Cell1'], G_df['Cell2'])), shape=(adata.n_obs, adata.n_obs))\n",
    "    # adj+=adj.T.multiply(adj.T>adj)-adj.multiply(adj.T>adj)\n",
    "    # features=torch.FloatTensor(features.values)"
   ]
  },
  {
   "cell_type": "markdown",
   "id": "dbed8001-e98d-4e4d-bfc0-3744bc82856b",
   "metadata": {},
   "source": [
    "## Step1:SPIRAL integration"
   ]
  },
  {
   "cell_type": "code",
   "execution_count": 7,
   "id": "55ef4d02-bdff-44b5-b815-5b20898e08a3",
   "metadata": {},
   "outputs": [
    {
     "name": "stdout",
     "output_type": "stream",
     "text": [
      "12\n"
     ]
    }
   ],
   "source": [
    "SEP = ','\n",
    "net_cate = '_KNN_'\n",
    "rad = 150\n",
    "knn = 6\n",
    "\n",
    "N_WALKS = knn\n",
    "WALK_LEN = 1\n",
    "N_WALK_LEN = knn\n",
    "NUM_NEG = knn\n",
    "\n",
    "feat_file = []\n",
    "edge_file = []\n",
    "meta_file = []\n",
    "coord_file = []\n",
    "# flags = ''\n",
    "# flags1 = str(samples[0])\n",
    "# for i in range(1, len(samples)):\n",
    "#     flags1 = flags1 + '-' + str(samples[i])\n",
    "for dataset in datasets:\n",
    "    feat_file.append(output_dir + \"input_scanpy/\" + dataset + \"_features.txt\")\n",
    "    edge_file.append(output_dir + \"input_scanpy/\" + dataset + \"_edge_KNN_\" + str(knn) + \".csv\")\n",
    "    meta_file.append(output_dir + \"input_scanpy/\" + dataset + \"_label.txt\")\n",
    "    coord_file.append(output_dir + \"input_scanpy/\" + dataset + \"_positions.txt\")\n",
    "    # flags = flags + '_' + str(samples[i])\n",
    "    \n",
    "N = pd.read_csv(feat_file[0], header=0, index_col=0).shape[1]\n",
    "\n",
    "if len(datasets) == 2:\n",
    "    M = 1\n",
    "else:\n",
    "    M = len(datasets)\n",
    "\n",
    "print(M)"
   ]
  },
  {
   "cell_type": "code",
   "execution_count": 8,
   "id": "6151d401-35b3-44d3-92dd-765ef5621993",
   "metadata": {},
   "outputs": [],
   "source": [
    "parser = argparse.ArgumentParser()\n",
    "\n",
    "parser.add_argument('--seed', type=int, default=0, help='The seed of initialization.')\n",
    "parser.add_argument('--AEdims', type=list, default=[N, [512], 32], help='Dim of encoder.')\n",
    "parser.add_argument('--AEdimsR', type=list, default=[32, [512], N], help='Dim of decoder.')\n",
    "parser.add_argument('--GSdims', type=list, default=[512, 32], help='Dim of GraphSAGE.')\n",
    "parser.add_argument('--zdim', type=int, default=32, help='Dim of embedding.')\n",
    "parser.add_argument('--znoise_dim', type=int, default=4, help='Dim of noise embedding.')\n",
    "parser.add_argument('--CLdims', type=list, default=[4, [], M], help='Dim of classifier.')\n",
    "parser.add_argument('--DIdims', type=list, default=[28, [32, 16], M], help='Dim of discriminator.')\n",
    "parser.add_argument('--beta', type=float, default=1.0, help='weight of GraphSAGE.')\n",
    "parser.add_argument('--agg_class', type=str, default=MeanAggregator, help='Function of aggregator.')\n",
    "parser.add_argument('--num_samples', type=str, default=knn, help='number of neighbors to sample.')\n",
    "\n",
    "parser.add_argument('--N_WALKS', type=int, default=N_WALKS, help='number of walks of random work for postive pairs.')\n",
    "parser.add_argument('--WALK_LEN', type=int, default=WALK_LEN, help='walk length of random work for postive pairs.')\n",
    "parser.add_argument('--N_WALK_LEN', type=int, default=N_WALK_LEN,\n",
    "                    help='number of walks of random work for negative pairs.')\n",
    "parser.add_argument('--NUM_NEG', type=int, default=NUM_NEG, help='number of negative pairs.')\n",
    "\n",
    "parser.add_argument('--epochs', type=int, default=100, help='Number of epochs to train.')\n",
    "parser.add_argument('--batch_size', type=int, default=1024, help='Size of batches to train.')\n",
    "parser.add_argument('--lr', type=float, default=1e-3, help='Initial learning rate.')\n",
    "parser.add_argument('--weight_decay', type=float, default=5e-4, help='Weight decay.')\n",
    "parser.add_argument('--alpha1', type=float, default=N, help='Weight of decoder loss.')\n",
    "parser.add_argument('--alpha2', type=float, default=1, help='Weight of GraphSAGE loss.')\n",
    "parser.add_argument('--alpha3', type=float, default=1, help='Weight of classifier loss.')\n",
    "parser.add_argument('--alpha4', type=float, default=1, help='Weight of discriminator loss.')\n",
    "parser.add_argument('--lamda', type=float, default=1, help='Weight of GRL.')\n",
    "parser.add_argument('--Q', type=float, default=10, help='Weight negative loss for sage losss.')\n",
    "\n",
    "params, unknown = parser.parse_known_args()"
   ]
  },
  {
   "cell_type": "code",
   "execution_count": null,
   "id": "d6973ec9-c13c-4946-aa0d-a4837c9bb799",
   "metadata": {},
   "outputs": [],
   "source": [
    "SPII = SPIRAL_integration(params, feat_file, edge_file, meta_file)\n",
    "SPII.train()\n",
    "if not os.path.exists(output_dir + \"model/\"):\n",
    "    os.makedirs(output_dir + \"model/\")\n",
    "model_file = output_dir + \"model/SPIRAL\" + sample_name + \"_model_\" + str(SPII.params.batch_size) + \".pt\"\n",
    "torch.save(SPII.model.state_dict(), model_file)\n",
    "\n",
    "SPII.model.eval()\n",
    "all_idx = np.arange(SPII.feat.shape[0])\n",
    "all_layer, all_mapping = layer_map(all_idx.tolist(), SPII.adj, len(SPII.params.GSdims))\n",
    "all_rows = SPII.adj.tolil().rows[all_layer[0]]\n",
    "all_feature = torch.Tensor(SPII.feat.iloc[all_layer[0], :].values).float().cuda()\n",
    "all_embed, ae_out, clas_out, disc_out = SPII.model(all_feature, all_layer, all_mapping, all_rows, SPII.params.lamda,\n",
    "                                                   SPII.de_act, SPII.cl_act)\n",
    "[ae_embed, gs_embed, embed] = all_embed\n",
    "[x_bar, x] = ae_out\n",
    "embed = embed.cpu().detach()\n",
    "names = ['GTT_' + str(i) for i in range(embed.shape[1])]\n",
    "embed1 = pd.DataFrame(np.array(embed), index=SPII.feat.index, columns=names)\n",
    "if not os.path.exists(output_dir + \"output/\"):\n",
    "    os.makedirs(output_dir + \"output/\")\n",
    "\n",
    "embed_file = output_dir + \"output/SPIRAL\" + sample_name + \"_embed_\" + str(SPII.params.batch_size) + \".csv\"\n",
    "embed1.to_csv(embed_file)\n"
   ]
  },
  {
   "cell_type": "markdown",
   "id": "5a841152-b292-48fb-be9d-9dbd06be28e6",
   "metadata": {},
   "source": [
    "## Step2:SPIRAL clustering"
   ]
  },
  {
   "cell_type": "code",
   "execution_count": null,
   "id": "0802ca75-4ef0-4951-9f39-2ba48def4e43",
   "metadata": {},
   "outputs": [],
   "source": [
    "ann = anndata.AnnData(SPII.feat)\n",
    "ann.obsm['spiral'] = embed1.iloc[:, SPII.params.znoise_dim:]\n",
    "sc.pp.neighbors(ann, use_rep='spiral')\n",
    "sc.tl.leiden(ann, resolution=1.2)\n",
    "sc.tl.louvain(ann, resolution=1.2)\n",
    "ann.obs['batch'] = SPII.meta.loc[:, 'batch']\n",
    "ub = np.unique(ann.obs['batch'])\n",
    "sc.tl.umap(ann)\n",
    "coord = pd.read_csv(coord_file[0], header=0, index_col=0)\n",
    "for i in np.arange(1, len(samples)):\n",
    "    coord = pd.concat((coord, pd.read_csv(coord_file[i], header=0, index_col=0)))\n",
    "\n",
    "coord.columns = ['y', 'x']\n",
    "ann.obsm['spatial'] = coord.loc[ann.obs_names, :]\n",
    "cluster_file = output_dir + \"output/SPIRAL\" + sample_name + \"_louvain.csv\"\n",
    "pd.DataFrame(ann.obs['louvain']).to_csv(cluster_file)\n",
    "\n",
    "# sc.pl.umap(ann,color='louvain')\n",
    "# sc.pl.umap(ann,color='batch')\n",
    "# sc.pl.umap(ann,color='celltype')\n",
    "sc.tl.louvain(ann, resolution=1.2)\n",
    "ann1 = ann[ann.obs['batch'] == ub[0], :]\n",
    "sc.pl.spatial(ann1, color=\"louvain\", spot_size=100)\n",
    "ann1 = ann[ann.obs['batch'] == ub[1], :]\n",
    "sc.pl.spatial(ann1, color=\"louvain\", spot_size=100)\n",
    "ann1 = ann[ann.obs['batch'] == ub[2], :]\n",
    "sc.pl.spatial(ann1, color=\"louvain\", spot_size=100)\n",
    "ann1 = ann[ann.obs['batch'] == ub[3], :]\n",
    "sc.pl.spatial(ann1, color=\"louvain\", spot_size=100)\n"
   ]
  },
  {
   "cell_type": "markdown",
   "id": "92356db5-5541-49a2-864e-794c6115916e",
   "metadata": {},
   "source": [
    "## Step3:SPIRAL alignment"
   ]
  },
  {
   "cell_type": "code",
   "execution_count": null,
   "id": "73a49bbd-7827-45f3-9af5-c8c2f95d8591",
   "metadata": {},
   "outputs": [],
   "source": [
    "clust_cate = 'louvain'\n",
    "input_file = [meta_file, coord_file, embed_file, cluster_file]\n",
    "output_dirs = output_dir + \"output/SPIRAL_alignment/\"\n",
    "if not os.path.exists(output_dirs):\n",
    "    os.makedirs(output_dirs)\n",
    "ub = datasets\n",
    "\n",
    "alpha = 0.5\n",
    "types = \"weighted_mean\"\n",
    "CA = CoordAlignment(input_file=input_file, output_dirs=output_dirs, ub=ub, flags=flags, clust_cate=clust_cate,\n",
    "                    R_dirs=R_dirs, alpha=alpha, types=types)\n",
    "New_Coord = CA.New_Coord\n",
    "New_Coord.to_csv(output_dirs + \"new_coord\" + sample_name + \"_modify.csv\")\n",
    "# ann.obsm['aligned_spatial']=New_Coord.loc[ann.obs_names,:].values"
   ]
  }
 ],
 "metadata": {
  "kernelspec": {
   "display_name": "SPIRAL",
   "language": "python",
   "name": "python3"
  },
  "language_info": {
   "codemirror_mode": {
    "name": "ipython",
    "version": 3
   },
   "file_extension": ".py",
   "mimetype": "text/x-python",
   "name": "python",
   "nbconvert_exporter": "python",
   "pygments_lexer": "ipython3",
   "version": "3.10.12"
  }
 },
 "nbformat": 4,
 "nbformat_minor": 5
}
