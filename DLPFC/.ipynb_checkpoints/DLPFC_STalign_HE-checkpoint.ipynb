{
 "cells": [
  {
   "cell_type": "code",
   "execution_count": null,
   "id": "15eef5cc",
   "metadata": {},
   "outputs": [],
   "source": [
    "# import dependencies\n",
    "import sys\n",
    "import numpy as np\n",
    "import pandas as pd\n",
    "\n",
    "import os\n",
    "print(os.getcwd())#显示当前路径\n",
    "os.chdir('D:/bio/STalign/STalign-main')#更改路径，''里面为更改的路径\n",
    "print(os.getcwd())#显示当前路径\n",
    "\n",
    "import matplotlib.pyplot as plt\n",
    "plt.rcParams[\"figure.figsize\"] = (12,10)  # make plots bigger\n",
    "\n",
    "import torch\n",
    "if torch.cuda.is_available():\n",
    "    print('cuda is available')\n",
    "    torch.set_default_device('cuda:0')\n",
    "else:\n",
    "    torch.set_default_device('cpu')\n",
    "# import STalign after pip install\n",
    "from STalign import STalign"
   ]
  },
  {
   "cell_type": "code",
   "execution_count": null,
   "id": "0e51d12c",
   "metadata": {},
   "outputs": [],
   "source": [
    "datasets = ['151507', '151508']\n",
    "image_files = ['D:/dataset/'+datasets[0]+'/spatial/tissue_hires_image.png', 'D:/dataset/'+datasets[1]+'/spatial/tissue_hires_image.png']\n",
    "position_files = ['D:/dataset/'+datasets[0]+'/spatial/tissue_positions_list.csv', 'D:/dataset/'+datasets[0]+'/spatial/tissue_positions_list.csv']\n",
    "image_datas = []\n",
    "Xs = []\n",
    "Ys = []\n",
    "\n",
    "fig,ax = plt.subplots(1, image_num)\n",
    "for index in range(0, len(datasets)):\n",
    "    # plot\n",
    "    V = plt.imread(image_files[index])\n",
    "    ax[index].imshow(V)\n",
    "    ax[index].set_title(datasets[index], fontsize=15)\n",
    "    \n",
    "    print(\"The initial shape of V is {}\".format(V.shape))\n",
    "    print(\"The range of V is {} to {}\".format(V.min(), V.max() ))\n",
    "    Vnorm = STalign.normalize(V)\n",
    "    print(\"The range of V after normalization is {} to {}\".format(Vnorm.min(), Vnorm.max() ))\n",
    "    temp = Vnorm.transpose(2,0,1)\n",
    "    image_datas.append(temp)\n",
    "    print(\"The new shape of J is {}\".format(temp.shape))\n",
    "    Xs.append( np.array(range(temp.shape[1]))*1.) # needs to be longs not doubles for STalign.transform later so multiply by 1.\n",
    "    Ys.append( np.array(range(temp.shape[2]))*1.) # needs to be longs not doubles for STalign.transform later so multiply by 1.\n"
   ]
  },
  {
   "cell_type": "code",
   "execution_count": null,
   "id": "bc157b5f",
   "metadata": {},
   "outputs": [],
   "source": [
    "# get cell coordinates\n",
    "xs = []\n",
    "ys = []\n",
    "for index in range(0, len(datasets)):\n",
    "    df_tmp = pd.read_csv(position_files[index], header = None)\n",
    "    # 根据输入文件不同需要改变\n",
    "    xs.append(np.array(df_tmp.iloc[:, 4]))   \n",
    "    ys.append(np.array(df_tmp.iloc[:, 5]))"
   ]
  },
  {
   "cell_type": "code",
   "execution_count": null,
   "id": "2f286283",
   "metadata": {},
   "outputs": [],
   "source": [
    "fig,ax = plt.subplots()\n",
    "ax.scatter(xs[0],ys[0],s=1,alpha=0.5,c='#FF8000')\n",
    "ax.scatter(xs[1],ys[1],s=1,alpha=0.5,c='#0080FF')"
   ]
  },
  {
   "cell_type": "code",
   "execution_count": null,
   "id": "3f6761fd",
   "metadata": {
    "scrolled": true
   },
   "outputs": [],
   "source": [
    "# get extent of images\n",
    "extent = []\n",
    "for index in range(0, len(datasets)):\n",
    "    extent.append(STalign.extent_from_x((Ys[index],Xs[index])))\n",
    "\n",
    "# plot rasterized images\n",
    "fig,ax = plt.subplots(1,2)\n",
    "ax[0].imshow((image_datas[0].transpose(1,2,0).squeeze()), extent=extent[0]) \n",
    "ax[1].imshow((image_datas[1].transpose(1,2,0).squeeze()), extent=extent[1])"
   ]
  },
  {
   "cell_type": "code",
   "execution_count": null,
   "id": "3ff06834",
   "metadata": {},
   "outputs": [],
   "source": [
    "%%time \n",
    "\n",
    "# run LDDMM\n",
    "if torch.cuda.is_available():\n",
    "    device = 'cuda:0'\n",
    "else:\n",
    "    device = 'cpu'\n",
    "\n",
    "# keep all other parameters default\n",
    "params = {\n",
    "          'niter':1000,\n",
    "          'device':device,\n",
    "          'diffeo_start':100,\n",
    "          'epV':1000,\n",
    "          'sigmaB':0.1\n",
    "          }\n",
    "\n",
    "out = STalign.LDDMM( [Ys[0],Xs[0]], image_datas[0], [Ys[1],Xs[1]], image_datas[1], dtype=torch.float32, **params)"
   ]
  },
  {
   "cell_type": "code",
   "execution_count": null,
   "id": "555201b3",
   "metadata": {},
   "outputs": [],
   "source": [
    "#### get necessary output variables\n",
    "A = out['A']\n",
    "v = out['v']\n",
    "xv = out['xv']\n",
    "# WM = out['WM']\n",
    "# WB = out['WM']\n",
    "# WA = out['WA']"
   ]
  },
  {
   "cell_type": "code",
   "execution_count": null,
   "id": "71d3b738",
   "metadata": {},
   "outputs": [],
   "source": [
    "# apply transform\n",
    "phii = STalign.build_transform(xv, v, A, XJ=[Ys[1],Xs[1]], direction='b')\n",
    "phiI = STalign.transform_image_atlas_to_target(xv,v,A,[Ys[0],Xs[0]],image_datas[0],[Ys[1],Xs[1]])\n",
    "\n",
    "# plot with grids\n",
    "fig,ax = plt.subplots()\n",
    "levels = np.arange(-100000,100000,1000)\n",
    "if phii.is_cuda:\n",
    "    ax.contour(Xs[1],Ys[1],phii[...,0].cpu(),colors='r',linestyles='-',levels=levels)\n",
    "    ax.contour(Xs[1],Ys[1],phii[...,1].cpu(),colors='g',linestyles='-',levels=levels)\n",
    "else:\n",
    "    ax.contour(Xs[1],Ys[1],phii[...,0],colors='r',linestyles='-',levels=levels)\n",
    "    ax.contour(Xs[1],Ys[1],phii[...,1],colors='g',linestyles='-',levels=levels)\n",
    "ax.set_aspect('equal')\n",
    "ax.set_title('source to target')\n",
    "\n",
    "if phiI.is_cuda:\n",
    "    ax.imshow(phiI.cpu().permute(1,2,0)/torch.max(phiI.cpu()),extent=extent[1])\n",
    "else:\n",
    "    ax.imshow(phiI.permute(1,2,0)/torch.max(phiI),extent=extent[1])"
   ]
  },
  {
   "cell_type": "code",
   "execution_count": null,
   "id": "bb2f8da7",
   "metadata": {},
   "outputs": [],
   "source": [
    "# apply transform to original points\n",
    "tpointsJ = STalign.transform_points_target_to_atlas(xv,v,A, \n",
    "                        np.stack([ list(np.array(ys[1], dtype = 'float32')), list(np.array(xs[1], dtype = 'float32'))], 1))\n",
    "\n",
    "# just original points for visualizing later\n",
    "tpointsI = np.stack([xs[0], ys[0]])\n",
    "\n",
    "# switch from row column coordinates (y,x) to (x,y)\n",
    "# xI_LDDMM = tpointsI[:,1]\n",
    "# yI_LDDMM = tpointsI[:,0]"
   ]
  },
  {
   "cell_type": "code",
   "execution_count": null,
   "id": "7ff40ab1",
   "metadata": {},
   "outputs": [],
   "source": [
    "# plot results\n",
    "fig,ax = plt.subplots()\n",
    "if tpointsJ.is_cuda:\n",
    "    ax.scatter(tpointsI[0,:].cpu(),tpointsI[1,:].cpu(),s=1,alpha=0.1) \n",
    "    ax.scatter(tpointsJ[:,1].cpu(),tpointsJ[:,0].cpu(),s=1,alpha=0.2) # also needs to plot as y,x not x,y\n",
    "else:\n",
    "    ax.scatter(tpointsI[0,:],tpointsI[1,:],s=1,alpha=0.1) \n",
    "    ax.scatter(tpointsJ[:,1],tpointsJ[:,0],s=1,alpha=0.2) # also needs to plot as y,x not x,y"
   ]
  },
  {
   "cell_type": "code",
   "execution_count": null,
   "id": "61dcbc25",
   "metadata": {},
   "outputs": [],
   "source": [
    "if tpointsJ.is_cuda:\n",
    "    df3 = pd.DataFrame(\n",
    "        {\n",
    "            \"aligned_x\": tpointsJ[:,1].cpu(),\n",
    "            \"aligned_y\": tpointsJ[:,0].cpu(),\n",
    "        },\n",
    "    )\n",
    "else:\n",
    "    df3 = pd.DataFrame(\n",
    "        {\n",
    "            \"aligned_x\": tpointsJ[:,1],\n",
    "            \"aligned_y\": tpointsJ[:,0],\n",
    "        },\n",
    "    )\n",
    "df1 = pd.read_csv(position_files[0], header = None)\n",
    "df2 = pd.read_csv(position_files[1], header = None)\n",
    "results = pd.concat([df2, df3], axis=1)\n",
    "df1.head()\n"
   ]
  },
  {
   "cell_type": "code",
   "execution_count": null,
   "id": "031de318",
   "metadata": {},
   "outputs": [],
   "source": [
    "results.head()"
   ]
  },
  {
   "cell_type": "code",
   "execution_count": null,
   "id": "1b511a0d",
   "metadata": {},
   "outputs": [],
   "source": [
    "results.to_csv('docs/DLPFC_data/151507_STalign_to_151508.csv.gz',\n",
    "               compression='gzip')"
   ]
  }
 ],
 "metadata": {
  "kernelspec": {
   "display_name": "Python 3 (ipykernel)",
   "language": "python",
   "name": "python3"
  },
  "language_info": {
   "codemirror_mode": {
    "name": "ipython",
    "version": 3
   },
   "file_extension": ".py",
   "mimetype": "text/x-python",
   "name": "python",
   "nbconvert_exporter": "python",
   "pygments_lexer": "ipython3",
   "version": "3.10.12"
  }
 },
 "nbformat": 4,
 "nbformat_minor": 5
}
