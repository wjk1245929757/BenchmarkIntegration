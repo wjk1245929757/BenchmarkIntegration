{
 "cells": [
  {
   "cell_type": "markdown",
   "id": "a6468911-aac7-4d1b-bf45-dabf3825fe92",
   "metadata": {},
   "source": [
    "## load dataset"
   ]
  },
  {
   "cell_type": "code",
   "execution_count": null,
   "id": "d7f21114-4117-4cc5-bbe3-9aa7d8ca3775",
   "metadata": {},
   "outputs": [],
   "source": [
    "import scib\n",
    "import scanpy as sc\n",
    "import pandas as pd\n",
    "import numpy as np\n",
    "\n",
    "# import esda\n",
    "from esda.moran import Moran, Moran_Local\n",
    "from esda.geary import Geary\n",
    "from esda.geary_local import Geary_Local\n",
    "from esda.getisord import G, G_Local"
   ]
  },
  {
   "cell_type": "code",
   "execution_count": 2,
   "id": "a4362c54-31e5-4a47-a6c8-e313fecfabaa",
   "metadata": {},
   "outputs": [
    {
     "name": "stderr",
     "output_type": "stream",
     "text": [
      "D:\\anaconda\\envs\\index\\lib\\site-packages\\anndata\\_core\\anndata.py:1840: UserWarning: Variable names are not unique. To make them unique, call `.var_names_make_unique`.\n",
      "  utils.warn_names_duplicates(\"var\")\n",
      "D:\\anaconda\\envs\\index\\lib\\site-packages\\anndata\\_core\\anndata.py:1840: UserWarning: Variable names are not unique. To make them unique, call `.var_names_make_unique`.\n",
      "  utils.warn_names_duplicates(\"var\")\n"
     ]
    },
    {
     "name": "stdout",
     "output_type": "stream",
     "text": [
      "AnnData object with n_obs × n_vars = 4226 × 33538\n",
      "    obs: 'in_tissue', 'array_row', 'array_col', 'batch', 'ground.truth'\n",
      "    var: 'gene_ids', 'feature_types', 'genome'\n",
      "    uns: 'spatial'\n",
      "    obsm: 'spatial'\n",
      "View of AnnData object with n_obs × n_vars = 4221 × 33538\n",
      "    obs: 'in_tissue', 'array_row', 'array_col', 'batch', 'ground.truth'\n",
      "    var: 'gene_ids', 'feature_types', 'genome'\n",
      "    uns: 'spatial'\n",
      "    obsm: 'spatial'\n",
      "[[3276 2514]\n",
      " [9178 8520]\n",
      " [5133 2878]\n",
      " ...\n",
      " [4218 9703]\n",
      " [4017 7906]\n",
      " [5683 3359]]\n"
     ]
    }
   ],
   "source": [
    "import scanpy as sc\n",
    "import pandas as pd\n",
    "dataset = '151507'\n",
    "input_dir = 'G:/dataset/1_DLPFC/input/'  # Replace it with your file path\n",
    "\n",
    "adata = sc.read_visium(input_dir + dataset)\n",
    "adata.var_names_make_unique()\n",
    "adata.obs_names_make_unique()\n",
    "adata_label = pd.read_csv(input_dir + dataset + '/truth.csv', index_col=0)\n",
    "adata.obs['batch'] = adata_label['batch'].astype(\"category\")\n",
    "adata.obs['ground.truth'] = adata_label['ground.truth'].astype(\"category\")\n",
    "print(adata)\n",
    "adata = adata[adata.obs['ground.truth'] != 'na']\n",
    "print(adata)\n",
    "print(adata.obsm['spatial'])"
   ]
  },
  {
   "cell_type": "markdown",
   "id": "901e1f08-2223-4057-8c4a-8a19f0441bed",
   "metadata": {},
   "source": [
    "## spatial index"
   ]
  },
  {
   "cell_type": "code",
   "execution_count": null,
   "id": "764f3f4d-ddef-43b9-b3b1-704bf62d5fe0",
   "metadata": {
    "scrolled": true
   },
   "outputs": [],
   "source": [
    "sc.pp.neighbors(adata, use_rep=\"spatial\")\n",
    "adata"
   ]
  },
  {
   "cell_type": "code",
   "execution_count": null,
   "id": "68476930-b5c0-451b-b8b1-91cf68aa070b",
   "metadata": {},
   "outputs": [],
   "source": [
    "adata.n_obs"
   ]
  },
  {
   "cell_type": "code",
   "execution_count": null,
   "id": "8dfeb3e4-88ca-40a3-a117-a9a73c4befdd",
   "metadata": {},
   "outputs": [],
   "source": [
    "\n",
    "matrix = adata.obsp['connectivities'].toarray()\n",
    "print(np.array_equal(matrix, matrix.T))\n",
    "\n",
    "neighbors = dict()\n",
    "val = dict()\n",
    "for i in range(0, adata.n_obs):\n",
    "    c = list()\n",
    "    d = list()\n",
    "    for j in range(0, adata.n_obs):\n",
    "        if matrix[i][j] != 0:\n",
    "            c.append(j)\n",
    "            d.append(matrix[i][j])\n",
    "    neighbors[i] = c\n",
    "    val[i] = d\n",
    "    \n",
    "del matrix"
   ]
  },
  {
   "cell_type": "code",
   "execution_count": null,
   "id": "e290ec5b-c327-476b-808e-6c0a88d014cc",
   "metadata": {},
   "outputs": [],
   "source": [
    "gene = adata.var_names.to_list()[0]\n",
    "y = adata[:,gene].X.toarray()\n",
    "print(len(y))\n",
    "\n",
    "\n",
    "\n",
    "w = W(neighbors)\n",
    "mi = esda.moran.Moran(y, w)\n",
    "\n",
    "print(\"Moran's I 值为：\",mi.I)\n",
    "print(\"随机分布假设下Z检验值为：\",mi.z_rand)\n",
    "print(\"随机分布假设下Z检验的P值为：\",mi.p_rand)\n",
    "print(\"正态分布假设下Z检验值为：\",mi.z_norm)\n",
    "print(\"正态分布假设下Z检验的P值为：\",mi.p_norm)"
   ]
  },
  {
   "cell_type": "code",
   "execution_count": null,
   "id": "04d63a1e-4819-482b-9bd2-5c979802b632",
   "metadata": {},
   "outputs": [],
   "source": [
    "mi_local = Moran_Local(y, w)\n",
    "\n",
    "print(\"Local Moran's I 值为：\",mi_local.I)\n",
    "print(\"随机分布假设下Z检验值为：\",mi_local.z_rand)\n",
    "print(\"随机分布假设下Z检验的P值为：\",mi_local.p_rand)\n",
    "print(\"正态分布假设下Z检验值为：\",mi_local.z_norm)\n",
    "print(\"正态分布假设下Z检验的P值为：\",mi_local.p_norm)"
   ]
  },
  {
   "cell_type": "code",
   "execution_count": null,
   "id": "3a4f6617-c543-45f1-98f2-0e4ebfa076b8",
   "metadata": {},
   "outputs": [],
   "source": [
    "from esda.geary import Geary\n",
    "print(len(y))\n",
    "c = Geary(y,w,permutations=0)\n",
    "print(\"Geary'C C 值为：\",c.C)\n",
    "print(\"随机分布假设下Z检验值为：\",c.z_rand)\n",
    "print(\"随机分布假设下Z检验的P值为：\",c.p_rand)\n",
    "print(\"正态分布假设下Z检验值为：\",c.z_norm)\n",
    "print(\"正态分布假设下Z检验的P值为：\",c.p_norm)"
   ]
  },
  {
   "cell_type": "code",
   "execution_count": null,
   "id": "8c872083-6000-42c8-932f-9946c2ccdd47",
   "metadata": {},
   "outputs": [],
   "source": [
    "C_local = Geary_Local(w).fit(y)\n",
    "print(C_local.localG)\n",
    "print(C_local.p_sim)\n",
    "print(C_local.labs)"
   ]
  },
  {
   "cell_type": "code",
   "execution_count": null,
   "id": "3987a4be-a553-4015-bc4a-7839051e8cbe",
   "metadata": {},
   "outputs": [],
   "source": [
    "g = G(y, w)\n",
    "print(g.p_norm)\n",
    "print(g.z_norm)"
   ]
  },
  {
   "cell_type": "code",
   "execution_count": null,
   "id": "6c4db677-56d2-41ba-b591-7088d1332ea0",
   "metadata": {},
   "outputs": [],
   "source": [
    "g_local = G_Local(y, w)\n",
    "print(g.p_norm)"
   ]
  },
  {
   "cell_type": "code",
   "execution_count": null,
   "id": "2f432205-4c98-436a-bbf4-fb53a37a0399",
   "metadata": {},
   "outputs": [],
   "source": [
    "w = libpysal.io.open(libpysal.examples.get_path(\"book.gal\")).read()\n",
    "print(w.neighbors)\n",
    "\n",
    "\n",
    "\n",
    "import libpysal\n",
    "w = libpysal.io.open(libpysal.examples.get_path(\"stl.gal\")).read()\n",
    "print(w)\n",
    "f = libpysal.io.open(libpysal.examples.get_path(\"stl_hom.txt\"))\n",
    "print(f)\n",
    "y = np.array(f.by_col['HR8893'])\n",
    "print(y)\n",
    "print(type(y))\n",
    "\n",
    "# from libpysal.weights import W\n",
    "# neighbors = {0: [3, 1], 1: [0, 4, 2], 2: [1, 5], 3: [0, 6, 4], 4: [1, 3, 7, 5], 5: [2, 4, 8], 6: [3, 7], 7: [4, 6, 8], 8: [5, 7]}\n",
    "# weights = {0: [1, 1], 1: [1, 1, 1], 2: [1, 1], 3: [1, 1, 1], 4: [1, 1, 1, 1], 5: [1, 1, 1], 6: [1, 1], 7: [1, 1, 1], 8: [1, 1]}\n",
    "# w = W(neighbors, weights)\n",
    "\n",
    "from esda.moran import Moran\n",
    "mi = Moran(y,  w)\n",
    "print(mi)\n",
    "\n",
    "print(\"Moran's I 值为：\",mi.I)\n",
    "print(\"随机分布假设下Z检验值为：\",mi.z_rand)\n",
    "print(\"随机分布假设下Z检验的P值为：\",mi.p_rand)\n",
    "print(\"正态分布假设下Z检验值为：\",mi.z_norm)\n",
    "print(\"正态分布假设下Z检验的P值为：\",mi.p_norm)"
   ]
  },
  {
   "cell_type": "code",
   "execution_count": null,
   "id": "9faa80df-f672-4bf3-b682-a015483022ea",
   "metadata": {},
   "outputs": [],
   "source": [
    "# 先获取cell或者gene list\n",
    "gene = adata.var_names.to_list()[12]\n",
    "print(gene)\n",
    "print(type(adata[:,gene].X.toarray()))"
   ]
  },
  {
   "cell_type": "code",
   "execution_count": null,
   "id": "dd26f1b3-078d-4835-8e20-c700eb659c84",
   "metadata": {},
   "outputs": [],
   "source": [
    "print(adata.obsp['distances'])\n",
    "print(type(adata.obsp['distances']))\n",
    "matrix = adata.obsp['distances'].toarray()\n",
    "print(matrix)\n",
    "print(np.array_equal(matrix, matrix.T))\n",
    "# del matrix\n",
    "\n",
    "dic = dict()\n",
    "val = dict()\n",
    "for i in range(0, adata.n_obs):\n",
    "    c = list()\n",
    "    d = list()\n",
    "    for j in range(0, adata.n_obs):\n",
    "        if matrix[i][j] != 0:\n",
    "            c.append(j)\n",
    "            d.append(matrix[i][j])\n",
    "    dic[i] = c\n",
    "    val[i] = d\n",
    "print(dic)"
   ]
  },
  {
   "cell_type": "code",
   "execution_count": null,
   "id": "3a85dcb1-7641-4405-9bc2-797b849944aa",
   "metadata": {},
   "outputs": [],
   "source": [
    "matrix = adata.obsp['connectivities'].toarray()\n",
    "print(matrix)\n",
    "print(np.array_equal(matrix, matrix.T))\n",
    "\n",
    "dic = dict()\n",
    "val = dict()\n",
    "for i in range(0, adata.n_obs):\n",
    "    c = list()\n",
    "    d = list()\n",
    "    for j in range(0, adata.n_obs):\n",
    "        if matrix[i][j] != 0:\n",
    "            c.append(j)\n",
    "            d.append(matrix[i][j])\n",
    "    dic[i] = c\n",
    "    val[i] = d\n",
    "print(dic)\n",
    "\n",
    "# np.savetxt('C:/Users/23147/Desktop/test2.txt', adata.obsp['distances'].todense(), fmt='%f', delimiter='\\t')"
   ]
  },
  {
   "cell_type": "code",
   "execution_count": null,
   "id": "a71eab97-5a1a-4650-964f-7c5d95f427e1",
   "metadata": {},
   "outputs": [],
   "source": [
    "input_adata_int_dir = \"G:/dataset/1_DLPFC/output/Harmony/\"\n",
    "sample = 'Donor1'\n",
    "adata_int = sc.read_h5ad(input_adata_int_dir + sample + '.h5ad')\n",
    "adata_int.obs['batch'] = adata_int.obs['batch'].astype(\"category\")\n",
    "adata_int.obs['ground.truth'] = adata_int.obs['ground.truth'].astype(\"category\")\n",
    "adata_int.obs['seurat_clusters'] = adata_int.obs['seurat_clusters'].astype(\"category\")\n",
    "sc.pp.neighbors(adata_int, use_rep=\"X_harmony\")\n",
    "print(adata_int)"
   ]
  },
  {
   "cell_type": "code",
   "execution_count": null,
   "id": "e07e325b-b105-4730-984e-87d4ce2f70d1",
   "metadata": {},
   "outputs": [],
   "source": [
    "adata_int.uns['neighbors']"
   ]
  },
  {
   "cell_type": "code",
   "execution_count": null,
   "id": "383cdbaa-9cbc-4fa6-b795-c84bf7955484",
   "metadata": {},
   "outputs": [],
   "source": [
    "# datasets = ['151507', '151508', '151509', '151510']\n",
    "# input_dir = 'D:/dataset/'  # Replace it with your file path\n",
    "\n",
    "# adata_list = []\n",
    "\n",
    "# for dataset in datasets:\n",
    "#     adata = sc.read_visium(input_dir + dataset)\n",
    "#     adata.var_names_make_unique()\n",
    "#     adata.obs_names_make_unique()\n",
    "#     adata_label = pd.read_csv(input_dir + dataset + '/' + dataset + '_truth.csv', index_col=0)\n",
    "#     adata.obs['batch'] = adata_label['batch'].astype(\"category\")\n",
    "#     adata.obs['ground.truth'] = adata_label['ground.truth'].astype(\"category\")\n",
    "#     adata_list.append(adata)\n",
    "\n",
    "# adata =sc.AnnData.concatenate(adata_list[0],adata_list[1],adata_list[2],adata_list[3])\n",
    "# del adata_list\n",
    "# print(adata)"
   ]
  },
  {
   "cell_type": "code",
   "execution_count": null,
   "id": "17ddd815-5b95-4204-b2fe-d306ac727600",
   "metadata": {},
   "outputs": [],
   "source": [
    "# input_adata_int_dir = \"G:/dataset/1_DLPFC/output/Harmony/\"\n",
    "# sample = 'Donor1'\n",
    "# adata_int = sc.read_h5ad(input_adata_int_dir + sample + '.h5ad')\n",
    "# adata_int.obs['batch'] = adata_int.obs['batch'].astype(\"category\")\n",
    "# adata_int.obs['ground.truth'] = adata_int.obs['ground.truth'].astype(\"category\")\n",
    "# adata_int.obs['seurat_clusters'] = adata_int.obs['seurat_clusters'].astype(\"category\")\n",
    "# sc.pp.neighbors(adata_int, use_rep=\"X_harmony\")\n",
    "# print(adata_int)"
   ]
  },
  {
   "cell_type": "code",
   "execution_count": null,
   "id": "66e5179d-f29f-47f8-a570-fe99879fb081",
   "metadata": {},
   "outputs": [],
   "source": [
    "# # kNN graph output\n",
    "# scib.me.cluster_optimal_resolution(adata_int, cluster_key=\"seurat_clusters\", label_key=\"ground.truth\")\n",
    "# print(adata_int)\n",
    "\n",
    "# # Embedding output\n",
    "# sc.pp.neighbors(adata_int, use_rep=\"X_harmony\")\n",
    "# scib.me.cluster_optimal_resolution(adata_int, cluster_key=\"seurat_clusters\", label_key=\"ground.truth\")\n",
    "# print(adata_int)\n",
    "\n",
    "# # Feature output\n",
    "# scib.pp.reduce_data(\n",
    "#     adata_int, n_top_genes=2000, batch_key=\"batch\", pca=True, neighbors=False\n",
    "# )\n",
    "# scib.me.cluster_optimal_resolution(adata_int, cluster_key=\"seurat_clusters\", label_key=\"ground.truth\")\n",
    "# print(adata_int)"
   ]
  },
  {
   "cell_type": "code",
   "execution_count": null,
   "id": "efb5f40e-0ca6-4135-837d-c880186e4d3a",
   "metadata": {},
   "outputs": [],
   "source": [
    "# from scib.metrics import ari, nmi, lisi_graph\n",
    "\n",
    "# print(ari(adata, label_key = \"annotation\", cluster_key=\"harmony_cluster\"))\n",
    "# print(nmi(adata, label_key = \"annotation\", cluster_key=\"harmony_cluster\"))\n"
   ]
  },
  {
   "cell_type": "code",
   "execution_count": null,
   "id": "bb02ab8f-adfb-436d-960e-f79a13c71fdd",
   "metadata": {},
   "outputs": [],
   "source": [
    "# print(adata_int.uns['neighbors'])\n",
    "# print(adata_int.obsp['distances'])\n",
    "# print(adata_int.obsp['connectivities'])"
   ]
  },
  {
   "cell_type": "code",
   "execution_count": null,
   "id": "477ec76a-fec6-4b09-854c-677d5da116df",
   "metadata": {},
   "outputs": [],
   "source": [
    "# print(adata_int.var_names)\n",
    "# hvg = adata_int.var_names.tolist()\n",
    "# print(hvg)"
   ]
  },
  {
   "cell_type": "code",
   "execution_count": null,
   "id": "e6218a3b-9916-4de2-a2c1-b21a471eaf2c",
   "metadata": {},
   "outputs": [],
   "source": [
    "# 'CCDC39.1' in hvg\n",
    "\n",
    "# adata = adata[:, 'CCDC39.1']"
   ]
  },
  {
   "cell_type": "code",
   "execution_count": null,
   "id": "6a0d45fa-0d97-4717-aa45-8d89f03025ea",
   "metadata": {},
   "outputs": [],
   "source": [
    "# from scib.metrics import metrics_fast\n",
    "# metrics_fast(adata, adata_int, batch_key = 'batch', label_key = \"ground.truth\", cluster_key=\"seurat_clusters\")"
   ]
  }
 ],
 "metadata": {
  "kernelspec": {
   "display_name": "index",
   "language": "python",
   "name": "index"
  },
  "language_info": {
   "codemirror_mode": {
    "name": "ipython",
    "version": 3
   },
   "file_extension": ".py",
   "mimetype": "text/x-python",
   "name": "python",
   "nbconvert_exporter": "python",
   "pygments_lexer": "ipython3",
   "version": "3.10.12"
  }
 },
 "nbformat": 4,
 "nbformat_minor": 5
}
