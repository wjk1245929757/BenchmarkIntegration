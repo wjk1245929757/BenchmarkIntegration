{
 "cells": [
  {
   "cell_type": "code",
   "execution_count": 1,
   "id": "086d747a",
   "metadata": {},
   "outputs": [
    {
     "name": "stdout",
     "output_type": "stream",
     "text": [
      "D:\\bio\\jupyter_code\n",
      "D:\\bio\\jupyter_code\\data\\pbmc3k_filtered_gene_bc_matrices\n"
     ]
    }
   ],
   "source": [
    "import scanpy as sc\n",
    "import numpy as np\n",
    "import pandas as pd\n",
    "import matplotlib.pyplot as plt\n",
    "sc.settings.verbosity = 3 # verbosity 的取值表示测试结果显示的详细程度，数字越大越详细\n",
    "# sc.logging.print_versions() # 输出版本号\n",
    "sc.settings.set_figure_params(dpi=80) # set_figure_params 设置图片的分辨率/大小以及其他样式\n",
    "import os #在服务器运行，习惯性会设置一个输出路径，用于保存pdf图片\n",
    "print(os.getcwd())  #查看当前路径\n",
    "os.chdir('D:/bio/jupyter_code/data/pbmc3k_filtered_gene_bc_matrices') #修改路径\n",
    "print(os.getcwd())\n",
    "results_file = 'pbmc3k.h5ad' ##置结果文件保存路径"
   ]
  },
  {
   "cell_type": "code",
   "execution_count": 2,
   "id": "587c781c",
   "metadata": {},
   "outputs": [
    {
     "name": "stdout",
     "output_type": "stream",
     "text": [
      "... writing an h5ad cache file to speedup reading next time\n"
     ]
    }
   ],
   "source": [
    "# 导入 10X 数据\n",
    "data=sc.read_10x_mtx('./filtered_gene_bc_matrices/hg19/',var_names='gene_symbols',   cache=True)\n",
    "data.var_names_make_unique()  # 索引去重，若上一步中使用 `var_names='gene_ids'` 则这一步非必须进行\n",
    "#data.X 存储 count matrix，数据类型为稀疏矩阵 scipy.sparse.csr.csr_matrix\n",
    "#data.obs 存储关于 obervations(cells) 的 metadata，数据类型为 dataframe\n",
    "#data.var 存储关于 variables(genes) 的 metadata，数据类型为 dataframe\n",
    "#AnnData.uns 存储后续附加的其他非结构化信息\n",
    "#data.obs_names 和 adata.var_names index\n",
    "#细胞名和基因名可分别通过 adata.obs_names 和 adata.var_names 查看。 AnnData 对象可以像 dataframe 一样进行切片操作，例如，data_subset = data[:, list_of_gene_names]\n",
    "\n",
    "print(data)\n",
    "print(data.X)\n",
    "print(data.obs)\n",
    "print(data.var)\n",
    "print(data.uns)\n",
    "print(data.obs_names)\n",
    "print(data.var_names)"
   ]
  },
  {
   "cell_type": "code",
   "execution_count": 3,
   "id": "aba99220",
   "metadata": {},
   "outputs": [
    {
     "name": "stdout",
     "output_type": "stream",
     "text": [
      "AnnData object with n_obs × n_vars = 2700 × 32738\n",
      "    var: 'gene_ids'\n"
     ]
    }
   ],
   "source": [
    "print(data)"
   ]
  }
 ],
 "metadata": {
  "kernelspec": {
   "display_name": "Python 3 (ipykernel)",
   "language": "python",
   "name": "python3"
  },
  "language_info": {
   "codemirror_mode": {
    "name": "ipython",
    "version": 3
   },
   "file_extension": ".py",
   "mimetype": "text/x-python",
   "name": "python",
   "nbconvert_exporter": "python",
   "pygments_lexer": "ipython3",
   "version": "3.7.16"
  }
 },
 "nbformat": 4,
 "nbformat_minor": 5
}
