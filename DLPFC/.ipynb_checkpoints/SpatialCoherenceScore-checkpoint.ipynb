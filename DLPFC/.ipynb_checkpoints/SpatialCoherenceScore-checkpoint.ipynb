{
 "cells": [
  {
   "cell_type": "code",
   "execution_count": 11,
   "id": "79deb11c-1c99-441c-8ef7-b5201104b3a3",
   "metadata": {},
   "outputs": [],
   "source": [
    "import scanpy as sc\n",
    "import pandas as pd\n",
    "import numpy as np\n",
    "import math"
   ]
  },
  {
   "cell_type": "code",
   "execution_count": 12,
   "id": "1be6dae7-c1ba-4e97-bb68-9633fb997720",
   "metadata": {},
   "outputs": [
    {
     "name": "stderr",
     "output_type": "stream",
     "text": [
      "D:\\anaconda\\envs\\index\\lib\\site-packages\\anndata\\_core\\anndata.py:1840: UserWarning: Variable names are not unique. To make them unique, call `.var_names_make_unique`.\n",
      "  utils.warn_names_duplicates(\"var\")\n",
      "D:\\anaconda\\envs\\index\\lib\\site-packages\\anndata\\_core\\anndata.py:1840: UserWarning: Variable names are not unique. To make them unique, call `.var_names_make_unique`.\n",
      "  utils.warn_names_duplicates(\"var\")\n"
     ]
    },
    {
     "name": "stdout",
     "output_type": "stream",
     "text": [
      "AnnData object with n_obs × n_vars = 4226 × 33538\n",
      "    obs: 'in_tissue', 'array_row', 'array_col', 'batch', 'ground.truth'\n",
      "    var: 'gene_ids', 'feature_types', 'genome'\n",
      "    uns: 'spatial'\n",
      "    obsm: 'spatial'\n",
      "View of AnnData object with n_obs × n_vars = 4221 × 33538\n",
      "    obs: 'in_tissue', 'array_row', 'array_col', 'batch', 'ground.truth'\n",
      "    var: 'gene_ids', 'feature_types', 'genome'\n",
      "    uns: 'spatial'\n",
      "    obsm: 'spatial'\n"
     ]
    }
   ],
   "source": [
    "dataset = '151507'\n",
    "input_dir = 'D:/dataset/'  # Replace it with your file path\n",
    "\n",
    "adata = sc.read_visium(input_dir + dataset)\n",
    "adata.var_names_make_unique()\n",
    "adata.obs_names_make_unique()\n",
    "adata_label = pd.read_csv(input_dir + dataset + '/' + dataset + '_truth.csv', index_col=0)\n",
    "adata.obs['batch'] = adata_label['batch'].astype(\"category\")\n",
    "adata.obs['ground.truth'] = adata_label['ground.truth'].astype(\"category\")\n",
    "print(adata)\n",
    "adata = adata[adata.obs['ground.truth'] != 'na']\n",
    "print(adata)"
   ]
  },
  {
   "cell_type": "code",
   "execution_count": 38,
   "id": "3c0e1e2d-d29e-42b6-b226-bdcd9b88ad5a",
   "metadata": {},
   "outputs": [
    {
     "name": "stdout",
     "output_type": "stream",
     "text": [
      "AAACAACGAATAGTTC-1    Layer 1\n",
      "AAACAAGTATCTCCCA-1    Layer 3\n",
      "AAACAATCTACTAGCA-1    Layer 1\n",
      "AAACACCAATAACTGC-1         WM\n",
      "AAACAGCTTTCAGAAG-1    Layer 6\n",
      "                       ...   \n",
      "TTGTTGTGTGTCAAGA-1    Layer 3\n",
      "TTGTTTCACATCCAGG-1    Layer 6\n",
      "TTGTTTCATTAGTCTA-1         WM\n",
      "TTGTTTCCATACAACT-1    Layer 6\n",
      "TTGTTTGTGTAAATTC-1    Layer 1\n",
      "Name: ground.truth, Length: 4221, dtype: category\n",
      "Categories (7, object): ['Layer 1', 'Layer 2', 'Layer 3', 'Layer 4', 'Layer 5', 'Layer 6', 'WM']\n",
      "4221\n",
      "Layer 1\n",
      "Layer 3\n"
     ]
    }
   ],
   "source": [
    "dataSet = adata.obs['ground.truth'].astype('category')\n",
    "print(dataSet)\n",
    "print(len(adata.obs['ground.truth']))"
   ]
  },
  {
   "cell_type": "code",
   "execution_count": 14,
   "id": "3028f92b-1008-489c-a148-51265ae0766f",
   "metadata": {},
   "outputs": [
    {
     "data": {
      "text/plain": [
       "AnnData object with n_obs × n_vars = 4221 × 33538\n",
       "    obs: 'in_tissue', 'array_row', 'array_col', 'batch', 'ground.truth'\n",
       "    var: 'gene_ids', 'feature_types', 'genome'\n",
       "    uns: 'spatial', 'neighbors'\n",
       "    obsm: 'spatial'\n",
       "    obsp: 'distances', 'connectivities'"
      ]
     },
     "execution_count": 14,
     "metadata": {},
     "output_type": "execute_result"
    }
   ],
   "source": [
    "sc.pp.neighbors(adata, use_rep=\"spatial\")\n",
    "adata"
   ]
  },
  {
   "cell_type": "code",
   "execution_count": 15,
   "id": "67828d6b-733c-40bc-ac3f-75a13169cb53",
   "metadata": {},
   "outputs": [
    {
     "data": {
      "text/plain": [
       "<4221x4221 sparse matrix of type '<class 'numpy.float32'>'\n",
       "\twith 61606 stored elements in Compressed Sparse Row format>"
      ]
     },
     "execution_count": 15,
     "metadata": {},
     "output_type": "execute_result"
    }
   ],
   "source": [
    "adata.obsp['connectivities']"
   ]
  },
  {
   "cell_type": "code",
   "execution_count": 16,
   "id": "a7a46fb2-50bc-44ba-86f7-907d79bf8b86",
   "metadata": {},
   "outputs": [
    {
     "name": "stdout",
     "output_type": "stream",
     "text": [
      "True\n",
      "61606\n"
     ]
    }
   ],
   "source": [
    "matrix = adata.obsp['connectivities'].toarray()\n",
    "print(np.array_equal(matrix, matrix.T))\n",
    "\n",
    "neighbors = dict()\n",
    "val = dict()\n",
    "for i in range(0, adata.n_obs):\n",
    "    c = list()\n",
    "    d = list()\n",
    "    for j in range(0, adata.n_obs):\n",
    "        if matrix[i][j] != 0:\n",
    "            c.append(j)\n",
    "            d.append(matrix[i][j])\n",
    "    neighbors[i] = c\n",
    "    val[i] = d\n",
    "    \n",
    "del matrix"
   ]
  },
  {
   "cell_type": "code",
   "execution_count": 47,
   "id": "28252f22-a0fb-4465-aa01-8db9097fac52",
   "metadata": {},
   "outputs": [
    {
     "name": "stdout",
     "output_type": "stream",
     "text": [
      "{'Layer 1_Layer 2': 740, 'Layer 1_Layer 1': 11240, 'Layer 3_Layer 3': 16462, 'Layer 3_Layer 4': 538, 'WM_WM': 4886, 'Layer 6_Layer 6': 6230, 'Layer 6_WM': 378, 'Layer 5_Layer 5': 8752, 'Layer 6_Layer 5': 495, 'Layer 2_Layer 2': 3072, 'Layer 2_Layer 3': 648, 'Layer 5_Layer 6': 495, 'WM_Layer 6': 378, 'Layer 4_Layer 4': 4266, 'Layer 2_Layer 1': 740, 'Layer 5_Layer 4': 550, 'Layer 4_Layer 5': 550, 'Layer 3_Layer 2': 648, 'Layer 4_Layer 3': 538}\n",
      "61606\n"
     ]
    },
    {
     "data": {
      "text/plain": [
       "3.197783144575839"
      ]
     },
     "execution_count": 47,
     "metadata": {},
     "output_type": "execute_result"
    }
   ],
   "source": [
    "from math import log\n",
    "\n",
    "# 函数说明:计算给定数据集的经验熵(香农熵)\n",
    "def calcShannonEnt(neighbors):\n",
    "    numEntires = 0                                                     #数据集的行数\n",
    "    labelCounts = {}                                                   #保存每个标签(Label)出现次数的字典\n",
    "    for key in neighbors:                                              #对所有spot进行统计\n",
    "        currentLabel = adata.obs['ground.truth'][key]                  #提取当前标签(Label)信息\n",
    "        for key2 in neighbors[key]:                                    #对当前spot的每个邻居进行统计\n",
    "            nextLabel = adata.obs['ground.truth'][key2]                #提取邻居标签(Label)信息\n",
    "            new_key = adata.obs['ground.truth'][key]  + '_' + adata.obs['ground.truth'][key2]\n",
    "            if new_key not in labelCounts.keys():                      #如果标签(Label)没有放入统计次数的字典,添加进去\n",
    "                labelCounts[new_key] = 0\n",
    "            labelCounts[new_key] += 1                                  #Label计数\n",
    "            numEntires = numEntires + 1                                #边计数\n",
    "\n",
    "    print(labelCounts)\n",
    "    shannonEnt = 0.0                                                   #经验熵(香农熵)\n",
    "    print(numEntires)\n",
    "    for key in labelCounts:                                            #计算香农熵\n",
    "        prob = float(labelCounts[key]) / numEntires                    #选择该标签(Label)的概率\n",
    "        shannonEnt -= prob * log(prob, 2)                              #利用公式计算\n",
    "    return shannonEnt                                                  #返回经验熵(香农熵)\n",
    "\n",
    "calcShannonEnt(neighbors)"
   ]
  }
 ],
 "metadata": {
  "kernelspec": {
   "display_name": "Python 3 (ipykernel)",
   "language": "python",
   "name": "python3"
  },
  "language_info": {
   "codemirror_mode": {
    "name": "ipython",
    "version": 3
   },
   "file_extension": ".py",
   "mimetype": "text/x-python",
   "name": "python",
   "nbconvert_exporter": "python",
   "pygments_lexer": "ipython3",
   "version": "3.10.12"
  }
 },
 "nbformat": 4,
 "nbformat_minor": 5
}
