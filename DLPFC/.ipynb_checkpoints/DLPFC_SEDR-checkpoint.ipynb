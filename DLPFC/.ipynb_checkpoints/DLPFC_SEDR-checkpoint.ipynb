{
 "cells": [
  {
   "cell_type": "code",
   "execution_count": 2,
   "id": "762c40b7-79d5-4252-aa0b-49ea7241c889",
   "metadata": {},
   "outputs": [
    {
     "name": "stdout",
     "output_type": "stream",
     "text": [
      "D:\\bio\\jupyter_code\\DLPFC\n",
      "D:\\bio\\sedr\\SEDR-master\n"
     ]
    }
   ],
   "source": [
    "import os\n",
    "\n",
    "print(os.getcwd())#显示当前路径\n",
    "os.chdir('D:/bio/sedr/SEDR-master')#更改路径，''里面为更改的路径\n",
    "print(os.getcwd())#显示当前路径"
   ]
  },
  {
   "cell_type": "code",
   "execution_count": 3,
   "id": "77641263-f2d9-4466-b5e5-db162b10bc9b",
   "metadata": {},
   "outputs": [
    {
     "name": "stdout",
     "output_type": "stream",
     "text": [
      "===== Using device: cuda:0\n"
     ]
    }
   ],
   "source": [
    "import torch\n",
    "import argparse\n",
    "import warnings\n",
    "import numpy as np\n",
    "import pandas as pd\n",
    "from src.graph_func import graph_construction\n",
    "from src.utils_func import mk_dir, adata_preprocess, load_ST_file\n",
    "import anndata\n",
    "from src.SEDR_train import SEDR_Train\n",
    "from sklearn import metrics\n",
    "import matplotlib.pyplot as plt\n",
    "import scanpy as sc\n",
    "\n",
    "warnings.filterwarnings('ignore')\n",
    "torch.cuda.cudnn_enabled = False\n",
    "np.random.seed(0)\n",
    "torch.manual_seed(0)\n",
    "torch.cuda.manual_seed(0)\n",
    "device = 'cuda:0' if torch.cuda.is_available() else 'cpu'\n",
    "print('===== Using device: ' + device)"
   ]
  },
  {
   "cell_type": "code",
   "execution_count": 5,
   "id": "2a3ea8f1-0fd4-4970-86ee-4d7e1ae62f2a",
   "metadata": {},
   "outputs": [],
   "source": [
    "import sys\n",
    "sys.argv = ['DLPFC_SEDR.py']\n",
    "\n",
    "# ################ Parameter setting\n",
    "parser = argparse.ArgumentParser()\n",
    "parser.add_argument('--k', type=int, default=10, help='parameter k in spatial graph')\n",
    "parser.add_argument('--knn_distanceType', type=str, default='euclidean',\n",
    "                    help='graph distance type: euclidean/cosine/correlation')\n",
    "parser.add_argument('--epochs', type=int, default=200, help='Number of epochs to train.')\n",
    "parser.add_argument('--cell_feat_dim', type=int, default=200, help='Dim of PCA')\n",
    "parser.add_argument('--feat_hidden1', type=int, default=100, help='Dim of DNN hidden 1-layer.')\n",
    "parser.add_argument('--feat_hidden2', type=int, default=20, help='Dim of DNN hidden 2-layer.')\n",
    "parser.add_argument('--gcn_hidden1', type=int, default=32, help='Dim of GCN hidden 1-layer.')\n",
    "parser.add_argument('--gcn_hidden2', type=int, default=8, help='Dim of GCN hidden 2-layer.')\n",
    "parser.add_argument('--p_drop', type=float, default=0.2, help='Dropout rate.')\n",
    "parser.add_argument('--using_dec', type=bool, default=True, help='Using DEC loss.')\n",
    "parser.add_argument('--using_mask', type=bool, default=False, help='Using mask for multi-dataset.')\n",
    "parser.add_argument('--feat_w', type=float, default=10, help='Weight of DNN loss.')\n",
    "parser.add_argument('--gcn_w', type=float, default=0.1, help='Weight of GCN loss.')\n",
    "parser.add_argument('--dec_kl_w', type=float, default=10, help='Weight of DEC loss.')\n",
    "parser.add_argument('--gcn_lr', type=float, default=0.01, help='Initial GNN learning rate.')\n",
    "parser.add_argument('--gcn_decay', type=float, default=0.01, help='Initial decay rate.')\n",
    "parser.add_argument('--dec_cluster_n', type=int, default=10, help='DEC cluster number.')\n",
    "parser.add_argument('--dec_interval', type=int, default=20, help='DEC interval nnumber.')\n",
    "parser.add_argument('--dec_tol', type=float, default=0.00, help='DEC tol.')\n",
    "# ______________ Eval clustering Setting ______________\n",
    "parser.add_argument('--eval_resolution', type=int, default=1, help='Eval cluster number.')\n",
    "parser.add_argument('--eval_graph_n', type=int, default=20, help='Eval graph kN tol.') \n",
    "\n",
    "params = parser.parse_args()\n",
    "params.device = device\n",
    "\n"
   ]
  },
  {
   "cell_type": "code",
   "execution_count": null,
   "id": "da7fb725-f5bb-4889-9b2c-752d0576043b",
   "metadata": {},
   "outputs": [],
   "source": [
    "# ################ Path setting\n",
    "# data_root = './data/DLPFC'\n",
    "data_root = 'D:/dataset'\n",
    "# all DLPFC folder list\n",
    "proj_list = ['151507', '151508', '151509', '151510', \n",
    "             '151669', '151670', '151671', '151672', \n",
    "             '151673', '151674', '151675', '151676']\n",
    "\n",
    "\n",
    "# set saving result path\n",
    "save_root = 'G:/dataset/1_DLPFC/output/SEDR'"
   ]
  },
  {
   "cell_type": "code",
   "execution_count": null,
   "id": "d3192a5b-849b-455c-92dc-7ff0790319d3",
   "metadata": {},
   "outputs": [],
   "source": [
    "def res_search_fixed_clus(adata, fixed_clus_count, increment=0.02):\n",
    "    '''\n",
    "        arg1(adata)[AnnData matrix]\n",
    "        arg2(fixed_clus_count)[int]\n",
    "        \n",
    "        return:\n",
    "            resolution[int]\n",
    "    '''\n",
    "    for res in sorted(list(np.arange(0.2, 2.5, increment)), reverse=True):\n",
    "        sc.tl.leiden(adata, random_state=0, resolution=res)\n",
    "        count_unique_leiden = len(pd.DataFrame(adata.obs['leiden']).leiden.unique())\n",
    "        if count_unique_leiden == fixed_clus_count:\n",
    "            break\n",
    "    return res"
   ]
  },
  {
   "cell_type": "code",
   "execution_count": null,
   "id": "ba08be10-ec56-4afd-9e4a-b939c139fc60",
   "metadata": {},
   "outputs": [],
   "source": [
    "ARI_list = []\n",
    "for proj_idx in range(len(proj_list)):\n",
    "    data_name = proj_list[proj_idx]\n",
    "    print('===== Project ' + str(proj_idx+1) + ' : ' + data_name)\n",
    "    file_fold = f'{data_root}/{data_name}'\n",
    "\n",
    "    # ################## Load data\n",
    "    adata_h5 = load_ST_file(file_fold=file_fold)\n",
    "    adata_h5.var_names_make_unique()\n",
    "\n",
    "    adata_X = adata_preprocess(adata_h5, min_cells=5, pca_n_comps=params.cell_feat_dim)\n",
    "    graph_dict = graph_construction(adata_h5.obsm['spatial'], adata_h5.shape[0], params)\n",
    "    params.save_path = mk_dir(f'{save_root}/{data_name}/SEDR')\n",
    "\n",
    "    params.cell_num = adata_h5.shape[0]\n",
    "    print('==== Graph Construction Finished')\n",
    "\n",
    "    # ################## Model training\n",
    "    sedr_net = SEDR_Train(adata_X, graph_dict, params)\n",
    "    if params.using_dec:\n",
    "        sedr_net.train_with_dec()\n",
    "    else:\n",
    "        sedr_net.train_without_dec()\n",
    "    sedr_feat, _, _, _ = sedr_net.process()\n",
    "\n",
    "    np.savez(f'{params.save_path}/SEDR_result.npz', sedr_feat=sedr_feat, params=params)\n",
    "    # ################## Result plot\n",
    "    adata_sedr = anndata.AnnData(sedr_feat)\n",
    "    adata_sedr.uns['spatial'] = adata_h5.uns['spatial']\n",
    "    adata_sedr.obsm['spatial'] = adata_h5.obsm['spatial']\n",
    "\n",
    "    sc.pp.neighbors(adata_sedr, n_neighbors=params.eval_graph_n)\n",
    "    # sc.tl.umap(adata_sedr)\n",
    "\n",
    "\n",
    "    if data_name in ['151669', '151670', '151671', '151672']:\n",
    "        n_clusters = 5\n",
    "    else:\n",
    "        n_clusters = 7\n",
    "    eval_resolution = res_search_fixed_clus(adata_sedr, n_clusters)\n",
    "\n",
    "    sc.tl.leiden(adata_sedr, key_added=\"SEDR_leiden\", resolution=eval_resolution)\n",
    "\n",
    "    sc.pl.spatial(adata_sedr, img_key=\"hires\", color=['SEDR_leiden'], show=False)\n",
    "    plt.savefig(f'{params.save_path}/SEDR_leiden_plot.jpg', bbox_inches='tight', dpi=150)\n",
    "\n",
    "\n",
    "\n",
    "    df_meta = pd.read_csv(f'{data_root}/{data_name}/metadata.tsv', sep='\\t')\n",
    "    df_meta['SEDR'] = adata_sedr.obs['SEDR_leiden'].tolist()\n",
    "    df_meta.to_csv(f'{params.save_path}/metadata.tsv', sep='\\t', index=False)\n",
    "\n",
    "    # #################### evaluation\n",
    "    # ---------- Load manually annotation ---------------\n",
    "    df_meta = df_meta[~pd.isnull(df_meta['layer_guess'])]\n",
    "    ARI = metrics.adjusted_rand_score(df_meta['layer_guess'], df_meta['SEDR'])\n",
    "    print('===== Project: {} ARI score: {:.3f}'.format(data_name, ARI))\n",
    "    ARI_list.append(ARI)\n",
    "\n",
    "\n",
    "print('===== Project: AVG ARI score: {:.3f}'.format(np.mean(ARI_list)))"
   ]
  }
 ],
 "metadata": {
  "kernelspec": {
   "display_name": "Python 3 (ipykernel)",
   "language": "python",
   "name": "python3"
  },
  "language_info": {
   "codemirror_mode": {
    "name": "ipython",
    "version": 3
   },
   "file_extension": ".py",
   "mimetype": "text/x-python",
   "name": "python",
   "nbconvert_exporter": "python",
   "pygments_lexer": "ipython3",
   "version": "3.10.12"
  }
 },
 "nbformat": 4,
 "nbformat_minor": 5
}
