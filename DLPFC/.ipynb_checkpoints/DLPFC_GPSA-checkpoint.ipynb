{
 "cells": [
  {
   "cell_type": "code",
   "execution_count": null,
   "id": "c81e8896",
   "metadata": {},
   "outputs": [],
   "source": [
    "import numpy as np\n",
    "import anndata\n",
    "\n",
    "data = anndata.read_h5ad(\"./examples/synthetic_data.h5ad\")"
   ]
  },
  {
   "cell_type": "code",
   "execution_count": null,
   "id": "fb74d08b",
   "metadata": {},
   "outputs": [],
   "source": [
    "X = data.obsm[\"spatial\"]\n",
    "Y = data.X\n",
    "view_idx = [np.where(data.obs.batch.values == ii)[0] for ii in range(2)]\n",
    "n_samples_list = [len(x) for x in view_idx]\n",
    "\n",
    "x = torch.from_numpy(X).float().clone()\n",
    "y = torch.from_numpy(Y).float().clone()\n",
    "\n",
    "data_dict = {\n",
    "    \"expression\": {\n",
    "        \"spatial_coords\": x,\n",
    "        \"outputs\": y,\n",
    "        \"n_samples_list\": n_samples_list,\n",
    "    }\n",
    "}"
   ]
  },
  {
   "cell_type": "code",
   "execution_count": null,
   "id": "af672a19",
   "metadata": {},
   "outputs": [],
   "source": [
    "import torch\n",
    "import matplotlib.pyplot as plt\n",
    "import seaborn as sns\n",
    "\n",
    "from gpsa import VariationalGPSA\n",
    "from gpsa import matern12_kernel, rbf_kernel\n",
    "from gpsa.plotting import callback_twod\n",
    "\n",
    "device = \"cuda\" if torch.cuda.is_available() else \"cpu\"\n",
    "\n",
    "N_SPATIAL_DIMS = 2\n",
    "N_VIEWS = 2\n",
    "M_G = 50\n",
    "M_X_PER_VIEW = 50\n",
    "N_OUTPUTS = 5\n",
    "FIXED_VIEW_IDX = 0\n",
    "N_LATENT_GPS = {\"expression\": None}\n",
    "\n",
    "N_EPOCHS = 3000\n",
    "PRINT_EVERY = 100\n",
    "\n",
    "model = VariationalGPSA(\n",
    "    data_dict,\n",
    "    n_spatial_dims=N_SPATIAL_DIMS,\n",
    "    m_X_per_view=M_X_PER_VIEW,\n",
    "    m_G=M_G,\n",
    "    data_init=True,\n",
    "    minmax_init=False,\n",
    "    grid_init=False,\n",
    "    n_latent_gps=N_LATENT_GPS,\n",
    "    mean_function=\"identity_fixed\",\n",
    "    kernel_func_warp=rbf_kernel,\n",
    "    kernel_func_data=rbf_kernel,\n",
    "    fixed_view_idx=FIXED_VIEW_IDX,\n",
    ").to(device)\n",
    "\n",
    "view_idx, Ns, _, _ = model.create_view_idx_dict(data_dict)\n",
    "\n",
    "optimizer = torch.optim.Adam(model.parameters(), lr=1e-2)"
   ]
  },
  {
   "cell_type": "code",
   "execution_count": null,
   "id": "ef068d0a",
   "metadata": {},
   "outputs": [],
   "source": [
    "def train(model, loss_fn, optimizer):\n",
    "    model.train()\n",
    "\n",
    "    # Forward pass\n",
    "    G_means, G_samples, F_latent_samples, F_samples = model.forward(\n",
    "        {\"expression\": x}, view_idx=view_idx, Ns=Ns, S=5\n",
    "    )\n",
    "\n",
    "    # Compute loss\n",
    "    loss = loss_fn(data_dict, F_samples)\n",
    "\n",
    "    # Compute gradients and take optimizer step\n",
    "    optimizer.zero_grad()\n",
    "    loss.backward()\n",
    "    optimizer.step()\n",
    "\n",
    "    return loss.item()\n",
    "\n",
    "for t in range(N_EPOCHS):\n",
    "    loss = train(model, model.loss_fn, optimizer)\n",
    "print(\"Done!\")"
   ]
  }
 ],
 "metadata": {
  "kernelspec": {
   "display_name": "Python 3 (ipykernel)",
   "language": "python",
   "name": "python3"
  },
  "language_info": {
   "codemirror_mode": {
    "name": "ipython",
    "version": 3
   },
   "file_extension": ".py",
   "mimetype": "text/x-python",
   "name": "python",
   "nbconvert_exporter": "python",
   "pygments_lexer": "ipython3",
   "version": "3.9.13"
  }
 },
 "nbformat": 4,
 "nbformat_minor": 5
}
