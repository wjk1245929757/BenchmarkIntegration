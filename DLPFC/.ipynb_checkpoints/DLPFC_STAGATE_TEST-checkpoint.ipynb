{
 "cells": [
  {
   "cell_type": "code",
   "execution_count": null,
   "id": "87f9116f-158a-4548-80f1-512cb4ca8c1f",
   "metadata": {},
   "outputs": [],
   "source": [
    "import warnings\n",
    "warnings.filterwarnings(\"ignore\")"
   ]
  },
  {
   "cell_type": "code",
   "execution_count": null,
   "id": "3c4fb0b8-a48f-406c-a52c-48dab1bab3d7",
   "metadata": {},
   "outputs": [],
   "source": [
    "import pandas as pd\n",
    "import numpy as np\n",
    "import scanpy as sc\n",
    "import matplotlib.pyplot as plt\n",
    "import os\n",
    "import sys"
   ]
  },
  {
   "cell_type": "code",
   "execution_count": null,
   "id": "42ae6da3-5fdf-4096-840a-049839f7fac5",
   "metadata": {},
   "outputs": [],
   "source": [
    "from sklearn.metrics.cluster import adjusted_rand_score"
   ]
  },
  {
   "cell_type": "code",
   "execution_count": null,
   "id": "2e80f440-7f52-48f6-933b-5035fcf91bb2",
   "metadata": {},
   "outputs": [],
   "source": [
    "import STAGATE"
   ]
  },
  {
   "cell_type": "code",
   "execution_count": null,
   "id": "8bafa67b-a9d9-4e08-9180-89707d7a7df3",
   "metadata": {},
   "outputs": [],
   "source": [
    "# the location of R (used for the mclust clustering)\n",
    "os.environ['R_HOME'] = 'D:\\\\anaconda\\envs\\STAligner\\Lib\\R'\n",
    "os.environ['R_USER'] = 'D:\\\\anaconda\\envs\\STAligner\\Lib\\site-packages\\rpy2'"
   ]
  },
  {
   "cell_type": "code",
   "execution_count": null,
   "id": "f848d00c-adea-43cf-a15d-a7c89e38ed96",
   "metadata": {},
   "outputs": [],
   "source": [
    "section_id = '151676'"
   ]
  },
  {
   "cell_type": "code",
   "execution_count": null,
   "id": "06e0d94f-8f07-434a-a1a3-758c7e9a37df",
   "metadata": {},
   "outputs": [],
   "source": [
    "input_dir = os.path.join('D:/dataset', section_id)\n",
    "adata = sc.read_visium(path=input_dir, count_file='filtered_feature_bc_matrix.h5')\n",
    "adata.var_names_make_unique()"
   ]
  },
  {
   "cell_type": "code",
   "execution_count": null,
   "id": "f5e9afab-1085-450b-8f43-3cc973a946d3",
   "metadata": {},
   "outputs": [],
   "source": [
    "adata"
   ]
  },
  {
   "cell_type": "code",
   "execution_count": null,
   "id": "ce03eba2-7805-4586-be07-5d0b5bfa60d2",
   "metadata": {},
   "outputs": [],
   "source": [
    "#Normalization\n",
    "sc.pp.highly_variable_genes(adata, flavor=\"seurat_v3\", n_top_genes=3000)\n",
    "sc.pp.normalize_total(adata, target_sum=1e4)\n",
    "sc.pp.log1p(adata)"
   ]
  },
  {
   "cell_type": "code",
   "execution_count": null,
   "id": "185e8c80-0b44-4c81-9f81-71fe1e357297",
   "metadata": {},
   "outputs": [],
   "source": [
    "# read the annotation\n",
    "Ann_df = pd.read_csv(os.path.join('Data', section_id, section_id+'_truth.txt'), sep='\\t', header=None, index_col=0)\n",
    "Ann_df.columns = ['Ground Truth']"
   ]
  },
  {
   "cell_type": "code",
   "execution_count": null,
   "id": "0f3d804f-b67b-48ea-9ab5-ad57e32331fb",
   "metadata": {},
   "outputs": [],
   "source": [
    "adata.obs['Ground Truth'] = Ann_df.loc[adata.obs_names, 'Ground Truth']"
   ]
  },
  {
   "cell_type": "code",
   "execution_count": null,
   "id": "90536b8f-3ccf-45f4-8a4c-2ca6992faa72",
   "metadata": {},
   "outputs": [],
   "source": [
    "plt.rcParams[\"figure.figsize\"] = (3, 3)\n",
    "sc.pl.spatial(adata, img_key=\"hires\", color=[\"Ground Truth\"])"
   ]
  },
  {
   "cell_type": "code",
   "execution_count": null,
   "id": "3e132be9-4499-4cd7-a576-714a4fed68f1",
   "metadata": {},
   "outputs": [],
   "source": [
    "STAGATE.Cal_Spatial_Net(adata, rad_cutoff=150)\n",
    "STAGATE.Stats_Spatial_Net(adata)"
   ]
  },
  {
   "cell_type": "code",
   "execution_count": null,
   "id": "6bcf4dbc-687d-4f12-a5ae-73fb1379765b",
   "metadata": {},
   "outputs": [],
   "source": [
    "adata = STAGATE.train_STAGATE(adata, alpha=0)"
   ]
  },
  {
   "cell_type": "code",
   "execution_count": null,
   "id": "25e6e571-f48d-4037-9181-8db09af0bc84",
   "metadata": {},
   "outputs": [],
   "source": [
    "sc.pp.neighbors(adata, use_rep='STAGATE')\n",
    "sc.tl.umap(adata)\n",
    "adata = STAGATE.mclust_R(adata, used_obsm='STAGATE', num_cluster=7)"
   ]
  },
  {
   "cell_type": "code",
   "execution_count": null,
   "id": "5a42d7dc-a24b-4af5-822b-0b60e93a93f6",
   "metadata": {},
   "outputs": [],
   "source": [
    "obs_df = adata.obs.dropna()\n",
    "ARI = adjusted_rand_score(obs_df['mclust'], obs_df['Ground Truth'])\n",
    "print('Adjusted rand index = %.2f' %ARI)"
   ]
  },
  {
   "cell_type": "code",
   "execution_count": null,
   "id": "1e0e9290-936c-472e-8fc3-056a814e51ab",
   "metadata": {},
   "outputs": [],
   "source": [
    "plt.rcParams[\"figure.figsize\"] = (3, 3)\n",
    "sc.pl.umap(adata, color=[\"mclust\", \"Ground Truth\"], title=['STAGATE (ARI=%.2f)'%ARI, \"Ground Truth\"])"
   ]
  },
  {
   "cell_type": "code",
   "execution_count": null,
   "id": "7f2104da-a275-47e0-88a5-117d3ce97769",
   "metadata": {},
   "outputs": [],
   "source": [
    "plt.rcParams[\"figure.figsize\"] = (3, 3)\n",
    "sc.pl.spatial(adata, color=[\"mclust\", \"Ground Truth\"], title=['STAGATE (ARI=%.2f)'%ARI, \"Ground Truth\"])"
   ]
  }
 ],
 "metadata": {
  "kernelspec": {
   "display_name": "Python 3 (ipykernel)",
   "language": "python",
   "name": "python3"
  },
  "language_info": {
   "codemirror_mode": {
    "name": "ipython",
    "version": 3
   },
   "file_extension": ".py",
   "mimetype": "text/x-python",
   "name": "python",
   "nbconvert_exporter": "python",
   "pygments_lexer": "ipython3",
   "version": "3.10.12"
  }
 },
 "nbformat": 4,
 "nbformat_minor": 5
}
