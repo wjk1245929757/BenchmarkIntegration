{
 "cells": [
  {
   "cell_type": "code",
   "execution_count": null,
   "id": "812df2cf",
   "metadata": {},
   "outputs": [],
   "source": [
    "import math\n",
    "import pandas as pd\n",
    "import numpy as np\n",
    "import scipy\n",
    "import seaborn as sns\n",
    "import matplotlib.pyplot as plt\n",
    "import matplotlib.patches as mpatches\n",
    "from matplotlib import style\n",
    "import matplotlib\n",
    "import time\n",
    "import scanpy as sc\n",
    "import sklearn\n",
    "import networkx as nx\n",
    "import ot\n",
    "import paste as pst\n",
    "#%load_ext autoreload\n",
    "#%autoreload 2\n",
    "# style.use('seaborn-dark')\n",
    "style.use('seaborn-white')"
   ]
  },
  {
   "cell_type": "code",
   "execution_count": null,
   "id": "5788eca3",
   "metadata": {},
   "outputs": [],
   "source": [
    "def largest_indices(ary, n):\n",
    "    \"\"\"Returns the n largest indices from a numpy array.\"\"\"\n",
    "    flat = ary.flatten()\n",
    "    indices = np.argpartition(flat, -n)[-n:]\n",
    "    indices = indices[np.argsort(-flat[indices])]\n",
    "    return np.unravel_index(indices, ary.shape)\n",
    "\n",
    "def plot2D_samples_mat(xs, xt, G, thr=1e-8,alpha=0.2,top=1000,weight_alpha=False,**kwargs):\n",
    "    if ('color' not in kwargs) and ('c' not in kwargs):\n",
    "        kwargs['color'] = 'k'\n",
    "    mx = G.max()\n",
    "    idx = largest_indices(G,top)\n",
    "    for l in range(len(idx[0])):\n",
    "        plt.plot([xs[idx[0][l], 0], xt[idx[1][l], 0]], [xs[idx[0][l], 1], xt[idx[1][l], 1]],alpha=alpha*(1-weight_alpha)+(weight_alpha*G[idx[0][l],idx[1][l]] /mx),c='k')\n",
    "\n",
    "    \n",
    "def plot_slice_pairwise_alignment(slice1,slice2,pi,thr=1-1e-8,alpha=0.05,top=1000,name='',save=False,weight_alpha=False):\n",
    "    coordinates1,coordinates2 = slice1.obsm['spatial'],slice2.obsm['spatial']\n",
    "    offset = (coordinates1[:,0].max()-coordinates2[:,0].min())*1.1\n",
    "    temp = np.zeros(coordinates2.shape)\n",
    "    temp[:,0] = offset\n",
    "    plt.figure(figsize=(20,10))\n",
    "    plot2D_samples_mat(coordinates1, coordinates2+temp, pi,thr=thr, c='k',alpha=alpha,top=top,weight_alpha=weight_alpha)\n",
    "    plt.scatter(coordinates1[:,0],coordinates1[:,1],linewidth=0,s=100, marker=\".\",color=list(slice1.obs['layer_guess_reordered'].map(dict(zip(slice1.obs['layer_guess_reordered'].cat.categories,slice1.uns['layer_guess_reordered_colors'])))))\n",
    "    plt.scatter(coordinates2[:,0]+offset,coordinates2[:,1],linewidth=0,s=100, marker=\".\",color=list(slice2.obs['layer_guess_reordered'].map(dict(zip(slice2.obs['layer_guess_reordered'].cat.categories,slice2.uns['layer_guess_reordered_colors'])))))\n",
    "    plt.gca().invert_yaxis()\n",
    "    plt.axis('off')\n",
    "    plt.show()"
   ]
  },
  {
   "cell_type": "markdown",
   "id": "5e8b9b7f",
   "metadata": {},
   "source": [
    "## Organize data\n",
    "\n",
    "### Run PASTE `pairwise_align`.\n",
    "\n",
    "## Rotate and plot new coordinates"
   ]
  },
  {
   "cell_type": "code",
   "execution_count": null,
   "id": "15ddaa34",
   "metadata": {},
   "outputs": [],
   "source": [
    "paste_layer_groups = [pst.stack_slices_pairwise(layer_groups[j], pis[j]) for j in range(len(layer_groups)) ]"
   ]
  },
  {
   "cell_type": "code",
   "execution_count": null,
   "id": "abb5491a",
   "metadata": {},
   "outputs": [],
   "source": [
    "def plot_slices_overlap(groups, adatas, sample_list, layer_to_color_map):\n",
    "    for j in range(len(groups)): \n",
    "        plt.figure(figsize=(10,10))\n",
    "        for i in range(len(groups[j])):\n",
    "            adata = adatas[sample_list[j*4+i]]\n",
    "            colors = list(adata.obs['layer_guess_reordered'].astype('str').map(layer_to_color_map))\n",
    "            plt.scatter(groups[j][i].obsm['spatial'][:,0],groups[j][i].obsm['spatial'][:,1],linewidth=0,s=100, marker=\".\",color=colors)\n",
    "        plt.legend(handles=[mpatches.Patch(color=layer_to_color_map[adata.obs['layer_guess_reordered'].cat.categories[i]], label=adata.obs['layer_guess_reordered'].cat.categories[i]) for i in range(len(adata.obs['layer_guess_reordered'].cat.categories))],fontsize=10,title='Cortex layer',title_fontsize=15,bbox_to_anchor=(1, 1))\n",
    "        plt.gca().invert_yaxis()\n",
    "        plt.axis('off') \n",
    "        plt.show()"
   ]
  },
  {
   "cell_type": "markdown",
   "id": "92ee089f",
   "metadata": {},
   "source": [
    "Below we plot stacking all slices of each DLPFC sample wihout alignment and with PASTE alignment. We also showcase how the STUtility alignment compares later in the notebook when we benchmark against other methods. "
   ]
  },
  {
   "cell_type": "code",
   "execution_count": null,
   "id": "8711ddf1",
   "metadata": {},
   "outputs": [],
   "source": [
    "# Plot Stacking of Four slices without alignment\n",
    "plot_slices_overlap(layer_groups, adatas, sample_list, layer_to_color_map)"
   ]
  },
  {
   "cell_type": "code",
   "execution_count": null,
   "id": "a1296a26",
   "metadata": {},
   "outputs": [],
   "source": [
    "# Plot Stacking of Four slices with PASTE alignment\n",
    "plot_slices_overlap(paste_layer_groups, adatas, sample_list, layer_to_color_map)"
   ]
  },
  {
   "cell_type": "code",
   "execution_count": null,
   "id": "8a2a4b05",
   "metadata": {},
   "outputs": [],
   "source": [
    "import plotly.express as px\n",
    "import plotly.io as pio\n",
    "# if using plain jupyter notebook use:\n",
    "pio.renderers.default='notebook'\n",
    "# If using jupyterlab use:\n",
    "#pio.renderers.default='jupyterlab'\n",
    "config = {\n",
    "      'toImageButtonOptions': {\n",
    "        'format': 'svg', # one of png, svg, jpeg, webp\n",
    "        'filename': \"DLPFC_3d\"\n",
    "      }\n",
    "    }\n",
    "\n",
    "factor = 6.1656/100\n",
    "z_difference = [np.array([0,10,300,10])*factor for j in range(len(paste_layer_groups))]\n",
    "z_coordinates = [[z_difference[j][:i+1].sum() for i in range(len(z_difference[j]))] for j in range(len(z_difference))]\n",
    "z_coordinates = np.array([[0,1,2,3] for j in range(3)])*75\n",
    "\n",
    "for j in range(len(paste_layer_groups)): \n",
    "    df = pd.DataFrame(columns=['x','y','z','layer'])\n",
    "    for i,L in enumerate(paste_layer_groups[j]):\n",
    "        adata = adatas[sample_list[j*4+i]]\n",
    "        df_ = pd.DataFrame(np.concatenate((L.obsm['spatial'],np.matrix(z_coordinates[j][i]*np.ones(len(adata))).T,np.matrix(np.ones(len(adata),dtype=int)).T),axis=1),columns=['x','y','z','layer'])\n",
    "        df_.loc[:,\"layer\"] = list(adata.obs['layer_guess_reordered'])\n",
    "        df = df.append(df_, ignore_index=True)\n",
    "    df = df.sort_values(by=['layer'])\n",
    "    df['y'] = -df['y']\n",
    "    df[['x','y','z']] = df[['x','y','z']]/factor\n",
    "    fig = px.scatter_3d(df, x='x', y='y', z='z',\n",
    "                  color='layer',color_discrete_sequence=[matplotlib.colors.to_hex(layer_to_color_map[c]) for c in sorted(list(adata.obs['layer_guess_reordered'].cat.categories))])#adata.uns['layer_guess_reordered_colors'])\n",
    "    fig.update_layout(scene_aspectmode='data',font=dict(size=8))\n",
    "    fig.show(config=config)"
   ]
  }
 ],
 "metadata": {
  "kernelspec": {
   "display_name": "Python [conda env:paste] *",
   "language": "python",
   "name": "conda-env-paste-py"
  },
  "language_info": {
   "codemirror_mode": {
    "name": "ipython",
    "version": 3
   },
   "file_extension": ".py",
   "mimetype": "text/x-python",
   "name": "python",
   "nbconvert_exporter": "python",
   "pygments_lexer": "ipython3",
   "version": "3.7.13"
  }
 },
 "nbformat": 4,
 "nbformat_minor": 5
}
