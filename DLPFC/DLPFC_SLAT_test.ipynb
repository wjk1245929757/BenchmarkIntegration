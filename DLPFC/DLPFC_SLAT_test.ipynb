{
 "cells": [
  {
   "cell_type": "code",
   "execution_count": 1,
   "id": "38dac970-3b58-4a9e-8c81-2e8b6187385f",
   "metadata": {},
   "outputs": [],
   "source": [
    "# uncomment this if you want to use interactive plot (only works in Jupyter not works in VScode)\n",
    "# %matplotlib widget\n",
    "\n",
    "import scanpy as sc\n",
    "import numpy as np\n",
    "import pandas as pd\n",
    "\n",
    "import scSLAT\n",
    "from scSLAT.model import Cal_Spatial_Net, load_anndatas, run_SLAT, spatial_match\n",
    "from scSLAT.viz import match_3D_multi, hist, Sankey\n",
    "from scSLAT.metrics import region_statistics"
   ]
  },
  {
   "cell_type": "code",
   "execution_count": 2,
   "id": "e0969436-41f3-45f3-9101-bbe45fbc534b",
   "metadata": {},
   "outputs": [],
   "source": [
    "sc.set_figure_params(scanpy=True, dpi=100, dpi_save=150, frameon=True, vector_friendly=True, fontsize=14)"
   ]
  },
  {
   "cell_type": "code",
   "execution_count": 15,
   "id": "b26a918b-ae35-45d6-bc28-f066e7f353bb",
   "metadata": {},
   "outputs": [
    {
     "name": "stderr",
     "output_type": "stream",
     "text": [
      "D:\\anaconda\\envs\\scSLAT\\lib\\site-packages\\anndata\\_core\\anndata.py:1840: UserWarning: Variable names are not unique. To make them unique, call `.var_names_make_unique`.\n",
      "  utils.warn_names_duplicates(\"var\")\n",
      "D:\\anaconda\\envs\\scSLAT\\lib\\site-packages\\anndata\\_core\\anndata.py:1840: UserWarning: Variable names are not unique. To make them unique, call `.var_names_make_unique`.\n",
      "  utils.warn_names_duplicates(\"var\")\n",
      "D:\\anaconda\\envs\\scSLAT\\lib\\site-packages\\anndata\\_core\\anndata.py:1840: UserWarning: Variable names are not unique. To make them unique, call `.var_names_make_unique`.\n",
      "  utils.warn_names_duplicates(\"var\")\n",
      "D:\\anaconda\\envs\\scSLAT\\lib\\site-packages\\anndata\\_core\\anndata.py:1840: UserWarning: Variable names are not unique. To make them unique, call `.var_names_make_unique`.\n",
      "  utils.warn_names_duplicates(\"var\")\n"
     ]
    },
    {
     "name": "stdout",
     "output_type": "stream",
     "text": [
      "Calculating spatial neighbor graph ...\n",
      "The graph contains 37544 edges, 3592 cells.\n",
      "10.452115812917596 neighbors per cell on average.\n",
      "Calculating spatial neighbor graph ...\n",
      "The graph contains 36220 edges, 3460 cells.\n",
      "10.468208092485549 neighbors per cell on average.\n",
      "Use DPCA feature to format graph\n"
     ]
    },
    {
     "name": "stderr",
     "output_type": "stream",
     "text": [
      "D:\\anaconda\\envs\\scSLAT\\lib\\site-packages\\anndata\\_core\\anndata.py:1763: FutureWarning: The AnnData.concatenate method is deprecated in favour of the anndata.concat function. Please use anndata.concat instead.\n",
      "\n",
      "See the tutorial for concat at: https://anndata.readthedocs.io/en/latest/concatenation.html\n",
      "  warnings.warn(\n",
      "D:\\anaconda\\envs\\scSLAT\\lib\\site-packages\\scanpy\\preprocessing\\_normalization.py:170: UserWarning: Received a view of an AnnData. Making a copy.\n",
      "  view_to_actual(adata)\n",
      "D:\\anaconda\\envs\\scSLAT\\lib\\site-packages\\scanpy\\preprocessing\\_simple.py:843: UserWarning: Received a view of an AnnData. Making a copy.\n",
      "  view_to_actual(adata)\n",
      "D:\\anaconda\\envs\\scSLAT\\lib\\site-packages\\scanpy\\preprocessing\\_simple.py:843: UserWarning: Received a view of an AnnData. Making a copy.\n",
      "  view_to_actual(adata)\n"
     ]
    },
    {
     "name": "stdout",
     "output_type": "stream",
     "text": [
      "Warning! Dual PCA is using GPU, which may lead to OUT OF GPU MEMORY in big dataset!\n",
      "Choose GPU:0 as device\n",
      "Running\n",
      "---------- epochs: 1 ----------\n",
      "---------- epochs: 2 ----------\n",
      "---------- epochs: 3 ----------\n",
      "---------- epochs: 4 ----------\n",
      "---------- epochs: 5 ----------\n",
      "---------- epochs: 6 ----------\n",
      "Training model time: 2.06\n"
     ]
    }
   ],
   "source": [
    "datasets = ['151675', '151676']\n",
    "input_dir = 'D:/dataset/'  # Replace it with your file path\n",
    "output_dir = 'G:/dataset/1_DLPFC/output/SLAT/'\n",
    "\n",
    "adata_list = []\n",
    "\n",
    "for dataset in datasets:\n",
    "    adata = sc.read_visium(input_dir + dataset)\n",
    "    adata.var_names_make_unique()\n",
    "    adata.obs_names_make_unique()\n",
    "    adata_label = pd.read_csv(input_dir + dataset + '/' + 'truth.csv', index_col=0)\n",
    "    adata.obs['batch'] = adata_label['batch']\n",
    "    adata.obs['annotation'] = adata_label['ground.truth']\n",
    "    adata_list.append(adata)\n",
    "\n",
    "Cal_Spatial_Net(adata_list[0], k_cutoff=10, model='KNN')\n",
    "Cal_Spatial_Net(adata_list[1], k_cutoff=10, model='KNN')\n",
    "\n",
    "edges, features = load_anndatas([adata_list[0], adata_list[1]], feature='DPCA', check_order=False)\n",
    "\n",
    "embd0, embd1, time = run_SLAT(features, edges)\n",
    "\n",
    "\n",
    "np.savetxt(output_dir + datasets[0] + '_' + datasets[1] + '__' + datasets[0] + '_SLAT_embeddeing.csv',embd0.cpu().detach().numpy(), delimiter=',')\n",
    "np.savetxt(output_dir + datasets[0] + '_' + datasets[1] + '__' + datasets[1] + '_SLAT_embeddeing.csv',embd1.cpu().detach().numpy(), delimiter=',')\n"
   ]
  },
  {
   "cell_type": "code",
   "execution_count": 4,
   "id": "6f0b4d38",
   "metadata": {},
   "outputs": [
    {
     "name": "stdout",
     "output_type": "stream",
     "text": [
      "tensor([[ 1.8645,  2.8196, -0.3658,  ..., -0.1658, -2.0866,  2.2218],\n",
      "        [-0.0311,  0.0182, -0.7954,  ...,  0.4941,  0.0616, -0.0624],\n",
      "        [ 0.3433,  0.6250, -0.2759,  ...,  0.6012,  0.1874,  1.3433],\n",
      "        ...,\n",
      "        [ 0.0812, -0.9032,  0.1259,  ...,  0.1541,  0.1325,  1.0335],\n",
      "        [-0.3637,  0.1392, -0.6755,  ...,  0.5062,  0.4794, -0.3499],\n",
      "        [ 0.9065,  0.6386,  0.2656,  ...,  0.2948,  0.1795,  1.1589]],\n",
      "       device='cuda:0', grad_fn=<AddmmBackward0>)\n"
     ]
    }
   ],
   "source": [
    "print(embd0)"
   ]
  },
  {
   "cell_type": "code",
   "execution_count": null,
   "id": "407f57ac",
   "metadata": {},
   "outputs": [],
   "source": [
    "best, index, distance = spatial_match(features, adatas=[adata_list[0],adata_list[1]], reorder=False)\n",
    "\n",
    "adata1_df = pd.DataFrame({'index': range(embd0.shape[0]),\n",
    "                        'x': adata_list[0].obsm['spatial'][:,0],\n",
    "                        'y': adata_list[0].obsm['spatial'][:,1],\n",
    "                        'celltype': adata_list[0].obs['annotation']})\n",
    "adata2_df = pd.DataFrame({'index': range(embd1.shape[0]),\n",
    "                        'x': adata_list[1].obsm['spatial'][:,0],\n",
    "                        'y': adata_list[1].obsm['spatial'][:,1],\n",
    "                        'celltype': adata_list[1].obs['annotation']})\n",
    "print(adata1_df)\n",
    "print(adata2_df)\n",
    "\n",
    "matching = np.array([range(index.shape[0]), best])\n",
    "best_match = distance[:,0]\n",
    "\n",
    "multi_align = match_3D_multi(adata1_df, adata2_df, matching,meta='celltype',\n",
    "                            scale_coordinate=True, subsample_size=300)\n",
    "multi_align.draw_3D(size=[7, 8], line_width=1, point_size=[1.5,1.5], hide_axis=True)\n",
    "\n",
    "%matplotlib inline\n",
    "hist(best_match, cut=0.8)"
   ]
  },
  {
   "cell_type": "code",
   "execution_count": 18,
   "id": "37ee155f-690b-4f92-a3eb-61fa8bb34692",
   "metadata": {},
   "outputs": [
    {
     "data": {
      "text/plain": [
       "array([[0.7575611 , 0.75636154, 0.74787045, ..., 0.6993324 , 0.69892645,\n",
       "        0.6970204 ],\n",
       "       [0.8028911 , 0.5620574 , 0.5379353 , ..., 0.44516423, 0.44315094,\n",
       "        0.44096938],\n",
       "       [0.6922504 , 0.6554412 , 0.6330521 , ..., 0.5615372 , 0.5610854 ,\n",
       "        0.55364746],\n",
       "       ...,\n",
       "       [0.8993812 , 0.88761175, 0.87537175, ..., 0.7974684 , 0.7950389 ,\n",
       "        0.79437107],\n",
       "       [0.878142  , 0.86335534, 0.8330437 , ..., 0.72919446, 0.72818345,\n",
       "        0.727426  ],\n",
       "       [0.66471416, 0.58902645, 0.57814384, ..., 0.48240066, 0.48009697,\n",
       "        0.47809172]], dtype=float32)"
      ]
     },
     "execution_count": 18,
     "metadata": {},
     "output_type": "execute_result"
    }
   ],
   "source": [
    "distance"
   ]
  }
 ],
 "metadata": {
  "kernelspec": {
   "display_name": "SLAT",
   "language": "python",
   "name": "slat"
  },
  "language_info": {
   "codemirror_mode": {
    "name": "ipython",
    "version": 3
   },
   "file_extension": ".py",
   "mimetype": "text/x-python",
   "name": "python",
   "nbconvert_exporter": "python",
   "pygments_lexer": "ipython3",
   "version": "3.8.17"
  }
 },
 "nbformat": 4,
 "nbformat_minor": 5
}
