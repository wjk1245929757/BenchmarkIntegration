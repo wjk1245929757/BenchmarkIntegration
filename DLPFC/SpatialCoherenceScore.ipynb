{
 "cells": [
  {
   "cell_type": "code",
   "execution_count": null,
   "id": "79deb11c-1c99-441c-8ef7-b5201104b3a3",
   "metadata": {},
   "outputs": [],
   "source": [
    "import scanpy as sc\n",
    "import pandas as pd\n",
    "import numpy as np\n",
    "import math"
   ]
  },
  {
   "cell_type": "code",
   "execution_count": null,
   "id": "1be6dae7-c1ba-4e97-bb68-9633fb997720",
   "metadata": {},
   "outputs": [],
   "source": [
    "dataset = '151507'\n",
    "input_dir = 'D:/dataset/'  # Replace it with your file path\n",
    "\n",
    "adata = sc.read_visium(input_dir + dataset)\n",
    "adata.var_names_make_unique()\n",
    "adata.obs_names_make_unique()\n",
    "adata_label = pd.read_csv(input_dir + dataset + '/' + dataset + '_truth.csv', index_col=0)\n",
    "adata.obs['batch'] = adata_label['batch'].astype(\"category\")\n",
    "adata.obs['ground.truth'] = adata_label['ground.truth'].astype(\"category\")\n",
    "print(adata)\n",
    "adata = adata[adata.obs['ground.truth'] != 'na']\n",
    "print(adata)"
   ]
  },
  {
   "cell_type": "code",
   "execution_count": null,
   "id": "3c0e1e2d-d29e-42b6-b226-bdcd9b88ad5a",
   "metadata": {},
   "outputs": [],
   "source": [
    "dataSet = adata.obs['ground.truth'].astype('category')\n",
    "print(dataSet)\n",
    "print(len(adata.obs['ground.truth']))"
   ]
  },
  {
   "cell_type": "code",
   "execution_count": null,
   "id": "3028f92b-1008-489c-a148-51265ae0766f",
   "metadata": {},
   "outputs": [],
   "source": [
    "sc.pp.neighbors(adata, use_rep=\"spatial\")\n",
    "adata"
   ]
  },
  {
   "cell_type": "code",
   "execution_count": null,
   "id": "67828d6b-733c-40bc-ac3f-75a13169cb53",
   "metadata": {},
   "outputs": [],
   "source": [
    "adata.obsp['connectivities']"
   ]
  },
  {
   "cell_type": "code",
   "execution_count": null,
   "id": "a7a46fb2-50bc-44ba-86f7-907d79bf8b86",
   "metadata": {},
   "outputs": [],
   "source": [
    "matrix = adata.obsp['connectivities'].toarray()\n",
    "print(np.array_equal(matrix, matrix.T))\n",
    "\n",
    "neighbors = dict()\n",
    "val = dict()\n",
    "for i in range(0, adata.n_obs):\n",
    "    c = list()\n",
    "    d = list()\n",
    "    for j in range(0, adata.n_obs):\n",
    "        if matrix[i][j] != 0:\n",
    "            c.append(j)\n",
    "            d.append(matrix[i][j])\n",
    "    neighbors[i] = c\n",
    "    val[i] = d\n",
    "    \n",
    "del matrix"
   ]
  },
  {
   "cell_type": "code",
   "execution_count": null,
   "id": "28252f22-a0fb-4465-aa01-8db9097fac52",
   "metadata": {},
   "outputs": [],
   "source": [
    "from math import log\n",
    "\n",
    "# 函数说明:计算给定数据集的经验熵(香农熵)\n",
    "def calcShannonEnt(neighbors):\n",
    "    numEntires = 0                                                     #数据集的行数\n",
    "    labelCounts = {}                                                   #保存每个标签(Label)出现次数的字典\n",
    "    for key in neighbors:                                              #对所有spot进行统计\n",
    "        currentLabel = adata.obs['ground.truth'][key]                  #提取当前标签(Label)信息\n",
    "        for key2 in neighbors[key]:                                    #对当前spot的每个邻居进行统计\n",
    "            nextLabel = adata.obs['ground.truth'][key2]                #提取邻居标签(Label)信息\n",
    "            new_key = adata.obs['ground.truth'][key]  + '_' + adata.obs['ground.truth'][key2]\n",
    "            if new_key not in labelCounts.keys():                      #如果标签(Label)没有放入统计次数的字典,添加进去\n",
    "                labelCounts[new_key] = 0\n",
    "            labelCounts[new_key] += 1                                  #Label计数\n",
    "            numEntires = numEntires + 1                                #边计数\n",
    "\n",
    "    print(labelCounts)\n",
    "    shannonEnt = 0.0                                                   #经验熵(香农熵)\n",
    "    print(numEntires)\n",
    "    for key in labelCounts:                                            #计算香农熵\n",
    "        prob = float(labelCounts[key]) / numEntires                    #选择该标签(Label)的概率\n",
    "        shannonEnt -= prob * log(prob, 2)                              #利用公式计算\n",
    "    return shannonEnt                                                  #返回经验熵(香农熵)\n",
    "\n",
    "calcShannonEnt(neighbors)"
   ]
  }
 ],
 "metadata": {
  "kernelspec": {
   "display_name": "Python 3 (ipykernel)",
   "language": "python",
   "name": "python3"
  },
  "language_info": {
   "codemirror_mode": {
    "name": "ipython",
    "version": 3
   },
   "file_extension": ".py",
   "mimetype": "text/x-python",
   "name": "python",
   "nbconvert_exporter": "python",
   "pygments_lexer": "ipython3",
   "version": "3.10.12"
  }
 },
 "nbformat": 4,
 "nbformat_minor": 5
}
