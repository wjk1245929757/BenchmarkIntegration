{
 "cells": [
  {
   "cell_type": "code",
   "execution_count": 16,
   "id": "985d8091",
   "metadata": {},
   "outputs": [],
   "source": [
    "import matplotlib.pyplot as plt\n",
    "from pathlib import Path\n",
    "import scanpy as sc\n",
    "import pandas as pd\n",
    "import numpy as np\n",
    "from anndata import AnnData\n",
    "\n",
    "\n",
    "from matplotlib.image import imread\n",
    "import json\n",
    "\n",
    "def add_visium_image(\n",
    "    adata,\n",
    "    path: str,\n",
    "    library_id = None,\n",
    "    load_images = True,\n",
    "    source_image_path = None,\n",
    "    quality ='hires',\n",
    ") -> AnnData:\n",
    "    \n",
    "    path = Path(path)\n",
    "\n",
    "    adata.uns[\"spatial\"] = dict()\n",
    "    from h5py import File\n",
    "    if library_id is None:\n",
    "        library_id = 'deepst'\n",
    "    adata.uns[\"spatial\"][library_id] = dict()\n",
    "    adata.uns[\"spatial\"][library_id][\"images\"] = dict()\n",
    "\n",
    "    image_coor = adata.obsm[\"spatial\"]\n",
    "    image_path = path / 'pic_low_quality.jpg'\n",
    "    img = plt.imread(image_path)\n",
    "    adata.uns[\"spatial\"][library_id][\"images\"][\"fulres\"] = img\n",
    "    adata.obs[\"imagecol\"] = image_coor[:, 0]\n",
    "    adata.obs[\"imagerow\"] = image_coor[:, 1]\n",
    "    return adata"
   ]
  },
  {
   "cell_type": "code",
   "execution_count": 17,
   "id": "d443c58d",
   "metadata": {},
   "outputs": [
    {
     "name": "stdout",
     "output_type": "stream",
     "text": [
      "AnnData object with n_obs × n_vars = 428 × 19736\n",
      "    obs: 'orig.ident', 'nCount_RNA', 'nFeature_RNA', 'Classification', 'x', 'y', 'batch'\n",
      "    var: 'features'\n",
      "    obsm: 'spatial'\n",
      "AnnData object with n_obs × n_vars = 428 × 19736\n",
      "    obs: 'orig.ident', 'nCount_RNA', 'nFeature_RNA', 'Classification', 'x', 'y', 'batch', 'imagecol', 'imagerow'\n",
      "    var: 'features'\n",
      "    uns: 'spatial'\n",
      "    obsm: 'spatial'\n"
     ]
    }
   ],
   "source": [
    "import scanpy as sc\n",
    "adata = sc.read_h5ad('G:/dataset/04-PDAC/input/A1/A1.h5ad')\n",
    "adata.obsm['spatial'] = adata.obs[['x', 'y']].values\n",
    "print(adata)\n",
    "adata = add_visium_image(adata, 'G:/dataset/04-PDAC/input/A1')\n",
    "print(adata)"
   ]
  },
  {
   "cell_type": "code",
   "execution_count": 2,
   "id": "b77f4ae8",
   "metadata": {},
   "outputs": [
    {
     "name": "stdout",
     "output_type": "stream",
     "text": [
      "AnnData object with n_obs × n_vars = 428 × 19736\n",
      "    obs: 'orig.ident', 'nCount_RNA', 'nFeature_RNA', 'Classification', 'x', 'y', 'batch'\n",
      "    var: 'features'\n",
      "AnnData object with n_obs × n_vars = 224 × 19736\n",
      "    obs: 'orig.ident', 'nCount_RNA', 'nFeature_RNA', 'Classification', 'x', 'y', 'batch'\n",
      "    var: 'features'\n"
     ]
    }
   ],
   "source": [
    "import scanpy as sc\n",
    "adata = sc.read_h5ad('G:/dataset/04-PDAC/input/A1/A1.h5ad')\n",
    "print(adata)\n",
    "adata2 = sc.read_h5ad('G:/dataset/04-PDAC/input/B1/B1.h5ad')\n",
    "print(adata2)"
   ]
  }
 ],
 "metadata": {
  "kernelspec": {
   "display_name": "index",
   "language": "python",
   "name": "index"
  },
  "language_info": {
   "codemirror_mode": {
    "name": "ipython",
    "version": 3
   },
   "file_extension": ".py",
   "mimetype": "text/x-python",
   "name": "python",
   "nbconvert_exporter": "python",
   "pygments_lexer": "ipython3",
   "version": "3.10.12"
  }
 },
 "nbformat": 4,
 "nbformat_minor": 5
}
