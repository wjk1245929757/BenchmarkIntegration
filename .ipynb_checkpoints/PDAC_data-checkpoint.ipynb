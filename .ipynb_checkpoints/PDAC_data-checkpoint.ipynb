{
 "cells": [
  {
   "cell_type": "code",
   "execution_count": 2,
   "id": "b77f4ae8",
   "metadata": {},
   "outputs": [
    {
     "name": "stdout",
     "output_type": "stream",
     "text": [
      "AnnData object with n_obs × n_vars = 428 × 19736\n",
      "    obs: 'orig.ident', 'nCount_RNA', 'nFeature_RNA', 'Classification', 'x', 'y', 'batch'\n",
      "    var: 'features'\n",
      "AnnData object with n_obs × n_vars = 224 × 19736\n",
      "    obs: 'orig.ident', 'nCount_RNA', 'nFeature_RNA', 'Classification', 'x', 'y', 'batch'\n",
      "    var: 'features'\n"
     ]
    }
   ],
   "source": [
    "import scanpy as sc\n",
    "adata = sc.read_h5ad('G:/dataset/04-PDAC/input/A1/A1.h5ad')\n",
    "print(adata)\n",
    "adata2 = sc.read_h5ad('G:/dataset/04-PDAC/input/B1/B1.h5ad')\n",
    "print(adata2)"
   ]
  }
 ],
 "metadata": {
  "kernelspec": {
   "display_name": "index",
   "language": "python",
   "name": "index"
  },
  "language_info": {
   "codemirror_mode": {
    "name": "ipython",
    "version": 3
   },
   "file_extension": ".py",
   "mimetype": "text/x-python",
   "name": "python",
   "nbconvert_exporter": "python",
   "pygments_lexer": "ipython3",
   "version": "3.10.12"
  }
 },
 "nbformat": 4,
 "nbformat_minor": 5
}
