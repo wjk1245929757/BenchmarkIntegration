{
 "cells": [
  {
   "cell_type": "code",
   "execution_count": 1,
   "id": "8685d2ef-08ad-467b-8154-fb20e688a770",
   "metadata": {},
   "outputs": [
    {
     "data": {
      "image/png": "[encoded data removed]",
      "text/plain": [
       "<Figure size 1500x100 with 1 Axes>"
      ]
     },
     "metadata": {},
     "output_type": "display_data"
    }
   ],
   "source": [
    "import seaborn as sns\n",
    "import matplotlib.pyplot as plt\n",
    "# titanic=sns.load_dataset(\"titanic\")\n",
    "# titanic.head()\n",
    "sns.palplot(sns.diverging_palette(0, 90, n=15,sep=1))\n",
    "plt.show()"
   ]
  },
  {
   "cell_type": "code",
   "execution_count": 3,
   "id": "a84d2c43-eeeb-48ce-93ba-eb8d7ef7cde3",
   "metadata": {},
   "outputs": [
    {
     "data": {
      "image/png": "[encoded data removed]",
      "text/plain": [
       "<Figure size 600x100 with 1 Axes>"
      ]
     },
     "metadata": {},
     "output_type": "display_data"
    }
   ],
   "source": [
    "import seaborn as sns\n",
    "import matplotlib.pyplot as plt\n",
    "sns.palplot(sns.color_palette('vlag'))\n",
    "plt.show()"
   ]
  },
  {
   "cell_type": "code",
   "execution_count": 4,
   "id": "d88da6f1-6cb6-4654-8018-2688ba35507f",
   "metadata": {},
   "outputs": [
    {
     "data": {
      "text/html": [
       "<svg  width=\"660\" height=\"55\"><rect x=\"0\" y=\"0\" width=\"55\" height=\"55\" style=\"fill:#0000ff;stroke-width:2;stroke:rgb(255,255,255)\"/><rect x=\"55\" y=\"0\" width=\"55\" height=\"55\" style=\"fill:#2e2eff;stroke-width:2;stroke:rgb(255,255,255)\"/><rect x=\"110\" y=\"0\" width=\"55\" height=\"55\" style=\"fill:#5c5cff;stroke-width:2;stroke:rgb(255,255,255)\"/><rect x=\"165\" y=\"0\" width=\"55\" height=\"55\" style=\"fill:#8a8aff;stroke-width:2;stroke:rgb(255,255,255)\"/><rect x=\"220\" y=\"0\" width=\"55\" height=\"55\" style=\"fill:#babaff;stroke-width:2;stroke:rgb(255,255,255)\"/><rect x=\"275\" y=\"0\" width=\"55\" height=\"55\" style=\"fill:#e8e8ff;stroke-width:2;stroke:rgb(255,255,255)\"/><rect x=\"330\" y=\"0\" width=\"55\" height=\"55\" style=\"fill:#ffe8e8;stroke-width:2;stroke:rgb(255,255,255)\"/><rect x=\"385\" y=\"0\" width=\"55\" height=\"55\" style=\"fill:#ffbaba;stroke-width:2;stroke:rgb(255,255,255)\"/><rect x=\"440\" y=\"0\" width=\"55\" height=\"55\" style=\"fill:#ff8a8a;stroke-width:2;stroke:rgb(255,255,255)\"/><rect x=\"495\" y=\"0\" width=\"55\" height=\"55\" style=\"fill:#ff5c5c;stroke-width:2;stroke:rgb(255,255,255)\"/><rect x=\"550\" y=\"0\" width=\"55\" height=\"55\" style=\"fill:#ff2e2e;stroke-width:2;stroke:rgb(255,255,255)\"/><rect x=\"605\" y=\"0\" width=\"55\" height=\"55\" style=\"fill:#ff0000;stroke-width:2;stroke:rgb(255,255,255)\"/></svg>"
      ],
      "text/plain": [
       "[(0.0, 0.0, 1.0),\n",
       " (0.1803921568627451, 0.1803921568627451, 1.0),\n",
       " (0.3607843137254902, 0.3607843137254902, 1.0),\n",
       " (0.5411764705882353, 0.5411764705882353, 1.0),\n",
       " (0.7294117647058823, 0.7294117647058823, 1.0),\n",
       " (0.9098039215686274, 0.9098039215686274, 1.0),\n",
       " (1.0, 0.9098039215686274, 0.9098039215686274),\n",
       " (1.0, 0.7294117647058824, 0.7294117647058824),\n",
       " (1.0, 0.5411764705882354, 0.5411764705882354),\n",
       " (1.0, 0.36078431372549025, 0.36078431372549025),\n",
       " (1.0, 0.18039215686274512, 0.18039215686274512),\n",
       " (1.0, 0.0, 0.0)]"
      ]
     },
     "execution_count": 4,
     "metadata": {},
     "output_type": "execute_result"
    }
   ],
   "source": [
    "sns.blend_palette([\"blue\", \"white\", \"red\"], 12)"
   ]
  },
  {
   "cell_type": "code",
   "execution_count": 13,
   "id": "2cbfb3c0",
   "metadata": {},
   "outputs": [
    {
     "data": {
      "image/png": "[encoded data removed]",
      "text/plain": [
       "<Figure size 4000x100 with 1 Axes>"
      ]
     },
     "metadata": {},
     "output_type": "display_data"
    }
   ],
   "source": [
    "sns.palplot(sns.color_palette(\"hls\", 40))\n",
    "plt.show()"
   ]
  },
  {
   "cell_type": "code",
   "execution_count": 2,
   "id": "ed945fb7",
   "metadata": {},
   "outputs": [
    {
     "name": "stdout",
     "output_type": "stream",
     "text": [
      "<class 'numpy.ndarray'>\n",
      "(652, 2)\n",
      "           align_x    align_y\n",
      "10x10_A1 -6.481308 -12.553738\n",
      "10x13_A1 -6.481308  -9.553738\n",
      "10x14_A1 -6.481308  -8.553738\n",
      "10x15_A1 -6.481308  -7.553738\n",
      "10x16_A1 -6.481308  -6.553738\n",
      "...            ...        ...\n",
      "22x20_B1 -8.054035  -7.208306\n",
      "23x20_B1 -8.606909  -6.375041\n",
      "24x20_B1 -9.159782  -5.541776\n",
      "23x21_B1 -9.440174  -6.927914\n",
      "24x21_B1 -9.993047  -6.094649\n",
      "\n",
      "[652 rows x 2 columns]\n",
      "            align_x    align_y\n",
      "10x10_A1  10.000000  10.000000\n",
      "10x13_A1  10.000000  13.000000\n",
      "10x14_A1  10.000000  14.000000\n",
      "10x15_A1  10.000000  15.000000\n",
      "10x16_A1  10.000000  16.000000\n",
      "...             ...        ...\n",
      "22x20_B1   8.905117  19.365540\n",
      "23x20_B1   5.297188  24.856911\n",
      "24x20_B1  10.000152  18.035719\n",
      "23x21_B1   7.976959  16.712975\n",
      "24x21_B1   8.710799  16.256937\n",
      "\n",
      "[652 rows x 2 columns]\n"
     ]
    }
   ],
   "source": [
    "import numpy\n",
    "\n",
    "def _priori_cluster(\n",
    "\tadata,\n",
    "\tn_domains =7,\n",
    "\tcluster_method = 'leiden',\n",
    "\tresolution: list = sorted(list(np.arange(0.01, 2, 0.01)), reverse=True),\n",
    "\t):\n",
    "\tif resolution[0] < resolution[1]:\n",
    "\t\tstep_larger = True\n",
    "\telse:\n",
    "\t\tstep_larger = False\n",
    "\t_step = abs(resolution[1] - resolution[0])\n",
    "   \n",
    "\tres = resolution[0]\n",
    "\twhile step_larger and res > resolution[-1] or !step_larger and res < resolution[-1]:\n",
    "\t\tif cluster_method == 'leiden':\n",
    "\t\t\tsc.tl.leiden(adata, random_state=0, resolution=res)\n",
    "\t\t\tcount_unique = len(pd.DataFrame(adata.obs['leiden']).leiden.unique())\n",
    "\t\t\tprint(\"resolution: \", res, \"   count_unique_leiden: \", count_unique)\n",
    "\t\t\tif count_unique == n_domains:\n",
    "\t\t\t\tbreak\n",
    "\t\telse:\n",
    "\t\t\tsc.tl.louvain(adata, random_state=0, resolution=res)\n",
    "\t\t\tcount_unique_louvain = len(pd.DataFrame(adata.obs['louvain']).louvain.unique())\n",
    "\t\t\tprint(\"resolution: \", res, \"   count_unique_louvain: \", count_unique)\n",
    "\t\t\tif count_unique == n_domains:\n",
    "\t\t\t\tbreak\n",
    "\t\tres = res + _step\n",
    "\t\tif step_larger and count_unique > n_domains:\n",
    "\t\t\tres = res - _step * 5\n",
    "\t\t\t_step = _step / 2\n",
    "\t\tif !step_larger and count_unique < n_domains:\n",
    "\t\t\tres = res + _step * 5\n",
    "\t\t\t_step = _step / 2\n",
    "      \n",
    "\t\t\n",
    "\tprint(\"Best resolution: \", res)\n",
    "\treturn res\n"
   ]
  }
 ],
 "metadata": {
  "kernelspec": {
   "display_name": "index",
   "language": "python",
   "name": "index"
  },
  "language_info": {
   "codemirror_mode": {
    "name": "ipython",
    "version": 3
   },
   "file_extension": ".py",
   "mimetype": "text/x-python",
   "name": "python",
   "nbconvert_exporter": "python",
   "pygments_lexer": "ipython3",
   "version": "3.10.12"
  }
 },
 "nbformat": 4,
 "nbformat_minor": 5
}
