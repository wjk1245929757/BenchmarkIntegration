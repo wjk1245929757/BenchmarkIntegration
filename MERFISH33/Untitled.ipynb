{
 "cells": [
  {
   "cell_type": "code",
   "execution_count": null,
   "id": "ee84065d",
   "metadata": {},
   "outputs": [],
   "source": [
    "import warnings\n",
    "\n",
    "import moscot as mt\n",
    "from moscot import datasets\n",
    "from moscot.problems.space import AlignmentProblem\n",
    "\n",
    "import scanpy as sc\n",
    "import squidpy as sq\n",
    "\n",
    "warnings.simplefilter(\"ignore\", UserWarning)\n",
    "\n",
    "import pandas as pd"
   ]
  },
  {
   "cell_type": "code",
   "execution_count": null,
   "id": "242bb6d8",
   "metadata": {},
   "outputs": [],
   "source": [
    "datasets = [\"10X\",\"slide\",\"stereo\"]\n",
    "input_dir = 'G:/dataset/06-Mouse olfactory bulb/input/35um/'\n",
    "output_dir = 'G:/dataset/06-Mouse olfactory bulb/output/35um/moscot/'\n",
    "experiment_name = 'MouseOB25um'"
   ]
  },
  {
   "cell_type": "code",
   "execution_count": null,
   "id": "002f0554",
   "metadata": {},
   "outputs": [],
   "source": [
    "import anndata as ad\n",
    "adata_list = []\n",
    "\n",
    "for dataset in datasets:\n",
    "    # adata = sc.read_visium(input_dir + dataset)\n",
    "    # adata.var_names_make_unique()\n",
    "    # adata.obs_names_make_unique()\n",
    "\n",
    "    adata = sc.read_h5ad(input_dir + dataset + '.h5ad')\n",
    "    adata.var_names_make_unique()\n",
    "    adata.obs_names_make_unique()\n",
    "    \n",
    "    df = adata.obs[['x','y']].astype('float32')\n",
    "    adata.obsm['spatial'] = df.values\n",
    "    \n",
    "    # make spot name unique\n",
    "    adata.obs_names = [x + '_' + dataset for x in adata.obs_names]\n",
    "\n",
    "    adata_list.append(adata)\n",
    "\n",
    "print(adata_list)\n",
    "adata = ad.concat(adata_list, label=\"slice_name\", keys=datasets)\n",
    "# adata =sc.AnnData.concatenate(adata_list[0],adata_list[1],adata_list[2],adata_list[3])\n",
    "print(adata)\n",
    "del adata_list"
   ]
  },
  {
   "cell_type": "code",
   "execution_count": null,
   "id": "be433ef1",
   "metadata": {},
   "outputs": [],
   "source": [
    "sq.pl.spatial_scatter(adata, shape=None, library_id=\"batch\", color=\"batch\")"
   ]
  }
 ],
 "metadata": {
  "kernelspec": {
   "display_name": "Python 3 (ipykernel)",
   "language": "python",
   "name": "python3"
  },
  "language_info": {
   "codemirror_mode": {
    "name": "ipython",
    "version": 3
   },
   "file_extension": ".py",
   "mimetype": "text/x-python",
   "name": "python",
   "nbconvert_exporter": "python",
   "pygments_lexer": "ipython3",
   "version": "3.9.13"
  }
 },
 "nbformat": 4,
 "nbformat_minor": 5
}
