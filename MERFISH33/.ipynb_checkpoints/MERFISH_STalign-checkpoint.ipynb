{
 "cells": [
  {
   "cell_type": "code",
   "execution_count": 1,
   "id": "896bf5cd-845e-46ca-b749-732be7163494",
   "metadata": {},
   "outputs": [
    {
     "data": {
      "text/plain": [
       "['D:\\\\bio\\\\jupyter_code\\\\MERFISH33',\n",
       " 'D:\\\\anaconda\\\\envs\\\\STalign\\\\python310.zip',\n",
       " 'D:\\\\anaconda\\\\envs\\\\STalign\\\\DLLs',\n",
       " 'D:\\\\anaconda\\\\envs\\\\STalign\\\\lib',\n",
       " 'D:\\\\anaconda\\\\envs\\\\STalign',\n",
       " '',\n",
       " 'C:\\\\Users\\\\23147\\\\AppData\\\\Roaming\\\\Python\\\\Python310\\\\site-packages',\n",
       " 'D:\\\\anaconda\\\\envs\\\\STalign\\\\lib\\\\site-packages',\n",
       " 'D:\\\\anaconda\\\\envs\\\\STalign\\\\lib\\\\site-packages\\\\win32',\n",
       " 'D:\\\\anaconda\\\\envs\\\\STalign\\\\lib\\\\site-packages\\\\win32\\\\lib',\n",
       " 'D:\\\\anaconda\\\\envs\\\\STalign\\\\lib\\\\site-packages\\\\Pythonwin']"
      ]
     },
     "execution_count": 1,
     "metadata": {},
     "output_type": "execute_result"
    }
   ],
   "source": [
    "import sys\n",
    "sys.path"
   ]
  },
  {
   "cell_type": "code",
   "execution_count": 2,
   "id": "8150f07f-df52-4372-b099-b9108df8290d",
   "metadata": {},
   "outputs": [
    {
     "name": "stdout",
     "output_type": "stream",
     "text": [
      "D:\\bio\\jupyter_code\\MERFISH33\n",
      "D:\\bio\\STalign\\STalign-main\n",
      "cuda is available\n"
     ]
    }
   ],
   "source": [
    "# import dependencies\n",
    "import sys\n",
    "import numpy as np\n",
    "import pandas as pd\n",
    "\n",
    "import os\n",
    "print(os.getcwd())#显示当前路径\n",
    "os.chdir('D:/bio/STalign/STalign-main')#更改路径，''里面为更改的路径\n",
    "print(os.getcwd())#显示当前路径\n",
    "\n",
    "import matplotlib.pyplot as plt\n",
    "plt.rcParams[\"figure.figsize\"] = (12,10)  # make plots bigger\n",
    "\n",
    "import torch\n",
    "if torch.cuda.is_available():\n",
    "    print('cuda is available')\n",
    "    torch.set_default_device('cuda:0')\n",
    "else:\n",
    "    torch.set_default_device('cpu')\n",
    "# import STalign after pip install\n",
    "from STalign import STalign"
   ]
  },
  {
   "cell_type": "code",
   "execution_count": 3,
   "id": "48fe182c-fc76-40cd-b245-861e9f7a78c0",
   "metadata": {},
   "outputs": [],
   "source": [
    "# param\n",
    "source_dataset = '1'\n",
    "target_dataset = '0'\n",
    "input_dir = 'G:/dataset/10-MERFISH/MouseMOp--SPACEL/merfish_mouse_brain/'\n",
    "output_dir = 'G:/dataset/10-MERFISH/MouseMOp--SPACEL/output/STalign/'\n",
    "position_path = '/coord.txt'\n",
    "\n",
    "# section_ids = [str(i) for i in range(33)]\n",
    "# for section_id in section_ids:\n",
    "#     print(section_id)\n",
    "#     adata = sc.read_h5ad(os.path.join(input_dir + 'merfish_mouse_brain_slice' + section_id + \".h5ad\"))\n",
    "    \n",
    "#     import numpy as np\n",
    "#     from scipy.sparse import csr_matrix\n",
    "#     adata.obsm['spatial'].drop(columns=['Z'], inplace = True)\n",
    "#     adata.X = csr_matrix(adata.X)"
   ]
  },
  {
   "cell_type": "code",
   "execution_count": 4,
   "id": "8e599984",
   "metadata": {},
   "outputs": [
    {
     "ename": "NameError",
     "evalue": "name 'adata' is not defined",
     "output_type": "error",
     "traceback": [
      "\u001b[1;31m---------------------------------------------------------------------------\u001b[0m",
      "\u001b[1;31mNameError\u001b[0m                                 Traceback (most recent call last)",
      "Cell \u001b[1;32mIn[4], line 1\u001b[0m\n\u001b[1;32m----> 1\u001b[0m df_source \u001b[38;5;241m=\u001b[39m \u001b[43madata\u001b[49m\u001b[38;5;241m.\u001b[39mobsm[\u001b[38;5;124m'\u001b[39m\u001b[38;5;124mspatial\u001b[39m\u001b[38;5;124m'\u001b[39m]\n\u001b[0;32m      3\u001b[0m xI \u001b[38;5;241m=\u001b[39m np\u001b[38;5;241m.\u001b[39marray(df_source[\u001b[38;5;124m'\u001b[39m\u001b[38;5;124mX\u001b[39m\u001b[38;5;124m'\u001b[39m])\n\u001b[0;32m      4\u001b[0m yI \u001b[38;5;241m=\u001b[39m np\u001b[38;5;241m.\u001b[39marray(df_source[\u001b[38;5;124m'\u001b[39m\u001b[38;5;124mY\u001b[39m\u001b[38;5;124m'\u001b[39m])\n",
      "\u001b[1;31mNameError\u001b[0m: name 'adata' is not defined"
     ]
    }
   ],
   "source": [
    "df_source = pd.read_csv(input_dir + source_dataset + position_path)\n",
    "\n",
    "xI = np.array(df_source['X'])\n",
    "yI = np.array(df_source['Y'])\n",
    "fig,ax = plt.subplots()\n",
    "ax.scatter(xI,yI,s=1,alpha=1)\n",
    "\n",
    "# rasterize at 100um resolution so image looks smooth\n",
    "XI,YI,I,fig = STalign.rasterize(xI,yI,dx=10)\n",
    "ax = fig.axes[0]\n",
    "ax.invert_yaxis()\n",
    "\n",
    "\n",
    "df_target = pd.read_csv(input_dir + target_dataset + position_path)\n",
    "\n",
    "# get cell centroids\n",
    "xJ = np.array(df_target['X'])\n",
    "yJ = np.array(df_target['Y'])\n",
    "fig,ax = plt.subplots()\n",
    "ax.scatter(xJ,yJ,s=1,alpha=1,c='#ff7f0e')\n",
    "\n",
    "# rasterize and plot\n",
    "XJ,YJ,J,fig = STalign.rasterize(xJ,yJ,dx=10)\n",
    "ax = fig.axes[0]\n",
    "ax.invert_yaxis()\n",
    "\n",
    "\n",
    "fig,ax = plt.subplots()\n",
    "ax.scatter(xI,yI,s=1,alpha=1)\n",
    "ax.scatter(xJ,yJ,s=1,alpha=1)\n",
    "\n",
    "\n",
    "# get extent of images\n",
    "extentI = STalign.extent_from_x((YI,XI))\n",
    "extentJ = STalign.extent_from_x((YJ,XJ))\n",
    "\n",
    "# plot rasterized images\n",
    "fig,ax = plt.subplots(1,2)\n",
    "ax[0].imshow((I.transpose(1,2,0).squeeze()), extent=extentI)\n",
    "ax[1].imshow((J.transpose(1,2,0).squeeze()), extent=extentJ)\n",
    "ax[0].invert_yaxis()\n",
    "ax[1].invert_yaxis()\n",
    "\n",
    "\n",
    "if torch.cuda.is_available():\n",
    "    device = 'cuda:0'\n",
    "else:\n",
    "    device = 'cpu'\n",
    "\n",
    "Ifoo = np.vstack((I, I, I)) # make RGB instead of greyscale\n",
    "Jfoo = np.vstack((J, J, J)) # make RGB instead of greyscale\n",
    "\n",
    "out = STalign.LDDMM([YI,XI],Ifoo,[YJ,XJ],Jfoo, dtype=torch.float32,device=device)\n",
    "\n",
    "A = out['A']\n",
    "v = out['v']\n",
    "xv = out['xv']\n",
    "\n",
    "# apply transform\n",
    "phii = STalign.build_transform(xv,v,A,XJ=[YJ,XJ],direction='b',dtype=torch.float32)\n",
    "phiI = STalign.transform_image_atlas_to_target(xv,v,A,[YI,XI],Ifoo,[YJ,XJ],dtype=torch.float32)\n",
    "\n",
    "# plot with grids\n",
    "fig,ax = plt.subplots()\n",
    "levels = np.arange(-10000,10000,100)\n",
    "if phii.is_cuda:\n",
    "    ax.contour(XJ,YJ,phii[...,0].cpu(),colors='r',linestyles='-',levels=levels)\n",
    "    ax.contour(XJ,YJ,phii[...,1].cpu(),colors='g',linestyles='-',levels=levels)\n",
    "else:\n",
    "    ax.contour(XJ,YJ,phii[...,0],colors='r',linestyles='-',levels=levels)\n",
    "    ax.contour(XJ,YJ,phii[...,1],colors='g',linestyles='-',levels=levels)\n",
    "ax.set_aspect('equal')\n",
    "ax.set_title('source to target')\n",
    "if phiI.is_cuda:\n",
    "    ax.imshow(phiI.cpu().permute(1,2,0)/torch.max(phiI.cpu()),extent=extentJ)\n",
    "else:\n",
    "    ax.imshow(phiI.permute(1,2,0)/torch.max(phiI),extent=extentJ)\n",
    "ax.invert_yaxis()\n",
    "\n",
    "# apply transform to original points\n",
    "tpointsI= STalign.transform_points_atlas_to_target(xv,v,A, np.stack([yI, xI], 1), dtype=torch.float32)\n",
    "\n",
    "# switch from row column coordinates (y,x) to (x,y)\n",
    "xI_LDDMM = tpointsI[:,1]\n",
    "yI_LDDMM = tpointsI[:,0]\n",
    "\n",
    "# plot results\n",
    "fig,ax = plt.subplots()\n",
    "ax.scatter(xI,yI,s=2,alpha=0.1, label='source')\n",
    "if tpointsI.is_cuda:\n",
    "    ax.scatter(xI_LDDMM.cpu(),yI_LDDMM.cpu(),s=5,alpha=0.1, label = 'source aligned')\n",
    "else:\n",
    "    ax.scatter(xI_LDDMM,yI_LDDMM,s=5,alpha=0.1, label = 'source aligned')\n",
    "ax.scatter(xJ,yJ,s=5,alpha=0.1, label='target')\n",
    "ax.legend(markerscale = 10)\n",
    "\n",
    "if tpointsI.is_cuda:\n",
    "    df_source_aligned = pd.DataFrame(\n",
    "        {\n",
    "            \"aligned_x\": xI_LDDMM.cpu(),\n",
    "            \"aligned_y\": yI_LDDMM.cpu(),\n",
    "        }\n",
    "    )\n",
    "else:\n",
    "    df_source_aligned = pd.DataFrame(\n",
    "        {\n",
    "            \"aligned_x\": xI_LDDMM,\n",
    "            \"aligned_y\": yI_LDDMM,\n",
    "        }\n",
    "    )\n",
    "results = pd.concat([df_source, df_source_aligned], axis=1)\n",
    "results.head()\n",
    "\n",
    "results.to_csv(output_dir + source_dataset + '_aligned_to_' + target_dataset + '.csv', sep=',')"
   ]
  },
  {
   "cell_type": "markdown",
   "id": "13592bab-39fb-43ee-808f-4686bb15d86a",
   "metadata": {},
   "source": [
    "## load source_dataset"
   ]
  },
  {
   "cell_type": "code",
   "execution_count": null,
   "id": "db27f9c7-a1ea-44d8-851e-1f07f5946960",
   "metadata": {},
   "outputs": [],
   "source": [
    "# load position file\n",
    "df_source = pd.read_csv(input_dir + source_dataset + position_path)\n",
    "print(df_source.head())\n",
    "print(len(df_source))"
   ]
  },
  {
   "cell_type": "code",
   "execution_count": null,
   "id": "8d387b50-9bb3-478e-a97b-ba9bc0ec68cd",
   "metadata": {},
   "outputs": [],
   "source": [
    "# import scanpy as sc\n",
    "# adata = sc.read_visium(input_dir+source_dataset)\n",
    "# df_source = df_source[df_source[0].isin(adata.obs.index.tolist())]\n",
    "# df_source = df_source.reset_index(drop=True)\n",
    "# del adata\n",
    "# print(len(df_source))"
   ]
  },
  {
   "cell_type": "code",
   "execution_count": null,
   "id": "0f1504a3-6661-47a2-adf4-64409fabc361",
   "metadata": {},
   "outputs": [],
   "source": [
    "# get cell centroid coordinates\n",
    "xI = np.array(df_source['X'])\n",
    "yI = np.array(df_source['Y'])\n",
    "\n",
    "# plot\n",
    "fig,ax = plt.subplots()\n",
    "ax.scatter(xI,yI,s=1,alpha=1)"
   ]
  },
  {
   "cell_type": "code",
   "execution_count": null,
   "id": "ecfd8537-50b2-4b11-a65a-bb8db22fc802",
   "metadata": {},
   "outputs": [],
   "source": [
    "# rasterize at 100um resolution so image looks smooth\n",
    "XI,YI,I,fig = STalign.rasterize(xI,yI,dx=20)\n",
    "\n",
    "# plot\n",
    "ax = fig.axes[0]\n",
    "ax.invert_yaxis()"
   ]
  },
  {
   "cell_type": "markdown",
   "id": "fef0e80f-f083-4ca3-99e9-abf7c6a0dfd8",
   "metadata": {},
   "source": [
    "## load target dataset"
   ]
  },
  {
   "cell_type": "code",
   "execution_count": null,
   "id": "1752de81-2b1d-4d4c-9fbd-7d1f2b070740",
   "metadata": {},
   "outputs": [],
   "source": [
    "# load position file\n",
    "df_target = pd.read_csv(input_dir + target_dataset + position_path)\n",
    "print(df_target.head())\n",
    "print(len(df_target))\n",
    "\n",
    "# import scanpy as sc\n",
    "# adata = sc.read_visium(input_dir+target_dataset)\n",
    "# df_target = df_source[df_source[0].isin(adata.obs.index.tolist())]\n",
    "# df_target = df_target.reset_index(drop=True)\n",
    "# del adata\n",
    "# print(len(df_target))"
   ]
  },
  {
   "cell_type": "code",
   "execution_count": null,
   "id": "2b40e010-e37d-4dd6-b03a-fcc22d461335",
   "metadata": {},
   "outputs": [],
   "source": [
    "# get cell centroids\n",
    "xJ = np.array(df_target['X'])\n",
    "yJ = np.array(df_target['Y'])\n",
    "\n",
    "# plot\n",
    "fig,ax = plt.subplots()\n",
    "ax.scatter(xJ,yJ,s=1,alpha=1,c='#ff7f0e')"
   ]
  },
  {
   "cell_type": "code",
   "execution_count": null,
   "id": "81b3f3ae-4af4-4243-8c17-16c87fda15b4",
   "metadata": {},
   "outputs": [],
   "source": [
    "# rasterize and plot\n",
    "XJ,YJ,J,fig = STalign.rasterize(xJ,yJ,dx=20)\n",
    "ax = fig.axes[0]\n",
    "ax.invert_yaxis()"
   ]
  },
  {
   "cell_type": "markdown",
   "id": "35aa812c-c0cf-43e6-ad9b-e07b92898f9d",
   "metadata": {},
   "source": [
    "### visualization"
   ]
  },
  {
   "cell_type": "code",
   "execution_count": null,
   "id": "69ac8980-4975-4cbd-8145-b85b7441179f",
   "metadata": {},
   "outputs": [],
   "source": [
    "# plot\n",
    "fig,ax = plt.subplots()\n",
    "ax.scatter(xI,yI,s=1,alpha=1)\n",
    "ax.scatter(xJ,yJ,s=1,alpha=1)"
   ]
  },
  {
   "cell_type": "code",
   "execution_count": null,
   "id": "1db5c384-8334-4a9b-8980-99d9ba4a84a8",
   "metadata": {},
   "outputs": [],
   "source": [
    "# get extent of images\n",
    "extentI = STalign.extent_from_x((YI,XI))\n",
    "extentJ = STalign.extent_from_x((YJ,XJ))\n",
    "\n",
    "# plot rasterized images\n",
    "fig,ax = plt.subplots(1,2)\n",
    "ax[0].imshow((I.transpose(1,2,0).squeeze()), extent=extentI)\n",
    "ax[1].imshow((J.transpose(1,2,0).squeeze()), extent=extentJ)\n",
    "ax[0].invert_yaxis()\n",
    "ax[1].invert_yaxis()"
   ]
  },
  {
   "cell_type": "markdown",
   "id": "24ea5327-9783-4c99-8194-6a5506aaa640",
   "metadata": {},
   "source": [
    "## run STAlign"
   ]
  },
  {
   "cell_type": "code",
   "execution_count": null,
   "id": "e70f0939-da97-4c29-a360-f94051fa3a31",
   "metadata": {},
   "outputs": [],
   "source": [
    "%%time\n",
    "\n",
    "# run LDDMM\n",
    "# specify device (default device for STalign.LDDMM is cpu)\n",
    "if torch.cuda.is_available():\n",
    "    device = 'cuda:0'\n",
    "else:\n",
    "    device = 'cpu'\n",
    "\n",
    "Ifoo = np.vstack((I, I, I)) # make RGB instead of greyscale\n",
    "Jfoo = np.vstack((J, J, J)) # make RGB instead of greyscale\n",
    "\n",
    "out = STalign.LDDMM([YI,XI],Ifoo,[YJ,XJ],Jfoo, dtype=torch.float32,device=device)\n",
    "\n",
    "\n",
    "# keep all other parameters default\n",
    "# params = {\n",
    "#           'niter':1000,\n",
    "#           'device':device,\n",
    "#           'diffeo_start':100,\n",
    "#           'a':250,\n",
    "#           'epV':1000,\n",
    "#           'sigmaB':0.1,\n",
    "#           'muB': torch.tensor([0,0,0]), # black is background in target\n",
    "#           }\n",
    "\n",
    "# out = STalign.LDDMM([YI,XI],Ifoo,[YJ,XJ],Jfoo,**params)"
   ]
  },
  {
   "cell_type": "code",
   "execution_count": null,
   "id": "01b722ca-b42d-4c0c-84af-fbf45e41c2c1",
   "metadata": {},
   "outputs": [],
   "source": [
    "# get necessary output variables\n",
    "A = out['A']\n",
    "v = out['v']\n",
    "xv = out['xv']"
   ]
  },
  {
   "cell_type": "code",
   "execution_count": null,
   "id": "88845131-8089-461c-9f2b-f1e18e3c2751",
   "metadata": {
    "scrolled": true
   },
   "outputs": [],
   "source": [
    "print(type(xv[0][0]))\n",
    "print(xv[0].dtype)\n",
    "print(type(v))\n",
    "print(type(A))\n",
    "print(type(YI[0]))\n",
    "print(type(XI[0]))\n",
    "print(type(Ifoo[0][0][0]))\n",
    "print(type(YJ[0]))\n",
    "print(type(XJ[0]))\n",
    "print(type(XJ[0]))"
   ]
  },
  {
   "cell_type": "code",
   "execution_count": null,
   "id": "80799ae8-d607-445e-92ee-2675e1af154e",
   "metadata": {},
   "outputs": [],
   "source": [
    "# import importlib\n",
    "# importlib.reload(STalign)"
   ]
  },
  {
   "cell_type": "code",
   "execution_count": null,
   "id": "c3036454-9205-4020-88e6-2a1ed9cc3d17",
   "metadata": {},
   "outputs": [],
   "source": [
    "# apply transform\n",
    "phii = STalign.build_transform(xv,v,A,XJ=[YJ,XJ],direction='b',dtype=torch.float32)\n",
    "phiI = STalign.transform_image_atlas_to_target(xv,v,A,[YI,XI],Ifoo,[YJ,XJ],dtype=torch.float32)\n",
    "\n",
    "# plot with grids\n",
    "fig,ax = plt.subplots()\n",
    "levels = np.arange(-10000,10000,100)\n",
    "if phii.is_cuda:\n",
    "    ax.contour(XJ,YJ,phii[...,0].cpu(),colors='r',linestyles='-',levels=levels)\n",
    "    ax.contour(XJ,YJ,phii[...,1].cpu(),colors='g',linestyles='-',levels=levels)\n",
    "else:\n",
    "    ax.contour(XJ,YJ,phii[...,0],colors='r',linestyles='-',levels=levels)\n",
    "    ax.contour(XJ,YJ,phii[...,1],colors='g',linestyles='-',levels=levels)\n",
    "ax.set_aspect('equal')\n",
    "ax.set_title('source to target')\n",
    "if phiI.is_cuda:\n",
    "    ax.imshow(phiI.cpu().permute(1,2,0)/torch.max(phiI.cpu()),extent=extentJ)\n",
    "else:\n",
    "    ax.imshow(phiI.permute(1,2,0)/torch.max(phiI),extent=extentJ)\n",
    "ax.invert_yaxis()"
   ]
  },
  {
   "cell_type": "code",
   "execution_count": null,
   "id": "94ed7ab2-8b28-4087-8064-abee9c06afe8",
   "metadata": {},
   "outputs": [],
   "source": [
    "# # transform is invertible\n",
    "# phi = STalign.build_transform(xv,v,A,XJ=[YI,XI],direction='f')\n",
    "# phiiJ = STalign.transform_image_target_to_atlas(xv,v,A,[YJ,XJ],Jfoo,[YI,XI])\n",
    "\n",
    "# # plot with grids\n",
    "# fig,ax = plt.subplots()\n",
    "# levels = np.arange(-100000,100000,1000)\n",
    "\n",
    "# if phi.is_cuda:\n",
    "#     ax.contour(XJ,YJ,phi[...,0].cpu(),colors='r',linestyles='-',levels=levels)\n",
    "#     ax.contour(XJ,YJ,phi[...,1].cpu(),colors='g',linestyles='-',levels=levels)\n",
    "# else:\n",
    "#     ax.contour(XJ,YJ,phi[...,0],colors='r',linestyles='-',levels=levels)\n",
    "#     ax.contour(XJ,YJ,phi[...,1],colors='g',linestyles='-',levels=levels)\n",
    "# # ax.contour(XI,YI,phi[...,0],colors='r',linestyles='-',levels=levels)\n",
    "# # ax.contour(XI,YI,phi[...,1],colors='g',linestyles='-',levels=levels)\n",
    "# ax.set_aspect('equal')\n",
    "# ax.set_title('target to source')\n",
    "# if phiiJ.is_cuda:\n",
    "#     ax.imshow(phiiJ.cpu().permute(1,2,0)/torch.max(phiiJ.cpu()),extent=extentI)\n",
    "# else:\n",
    "#     ax.imshow(phiiJ.permute(1,2,0)/torch.max(phiiJ),extent=extentI)\n",
    "# # ax.imshow(phiiJ.permute(1,2,0)/torch.max(phiiJ),extent=extentI)\n",
    "# ax.invert_yaxis()"
   ]
  },
  {
   "cell_type": "code",
   "execution_count": null,
   "id": "58097476-cd6f-40c8-afb5-0de35b0c123f",
   "metadata": {},
   "outputs": [],
   "source": [
    "# apply transform to original points\n",
    "tpointsI= STalign.transform_points_atlas_to_target(xv,v,A, np.stack([yI, xI], 1), dtype=torch.float32)\n",
    "\n",
    "# switch from row column coordinates (y,x) to (x,y)\n",
    "xI_LDDMM = tpointsI[:,1]\n",
    "yI_LDDMM = tpointsI[:,0]"
   ]
  },
  {
   "cell_type": "code",
   "execution_count": null,
   "id": "322b9d2f-5406-44dc-9770-778a285359a1",
   "metadata": {},
   "outputs": [],
   "source": [
    "# plot results\n",
    "fig,ax = plt.subplots()\n",
    "ax.scatter(xI,yI,s=2,alpha=0.1, label='source')\n",
    "if tpointsI.is_cuda:\n",
    "    ax.scatter(xI_LDDMM.cpu(),yI_LDDMM.cpu(),s=5,alpha=0.1, label = 'source aligned')\n",
    "else:\n",
    "    ax.scatter(xI_LDDMM,yI_LDDMM,s=5,alpha=0.1, label = 'source aligned')\n",
    "ax.scatter(xJ,yJ,s=5,alpha=0.1, label='target')\n",
    "ax.legend(markerscale = 10)"
   ]
  },
  {
   "cell_type": "code",
   "execution_count": null,
   "id": "4d99f036-3c96-48e0-88ee-0c92011f0c3f",
   "metadata": {
    "scrolled": true
   },
   "outputs": [],
   "source": [
    "if tpointsI.is_cuda:\n",
    "    df_source_aligned = pd.DataFrame(\n",
    "        {\n",
    "            \"aligned_x\": xI_LDDMM.cpu(),\n",
    "            \"aligned_y\": yI_LDDMM.cpu(),\n",
    "        }\n",
    "    )\n",
    "else:\n",
    "    df_source_aligned = pd.DataFrame(\n",
    "        {\n",
    "            \"aligned_x\": xI_LDDMM,\n",
    "            \"aligned_y\": yI_LDDMM,\n",
    "        }\n",
    "    )\n",
    "results = pd.concat([df_source, df_source_aligned], axis=1)\n",
    "results.head()"
   ]
  },
  {
   "cell_type": "code",
   "execution_count": null,
   "id": "9263df0a-7da5-4b8c-9b1d-48e8ceb991a4",
   "metadata": {},
   "outputs": [],
   "source": [
    "results.to_csv(output_dir + source_dataset + '_aligned_to_' + target_dataset + '.csv', sep=',')"
   ]
  }
 ],
 "metadata": {
  "kernelspec": {
   "display_name": "Python 3 (ipykernel)",
   "language": "python",
   "name": "python3"
  },
  "language_info": {
   "codemirror_mode": {
    "name": "ipython",
    "version": 3
   },
   "file_extension": ".py",
   "mimetype": "text/x-python",
   "name": "python",
   "nbconvert_exporter": "python",
   "pygments_lexer": "ipython3",
   "version": "3.10.12"
  }
 },
 "nbformat": 4,
 "nbformat_minor": 5
}
