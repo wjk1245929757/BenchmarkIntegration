{
 "cells": [
  {
   "cell_type": "code",
   "execution_count": null,
   "id": "2cbb9490",
   "metadata": {},
   "outputs": [],
   "source": [
    "import os\n",
    "print(os.getcwd())#显示当前路径\n",
    "os.chdir('D:/bio/SPACEL/SPACEL-main')#更改路径，''里面为更改的路径\n",
    "print(os.getcwd())#显示当前路径\n",
    "\n",
    "import matplotlib.pyplot as plt \n",
    "import SPACEL.Splane.utils\n",
    "import pandas as pd\n",
    "import scanpy as sc\n",
    "import anndata as ad"
   ]
  },
  {
   "cell_type": "code",
   "execution_count": null,
   "id": "78228ea0",
   "metadata": {},
   "outputs": [],
   "source": [
    "sample_names = [\"10X\",\"slide\",\"stereo\"]\n",
    "input_dir = 'G:/dataset/09-Mouse olfactory bulb/input/35um/'\n",
    "output_dir = 'G:/dataset/09-Mouse olfactory bulb/output/35um/SPACEL/'\n",
    "experiment_name = 'MouseOlfactoryBulb'"
   ]
  }
 ],
 "metadata": {
  "kernelspec": {
   "display_name": "SPACEL",
   "language": "python",
   "name": "spacel"
  },
  "language_info": {
   "codemirror_mode": {
    "name": "ipython",
    "version": 3
   },
   "file_extension": ".py",
   "mimetype": "text/x-python",
   "name": "python",
   "nbconvert_exporter": "python",
   "pygments_lexer": "ipython3",
   "version": "3.8.18"
  }
 },
 "nbformat": 4,
 "nbformat_minor": 5
}
