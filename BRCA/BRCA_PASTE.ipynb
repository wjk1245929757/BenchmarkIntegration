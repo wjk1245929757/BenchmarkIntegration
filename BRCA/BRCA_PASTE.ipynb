{
 "cells": [
  {
   "cell_type": "code",
   "execution_count": 1,
   "id": "f9068b4e-45ca-4c90-81f3-698c94104750",
   "metadata": {},
   "outputs": [
    {
     "data": {
      "text/plain": [
       "['D:\\\\bio\\\\jupyter_code\\\\BRCA',\n",
       " 'D:\\\\anaconda\\\\envs\\\\paste\\\\python310.zip',\n",
       " 'D:\\\\anaconda\\\\envs\\\\paste\\\\DLLs',\n",
       " 'D:\\\\anaconda\\\\envs\\\\paste\\\\lib',\n",
       " 'D:\\\\anaconda\\\\envs\\\\paste',\n",
       " '',\n",
       " 'C:\\\\Users\\\\23147\\\\AppData\\\\Roaming\\\\Python\\\\Python310\\\\site-packages',\n",
       " 'D:\\\\anaconda\\\\envs\\\\paste\\\\lib\\\\site-packages',\n",
       " 'D:\\\\anaconda\\\\envs\\\\paste\\\\lib\\\\site-packages\\\\win32',\n",
       " 'D:\\\\anaconda\\\\envs\\\\paste\\\\lib\\\\site-packages\\\\win32\\\\lib',\n",
       " 'D:\\\\anaconda\\\\envs\\\\paste\\\\lib\\\\site-packages\\\\Pythonwin']"
      ]
     },
     "execution_count": 1,
     "metadata": {},
     "output_type": "execute_result"
    }
   ],
   "source": [
    "import sys\n",
    "sys.path"
   ]
  },
  {
   "cell_type": "code",
   "execution_count": 2,
   "id": "f745c02c-ce2a-4d4d-b686-8ea28bd67eea",
   "metadata": {},
   "outputs": [],
   "source": [
    "import matplotlib.pyplot as plt\n",
    "import matplotlib.patches as mpatches\n",
    "import numpy as np\n",
    "import pandas as pd\n",
    "import anndata as ad\n",
    "import scanpy as sc\n",
    "import paste as pst\n",
    "import ot"
   ]
  },
  {
   "cell_type": "code",
   "execution_count": 3,
   "id": "7cc2e448-c975-4d7d-9b26-c9832424b0d5",
   "metadata": {},
   "outputs": [],
   "source": [
    "sample_names = [\"bc1160920F\",\"bc1142243F\"]\n",
    "input_dir = 'G:/dataset/3_BRCA/input/'\n",
    "output_dir = 'G:/dataset/3_BRCA/output/paste/'\n",
    "experiment_name = 'BRCA'"
   ]
  },
  {
   "cell_type": "markdown",
   "id": "88af2db9-a999-42b7-a873-a92986d54f59",
   "metadata": {},
   "source": [
    "# Load Slices"
   ]
  },
  {
   "cell_type": "code",
   "execution_count": 4,
   "id": "a4e0f71e-84df-4370-ba0a-cb23c3c9efaf",
   "metadata": {},
   "outputs": [
    {
     "name": "stdout",
     "output_type": "stream",
     "text": [
      "bc1160920F\n",
      "bc1142243F\n",
      "['Invasive cancer + stroma + lymphocytes', 'Stroma', 'Necrosis', 'Normal glands + lymphocytes', 'Lymphocytes', 'Artefact', 'Adipose tissue', 'DCIS', 'TLS', 'Cancer trapped in lymphocyte aggregation', '']\n",
      "11\n",
      "[AnnData object with n_obs × n_vars = 4895 × 17494\n",
      "    obs: 'orig.ident', 'nCount_Spatial', 'nFeature_Spatial', 'Classification', 'batch', 'x', 'y', 'imagerow', 'imagecol', 'n_counts'\n",
      "    var: 'features', 'n_counts'\n",
      "    obsm: 'spatial', AnnData object with n_obs × n_vars = 4781 × 16877\n",
      "    obs: 'orig.ident', 'nCount_Spatial', 'nFeature_Spatial', 'Classification', 'batch', 'x', 'y', 'imagerow', 'imagecol', 'n_counts'\n",
      "    var: 'features', 'n_counts'\n",
      "    obsm: 'spatial']\n"
     ]
    }
   ],
   "source": [
    "adata_list = []\n",
    "meta = list()\n",
    "for dataset in sample_names:\n",
    "    print(dataset)\n",
    "    \n",
    "    # adata = sc.read_visium(input_dir + dataset)\n",
    "    # adata.var_names_make_unique()\n",
    "    # adata.obs_names_make_unique()\n",
    "    adata = sc.read_h5ad(input_dir + dataset+'.h5ad')\n",
    "\n",
    "    df = adata.obs[['x','y']].astype('float32')\n",
    "    adata.obsm['spatial'] = df.values\n",
    "\n",
    "    # adata.obs['annotation'] = adata.obs['ClusterName']\n",
    "    # adata.obs = adata.obs[~pd.isna(adata.obs['x'])]\n",
    "    # adata = adata.drop(adata.loc[pd.isna(adata.obs['x'])])\n",
    "    # adata.obs= adata.obs[~adata.obs.ClusterName.str.contains(\"NA\")]\n",
    "    # adata = adata[~pd.isna(adata.obs['x'])]\n",
    "    \n",
    "    meta.extend(adata.obs['Classification'].tolist())\n",
    "    \n",
    "    sc.pp.filter_genes(adata, min_counts = 15)\n",
    "    sc.pp.filter_cells(adata, min_counts = 100)\n",
    "    \n",
    "    adata_list.append(adata)\n",
    "\n",
    "celltypes = pd.Series(data=meta).astype(\"category\").value_counts().index.tolist()\n",
    "n_colors = len(celltypes)\n",
    "print(celltypes)\n",
    "print(n_colors)\n",
    "print(adata_list)"
   ]
  },
  {
   "cell_type": "code",
   "execution_count": 5,
   "id": "a2d08490-7915-4422-91ec-ce9c204fbc6d",
   "metadata": {},
   "outputs": [
    {
     "name": "stdout",
     "output_type": "stream",
     "text": [
      "                    orig.ident  nCount_Spatial  nFeature_Spatial  \\\n",
      "TGTTGGCTGGCGGAAG-1           0          3685.0              1441   \n",
      "GCATCCTCTCCTATTA-1           0          4526.0              1829   \n",
      "GCGAGGGACTGCTAGA-1           0          4171.0              1668   \n",
      "TGGTACCGGCACAGCC-1           0          4722.0              1837   \n",
      "GCGCGTTTAAATCGTA-1           0          5547.0              2217   \n",
      "...                        ...             ...               ...   \n",
      "AGAGTCTTAATGAAAG-1           0         21320.0              5749   \n",
      "GAACGTTTGTATCCAC-1           0          6903.0              2945   \n",
      "ATTGAATTCCCTGTAG-1           0         11408.0              4043   \n",
      "TACCTCACCAATTGTA-1           0          6722.0              2651   \n",
      "AGTCGAATTAGCGTAA-1           0         11652.0              3985   \n",
      "\n",
      "                                            Classification       batch   x  \\\n",
      "TGTTGGCTGGCGGAAG-1                          Adipose tissue  bc1160920F   1   \n",
      "GCATCCTCTCCTATTA-1                          Adipose tissue  bc1160920F   0   \n",
      "GCGAGGGACTGCTAGA-1                          Adipose tissue  bc1160920F   1   \n",
      "TGGTACCGGCACAGCC-1                          Adipose tissue  bc1160920F   0   \n",
      "GCGCGTTTAAATCGTA-1                          Adipose tissue  bc1160920F   1   \n",
      "...                                                    ...         ...  ..   \n",
      "AGAGTCTTAATGAAAG-1  Invasive cancer + stroma + lymphocytes  bc1160920F  76   \n",
      "GAACGTTTGTATCCAC-1  Invasive cancer + stroma + lymphocytes  bc1160920F  77   \n",
      "ATTGAATTCCCTGTAG-1  Invasive cancer + stroma + lymphocytes  bc1160920F  76   \n",
      "TACCTCACCAATTGTA-1  Invasive cancer + stroma + lymphocytes  bc1160920F  77   \n",
      "AGTCGAATTAGCGTAA-1  Invasive cancer + stroma + lymphocytes  bc1160920F  76   \n",
      "\n",
      "                      y  imagerow  imagecol  n_counts  \n",
      "TGTTGGCTGGCGGAAG-1    5      4729     10567    3681.0  \n",
      "GCATCCTCTCCTATTA-1    6      4493     10705    4522.0  \n",
      "GCGAGGGACTGCTAGA-1    7      4731     10840    4166.0  \n",
      "TGGTACCGGCACAGCC-1    8      4495     10978    4718.0  \n",
      "GCGCGTTTAAATCGTA-1    9      4733     11113    5543.0  \n",
      "...                 ...       ...       ...       ...  \n",
      "AGAGTCTTAATGAAAG-1  122     22655     26419   21271.0  \n",
      "GAACGTTTGTATCCAC-1  123     22894     26554    6892.0  \n",
      "ATTGAATTCCCTGTAG-1  124     22657     26692   11380.0  \n",
      "TACCTCACCAATTGTA-1  125     22896     26827    6709.0  \n",
      "AGTCGAATTAGCGTAA-1  126     22659     26965   11631.0  \n",
      "\n",
      "[4895 rows x 10 columns]\n",
      "                    orig.ident  nCount_Spatial  nFeature_Spatial  \\\n",
      "TACCGATCCAACACTT-1           0          4073.0              2071   \n",
      "GATAAGGGACGATTAG-1           0          4628.0              2320   \n",
      "TGTTGGCTGGCGGAAG-1           0          5116.0              2494   \n",
      "GCGAGGGACTGCTAGA-1           0          8170.0              3464   \n",
      "GCGCGTTTAAATCGTA-1           0          7534.0              3345   \n",
      "...                        ...             ...               ...   \n",
      "GAACGTTTGTATCCAC-1           0          5592.0              2639   \n",
      "ATTGAATTCCCTGTAG-1           0          6707.0              2872   \n",
      "TACCTCACCAATTGTA-1           0          6054.0              2764   \n",
      "AGTCGAATTAGCGTAA-1           0          8678.0              3604   \n",
      "TTGAAGTGCATCTACA-1           0          7020.0              3065   \n",
      "\n",
      "                                            Classification       batch   x  \\\n",
      "TACCGATCCAACACTT-1                                Artefact  bc1142243F   1   \n",
      "GATAAGGGACGATTAG-1                                Artefact  bc1142243F   1   \n",
      "TGTTGGCTGGCGGAAG-1                                Artefact  bc1142243F   1   \n",
      "GCGAGGGACTGCTAGA-1                                Artefact  bc1142243F   1   \n",
      "GCGCGTTTAAATCGTA-1                                Artefact  bc1142243F   1   \n",
      "...                                                    ...         ...  ..   \n",
      "GAACGTTTGTATCCAC-1  Invasive cancer + stroma + lymphocytes  bc1142243F  77   \n",
      "ATTGAATTCCCTGTAG-1  Invasive cancer + stroma + lymphocytes  bc1142243F  76   \n",
      "TACCTCACCAATTGTA-1  Invasive cancer + stroma + lymphocytes  bc1142243F  77   \n",
      "AGTCGAATTAGCGTAA-1  Invasive cancer + stroma + lymphocytes  bc1142243F  76   \n",
      "TTGAAGTGCATCTACA-1  Invasive cancer + stroma + lymphocytes  bc1142243F  77   \n",
      "\n",
      "                      y  imagerow  imagecol  n_counts  \n",
      "TACCGATCCAACACTT-1    1      4510     12329    4071.0  \n",
      "GATAAGGGACGATTAG-1    3      4511     12601    4619.0  \n",
      "TGTTGGCTGGCGGAAG-1    5      4512     12872    5110.0  \n",
      "GCGAGGGACTGCTAGA-1    7      4513     13144    8159.0  \n",
      "GCGCGTTTAAATCGTA-1    9      4514     13416    7522.0  \n",
      "...                 ...       ...       ...       ...  \n",
      "GAACGTTTGTATCCAC-1  123     22537     28854    5589.0  \n",
      "ATTGAATTCCCTGTAG-1  124     22301     28990    6700.0  \n",
      "TACCTCACCAATTGTA-1  125     22538     29126    6046.0  \n",
      "AGTCGAATTAGCGTAA-1  126     22302     29262    8669.0  \n",
      "TTGAAGTGCATCTACA-1  127     22539     29397    7017.0  \n",
      "\n",
      "[4781 rows x 10 columns]\n"
     ]
    }
   ],
   "source": [
    "for adata in adata_list:\n",
    "    print(adata.obs)"
   ]
  },
  {
   "cell_type": "code",
   "execution_count": 6,
   "id": "176e3e56",
   "metadata": {},
   "outputs": [
    {
     "data": {
      "image/png": "[encoded data removed]",
      "text/plain": [
       "<Figure size 700x700 with 2 Axes>"
      ]
     },
     "metadata": {},
     "output_type": "display_data"
    }
   ],
   "source": [
    "import seaborn as sns\n",
    "slice_colors = sns.color_palette(n_colors = n_colors).as_hex()\n",
    "\n",
    "fig, axs = plt.subplots(1, 2,figsize=(7,7))\n",
    "i = 0\n",
    "for adata in adata_list:\n",
    "    pst.plot_slice(adata,slice_colors[i],ax=axs[int(i%2)])\n",
    "    i = i + 1\n",
    "    \n",
    "plt.show()"
   ]
  },
  {
   "cell_type": "code",
   "execution_count": null,
   "id": "7597ab75-64f2-4857-a4b2-5a04a549d4dd",
   "metadata": {},
   "outputs": [],
   "source": [
    "for adata in adata_list:\n",
    "    sc.pl.spatial(adata, color = \"Classification\", spot_size = 1)"
   ]
  },
  {
   "cell_type": "code",
   "execution_count": null,
   "id": "2ffdc337",
   "metadata": {},
   "outputs": [],
   "source": [
    "# import seaborn as sns\n",
    "# import numpy as np\n",
    "# import matplotlib.pyplot as plt\n",
    "\n",
    "# # seaborn.color_palette(palette = None, n_colors = None, desat = None)\n",
    "\n",
    "# current_palette = sns.color_palette(n_colors = 6)\n",
    "# sns.palplot(current_palette)\n",
    "# plt.show()\n",
    "# print(sns.color_palette(n_colors = 6).as_hex())"
   ]
  },
  {
   "cell_type": "markdown",
   "id": "d70ecaef-49ba-4671-8767-d8b11a0af09f",
   "metadata": {},
   "source": [
    "# run PASTE"
   ]
  },
  {
   "cell_type": "code",
   "execution_count": null,
   "id": "4b90523d",
   "metadata": {},
   "outputs": [],
   "source": [
    "import time\n",
    "start = time.time()\n",
    "\n",
    "pis = []\n",
    "for i in range(len(adata_list)-1):\n",
    "    pi_temp = pst.pairwise_align(adata_list[i], adata_list[i+1], backend = ot.backend.TorchBackend(), use_gpu = True)\n",
    "    pis.append(pi_temp)\n",
    "    \n",
    "print('Runtime: ' + str(time.time() - start))"
   ]
  },
  {
   "cell_type": "code",
   "execution_count": null,
   "id": "59709934",
   "metadata": {},
   "outputs": [],
   "source": [
    "print(pis)"
   ]
  },
  {
   "cell_type": "code",
   "execution_count": null,
   "id": "9a27f850-140b-416d-a7a8-eaf44a1d94cd",
   "metadata": {},
   "outputs": [],
   "source": [
    "# To visualize the alignment you can stack the slices \n",
    "# according to the alignment pi\n",
    "new_slices = pst.stack_slices_pairwise(adata_list, pis)\n",
    "\n",
    "plt.figure(figsize=(7,7))\n",
    "for i in range(len(new_slices)):\n",
    "    pst.plot_slice(new_slices[i],slice_colors[i],s=400)\n",
    "plt.legend(handles=[mpatches.Patch(color=slice_colors[0], label='1'),mpatches.Patch(color=slice_colors[1], label='2')])\n",
    "plt.gca().invert_yaxis()\n",
    "plt.axis('off')\n",
    "plt.show()"
   ]
  },
  {
   "cell_type": "code",
   "execution_count": null,
   "id": "233176b8",
   "metadata": {},
   "outputs": [],
   "source": [
    "# slice_colors = ['#e41a1c','#377eb8','#4daf4a','#984ea3']\n",
    "\n",
    "fig, axs = plt.subplots(1, 1,figsize=(7,7))\n",
    "for i in range(len(adata_list)-1):\n",
    "    pst.plot_slice(new_slices[i], slice_colors[i])\n",
    "    pst.plot_slice(new_slices[i+1], slice_colors[i+1])\n",
    "    \n",
    "# fig.delaxes(axs[1,1])\n",
    "plt.show()"
   ]
  },
  {
   "cell_type": "code",
   "execution_count": null,
   "id": "46a96053",
   "metadata": {},
   "outputs": [],
   "source": [
    "type(adata_list[0].obsm['spatial'])"
   ]
  },
  {
   "cell_type": "code",
   "execution_count": null,
   "id": "8a16dec8-946d-4d81-840a-b23248ffc5ef",
   "metadata": {},
   "outputs": [],
   "source": [
    "# save coor\n",
    "new_coord = new_slices[0].obsm['spatial']\n",
    "cells = new_slices[0].obs_names\n",
    "for i in range(1, len(adata_list)):\n",
    "    new_coord = np.vstack((new_coord, new_slices[i].obsm['spatial']))\n",
    "    cells = np.hstack((cells, new_slices[i].obs_names))\n",
    "\n",
    "# new_coord=np.vstack((new_slices[0].obsm['spatial'],\n",
    "#                     new_slices[1].obsm['spatial']))\n",
    "# cells=np.hstack((new_slices[0].obs_names,new_slices[1].obs_names))\n",
    "\n",
    "new_coord=pd.DataFrame(new_coord,index=cells,columns=['x','y'])\n",
    "new_coord.to_csv(output_dir + \"paste_coord_\" + experiment_name + \".csv\")"
   ]
  },
  {
   "cell_type": "markdown",
   "id": "7d3f1083",
   "metadata": {},
   "source": [
    "## center slice mode"
   ]
  },
  {
   "cell_type": "code",
   "execution_count": 7,
   "id": "74f21c71-c292-4dc8-895e-aa8d51ddc9ee",
   "metadata": {},
   "outputs": [
    {
     "name": "stdout",
     "output_type": "stream",
     "text": [
      "Filtered all slices for common genes. There are 15884 common genes.\n"
     ]
    }
   ],
   "source": [
    "slices = adata_list\n",
    "\n",
    "initial_slice = slices[0].copy()\n",
    "lmbda = len(slices)*[1/len(slices)]\n",
    "\n",
    "pst.filter_for_common_genes(slices)\n",
    "\n",
    "# b = []\n",
    "# for i in range(len(slices)):\n",
    "#     b.append(pst.match_spots_using_spatial_heuristic(slices[0].X.todense(), slices[i].X.todense()))"
   ]
  },
  {
   "cell_type": "code",
   "execution_count": 8,
   "id": "be612eb0",
   "metadata": {},
   "outputs": [
    {
     "data": {
      "text/plain": [
       "numpy.dtype[float64]"
      ]
     },
     "execution_count": 8,
     "metadata": {},
     "output_type": "execute_result"
    }
   ],
   "source": [
    "type(slices[0].X.dtype)"
   ]
  },
  {
   "cell_type": "code",
   "execution_count": 10,
   "id": "509b0d15",
   "metadata": {},
   "outputs": [
    {
     "name": "stdout",
     "output_type": "stream",
     "text": [
      "gpu is available, using gpu.\n",
      "Filtered all slices for common genes. There are 15884 common genes.\n",
      "Iteration: 0\n",
      "Solving Pairwise Slice Alignment Problem.\n"
     ]
    },
    {
     "name": "stderr",
     "output_type": "stream",
     "text": [
      "D:\\anaconda\\envs\\paste\\lib\\site-packages\\ot\\lp\\__init__.py:354: UserWarning: numItermax reached before optimality. Try to increase numItermax.\n",
      "  result_code_string = check_result(result_code)\n",
      "D:\\anaconda\\envs\\paste\\lib\\site-packages\\ot\\lp\\__init__.py:354: UserWarning: numItermax reached before optimality. Try to increase numItermax.\n",
      "  result_code_string = check_result(result_code)\n"
     ]
    },
    {
     "name": "stdout",
     "output_type": "stream",
     "text": [
      "Solving Center Mapping NMF Problem.\n"
     ]
    },
    {
     "name": "stderr",
     "output_type": "stream",
     "text": [
      "D:\\anaconda\\envs\\paste\\lib\\site-packages\\sklearn\\decomposition\\_nmf.py:1710: ConvergenceWarning: Maximum number of iterations 200 reached. Increase it to improve convergence.\n",
      "  warnings.warn(\n"
     ]
    },
    {
     "name": "stdout",
     "output_type": "stream",
     "text": [
      "Objective  -601.7183718858283\n",
      "Difference: 601.7183718858283\n",
      "\n",
      "Iteration: 1\n",
      "Solving Pairwise Slice Alignment Problem.\n"
     ]
    },
    {
     "name": "stderr",
     "output_type": "stream",
     "text": [
      "D:\\anaconda\\envs\\paste\\lib\\site-packages\\ot\\lp\\__init__.py:354: UserWarning: numItermax reached before optimality. Try to increase numItermax.\n",
      "  result_code_string = check_result(result_code)\n",
      "D:\\anaconda\\envs\\paste\\lib\\site-packages\\ot\\lp\\__init__.py:354: UserWarning: numItermax reached before optimality. Try to increase numItermax.\n",
      "  result_code_string = check_result(result_code)\n"
     ]
    },
    {
     "name": "stdout",
     "output_type": "stream",
     "text": [
      "Solving Center Mapping NMF Problem.\n"
     ]
    },
    {
     "name": "stderr",
     "output_type": "stream",
     "text": [
      "D:\\anaconda\\envs\\paste\\lib\\site-packages\\sklearn\\decomposition\\_nmf.py:1710: ConvergenceWarning: Maximum number of iterations 200 reached. Increase it to improve convergence.\n",
      "  warnings.warn(\n"
     ]
    },
    {
     "name": "stdout",
     "output_type": "stream",
     "text": [
      "Objective  77.50057428647983\n",
      "Difference: 679.2189461723082\n",
      "\n",
      "Iteration: 2\n",
      "Solving Pairwise Slice Alignment Problem.\n"
     ]
    },
    {
     "name": "stderr",
     "output_type": "stream",
     "text": [
      "D:\\anaconda\\envs\\paste\\lib\\site-packages\\ot\\lp\\__init__.py:354: UserWarning: numItermax reached before optimality. Try to increase numItermax.\n",
      "  result_code_string = check_result(result_code)\n",
      "D:\\anaconda\\envs\\paste\\lib\\site-packages\\ot\\lp\\__init__.py:354: UserWarning: numItermax reached before optimality. Try to increase numItermax.\n",
      "  result_code_string = check_result(result_code)\n"
     ]
    },
    {
     "name": "stdout",
     "output_type": "stream",
     "text": [
      "Solving Center Mapping NMF Problem.\n"
     ]
    },
    {
     "name": "stderr",
     "output_type": "stream",
     "text": [
      "D:\\anaconda\\envs\\paste\\lib\\site-packages\\sklearn\\decomposition\\_nmf.py:1710: ConvergenceWarning: Maximum number of iterations 200 reached. Increase it to improve convergence.\n",
      "  warnings.warn(\n"
     ]
    },
    {
     "name": "stdout",
     "output_type": "stream",
     "text": [
      "Objective  77.50060671472089\n",
      "Difference: 3.2428241055981744e-05\n",
      "\n",
      "Runtime: 2336.1266145706177\n"
     ]
    }
   ],
   "source": [
    "import time\n",
    "start = time.time()\n",
    "## Possible to pass in an initial pi (as keyword argument pis_init) \n",
    "## to improve performance, see Tutorial.ipynb notebook for more details.\n",
    "# center_slice, pis = pst.center_align(initial_slice, slices, lmbda) \n",
    "\n",
    "center_slice, pis = pst.center_align(initial_slice, slices, lmbda, random_seed = 5, backend = ot.backend.TorchBackend(), use_gpu = True)\n",
    "# center_slice, pis = pst.center_align(initial_slice, slices, lmbda, pis_init = b, backend = ot.backend.TorchBackend(), use_gpu = True) \n",
    "\n",
    "print('Runtime: ' + str(time.time() - start))"
   ]
  },
  {
   "cell_type": "code",
   "execution_count": 11,
   "id": "5200b638",
   "metadata": {},
   "outputs": [],
   "source": [
    "W = center_slice.uns['paste_W']\n",
    "H = center_slice.uns['paste_H']"
   ]
  },
  {
   "cell_type": "code",
   "execution_count": 12,
   "id": "5f28220a-0fc6-4bcd-a842-7ebc986a0ffd",
   "metadata": {},
   "outputs": [
    {
     "name": "stdout",
     "output_type": "stream",
     "text": [
      "<class 'numpy.ndarray'>\n",
      "<class 'numpy.ndarray'>\n",
      "[[1.34134868e+00 4.09314181e-01 3.31544299e-01 ... 7.43792610e-02\n",
      "  4.22425560e-02 5.01480946e-02]\n",
      " [8.01287260e-01 2.50007976e-01 3.52156872e-01 ... 9.55946295e-03\n",
      "  5.60264953e-02 1.65289224e-02]\n",
      " [2.10204907e+00 5.76974481e-01 2.39746948e-01 ... 8.45686701e-03\n",
      "  3.11089081e-02 1.14988404e-01]\n",
      " ...\n",
      " [1.67683348e-01 8.94229749e-02 2.99390895e-01 ... 1.50242985e-03\n",
      "  9.48735669e-04 2.30932616e-02]\n",
      " [1.80576818e-01 5.97577765e-02 2.16273818e-01 ... 6.79846985e-05\n",
      "  6.06488928e-08 2.32356666e-02]\n",
      " [6.85840687e-02 1.23232852e-02 3.24159739e-01 ... 8.96597553e-04\n",
      "  7.42940420e-06 2.86168944e-04]]\n",
      "[[8.99561644e-07 8.68127496e-07 3.64639560e-02 ... 4.71558459e-03\n",
      "  2.31397011e-03 1.15692516e-02]\n",
      " [1.27446924e-09 2.16176261e-04 2.53058947e-05 ... 2.54801052e-11\n",
      "  7.31210224e-08 3.04068211e-02]\n",
      " [5.79728448e-04 6.12770374e-11 2.55759096e-02 ... 4.70679868e-03\n",
      "  4.86602672e-03 8.34919384e-03]\n",
      " ...\n",
      " [9.27505339e-04 3.19332546e-03 1.76884252e-02 ... 1.81753898e-04\n",
      "  3.35325292e-10 1.21743646e-02]\n",
      " [2.37180205e-09 2.50073505e-03 8.11111018e-03 ... 8.40293134e-09\n",
      "  5.99513913e-04 2.69825984e-02]\n",
      " [5.33256824e-03 4.83995390e-03 5.89965488e-02 ... 6.65164444e-14\n",
      "  1.77979441e-11 1.90084787e-02]]\n"
     ]
    }
   ],
   "source": [
    "print(type(W))\n",
    "print(type(H))\n",
    "print(W)\n",
    "print(H)"
   ]
  },
  {
   "cell_type": "code",
   "execution_count": 13,
   "id": "605fd805-5e93-4129-9bbb-f72082ca95c4",
   "metadata": {},
   "outputs": [
    {
     "name": "stdout",
     "output_type": "stream",
     "text": [
      "(4895, 15)\n",
      "(15, 15884)\n"
     ]
    }
   ],
   "source": [
    "print(W.shape)\n",
    "print(H.shape)"
   ]
  },
  {
   "cell_type": "code",
   "execution_count": 14,
   "id": "068b1b52-d23d-420d-ad49-dc45f0bb9263",
   "metadata": {},
   "outputs": [],
   "source": [
    "np.savetxt(output_dir + experiment_name +\"_W.csv\", W, delimiter=\",\")\n",
    "np.savetxt(output_dir + experiment_name +\"_H.csv\", H, delimiter=\",\")"
   ]
  },
  {
   "cell_type": "code",
   "execution_count": 15,
   "id": "90c34532",
   "metadata": {},
   "outputs": [],
   "source": [
    "center, new_slices = pst.stack_slices_center(center_slice, slices, pis)"
   ]
  },
  {
   "cell_type": "code",
   "execution_count": 16,
   "id": "2200b549",
   "metadata": {},
   "outputs": [
    {
     "data": {
      "image/png": "[encoded data removed]",
      "text/plain": [
       "<Figure size 700x700 with 1 Axes>"
      ]
     },
     "metadata": {},
     "output_type": "display_data"
    }
   ],
   "source": [
    "center_color = 'orange'\n",
    "# slices_colors = ['#e41a1c','#377eb8','#4daf4a','#984ea3']\n",
    "slice_colors = sns.color_palette(n_colors = n_colors).as_hex()\n",
    "\n",
    "plt.figure(figsize=(7,7))\n",
    "pst.plot_slice(center,center_color,s=400)\n",
    "for i in range(len(new_slices)):\n",
    "    pst.plot_slice(new_slices[i],slice_colors[i],s=400)\n",
    "\n",
    "plt.legend(handles=[mpatches.Patch(color=slice_colors[0], label='1'),mpatches.Patch(color=slice_colors[1], label='2')])\n",
    "plt.gca().invert_yaxis()\n",
    "plt.axis('off')\n",
    "plt.show()"
   ]
  },
  {
   "cell_type": "code",
   "execution_count": null,
   "id": "92b3c0d9",
   "metadata": {},
   "outputs": [],
   "source": [
    "# center_color = 'orange'\n",
    "# # slice_colors = ['#e41a1c','#377eb8','#4daf4a','#984ea3']\n",
    "\n",
    "# fig, axs = plt.subplots(1, 1,figsize=(7,7))\n",
    "# for i in range(len(new_slices)):\n",
    "#     pst.plot_slice(center,center_color,ax=axs[int(i/2),int(i%2)])\n",
    "#     pst.plot_slice(new_slices[i],slice_colors[i],ax=axs[int(i/2),int(i%2)])\n",
    "# plt.show()"
   ]
  }
 ],
 "metadata": {
  "kernelspec": {
   "display_name": "paste",
   "language": "python",
   "name": "paste"
  },
  "language_info": {
   "codemirror_mode": {
    "name": "ipython",
    "version": 3
   },
   "file_extension": ".py",
   "mimetype": "text/x-python",
   "name": "python",
   "nbconvert_exporter": "python",
   "pygments_lexer": "ipython3",
   "version": "3.10.12"
  }
 },
 "nbformat": 4,
 "nbformat_minor": 5
}
