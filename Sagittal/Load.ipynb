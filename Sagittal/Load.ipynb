{
 "cells": [
  {
   "cell_type": "code",
   "execution_count": 1,
   "id": "80f509d4-3bb9-41d7-9ac3-a2c2c9831c23",
   "metadata": {},
   "outputs": [
    {
     "name": "stdout",
     "output_type": "stream",
     "text": [
      "AnnData object with n_obs × n_vars = 2696 × 31053\n",
      "    var: 'gene_ids', 'feature_types'\n",
      "<class 'anndata._core.anndata.AnnData'>\n"
     ]
    }
   ],
   "source": [
    "import scanpy as sc\n",
    "\n",
    "adata = sc.read_10x_mtx(\n",
    "    'G:/dataset/2_saggital/Mouse Brain Serial Section 1 (Sagittal-Anterior)/V1_Mouse_Brain_Sagittal_Anterior_filtered_feature_bc_matrix/filtered_feature_bc_matrix',  # the directory with the `.mtx` file\n",
    "    var_names='gene_symbols',                  # use gene symbols for the variable names (variables-axis index)\n",
    "    cache=True) \n",
    "adata.var_names_make_unique()\n",
    "print(adata)\n",
    "print(type(adata))"
   ]
  },
  {
   "cell_type": "code",
   "execution_count": 4,
   "id": "354115fe-bcfa-4473-ad42-28a2864a902a",
   "metadata": {},
   "outputs": [
    {
     "name": "stderr",
     "output_type": "stream",
     "text": [
      "D:\\anaconda\\envs\\index\\lib\\site-packages\\anndata\\_core\\anndata.py:1840: UserWarning: Variable names are not unique. To make them unique, call `.var_names_make_unique`.\n",
      "  utils.warn_names_duplicates(\"var\")\n",
      "D:\\anaconda\\envs\\index\\lib\\site-packages\\anndata\\_core\\anndata.py:1840: UserWarning: Variable names are not unique. To make them unique, call `.var_names_make_unique`.\n",
      "  utils.warn_names_duplicates(\"var\")\n"
     ]
    },
    {
     "name": "stdout",
     "output_type": "stream",
     "text": [
      "AnnData object with n_obs × n_vars = 2696 × 31053\n",
      "    obs: 'in_tissue', 'array_row', 'array_col'\n",
      "    var: 'gene_ids', 'feature_types', 'genome'\n",
      "    uns: 'spatial'\n",
      "    obsm: 'spatial'\n",
      "[[8501 7475]\n",
      " [2788 8553]\n",
      " [7950 3164]\n",
      " ...\n",
      " [6780 5200]\n",
      " [4371 8434]\n",
      " [3338 6877]]\n"
     ]
    }
   ],
   "source": [
    "adata = sc.read_visium('G:/dataset/2_saggital/Anteior1/')\n",
    "adata.var_names_make_unique()\n",
    "print(adata)\n",
    "print(adata.obsm['spatial'])"
   ]
  }
 ],
 "metadata": {
  "kernelspec": {
   "display_name": "Python 3 (ipykernel)",
   "language": "python",
   "name": "python3"
  },
  "language_info": {
   "codemirror_mode": {
    "name": "ipython",
    "version": 3
   },
   "file_extension": ".py",
   "mimetype": "text/x-python",
   "name": "python",
   "nbconvert_exporter": "python",
   "pygments_lexer": "ipython3",
   "version": "3.10.12"
  }
 },
 "nbformat": 4,
 "nbformat_minor": 5
}
