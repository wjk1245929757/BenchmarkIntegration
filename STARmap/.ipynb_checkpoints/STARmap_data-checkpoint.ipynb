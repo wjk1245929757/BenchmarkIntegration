{
 "cells": [
  {
   "cell_type": "code",
   "execution_count": 1,
   "id": "b34bcf0c",
   "metadata": {},
   "outputs": [],
   "source": [
    "import scanpy as sc\n",
    "import pandas as pd\n",
    "import numpy as np"
   ]
  },
  {
   "cell_type": "code",
   "execution_count": 6,
   "id": "e5936acb",
   "metadata": {},
   "outputs": [
    {
     "data": {
      "text/plain": [
       "AnnData object with n_obs × n_vars = 1215 × 166\n",
       "    obs: 'orig.ident', 'nCount_STARmap', 'nFeature_STARmap', 'CellID', 'ClusterID', 'ClusterName', 'x', 'y', 'c', 'z', 'batch'\n",
       "    var: 'features'\n",
       "    obsm: 'spatial'"
      ]
     },
     "execution_count": 6,
     "metadata": {},
     "output_type": "execute_result"
    }
   ],
   "source": [
    "samples = ['BZ5', 'BZ9', 'BZ14']\n",
    "input_dir = 'G:/dataset/08-STARmap/input/'\n",
    "sample = samples[2]\n",
    "adata = sc.read_h5ad(input_dir+sample+'/'+sample+'.h5ad')\n",
    "adata.obsm['spatial'] = adata.obs[['x', 'y']].values\n",
    "adata\n"
   ]
  }
 ],
 "metadata": {
  "kernelspec": {
   "display_name": "index",
   "language": "python",
   "name": "index"
  },
  "language_info": {
   "codemirror_mode": {
    "name": "ipython",
    "version": 3
   },
   "file_extension": ".py",
   "mimetype": "text/x-python",
   "name": "python",
   "nbconvert_exporter": "python",
   "pygments_lexer": "ipython3",
   "version": "3.10.12"
  }
 },
 "nbformat": 4,
 "nbformat_minor": 5
}
