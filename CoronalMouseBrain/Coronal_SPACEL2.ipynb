{
 "cells": [
  {
   "cell_type": "code",
   "execution_count": 2,
   "id": "501d1681",
   "metadata": {},
   "outputs": [
    {
     "name": "stdout",
     "output_type": "stream",
     "text": [
      "D:\\bio\\jupyter_code\\CoronalMouseBrain\n",
      "D:\\bio\\SPACEL\\SPACEL-main\n"
     ]
    }
   ],
   "source": [
    "import os\n",
    "import matplotlib.pyplot as plt \n",
    "\n",
    "print(os.getcwd())#显示当前路径\n",
    "os.chdir('D:/bio/SPACEL/SPACEL-main')#更改路径，''里面为更改的路径\n",
    "print(os.getcwd())#显示当前路径\n",
    "\n",
    "import SPACEL\n",
    "from SPACEL import Scube\n",
    "import numpy as np\n",
    "import matplotlib.pyplot as plt\n",
    "import scanpy as sc"
   ]
  },
  {
   "cell_type": "code",
   "execution_count": 6,
   "id": "48a30baf",
   "metadata": {},
   "outputs": [
    {
     "name": "stderr",
     "output_type": "stream",
     "text": [
      "D:\\anaconda\\envs\\SPACEL\\lib\\site-packages\\anndata\\_core\\anndata.py:1840: UserWarning: Variable names are not unique. To make them unique, call `.var_names_make_unique`.\n",
      "  utils.warn_names_duplicates(\"var\")\n",
      "D:\\anaconda\\envs\\SPACEL\\lib\\site-packages\\anndata\\_core\\anndata.py:1840: UserWarning: Variable names are not unique. To make them unique, call `.var_names_make_unique`.\n",
      "  utils.warn_names_duplicates(\"var\")\n"
     ]
    },
    {
     "name": "stdout",
     "output_type": "stream",
     "text": [
      "AnnData object with n_obs × n_vars = 2903 × 32285\n",
      "    obs: 'in_tissue', 'array_row', 'array_col', 'celltype', 'batch', 'region', 'celltype_new', 'spatial_domain'\n",
      "    var: 'gene_ids', 'feature_types', 'genome'\n",
      "    uns: 'spatial'\n",
      "    obsm: 'spatial'\n",
      "AnnData object with n_obs × n_vars = 2264 × 19465\n",
      "    obs: 'in_tissue', 'array_row', 'array_col', 'celltype', 'batch', 'region', 'celltype_new', 'spatial_domain'\n",
      "    var: 'gene_ids', 'feature_types', 'genome'\n",
      "    uns: 'spatial'\n",
      "    obsm: 'spatial'\n",
      "AnnData object with n_obs × n_vars = 2702 × 32285\n",
      "    obs: 'in_tissue', 'array_row', 'array_col', 'celltype', 'batch', 'region', 'celltype_new', 'spatial_domain'\n",
      "    var: 'gene_ids', 'feature_types', 'genome'\n",
      "    uns: 'spatial'\n",
      "    obsm: 'spatial'\n"
     ]
    },
    {
     "name": "stderr",
     "output_type": "stream",
     "text": [
      "D:\\anaconda\\envs\\SPACEL\\lib\\site-packages\\anndata\\_core\\anndata.py:1840: UserWarning: Variable names are not unique. To make them unique, call `.var_names_make_unique`.\n",
      "  utils.warn_names_duplicates(\"var\")\n"
     ]
    }
   ],
   "source": [
    "# datasets = ['DAPI', 'FFPE']\n",
    "# datasets = ['DAPI', 'FreshFrozen']\n",
    "datasets = ['10X_DAPI', '10X_FFPE', '10X_Normal']\n",
    "experiment_name = 'Coronal'\n",
    "input_dir = 'G:/dataset/05-CoronalMouseBrain/input/'  # Replace it with your file path\n",
    "output_dir = 'G:/dataset/05-CoronalMouseBrain/output/SPACEL/'  # Replace it with your file path\n",
    "\n",
    "adata_list = list()\n",
    "for dataset in datasets:\n",
    "    adata = sc.read_h5ad(input_dir + dataset + '.h5ad')\n",
    "    adata.obsm['spatial'] = adata.obsm['spatial'].astype(float)\n",
    "    adata.obs['spatial_domain'] = adata.obs['region']\n",
    "    adata_list.append(adata)\n",
    "    print(adata)"
   ]
  },
  {
   "cell_type": "code",
   "execution_count": 7,
   "id": "faa341c8",
   "metadata": {},
   "outputs": [
    {
     "name": "stdout",
     "output_type": "stream",
     "text": [
      "Start alignment...\n",
      "Alignment slice 1 to 0\n",
      "Alignment slice 2 to 1\n",
      "Runtime: 191.38721990585327 s\n"
     ]
    }
   ],
   "source": [
    "Scube.align(adata_list,\n",
    "  cluster_key='spatial_domain',\n",
    "  n_neighbors = 4,\n",
    "  p=1,\n",
    "  write_loc_path=output_dir + experiment_name + '_aligned_coordinates.csv'\n",
    " )"
   ]
  }
 ],
 "metadata": {
  "kernelspec": {
   "display_name": "SPACEL",
   "language": "python",
   "name": "spacel"
  },
  "language_info": {
   "codemirror_mode": {
    "name": "ipython",
    "version": 3
   },
   "file_extension": ".py",
   "mimetype": "text/x-python",
   "name": "python",
   "nbconvert_exporter": "python",
   "pygments_lexer": "ipython3",
   "version": "3.8.18"
  }
 },
 "nbformat": 4,
 "nbformat_minor": 5
}
