{
 "cells": [
  {
   "cell_type": "code",
   "execution_count": 1,
   "id": "f745c02c-ce2a-4d4d-b686-8ea28bd67eea",
   "metadata": {},
   "outputs": [],
   "source": [
    "import matplotlib.pyplot as plt\n",
    "import matplotlib.patches as mpatches\n",
    "import numpy as np\n",
    "import pandas as pd\n",
    "import scanpy as sc\n",
    "import paste as pst\n",
    "import ot"
   ]
  },
  {
   "cell_type": "code",
   "execution_count": 2,
   "id": "7cc2e448-c975-4d7d-9b26-c9832424b0d5",
   "metadata": {},
   "outputs": [],
   "source": [
    "# sample_names = [\"DAPI\",\"FFPE\"]\n",
    "# sample_names = [\"DAPI\",\"FreshFrozen\"]\n",
    "sample_names = [\"FFPE\",\"FreshFrozen\"]\n",
    "input_dir = 'G:/dataset/05-CoronalMouseBrain/input/'\n",
    "output_dir = 'G:/dataset/05-CoronalMouseBrain/output/PASTE/'"
   ]
  },
  {
   "cell_type": "markdown",
   "id": "88af2db9-a999-42b7-a873-a92986d54f59",
   "metadata": {},
   "source": [
    "# Load Slices"
   ]
  },
  {
   "cell_type": "code",
   "execution_count": 3,
   "id": "a4e0f71e-84df-4370-ba0a-cb23c3c9efaf",
   "metadata": {},
   "outputs": [
    {
     "name": "stdout",
     "output_type": "stream",
     "text": [
      "FFPE\n"
     ]
    },
    {
     "name": "stderr",
     "output_type": "stream",
     "text": [
      "D:\\anaconda\\envs\\PASTE\\lib\\site-packages\\anndata\\_core\\anndata.py:1840: UserWarning: Variable names are not unique. To make them unique, call `.var_names_make_unique`.\n",
      "  utils.warn_names_duplicates(\"var\")\n",
      "D:\\anaconda\\envs\\PASTE\\lib\\site-packages\\anndata\\_core\\anndata.py:1840: UserWarning: Variable names are not unique. To make them unique, call `.var_names_make_unique`.\n",
      "  utils.warn_names_duplicates(\"var\")\n"
     ]
    },
    {
     "name": "stdout",
     "output_type": "stream",
     "text": [
      "FreshFrozen\n"
     ]
    },
    {
     "name": "stderr",
     "output_type": "stream",
     "text": [
      "D:\\anaconda\\envs\\PASTE\\lib\\site-packages\\anndata\\_core\\anndata.py:1840: UserWarning: Variable names are not unique. To make them unique, call `.var_names_make_unique`.\n",
      "  utils.warn_names_duplicates(\"var\")\n",
      "D:\\anaconda\\envs\\PASTE\\lib\\site-packages\\anndata\\_core\\anndata.py:1840: UserWarning: Variable names are not unique. To make them unique, call `.var_names_make_unique`.\n",
      "  utils.warn_names_duplicates(\"var\")\n"
     ]
    }
   ],
   "source": [
    "data_dir = input_dir    # change this path to the data you wish to analyze\n",
    "\n",
    "# Assume that the coordinates of slices are named slice_name + \"_coor.csv\"\n",
    "def load_slices(data_dir, slice_names = sample_names):\n",
    "    slices = []  \n",
    "    for slice_name in slice_names:\n",
    "        print(slice_name)\n",
    "        ### get anndata\n",
    "        slice_i = sc.read_visium(input_dir + slice_name)\n",
    "        slice_i.var_names_make_unique()\n",
    "        # load by meta + coor\n",
    "        # slice_i = sc.read_csv(data_dir + slice_name + \".csv\")\n",
    "        # slice_i_coor = np.genfromtxt(data_dir + slice_name + \"_coor.csv\", delimiter = ',')\n",
    "        # slice_i.obsm['spatial'] = slice_i_coor\n",
    "\n",
    "        if slice_name == 'FreshFrozen':\n",
    "            slice_i.obsm['spatial'] = slice_i.obsm['spatial'].astype(np.int64)\n",
    "        \n",
    "        ### Preprocess slices\n",
    "        sc.pp.filter_genes(slice_i, min_counts = 15)\n",
    "        sc.pp.filter_cells(slice_i, min_counts = 100)\n",
    "        slices.append(slice_i)\n",
    "    return slices\n",
    "\n",
    "slices = load_slices(data_dir)\n",
    "slice1, slice2 = slices"
   ]
  },
  {
   "cell_type": "code",
   "execution_count": 4,
   "id": "a2d08490-7915-4422-91ec-ce9c204fbc6d",
   "metadata": {},
   "outputs": [
    {
     "name": "stdout",
     "output_type": "stream",
     "text": [
      "AnnData object with n_obs × n_vars = 2264 × 14302\n",
      "    obs: 'in_tissue', 'array_row', 'array_col', 'n_counts'\n",
      "    var: 'gene_ids', 'feature_types', 'genome', 'n_counts'\n",
      "    uns: 'spatial'\n",
      "    obsm: 'spatial'\n",
      "AnnData object with n_obs × n_vars = 2702 × 16938\n",
      "    obs: 'in_tissue', 'array_row', 'array_col', 'n_counts'\n",
      "    var: 'gene_ids', 'feature_types', 'genome', 'n_counts'\n",
      "    uns: 'spatial'\n",
      "    obsm: 'spatial'\n"
     ]
    }
   ],
   "source": [
    "print(slice1)\n",
    "print(slice2)"
   ]
  },
  {
   "cell_type": "markdown",
   "id": "d70ecaef-49ba-4671-8767-d8b11a0af09f",
   "metadata": {},
   "source": [
    "# run PASTE"
   ]
  },
  {
   "cell_type": "code",
   "execution_count": 5,
   "id": "9a27f850-140b-416d-a7a8-eaf44a1d94cd",
   "metadata": {},
   "outputs": [
    {
     "name": "stdout",
     "output_type": "stream",
     "text": [
      "gpu is available, using gpu.\n"
     ]
    },
    {
     "name": "stderr",
     "output_type": "stream",
     "text": [
      "D:\\anaconda\\envs\\PASTE\\lib\\site-packages\\ot\\lp\\__init__.py:354: UserWarning: numItermax reached before optimality. Try to increase numItermax.\n",
      "  result_code_string = check_result(result_code)\n"
     ]
    },
    {
     "data": {
      "image/png": "[encoded data removed]",
      "text/plain": [
       "<Figure size 700x700 with 1 Axes>"
      ]
     },
     "metadata": {},
     "output_type": "display_data"
    }
   ],
   "source": [
    "# Pairwise align the slices\n",
    "# pi12 = pst.pairwise_align(slice1, slice2)\n",
    "pi12 = pst.pairwise_align(slice1, slice2, backend = ot.backend.TorchBackend(), use_gpu = True)\n",
    "\n",
    "# To visualize the alignment you can stack the slices \n",
    "# according to the alignment pi\n",
    "slices, pis = [slice1, slice2], [pi12]\n",
    "new_slices = pst.stack_slices_pairwise(slices, pis)\n",
    "slice_colors = ['#e41a1c','#377eb8']\n",
    "plt.figure(figsize=(7,7))\n",
    "for i in range(len(new_slices)):\n",
    "    pst.plot_slice(new_slices[i],slice_colors[i],s=400)\n",
    "plt.legend(handles=[mpatches.Patch(color=slice_colors[0], label='1'),mpatches.Patch(color=slice_colors[1], label='2')])\n",
    "plt.gca().invert_yaxis()\n",
    "plt.axis('off')\n",
    "plt.show()"
   ]
  },
  {
   "cell_type": "code",
   "execution_count": 6,
   "id": "8a16dec8-946d-4d81-840a-b23248ffc5ef",
   "metadata": {},
   "outputs": [],
   "source": [
    "# save coor\n",
    "new_coord=np.vstack((new_slices[0].obsm['spatial'],\n",
    "                    new_slices[1].obsm['spatial']))\n",
    "cells=np.hstack((new_slices[0].obs_names,new_slices[1].obs_names))\n",
    "new_coord=pd.DataFrame(new_coord,index=cells,columns=['x','y'])\n",
    "new_coord.to_csv(output_dir + \"paste_coord_\"+sample_names[0]+\"_\"+sample_names[1]+\".csv\")"
   ]
  },
  {
   "cell_type": "code",
   "execution_count": 7,
   "id": "74f21c71-c292-4dc8-895e-aa8d51ddc9ee",
   "metadata": {},
   "outputs": [
    {
     "name": "stdout",
     "output_type": "stream",
     "text": [
      "FFPE\n"
     ]
    },
    {
     "name": "stderr",
     "output_type": "stream",
     "text": [
      "D:\\anaconda\\envs\\PASTE\\lib\\site-packages\\anndata\\_core\\anndata.py:1840: UserWarning: Variable names are not unique. To make them unique, call `.var_names_make_unique`.\n",
      "  utils.warn_names_duplicates(\"var\")\n",
      "D:\\anaconda\\envs\\PASTE\\lib\\site-packages\\anndata\\_core\\anndata.py:1840: UserWarning: Variable names are not unique. To make them unique, call `.var_names_make_unique`.\n",
      "  utils.warn_names_duplicates(\"var\")\n"
     ]
    },
    {
     "name": "stdout",
     "output_type": "stream",
     "text": [
      "FreshFrozen\n"
     ]
    },
    {
     "name": "stderr",
     "output_type": "stream",
     "text": [
      "D:\\anaconda\\envs\\PASTE\\lib\\site-packages\\anndata\\_core\\anndata.py:1840: UserWarning: Variable names are not unique. To make them unique, call `.var_names_make_unique`.\n",
      "  utils.warn_names_duplicates(\"var\")\n",
      "D:\\anaconda\\envs\\PASTE\\lib\\site-packages\\anndata\\_core\\anndata.py:1840: UserWarning: Variable names are not unique. To make them unique, call `.var_names_make_unique`.\n",
      "  utils.warn_names_duplicates(\"var\")\n"
     ]
    },
    {
     "name": "stdout",
     "output_type": "stream",
     "text": [
      "gpu is available, using gpu.\n",
      "Filtered all slices for common genes. There are 13847 common genes.\n"
     ]
    },
    {
     "name": "stderr",
     "output_type": "stream",
     "text": [
      "D:\\anaconda\\envs\\PASTE\\lib\\site-packages\\sklearn\\decomposition\\_nmf.py:1710: ConvergenceWarning: Maximum number of iterations 200 reached. Increase it to improve convergence.\n",
      "  warnings.warn(\n"
     ]
    },
    {
     "name": "stdout",
     "output_type": "stream",
     "text": [
      "Iteration: 0\n",
      "Solving Pairwise Slice Alignment Problem.\n"
     ]
    },
    {
     "name": "stderr",
     "output_type": "stream",
     "text": [
      "D:\\anaconda\\envs\\PASTE\\lib\\site-packages\\ot\\lp\\__init__.py:354: UserWarning: numItermax reached before optimality. Try to increase numItermax.\n",
      "  result_code_string = check_result(result_code)\n"
     ]
    },
    {
     "name": "stdout",
     "output_type": "stream",
     "text": [
      "Solving Center Mapping NMF Problem.\n"
     ]
    },
    {
     "name": "stderr",
     "output_type": "stream",
     "text": [
      "D:\\anaconda\\envs\\PASTE\\lib\\site-packages\\sklearn\\decomposition\\_nmf.py:1710: ConvergenceWarning: Maximum number of iterations 200 reached. Increase it to improve convergence.\n",
      "  warnings.warn(\n"
     ]
    },
    {
     "name": "stdout",
     "output_type": "stream",
     "text": [
      "Objective  -9341059.125\n",
      "Difference: 9341059.125\n",
      "\n",
      "Iteration: 1\n",
      "Solving Pairwise Slice Alignment Problem.\n"
     ]
    },
    {
     "name": "stderr",
     "output_type": "stream",
     "text": [
      "D:\\anaconda\\envs\\PASTE\\lib\\site-packages\\ot\\lp\\__init__.py:354: UserWarning: numItermax reached before optimality. Try to increase numItermax.\n",
      "  result_code_string = check_result(result_code)\n"
     ]
    },
    {
     "name": "stdout",
     "output_type": "stream",
     "text": [
      "Solving Center Mapping NMF Problem.\n"
     ]
    },
    {
     "name": "stderr",
     "output_type": "stream",
     "text": [
      "D:\\anaconda\\envs\\PASTE\\lib\\site-packages\\sklearn\\decomposition\\_nmf.py:1710: ConvergenceWarning: Maximum number of iterations 200 reached. Increase it to improve convergence.\n",
      "  warnings.warn(\n"
     ]
    },
    {
     "name": "stdout",
     "output_type": "stream",
     "text": [
      "Objective  1310921.5519143343\n",
      "Difference: 10651980.676914334\n",
      "\n",
      "Iteration: 2\n",
      "Solving Pairwise Slice Alignment Problem.\n"
     ]
    },
    {
     "name": "stderr",
     "output_type": "stream",
     "text": [
      "D:\\anaconda\\envs\\PASTE\\lib\\site-packages\\ot\\lp\\__init__.py:354: UserWarning: numItermax reached before optimality. Try to increase numItermax.\n",
      "  result_code_string = check_result(result_code)\n"
     ]
    },
    {
     "name": "stdout",
     "output_type": "stream",
     "text": [
      "Solving Center Mapping NMF Problem.\n"
     ]
    },
    {
     "name": "stderr",
     "output_type": "stream",
     "text": [
      "D:\\anaconda\\envs\\PASTE\\lib\\site-packages\\sklearn\\decomposition\\_nmf.py:1710: ConvergenceWarning: Maximum number of iterations 200 reached. Increase it to improve convergence.\n",
      "  warnings.warn(\n"
     ]
    },
    {
     "name": "stdout",
     "output_type": "stream",
     "text": [
      "Objective  1310922.1683353186\n",
      "Difference: 0.6164209842681885\n",
      "\n",
      "Iteration: 3\n",
      "Solving Pairwise Slice Alignment Problem.\n"
     ]
    },
    {
     "name": "stderr",
     "output_type": "stream",
     "text": [
      "D:\\anaconda\\envs\\PASTE\\lib\\site-packages\\ot\\lp\\__init__.py:354: UserWarning: numItermax reached before optimality. Try to increase numItermax.\n",
      "  result_code_string = check_result(result_code)\n"
     ]
    },
    {
     "name": "stdout",
     "output_type": "stream",
     "text": [
      "Solving Center Mapping NMF Problem.\n"
     ]
    },
    {
     "name": "stderr",
     "output_type": "stream",
     "text": [
      "D:\\anaconda\\envs\\PASTE\\lib\\site-packages\\sklearn\\decomposition\\_nmf.py:1710: ConvergenceWarning: Maximum number of iterations 200 reached. Increase it to improve convergence.\n",
      "  warnings.warn(\n"
     ]
    },
    {
     "name": "stdout",
     "output_type": "stream",
     "text": [
      "Objective  1310921.552372396\n",
      "Difference: 0.6159629225730896\n",
      "\n",
      "Iteration: 4\n",
      "Solving Pairwise Slice Alignment Problem.\n"
     ]
    },
    {
     "name": "stderr",
     "output_type": "stream",
     "text": [
      "D:\\anaconda\\envs\\PASTE\\lib\\site-packages\\ot\\lp\\__init__.py:354: UserWarning: numItermax reached before optimality. Try to increase numItermax.\n",
      "  result_code_string = check_result(result_code)\n"
     ]
    },
    {
     "name": "stdout",
     "output_type": "stream",
     "text": [
      "Solving Center Mapping NMF Problem.\n"
     ]
    },
    {
     "name": "stderr",
     "output_type": "stream",
     "text": [
      "D:\\anaconda\\envs\\PASTE\\lib\\site-packages\\sklearn\\decomposition\\_nmf.py:1710: ConvergenceWarning: Maximum number of iterations 200 reached. Increase it to improve convergence.\n",
      "  warnings.warn(\n"
     ]
    },
    {
     "name": "stdout",
     "output_type": "stream",
     "text": [
      "Objective  1310922.1686205566\n",
      "Difference: 0.6162481606006622\n",
      "\n",
      "Iteration: 5\n",
      "Solving Pairwise Slice Alignment Problem.\n"
     ]
    },
    {
     "name": "stderr",
     "output_type": "stream",
     "text": [
      "D:\\anaconda\\envs\\PASTE\\lib\\site-packages\\ot\\lp\\__init__.py:354: UserWarning: numItermax reached before optimality. Try to increase numItermax.\n",
      "  result_code_string = check_result(result_code)\n"
     ]
    },
    {
     "name": "stdout",
     "output_type": "stream",
     "text": [
      "Solving Center Mapping NMF Problem.\n"
     ]
    },
    {
     "name": "stderr",
     "output_type": "stream",
     "text": [
      "D:\\anaconda\\envs\\PASTE\\lib\\site-packages\\sklearn\\decomposition\\_nmf.py:1710: ConvergenceWarning: Maximum number of iterations 200 reached. Increase it to improve convergence.\n",
      "  warnings.warn(\n"
     ]
    },
    {
     "name": "stdout",
     "output_type": "stream",
     "text": [
      "Objective  1310921.551796317\n",
      "Difference: 0.6168242394924164\n",
      "\n",
      "Iteration: 6\n",
      "Solving Pairwise Slice Alignment Problem.\n"
     ]
    },
    {
     "name": "stderr",
     "output_type": "stream",
     "text": [
      "D:\\anaconda\\envs\\PASTE\\lib\\site-packages\\ot\\lp\\__init__.py:354: UserWarning: numItermax reached before optimality. Try to increase numItermax.\n",
      "  result_code_string = check_result(result_code)\n"
     ]
    },
    {
     "name": "stdout",
     "output_type": "stream",
     "text": [
      "Solving Center Mapping NMF Problem.\n"
     ]
    },
    {
     "name": "stderr",
     "output_type": "stream",
     "text": [
      "D:\\anaconda\\envs\\PASTE\\lib\\site-packages\\sklearn\\decomposition\\_nmf.py:1710: ConvergenceWarning: Maximum number of iterations 200 reached. Increase it to improve convergence.\n",
      "  warnings.warn(\n"
     ]
    },
    {
     "name": "stdout",
     "output_type": "stream",
     "text": [
      "Objective  1310922.1679173708\n",
      "Difference: 0.6161210536956787\n",
      "\n",
      "Iteration: 7\n",
      "Solving Pairwise Slice Alignment Problem.\n"
     ]
    },
    {
     "name": "stderr",
     "output_type": "stream",
     "text": [
      "D:\\anaconda\\envs\\PASTE\\lib\\site-packages\\ot\\lp\\__init__.py:354: UserWarning: numItermax reached before optimality. Try to increase numItermax.\n",
      "  result_code_string = check_result(result_code)\n"
     ]
    },
    {
     "name": "stdout",
     "output_type": "stream",
     "text": [
      "Solving Center Mapping NMF Problem.\n"
     ]
    },
    {
     "name": "stderr",
     "output_type": "stream",
     "text": [
      "D:\\anaconda\\envs\\PASTE\\lib\\site-packages\\sklearn\\decomposition\\_nmf.py:1710: ConvergenceWarning: Maximum number of iterations 200 reached. Increase it to improve convergence.\n",
      "  warnings.warn(\n"
     ]
    },
    {
     "name": "stdout",
     "output_type": "stream",
     "text": [
      "Objective  1310921.5514129996\n",
      "Difference: 0.6165043711662292\n",
      "\n",
      "Iteration: 8\n",
      "Solving Pairwise Slice Alignment Problem.\n"
     ]
    },
    {
     "name": "stderr",
     "output_type": "stream",
     "text": [
      "D:\\anaconda\\envs\\PASTE\\lib\\site-packages\\ot\\lp\\__init__.py:354: UserWarning: numItermax reached before optimality. Try to increase numItermax.\n",
      "  result_code_string = check_result(result_code)\n"
     ]
    },
    {
     "name": "stdout",
     "output_type": "stream",
     "text": [
      "Solving Center Mapping NMF Problem.\n"
     ]
    },
    {
     "name": "stderr",
     "output_type": "stream",
     "text": [
      "D:\\anaconda\\envs\\PASTE\\lib\\site-packages\\sklearn\\decomposition\\_nmf.py:1710: ConvergenceWarning: Maximum number of iterations 200 reached. Increase it to improve convergence.\n",
      "  warnings.warn(\n"
     ]
    },
    {
     "name": "stdout",
     "output_type": "stream",
     "text": [
      "Objective  1310922.169001609\n",
      "Difference: 0.617588609457016\n",
      "\n",
      "Iteration: 9\n",
      "Solving Pairwise Slice Alignment Problem.\n"
     ]
    },
    {
     "name": "stderr",
     "output_type": "stream",
     "text": [
      "D:\\anaconda\\envs\\PASTE\\lib\\site-packages\\ot\\lp\\__init__.py:354: UserWarning: numItermax reached before optimality. Try to increase numItermax.\n",
      "  result_code_string = check_result(result_code)\n"
     ]
    },
    {
     "name": "stdout",
     "output_type": "stream",
     "text": [
      "Solving Center Mapping NMF Problem.\n"
     ]
    },
    {
     "name": "stderr",
     "output_type": "stream",
     "text": [
      "D:\\anaconda\\envs\\PASTE\\lib\\site-packages\\sklearn\\decomposition\\_nmf.py:1710: ConvergenceWarning: Maximum number of iterations 200 reached. Increase it to improve convergence.\n",
      "  warnings.warn(\n"
     ]
    },
    {
     "name": "stdout",
     "output_type": "stream",
     "text": [
      "Objective  1310921.552093476\n",
      "Difference: 0.6169081330299377\n",
      "\n"
     ]
    }
   ],
   "source": [
    "# Center align slices\n",
    "## We have to reload the slices as pairwise_alignment modifies the slices.\n",
    "slices = load_slices(data_dir)\n",
    "slice1, slice2 = slices\n",
    "\n",
    "# Construct a center slice\n",
    "## choose one of the slices as the coordinate reference for the center slice,\n",
    "## i.e. the center slice will have the same number of spots as this slice and\n",
    "## the same coordinates.\n",
    "initial_slice = slice1.copy()    \n",
    "slices = [slice1, slice2]\n",
    "lmbda = len(slices)*[1/len(slices)] # set hyperparameter to be uniform\n",
    "\n",
    "## Possible to pass in an initial pi (as keyword argument pis_init) \n",
    "## to improve performance, see Tutorial.ipynb notebook for more details.\n",
    "# center_slice, pis = pst.center_align(initial_slice, slices, lmbda) \n",
    "center_slice, pis = pst.center_align(initial_slice, slices, lmbda, backend = ot.backend.TorchBackend(), use_gpu = True) \n",
    "\n",
    "## The low dimensional representation of our center slice is held \n",
    "## in the matrices W and H, which can be used for downstream analyses\n",
    "W = center_slice.uns['paste_W']\n",
    "H = center_slice.uns['paste_H']"
   ]
  },
  {
   "cell_type": "code",
   "execution_count": 8,
   "id": "5f28220a-0fc6-4bcd-a842-7ebc986a0ffd",
   "metadata": {},
   "outputs": [
    {
     "name": "stdout",
     "output_type": "stream",
     "text": [
      "<class 'numpy.ndarray'>\n",
      "<class 'numpy.ndarray'>\n",
      "[[0.22436355 0.46524858 0.27034092 ... 0.5304382  0.2915543  0.6028307 ]\n",
      " [0.23212679 0.03368861 0.6683038  ... 0.06295175 1.6177716  0.08546933]\n",
      " [0.22596443 0.36638686 0.31391716 ... 0.29783553 0.28039047 1.3637756 ]\n",
      " ...\n",
      " [0.2301926  0.12109428 0.46926272 ... 0.8200608  0.16428208 0.22085835]\n",
      " [0.23632225 0.1122602  0.35205716 ... 0.5065294  0.19454396 0.5906861 ]\n",
      " [0.21762805 0.45536086 0.33778897 ... 0.28647354 0.2841939  1.5185354 ]]\n",
      "[[2.42907181e-03 1.54272662e-02 1.05063230e-01 ... 1.23525500e-01\n",
      "  5.72452694e-02 1.75780058e-01]\n",
      " [3.30589861e-02 1.32190483e-03 9.17910039e-02 ... 1.69751510e-01\n",
      "  1.16576985e-01 1.46589711e-01]\n",
      " [4.63986062e-02 1.03190495e-02 5.82184605e-02 ... 8.71348158e-02\n",
      "  3.31216864e-02 3.05928081e-01]\n",
      " ...\n",
      " [1.33023582e-06 4.01665792e-02 1.34066537e-01 ... 7.88452476e-02\n",
      "  1.00349693e-03 2.33481348e-01]\n",
      " [7.56778643e-02 3.82869015e-03 6.48081005e-02 ... 1.10773198e-01\n",
      "  1.08213417e-01 2.46985555e-01]\n",
      " [2.28174794e-02 1.01007819e-02 2.25523740e-01 ... 9.47785750e-02\n",
      "  1.12430230e-01 1.98929653e-01]]\n"
     ]
    }
   ],
   "source": [
    "print(type(W))\n",
    "print(type(H))\n",
    "print(W)\n",
    "print(H)"
   ]
  },
  {
   "cell_type": "code",
   "execution_count": 9,
   "id": "605fd805-5e93-4129-9bbb-f72082ca95c4",
   "metadata": {},
   "outputs": [
    {
     "name": "stdout",
     "output_type": "stream",
     "text": [
      "(2264, 15)\n",
      "(15, 13847)\n"
     ]
    }
   ],
   "source": [
    "print(W.shape)\n",
    "print(H.shape)"
   ]
  },
  {
   "cell_type": "code",
   "execution_count": 10,
   "id": "068b1b52-d23d-420d-ad49-dc45f0bb9263",
   "metadata": {},
   "outputs": [],
   "source": [
    "np.savetxt(output_dir + sample_names[0]+\"_\"+sample_names[1]+\"_W.csv\", W, delimiter=\",\")\n",
    "np.savetxt(output_dir + sample_names[0]+\"_\"+sample_names[1]+\"_H.csv\", H, delimiter=\",\")"
   ]
  }
 ],
 "metadata": {
  "kernelspec": {
   "display_name": "Python 3 (ipykernel)",
   "language": "python",
   "name": "python3"
  },
  "language_info": {
   "codemirror_mode": {
    "name": "ipython",
    "version": 3
   },
   "file_extension": ".py",
   "mimetype": "text/x-python",
   "name": "python",
   "nbconvert_exporter": "python",
   "pygments_lexer": "ipython3",
   "version": "3.10.12"
  }
 },
 "nbformat": 4,
 "nbformat_minor": 5
}
